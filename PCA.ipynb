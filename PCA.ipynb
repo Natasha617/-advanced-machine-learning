{
  "nbformat": 4,
  "nbformat_minor": 0,
  "metadata": {
    "colab": {
      "provenance": [],
      "authorship_tag": "ABX9TyNvaoBnFEvnHri2nfuoK63k",
      "include_colab_link": true
    },
    "kernelspec": {
      "name": "python3",
      "display_name": "Python 3"
    },
    "language_info": {
      "name": "python"
    }
  },
  "cells": [
    {
      "cell_type": "markdown",
      "metadata": {
        "id": "view-in-github",
        "colab_type": "text"
      },
      "source": [
        "<a href=\"https://colab.research.google.com/github/Natasha617/-advanced-machine-learning/blob/main/PCA.ipynb\" target=\"_parent\"><img src=\"https://colab.research.google.com/assets/colab-badge.svg\" alt=\"Open In Colab\"/></a>"
      ]
    },
    {
      "cell_type": "markdown",
      "source": [
        "# Индивидуальное задание"
      ],
      "metadata": {
        "id": "a71ON0TAKDbw"
      }
    },
    {
      "cell_type": "markdown",
      "source": [
        "# Часть 1\n",
        " Данные описывают 60 объектов, каждый из которых обладает 10 признаками. Ваша задача, используя метод главных компонент, перейти к новым координатам и найти следующие параметры."
      ],
      "metadata": {
        "id": "HOxkiH9hKQhp"
      }
    },
    {
      "cell_type": "code",
      "source": [
        "from google.colab import drive\n",
        "import pandas as pd\n",
        "from sklearn.decomposition import PCA\n",
        "import numpy as np\n",
        "import matplotlib.pyplot as plt\n",
        "drive.mount('/content/drive')"
      ],
      "metadata": {
        "colab": {
          "base_uri": "https://localhost:8080/"
        },
        "id": "edWb77Tn8GV2",
        "outputId": "2a2977ce-5858-4f5f-e09f-e4ec8b3d6861"
      },
      "execution_count": 3,
      "outputs": [
        {
          "output_type": "stream",
          "name": "stdout",
          "text": [
            "Drive already mounted at /content/drive; to attempt to forcibly remount, call drive.mount(\"/content/drive\", force_remount=True).\n"
          ]
        }
      ]
    },
    {
      "cell_type": "code",
      "source": [
        "!cp \"/content/drive/MyDrive/magamed/introduction ML/PCA/pca.csv\" /content/data.csv"
      ],
      "metadata": {
        "id": "oSWLPIMK8X4g"
      },
      "execution_count": 6,
      "outputs": []
    },
    {
      "cell_type": "code",
      "source": [
        "data = pd.read_csv('data.csv', header=None)\n",
        "data.head()"
      ],
      "metadata": {
        "colab": {
          "base_uri": "https://localhost:8080/",
          "height": 206
        },
        "id": "_5-QAZFH8rmO",
        "outputId": "7559d945-f244-4c5e-f8e2-f05ce185bef4"
      },
      "execution_count": 12,
      "outputs": [
        {
          "output_type": "execute_result",
          "data": {
            "text/plain": [
              "           0          1          2          3          4          5  \\\n",
              "0 -21.758750 -11.043222 -21.322624  19.233025  -7.624013   8.217733   \n",
              "1 -11.954435   5.731338  21.649597 -12.314079  -2.302002 -15.050914   \n",
              "2 -25.993705  -9.174623 -23.294676  16.449114  -4.912752   6.100581   \n",
              "3   9.447535   2.893105 -17.693701 -16.145291 -10.196801 -18.332392   \n",
              "4 -10.090899   9.779838  19.617699 -11.942188  -1.694636 -13.898268   \n",
              "\n",
              "           6          7          8          9  \n",
              "0 -15.496303  -8.225633 -23.459373  -8.503266  \n",
              "1  -6.663314   5.184141  13.271218 -21.778988  \n",
              "2 -12.318147  -8.163711 -22.736823  -9.275570  \n",
              "3  20.865531  10.760516 -12.218150   4.898756  \n",
              "4  -6.987190   5.526610  13.324163 -22.001462  "
            ],
            "text/html": [
              "\n",
              "  <div id=\"df-be606ecf-8115-4a38-977e-097b06876158\" class=\"colab-df-container\">\n",
              "    <div>\n",
              "<style scoped>\n",
              "    .dataframe tbody tr th:only-of-type {\n",
              "        vertical-align: middle;\n",
              "    }\n",
              "\n",
              "    .dataframe tbody tr th {\n",
              "        vertical-align: top;\n",
              "    }\n",
              "\n",
              "    .dataframe thead th {\n",
              "        text-align: right;\n",
              "    }\n",
              "</style>\n",
              "<table border=\"1\" class=\"dataframe\">\n",
              "  <thead>\n",
              "    <tr style=\"text-align: right;\">\n",
              "      <th></th>\n",
              "      <th>0</th>\n",
              "      <th>1</th>\n",
              "      <th>2</th>\n",
              "      <th>3</th>\n",
              "      <th>4</th>\n",
              "      <th>5</th>\n",
              "      <th>6</th>\n",
              "      <th>7</th>\n",
              "      <th>8</th>\n",
              "      <th>9</th>\n",
              "    </tr>\n",
              "  </thead>\n",
              "  <tbody>\n",
              "    <tr>\n",
              "      <th>0</th>\n",
              "      <td>-21.758750</td>\n",
              "      <td>-11.043222</td>\n",
              "      <td>-21.322624</td>\n",
              "      <td>19.233025</td>\n",
              "      <td>-7.624013</td>\n",
              "      <td>8.217733</td>\n",
              "      <td>-15.496303</td>\n",
              "      <td>-8.225633</td>\n",
              "      <td>-23.459373</td>\n",
              "      <td>-8.503266</td>\n",
              "    </tr>\n",
              "    <tr>\n",
              "      <th>1</th>\n",
              "      <td>-11.954435</td>\n",
              "      <td>5.731338</td>\n",
              "      <td>21.649597</td>\n",
              "      <td>-12.314079</td>\n",
              "      <td>-2.302002</td>\n",
              "      <td>-15.050914</td>\n",
              "      <td>-6.663314</td>\n",
              "      <td>5.184141</td>\n",
              "      <td>13.271218</td>\n",
              "      <td>-21.778988</td>\n",
              "    </tr>\n",
              "    <tr>\n",
              "      <th>2</th>\n",
              "      <td>-25.993705</td>\n",
              "      <td>-9.174623</td>\n",
              "      <td>-23.294676</td>\n",
              "      <td>16.449114</td>\n",
              "      <td>-4.912752</td>\n",
              "      <td>6.100581</td>\n",
              "      <td>-12.318147</td>\n",
              "      <td>-8.163711</td>\n",
              "      <td>-22.736823</td>\n",
              "      <td>-9.275570</td>\n",
              "    </tr>\n",
              "    <tr>\n",
              "      <th>3</th>\n",
              "      <td>9.447535</td>\n",
              "      <td>2.893105</td>\n",
              "      <td>-17.693701</td>\n",
              "      <td>-16.145291</td>\n",
              "      <td>-10.196801</td>\n",
              "      <td>-18.332392</td>\n",
              "      <td>20.865531</td>\n",
              "      <td>10.760516</td>\n",
              "      <td>-12.218150</td>\n",
              "      <td>4.898756</td>\n",
              "    </tr>\n",
              "    <tr>\n",
              "      <th>4</th>\n",
              "      <td>-10.090899</td>\n",
              "      <td>9.779838</td>\n",
              "      <td>19.617699</td>\n",
              "      <td>-11.942188</td>\n",
              "      <td>-1.694636</td>\n",
              "      <td>-13.898268</td>\n",
              "      <td>-6.987190</td>\n",
              "      <td>5.526610</td>\n",
              "      <td>13.324163</td>\n",
              "      <td>-22.001462</td>\n",
              "    </tr>\n",
              "  </tbody>\n",
              "</table>\n",
              "</div>\n",
              "    <div class=\"colab-df-buttons\">\n",
              "\n",
              "  <div class=\"colab-df-container\">\n",
              "    <button class=\"colab-df-convert\" onclick=\"convertToInteractive('df-be606ecf-8115-4a38-977e-097b06876158')\"\n",
              "            title=\"Convert this dataframe to an interactive table.\"\n",
              "            style=\"display:none;\">\n",
              "\n",
              "  <svg xmlns=\"http://www.w3.org/2000/svg\" height=\"24px\" viewBox=\"0 -960 960 960\">\n",
              "    <path d=\"M120-120v-720h720v720H120Zm60-500h600v-160H180v160Zm220 220h160v-160H400v160Zm0 220h160v-160H400v160ZM180-400h160v-160H180v160Zm440 0h160v-160H620v160ZM180-180h160v-160H180v160Zm440 0h160v-160H620v160Z\"/>\n",
              "  </svg>\n",
              "    </button>\n",
              "\n",
              "  <style>\n",
              "    .colab-df-container {\n",
              "      display:flex;\n",
              "      gap: 12px;\n",
              "    }\n",
              "\n",
              "    .colab-df-convert {\n",
              "      background-color: #E8F0FE;\n",
              "      border: none;\n",
              "      border-radius: 50%;\n",
              "      cursor: pointer;\n",
              "      display: none;\n",
              "      fill: #1967D2;\n",
              "      height: 32px;\n",
              "      padding: 0 0 0 0;\n",
              "      width: 32px;\n",
              "    }\n",
              "\n",
              "    .colab-df-convert:hover {\n",
              "      background-color: #E2EBFA;\n",
              "      box-shadow: 0px 1px 2px rgba(60, 64, 67, 0.3), 0px 1px 3px 1px rgba(60, 64, 67, 0.15);\n",
              "      fill: #174EA6;\n",
              "    }\n",
              "\n",
              "    .colab-df-buttons div {\n",
              "      margin-bottom: 4px;\n",
              "    }\n",
              "\n",
              "    [theme=dark] .colab-df-convert {\n",
              "      background-color: #3B4455;\n",
              "      fill: #D2E3FC;\n",
              "    }\n",
              "\n",
              "    [theme=dark] .colab-df-convert:hover {\n",
              "      background-color: #434B5C;\n",
              "      box-shadow: 0px 1px 3px 1px rgba(0, 0, 0, 0.15);\n",
              "      filter: drop-shadow(0px 1px 2px rgba(0, 0, 0, 0.3));\n",
              "      fill: #FFFFFF;\n",
              "    }\n",
              "  </style>\n",
              "\n",
              "    <script>\n",
              "      const buttonEl =\n",
              "        document.querySelector('#df-be606ecf-8115-4a38-977e-097b06876158 button.colab-df-convert');\n",
              "      buttonEl.style.display =\n",
              "        google.colab.kernel.accessAllowed ? 'block' : 'none';\n",
              "\n",
              "      async function convertToInteractive(key) {\n",
              "        const element = document.querySelector('#df-be606ecf-8115-4a38-977e-097b06876158');\n",
              "        const dataTable =\n",
              "          await google.colab.kernel.invokeFunction('convertToInteractive',\n",
              "                                                    [key], {});\n",
              "        if (!dataTable) return;\n",
              "\n",
              "        const docLinkHtml = 'Like what you see? Visit the ' +\n",
              "          '<a target=\"_blank\" href=https://colab.research.google.com/notebooks/data_table.ipynb>data table notebook</a>'\n",
              "          + ' to learn more about interactive tables.';\n",
              "        element.innerHTML = '';\n",
              "        dataTable['output_type'] = 'display_data';\n",
              "        await google.colab.output.renderOutput(dataTable, element);\n",
              "        const docLink = document.createElement('div');\n",
              "        docLink.innerHTML = docLinkHtml;\n",
              "        element.appendChild(docLink);\n",
              "      }\n",
              "    </script>\n",
              "  </div>\n",
              "\n",
              "\n",
              "<div id=\"df-5211bf39-c709-4807-9135-90671cde2981\">\n",
              "  <button class=\"colab-df-quickchart\" onclick=\"quickchart('df-5211bf39-c709-4807-9135-90671cde2981')\"\n",
              "            title=\"Suggest charts\"\n",
              "            style=\"display:none;\">\n",
              "\n",
              "<svg xmlns=\"http://www.w3.org/2000/svg\" height=\"24px\"viewBox=\"0 0 24 24\"\n",
              "     width=\"24px\">\n",
              "    <g>\n",
              "        <path d=\"M19 3H5c-1.1 0-2 .9-2 2v14c0 1.1.9 2 2 2h14c1.1 0 2-.9 2-2V5c0-1.1-.9-2-2-2zM9 17H7v-7h2v7zm4 0h-2V7h2v10zm4 0h-2v-4h2v4z\"/>\n",
              "    </g>\n",
              "</svg>\n",
              "  </button>\n",
              "\n",
              "<style>\n",
              "  .colab-df-quickchart {\n",
              "      --bg-color: #E8F0FE;\n",
              "      --fill-color: #1967D2;\n",
              "      --hover-bg-color: #E2EBFA;\n",
              "      --hover-fill-color: #174EA6;\n",
              "      --disabled-fill-color: #AAA;\n",
              "      --disabled-bg-color: #DDD;\n",
              "  }\n",
              "\n",
              "  [theme=dark] .colab-df-quickchart {\n",
              "      --bg-color: #3B4455;\n",
              "      --fill-color: #D2E3FC;\n",
              "      --hover-bg-color: #434B5C;\n",
              "      --hover-fill-color: #FFFFFF;\n",
              "      --disabled-bg-color: #3B4455;\n",
              "      --disabled-fill-color: #666;\n",
              "  }\n",
              "\n",
              "  .colab-df-quickchart {\n",
              "    background-color: var(--bg-color);\n",
              "    border: none;\n",
              "    border-radius: 50%;\n",
              "    cursor: pointer;\n",
              "    display: none;\n",
              "    fill: var(--fill-color);\n",
              "    height: 32px;\n",
              "    padding: 0;\n",
              "    width: 32px;\n",
              "  }\n",
              "\n",
              "  .colab-df-quickchart:hover {\n",
              "    background-color: var(--hover-bg-color);\n",
              "    box-shadow: 0 1px 2px rgba(60, 64, 67, 0.3), 0 1px 3px 1px rgba(60, 64, 67, 0.15);\n",
              "    fill: var(--button-hover-fill-color);\n",
              "  }\n",
              "\n",
              "  .colab-df-quickchart-complete:disabled,\n",
              "  .colab-df-quickchart-complete:disabled:hover {\n",
              "    background-color: var(--disabled-bg-color);\n",
              "    fill: var(--disabled-fill-color);\n",
              "    box-shadow: none;\n",
              "  }\n",
              "\n",
              "  .colab-df-spinner {\n",
              "    border: 2px solid var(--fill-color);\n",
              "    border-color: transparent;\n",
              "    border-bottom-color: var(--fill-color);\n",
              "    animation:\n",
              "      spin 1s steps(1) infinite;\n",
              "  }\n",
              "\n",
              "  @keyframes spin {\n",
              "    0% {\n",
              "      border-color: transparent;\n",
              "      border-bottom-color: var(--fill-color);\n",
              "      border-left-color: var(--fill-color);\n",
              "    }\n",
              "    20% {\n",
              "      border-color: transparent;\n",
              "      border-left-color: var(--fill-color);\n",
              "      border-top-color: var(--fill-color);\n",
              "    }\n",
              "    30% {\n",
              "      border-color: transparent;\n",
              "      border-left-color: var(--fill-color);\n",
              "      border-top-color: var(--fill-color);\n",
              "      border-right-color: var(--fill-color);\n",
              "    }\n",
              "    40% {\n",
              "      border-color: transparent;\n",
              "      border-right-color: var(--fill-color);\n",
              "      border-top-color: var(--fill-color);\n",
              "    }\n",
              "    60% {\n",
              "      border-color: transparent;\n",
              "      border-right-color: var(--fill-color);\n",
              "    }\n",
              "    80% {\n",
              "      border-color: transparent;\n",
              "      border-right-color: var(--fill-color);\n",
              "      border-bottom-color: var(--fill-color);\n",
              "    }\n",
              "    90% {\n",
              "      border-color: transparent;\n",
              "      border-bottom-color: var(--fill-color);\n",
              "    }\n",
              "  }\n",
              "</style>\n",
              "\n",
              "  <script>\n",
              "    async function quickchart(key) {\n",
              "      const quickchartButtonEl =\n",
              "        document.querySelector('#' + key + ' button');\n",
              "      quickchartButtonEl.disabled = true;  // To prevent multiple clicks.\n",
              "      quickchartButtonEl.classList.add('colab-df-spinner');\n",
              "      try {\n",
              "        const charts = await google.colab.kernel.invokeFunction(\n",
              "            'suggestCharts', [key], {});\n",
              "      } catch (error) {\n",
              "        console.error('Error during call to suggestCharts:', error);\n",
              "      }\n",
              "      quickchartButtonEl.classList.remove('colab-df-spinner');\n",
              "      quickchartButtonEl.classList.add('colab-df-quickchart-complete');\n",
              "    }\n",
              "    (() => {\n",
              "      let quickchartButtonEl =\n",
              "        document.querySelector('#df-5211bf39-c709-4807-9135-90671cde2981 button');\n",
              "      quickchartButtonEl.style.display =\n",
              "        google.colab.kernel.accessAllowed ? 'block' : 'none';\n",
              "    })();\n",
              "  </script>\n",
              "</div>\n",
              "    </div>\n",
              "  </div>\n"
            ]
          },
          "metadata": {},
          "execution_count": 12
        }
      ]
    },
    {
      "cell_type": "markdown",
      "source": [
        "Введите координату первого объекта относительно первой главной компоненты."
      ],
      "metadata": {
        "id": "rUCsaZz5KjBW"
      }
    },
    {
      "cell_type": "code",
      "source": [
        "pca = PCA(n_components=1, svd_solver = 'full').fit(data)"
      ],
      "metadata": {
        "id": "2RCLMMUf83Ht"
      },
      "execution_count": 53,
      "outputs": []
    },
    {
      "cell_type": "code",
      "source": [
        "pca.transform(data)[0]"
      ],
      "metadata": {
        "colab": {
          "base_uri": "https://localhost:8080/"
        },
        "id": "pcdIBSsq_tho",
        "outputId": "41e86f98-7050-417c-a721-173626666f80"
      },
      "execution_count": 54,
      "outputs": [
        {
          "output_type": "execute_result",
          "data": {
            "text/plain": [
              "array([-2.49279543])"
            ]
          },
          "metadata": {},
          "execution_count": 54
        }
      ]
    },
    {
      "cell_type": "markdown",
      "source": [
        "Введите координату первого объекта относительно второй главной компоненты."
      ],
      "metadata": {
        "id": "Fuq2lkoKKoU2"
      }
    },
    {
      "cell_type": "code",
      "source": [
        "pca = PCA(n_components=2, svd_solver = 'full').fit(data)"
      ],
      "metadata": {
        "id": "FGFCKFx3Kzri"
      },
      "execution_count": 55,
      "outputs": []
    },
    {
      "cell_type": "code",
      "source": [
        "pca.transform(data)[0]"
      ],
      "metadata": {
        "colab": {
          "base_uri": "https://localhost:8080/"
        },
        "outputId": "3bb9d0c3-8cb6-4f8c-d1d7-8ba12b7de99b",
        "id": "KWj_XFukK1S4"
      },
      "execution_count": 56,
      "outputs": [
        {
          "output_type": "execute_result",
          "data": {
            "text/plain": [
              "array([ -2.49279543, -34.21521225])"
            ]
          },
          "metadata": {},
          "execution_count": 56
        }
      ]
    },
    {
      "cell_type": "markdown",
      "source": [
        "Введите долю объясненной дисперсии при использовании первых двух главных компонент."
      ],
      "metadata": {
        "id": "FT4mjJd8K8uT"
      }
    },
    {
      "cell_type": "code",
      "source": [
        "sum(pca.explained_variance_ratio_)"
      ],
      "metadata": {
        "colab": {
          "base_uri": "https://localhost:8080/"
        },
        "id": "DVDJLUPc_8ek",
        "outputId": "3d1376da-9cc8-415e-f609-f59ce56a3a5e"
      },
      "execution_count": 30,
      "outputs": [
        {
          "output_type": "execute_result",
          "data": {
            "text/plain": [
              "0.6066436226952218"
            ]
          },
          "metadata": {},
          "execution_count": 30
        }
      ]
    },
    {
      "cell_type": "markdown",
      "source": [
        "Какое минимальное количество главных компонент необходимо использовать, чтобы доля объясненной дисперсии превышала 0.85"
      ],
      "metadata": {
        "id": "_JSmjxHDLC74"
      }
    },
    {
      "cell_type": "code",
      "source": [
        "pca = PCA(n_components=0.85, svd_solver = 'full').fit(data)"
      ],
      "metadata": {
        "id": "dsXrRpuHLFtx"
      },
      "execution_count": 57,
      "outputs": []
    },
    {
      "cell_type": "code",
      "source": [
        "pca.transform(data)[0]"
      ],
      "metadata": {
        "colab": {
          "base_uri": "https://localhost:8080/"
        },
        "id": "vkjtLqKzLO-c",
        "outputId": "b90383f2-f2e6-4583-f031-a7521071d39d"
      },
      "execution_count": 59,
      "outputs": [
        {
          "output_type": "execute_result",
          "data": {
            "text/plain": [
              "array([ -2.49279543, -34.21521225, -29.00396454, -14.09572308])"
            ]
          },
          "metadata": {},
          "execution_count": 59
        }
      ]
    },
    {
      "cell_type": "markdown",
      "source": [
        "Ответ:4"
      ],
      "metadata": {
        "id": "sv-OyEPOLQ7R"
      }
    },
    {
      "cell_type": "code",
      "source": [
        "pca.components_"
      ],
      "metadata": {
        "colab": {
          "base_uri": "https://localhost:8080/"
        },
        "id": "eCizRXAxAgDd",
        "outputId": "66035ef8-d259-4673-b839-3926871fb441"
      },
      "execution_count": 58,
      "outputs": [
        {
          "output_type": "execute_result",
          "data": {
            "text/plain": [
              "array([[ 0.15890525,  0.0486718 , -0.38888061,  0.07095132, -0.30335196,\n",
              "        -0.41835589,  0.42966152,  0.27313502, -0.45188386,  0.29268262],\n",
              "       [ 0.01991109,  0.37296644,  0.34071051, -0.52997913,  0.0660768 ,\n",
              "        -0.40504587,  0.33062518,  0.20811511,  0.35002747, -0.14129971],\n",
              "       [ 0.56894043, -0.2318686 ,  0.37083156,  0.37268776,  0.31757396,\n",
              "        -0.02424013,  0.11955665,  0.24481943,  0.21405465,  0.3530453 ],\n",
              "       [ 0.63858563, -0.20385632, -0.12075946, -0.51058453, -0.41786071,\n",
              "         0.1952953 , -0.14912484, -0.1811493 ,  0.08543793,  0.01645672]])"
            ]
          },
          "metadata": {},
          "execution_count": 58
        }
      ]
    },
    {
      "cell_type": "markdown",
      "source": [
        "# Часть 2\n",
        "Для прохода на новогодний корпоратив в ИТМО при входе нужно отгадать «логотип мероприятия». Для получения изображения логотипа необходимо по первым десяти главным компонентам восстановить исходное изображение (в качестве пригласительных рассылались матрица счётов и матрица весов первых десяти ГК)."
      ],
      "metadata": {
        "id": "rDUCi6BeLXnz"
      }
    },
    {
      "cell_type": "markdown",
      "source": [
        "![image.png](data:image/png;base64,iVBORw0KGgoAAAANSUhEUgAABHMAAAEKCAYAAACRwBnZAAAAAXNSR0IArs4c6QAAAARnQU1BAACxjwv8YQUAAAAJcEhZcwAAEnQAABJ0Ad5mH3gAAPq/SURBVHhe7J0JvFXT98CPeUymEEoZE6kkGqSJSAoVmpUGGgyhIkSGipRCSEoqJE2GkqSIBilKyZAxmcefn/yM//M/3/XOfp133rn33fnde8/6+my9d++5w9v77LXXWnuttbezHSxFURRFURRFURRFURQlJ9je/VdRFEVRFEVRFEVRFEXJAdSZoyiKoiiKoiiKoiiKkkOoM0dRFEVRFEVRFEVRFCWHUGeOoiiKoiiKoiiKoihKDqHOHEVRFEVRFEVRFEVRlBxCnTmKoiiKoiiKoiiKoig5hDpzFEVRFEVRFEVRFEVRcgh15iiKoiiKoiiKoiiKouQQ6sxRFEVRFEVRFEVRFEXJIdSZoyiKoiiKoiiKoiiKkkOoM0dRFEVRFEVRFEVRFCWHUGeOoiiKoiiKoiiKoihKDqHOHEVRFEVRFEVRFEVRlBxCnTmKoiiKoiiKoiiKoig5xHa2g/tzUvz777/Wli1brK+++so6/vjjrTJlyrjPKNnOP//8Y/3yyy/WTz/9JD/vu+++1j777GPtsssu7hVKNvJ///d/1v/+9z/r559/lnHbY489rL322svaeeedre222869Ssl2kJ0fffSR9d1331nHHXeczD8l+/j999+tr7/+WuYd8C9jZ2AprVChgsxBJbv573//a3388cfWwQcfbJUrV07lZZbyxx9/yFgxtxij7bffvsi/wL877bSTteuuu+o4ZiGMHeOInvLnn39au+22m7X33nvLeCnZzd9//y3zD9uAsWNtQ15iG+hcy26wCdAr//rrL+uYY44pZs+hu/z444/WF198Yf36669is6O/7L///tYOO+zgXqXkCilx5iCoX3nlFWvMmDEy6R944AHrpJNOcp9VspmtW7dazz//vPXcc89Z69evl7E89thjrWbNmlkXXHCBCG4l+2BhXbFihYzdunXrZBwxTKpXr25ddNFF1lFHHaWLbQ6A+F21apU1aNAg69NPP7XGjh1rnXfeee6zSrbAOL322mvWzTffLAoQcwtFF4UJ+B1F95ZbbrGaN28uxqaSnfznP/+x7r33XuuZZ56xBg4caLVt21bHKwthbqGXzJgxQ/SSHXfcsbBhbNCYd7SKFStaV155pTpSswwMRvSTOXPmWG+++aY4dA488EDr5JNPtrp3726VL1/evVLJNtjgnTVrlvXqq6+KbYCOyTxjfUPHPPTQQ90rlWzjt99+s2bPnm2NHz/eqlSpkjVixAhx1BjQXRYtWmRNmjTJevvtt2WjCidrzZo1rUsuucRq2rSpbubnGDs4yuct7s8JQWQAi+3QoUOtN954Q24InAAYlkp2g1I7cuRIa9SoUeKdrVatmghoxpGJzu7JKaecIsqSkj0QEYBhiQNgwYIF4lHfb7/9xBkwb94865tvvrHq1aun0XE5AGPVr18/UZhQns444wzrxBNPdJ9VsgVkIFGn06ZNszZv3izGCEpS5cqVRUk67LDDrFNPPdU67bTTJLJKZWZ2giPuzjvvtMaNG2dVqVLF6tChg3XAAQfoeGUhrHMYkYsXLxY5+f3338u/X375pegrH374obV8+XJr9erVEkl8/vnnqwGSZWzYsMEaPHiwNX/+fHEEHH300dZnn30mjlQiPpCXRBIr2QV23fDhw637779fnKZnnnmmVatWLeudd94RB+sPP/xgNWrUSMcuC0FOslnB+CEj0U3OOeecQkc3cnXhwoViP6xZs0ZshZYtW0qkHLJ27dq1sqHPfNV1MYcgMicZHGFtO0qt7ShEtnMz2EceeaT95ptvus8q2cz48ePtnXbayW7YsKH92muv2X/++af9119/2QsWLLCPOuoou0aNGraj/LpXly5z5syxHWVNvtu///7rPhpOHGFsO8LYdgx/e/LkyfZ//vMf+++//7a//vpru2vXrna5cuXsGTNmyHVK9uIoTPa1115r77jjjrZjWNp77rmn/cgjj7jPKtnGW2+9ZR933HF21apV7a1bt4oc8jadb9nNH3/8YQ8bNszefffd7ZNPPtl2lFYdsyyHeYWcZI37+eefbcdQsb/99lv7yy+/tB2DRWQmesqmTZvcVyjZAvPNMSjt/fff3542bZrol4znRx99ZNeqVcsuX7682A9K9vH666/be+yxh92mTRt78+bNhWvce++9Zzdv3lzshtmzZ7tXK9kCYzRp0iR7v/32sw899FCxyVu2bCljaODns88+295rr73sBx54wP7vf/8r6yDzlXlatmxZu1fPXiJvldwh6dhidrUGDBggIV2HH364hFWa0PPSxPnbJHSM3e5YmnMzu68MD+yKOMqtNXHiRNlVxstO7jm7J3hlSeUhHK+04PPN+LAjMHfuXGvjxo3yO1FFPB9G8JYTwUFUzsUXXywed0LPDzroIOvCCy+Ua4geCOM9nSsgI9mtfPLJJyX6rVu3brqrnOWwk0y6B/OMPHR2mIkcQCYR8cHap2QnjM1LL71kTZkyRaKqHnvsMUlJ1Z3H7Ib0N3aMWeOIFKaeAzonKR8TJkyQNHCiwo844gj3FUq2QEoVkVOkVZ111lmiXzKehxxyiIwXspQIKyX7IH0fG4qUKsaLcaNhG/To0UPm4cMPPyzzUMkeGCMiu6+//nqJ0ieNEV3T2AL8S+YF0Tdk0PTq1cvac889ZR1E/2zRooVEXL2x6g2JvlJyh6SdOUxqbghC8LhRMCpLI/QO5RrBYhrK9eTJk62rrroqpsai4n09jiCEWT5DmHn//v2LKEKM4bvvvmtt2rSpVIt58j0I+bv66qtlfAjtZDxI6eMxah2QmhJmENyAoUJYLGP27LPPymMYnGqoZCfcx++995710EMPifOUTFdNS81uGDPWFNYF1hqUpc6dO0tqR5s2baz+V/WX0GUMFCX7QDGdOnWqyMxbb71V1jbGMhs2npT4wKlKDQg2LDp16mQ1bNhQ17oshLmGLYBuQgo4egqNcUPfZu3TVPDsA90bXRLjHtvA6JnAzzVq1BC7jwLy1EhVsosTTjhB6oehUzLfmIPY5YDugu7J4+gt/kLHu+++uziDSCn/5JNP3EeVXCBpZw6LKDcKDhAUI3ZR8PRlEqJHUNTI6zSNHEGMJHbgYmnc2N7XE/Hw7bffup+Qv3gnM0KcYnV33XWXRL60bt261E4cwHjCqcROKuNDXjysXLlSfqd2BTviYYfdL5yWvXv3lqJ0zAOirBo0aFBkEVayB2QlY8Y9femll0qEnI5VdoNs5MQH1hoKeRJRheLTqlUrq3bt2taLC1+UCAF2vPJ9EyAXYVw4pIE6RzjdKHqMvLz77rulroeOWW7APHzxxRetp556Sk7+w5lTWhtOSnSoY0QEMc43Nnypv0I0B4YmEY1EAVCbQ8kusOmofYrhHxThja7CNchMlZvZh7HJmXfY5JxyawIs2GzihCtqbAZFM/I6auww5oy9kkM4kzElfPrpp1I7h1z0r776yn00vYwePVrypaljQM0e/pxUNefmt4855hj7+OOPt88991z3E/MX8tKnTJliH3jggVJToH///pKfXlo4wsT+7rvv7EsuucTeYYcdio3PbbfdVqrfL1uYOHGi3Kv0iSPEpf4ROen0n5KdPPPMM1JH4JxzzpHaD86Caz/++OOS56w1c7ITR7G177vvPskn32WXXewxY8bYv/76q8wz6lWRe04OOjUiuLa0oeYBa9dll10m9X3Czi233CIy0lFWRU4yhqwr/Fy5cmX7lVdeyQqZOXPmTKkFg0xQisOa37RpU9sxKO0JEyboOpflUN+oU6dOhToc841/0al5TslOZs2aJXoltVU++OCDwnlGXcZBgwbZZcqUEVvvp59+kseV7IOacNjFvXr1El0FkJ/MPWpWoXv6+ffff+3p06eLLopOo+QOKdsOJpKDXUs8ungC04EjUOQ0A3bSOD6No9CJJCGCwzH83atSA15pR4jJZ5FrT+4oESGEn/FcvkCf8ndy4sA111wjUVU33HCDdd1110koZWmBd5l8eL4DP/shhLA0v1+2QGTAo48+al1xxRVSA4J8WMYO77szv92rlGyAufbWW2/JXGMHxFGUpO4Tp7MQYcXzRH+Yn0sLQnAdpU1kHc1RAEr1+2QDyCBqdRDCfMcdd1iXXXaZpAjwOGNJdBUnW7EelWadMSCtYcuWLbJ2cZoFNcbCLguQi4wX0QBPPPGE9fLLL1szZ860unbtKulzpM0x70oTamgNGTJEZDfRe0pRkEGc4khELqkeyM8g3UDJDogKQB6iX1LviLo5pKYSUcVpqaT4k86jekr2Qd2U8847z1q2bJlE6LPeEVF17rnnWvfdd59EfRx55JEaFZfFsO6ji7DumQwLo68gS5mfQaCTch2Rx0rukPTR5AYUEELPKZaFgpTKtAGMCxQu8mxRuubMmSPKWKwOHELMKASF4PE2UoxiKaLLhCDnl4Xn9ddfl+O7yfc1LVdhEUXhx3lDMV1yz1Em27dvb5UtW9a9qnRh0V+xYkUxY5JFpWbNmu5v4QWBe/zxx1tNmza16tSpI3nM1BrieOS6desWy4lVSg/yy1GIuJ8ZFxwlOIox4jBScOog03BOM37ImdIwVnDMo7xxfCyFEEkHIxye7xRWWM8Yj8aNG0sarr9YNesIMhQlt127dhkvZk1NGNZInIHUEnvwwQelQDNOARQ51j9qxNBYs1DowgL6w+233y4pVqRVISsp8H/MMcdIMWQcPRidp59+uoSYlwaM2wsvvCA6FON41FFHSbFRdVZsA7lEeiqp1mxYMBe1f7IX1jPqU6E7o7ejZ5LeyJzjOdYWNn7RW3JZj85H2JRnnPgXJzebUNhf2HeAo4C6lWwgKtkJh8bMmjVLHHM0ZCW27NKlS8WWpd4fG1RecPBgW+PEI4WVdUjJDVLmcUGZRWnCcZJqRZFd4htvvFFO6mE3DQOfhT0WUMIxRFg4/O3yyy+POYqIvw3HB68j/5dFiUnB47kKY0a/cuIAkU5G0c20IRINFnkWFHNPmd/VSbENhDTzjsJlFIumr8hJx7BUsgfuWeqrsIhS0wiHKYsnhhwNhyVKLoZlaZ0kgIOX74KDychJIhK7d+/uXhFeGC+KxgfJR6I1kafMw9IwMO+8806rZcuW0tjxZm0CnIOjR4+WmnA816dPH3EWhg3uaxzf5uQO4F8KxeM0YR4SzVRa4MRhx5vvycYYynakndOwgjGJ0xsnHNECpTHPlNj5/PPPxQlgalByqhWOZZwEgwYNkvVuzZo14rxUsg8c3pxUPGnSJNlAnzFjhmxGoccgM5s0aeJeWXpwDxGJyvqrEV5FoV/AG2GD7kLxfxx0ZLn4wdlDNC82FptXSu6QMmcORjaTHAXEH0WRCExMHCW8X8eOHeX4bJwp8TpP8Eiyk4MH2d9uuukmUXzjdQygbLGb17NnTzF2+I65KEjoT4pBEsGBko/wTmVEVSq4+eabJYKBf1HeKM6MEOKeCCvML1JfUIK89x39Q+grYZXMk1TMQyV1EGqOzJk+fbo1e/ZsOXmMaA6c00TEES3IfU5kBZFnpTEXiewiMs97KhM/cwJC2GGuRZpTnPyAAc7GQWnsMiMPcdKwG0fhQu86iZzAuUu6AycBkqISJljfUWA50MBvONJPOC+RnelKDy8J7ik2rHBWGIhiIH1WDZQC6CMiGonyoHC1f0dZyT6IRCUykLQqjEMD6xp6Co5VIjyIFlSyD2QijgBkZ7Vq1SRqkc105mC3bt3EOVdaIA+wu7BhKLeAzoJdEK99mM/gOGWueTcF2OglQpV1xRwq44XNH2zbww8/XAqYK7lD0tYCNwUeQG4alCaEN8Z3LOlLkUC4cxQ1lfBJIeH0kEQnKd8p0olM3NjJRBGhgPXt21e+48iRIwM9ndnMkiVLZPxYWBkvlH2Ufk7+wDDIhh0TxofaSPfee698V44kZdc5XgdcPoFXHePfGHDGgcrjLLZE5LD44hwobRgzvptp/B5mkJNG7mD0m8bvKE/8y+4JP5cG3DOkm3gdEnyX0nAsZRPMMeQlaQPU7DD3Mo/jxOGYecaOk+RKw5mDE4nQaKK+gnLdMaiGDRtmnXTSSaGUnWzqoKiyvpmad4wfax6OSgyT0krbffzxx2X32ws7pNxvKNZKQRoaDnAc4iZlQMlu2FQiUhEH82+//SbzjYYu//bbb8uY4pTjumwBua5sg/FiMwenCRtRnCJH/VCyJEprDuIkpG4dm9DU9cFeZFOaunWcDsp3DjPcw8w3s85jp9JnzDseo+4fJ1kRIMEag83Oc9jtY8eOFWcdkePGmWPmbTrgfdUuSA1J18xht4sbgPoKGJYYkuzu4kDhhklEcZwyZYoonqtWrRKHgtezGA8osNTvQYGNBLvgtERuJm5C/l6+I8eekk9K/m+uQFQAjhEmM9+fUO8ZM2ZIniURR4wjf493VyXTELXAcZaE/gHfFccTuZzUgQgj3Kvvv/++jBNKEUKY1BwiPtjNJQydHXiKRJem0ssiS3ju008/LfcXIdfsomjh6qIwnihLzEcc2KTLlRZEJ5AKxpzHic5YdenSRQrH1qtXz70qfKDsoPiQisqOFjKISAqUSNY/0j8oyEo6AQZnpsGRxPqDAkbtFZQ5L6SloACXhqMpG0AO0i/ITROBg8wcP3686BnUiMJIybSji3TxqVOnig7iNyTRp3AykfocdhgjNsxw5FCTiqgOJbtBJrGuUYODCBw2fZGZ1PQjpRBnDsY3DvBscDCjyxuHdzaVGigtGB/mHQ6cUaNGifxk/pF6RbpxaW3wsNFPDSacDtxXgIMehwXfGedgWOtpokuiZzO/XnzxRbGbsE/ZtOCABtKK0RHYLOB55iaRvOg02N3Yf2StcKAKkVhsEDP+9Gk6aiYiC/hcHIZanyc5knbm4PVjV5KbhR1BPPFMKiIDuCniEdLskOH9pUaDMd6TgQWfHUu8jJFIxpnjBUWMUHsUMIRcLtyYKLg4AzC6GScmKw4Awir5exCM55xzTqkoTnw+jhyENsLJOz7cawhyvivhgGEDgwxHKXDv4iihkf6HIU6qTq1atTKqILGoUn+J3VNTawUHL3OZxRdjlzB5ohr42VxDQ2aw0IR1t5W/m6gBFlTqCyCzMgUF3ampMnfuXElHJdWSBR/HDT+T7oWDgmKjyPWhQ4cWOntxHoTFoYpM5+9FacSBgyKE8w1lCCOgQ4cOkrJb2vcxDnjG0u/MwUBBloeV/fbbT+QMyiP37rx588TRTJFoxg7nd2lECJAuizLLmhYETkOUaiPvwwp9hHO5R48eIpuywfhXooPTlLobyCRkJnXYSC1GV8GYpP4K0cXZEpnD+obTm81j7JcwOwwZH0oaEImKzGRzh/WNmoxskpfm/GNzkPspCPRQ6jBhizKGOBTDBHYScpJoTxyn3MNsRLFpwEYhth19Qs0jNuroK/Q+dHPqNXIIDnq8ieBlo4HMCOpcpXoNYgyxVXAWETHLdyNLJKx2QLJs5wx+0vFN3Cw0s7OE4ovBGeug8BUw2Nn1JLoglbCrxU0T5EXmcxFWt912m3z/VIEhjdBDSSwt73WsMGb87Uxw73h5x7I0YEG95557xJkTNDYIa04oYYEJK9y/pPYhCBHWCGgW2nQvYGY8cKihZOPQxSGII8dbayVWcEAR+omxRXQDO+TAvRcWwY6TgKLH7JpkMhJuwoQJstPG/YNSTfg0KXw4crzgsKBGGI45xhqI1uFEC8KbwwJykU0HIhoZL5xZzZo1E0WktO9VHAOMEU54ws9NuhXflU0GilhTGy2ssKaQ8oEjDsUVQxNZkwmZGQkUbqKC+E7Ic7PuGpAFKLzMszAruUR4YHBgbOOYU3IH1gsi4tg4ZJ1jAw5jMdvG0ciEqlWrisOAf8MKOh72GI435hzpu9kQUc1pdpRc4F6KBt8X3TSsDjnWOsbQmPc4ZvxRuTyH3sfcRL9D58Nhw1rIc9jkrI9E1KFPYG+l6rRH3p9IS2JJeH/WNiLSeYyNQyUBnE4tVRzlxf7ggw/siy++2N5jjz2484o0RyG1nRux2OOxtkqVKtljx461nZu1WHv11VftJk2a2M6NFPjaktquu+5qO8JCmv89nBvTnjlzpv3nn3+6f6kSD2+++WbUsXEEk+0YJ/a3334r95CSfhxFzHYUHnvo0KH29ddfb3fp0sV2FLLA8UmkMc8bNmwo7017+eWXbUcR1PFNIw8//LBdtmzZwjE46qij7DVr1rjPboN55h0rGnJv/Pjx7hXhgnvSUZiy6t785JNP7FNOOcV+/PHH7d9++03WOOaPo5TZHTt2tNu1a+deGW4YN2QZ/5Y2jjJtT58+3b7jjjvsCy+8UHSgnXfeuXCOOYq17Si39urVq0MtB/nbHePE/U3JRRjDbL2Hv/vuO9sxVmXO7b///vZtt90mj4UZZCTrRzbISfjjjz/sTp06FcrGaK127dr2hg0b3Fcq8cB4r1y5UtYj05/oiH369EnJvYAMQMfEvmN9847buHHj3KuUeCl1Z86vv/5qn3/++eK08Q6qacOHD7ePOOKIwOdibRic3bp1K9bq1q1b7GaKte2yyy5237597UmTJkljAfBfc9xxx9lz584NtRKWKPSpvz/9rXz58vaIESPEaFHSC/fwokWL7Pbt2xcxNtLZTj75ZPvuu++2f/zxx4IvoaQcdebkD6ylzFEU8PXr18saN3r0aPt///uf/d5778lzSvbCptYjjzwi+tD2229fZK6xHqozQ1HSA/IRfd3MN5zi77//vvuskg1MmTLFPvroo4vIxUjtkEMOsRcsWOC+UokHdIczzjijmJ6/11572X///bd7VeKwjk2ePDlwo16dOYlT6s6c77//XiJcvAPKTTNo0CD7hRdesLdu3WqvWLFCfn7qqafsMmXKFLm2NBoG5sKFC+1vvvnG/Sts+6WXXrKrVKlS5DocRbfccosqYQmwefNmu0ePHsWUWn8777zz5B5S0gtRMscee2zCUWyJNhyx11xzjRiqSuqJ1ZnDrtijjz5q77vvvoXXItuYp0r2gSLLGDVv3lyd3TkETvOPPvpIxg+dp2vXrjKOF1xwgURbKdkFjtIHH3zQPuuss+y3337bfVTJJb744gu7Z8+esjlh1jZ15mQfvXv3LtEeMI3NdiIaiSRX4gN7Cp3bnymTCWdO1apV7Xnz5rlXlgz+AaK1iCLauHGj+2g4KTVnDgOKsGzQoEGRCcoAE23hdZQYfvjhB4nGyLRBaRo395AhQ+yff/7Z/UbbIPyMKCLv9XzPypUr2zNmzEjJJAgLGI6EeH7++ecyUYnaihRBRUQU4X+azpZ6uKefeOIJ8dIjZIP6P6iRAsdiGq1xTdBrgxoOhNNOO02ce4yzRrrFD33GvMJIJKXDzLEtW7bYr7zyijjraMuXL4/oOCPi47XXXiu8lmgd5BpG5qWXXmqvW7dOxked16WDGWOcAKeeeqrMHZyhrKc//fSTjLdS+jBfkGVnnnmmOE6j6QaffvqpRFSR9qFOueyC+TZq1Cj70EMPlblWs2ZN+/XXX8+atBQlNkjHwXnj1TkwXDt06KB6ZRaAfJw4caJE23jHqKTG2vfuu++qvhgH9NWyZcukTIjf5uJ3HGTojImCbFyyZIlsDHvf29tiic7he3799df2lVdeWWhPtGzZUnTQsJL0aVaJ4ExOORZ0+PDhcqqE8z3cZywpwsRRr0GnpFDEiWOXHUOisAhnJqGgJAUmg44O3m67ghNpOL6Pv89AdXWq+XPEKEUyKfKqBOMYgVLQl1MOOC6PIyspQkeBVWdxlRM/vH0L3AecSMJJBFRrV1KDY/jJ6RMUJOPEI4qrRoJCxQcccIAUm6NRlLpXr15ShC5SY54zL8xrkAH+sTVQIO3zzz+X0+KcxUBkAK9hzimxgWyi0Con+HACGice0P/MGYrecQoTDRnlLI7uq4pCAT3GzVyLPKYgIadhcUIQxWU5yjRMp1xlC8wL5CPFrClEvmbNGpGnzB3mzRtvvCEFy+vWrVuqJ5GEHUcJlbnIEcjMFU7tZA1jvvzxxx/yvHf+ccw9BWOZUxQgRdYqpQ9rFadHcgoa+gegu6C3cCpopUqVSq2othI7jCMnNKLjICsNf/75p8zFLl26WLvuuqv7qFIacDIjJx699NJL7iOxwfqHjsMBBZysppQMOsLll18u+gM6hRfmA7KuXbt2Ys8mshZxYitrH8XsI8Hcu+CCC4oVbPaydetWOUV74sSJUsSZ74bNUr9+fdFnw7hOloozB+WSAeXoYr8Bh7EwaNAg97eisDhWqVLFeuCBB8RJEgsoQdx8nDAV1DAIWYRjAaHeqlWrwCr3vA+nwWD0cnIIgsTAaT8obeXKlZPj8pRgfvzxR+vOO++0Jk2aJEdYf/vtt3LKUaNGjcSA58hkjEjG/ueff3ZfVeDQ4VQQrqHauhorycF8GDdunPXggw+K0xVBGQQOHKrdN2nSRBYAjj6m4aw55ZRT5JSYSI3jt3GKmtfwGGOHUyfSfMTY4SQhnkcW5MLx/9kCc4mTjJgnLH7IKB6j35GR3jnDfOJIShZeTjRgAefISP+8Yjxw5nAtP6MIIOuYr5yspmQOnHR33HGHnDbGGHvXH2QlJ1bg7GGNOvjgg7PmOOCwwdx7+OGH5fQq5gxzi7HBscPGFkr0li1bxKGDvmAc1jgI1JGTPSDr0FOXL1/uPlIAzhwMSOYcemImTyZU4oe1i/kYpHNgVHJUMzqnUnpwGjH6KPZBPLAGbtq0SRwP6Irq0InOV199JXNh2rRpEXV+YDOCuYG+Hq98Y62bO3eu6ImRKFu2rHXJJZdEdeYgZzmFmvE14Evgb8D5h20RuvWS8JxMQtgi6UiOYV4svIpGKJ2j4LhXB8MJVUGvNY0TcZybQRoh5pwYEamRAkXIM9dSfyXa6TzUlnj66afdb1Ecct0vuuiiiAViHSNXikspxSH38cknn5S0NNNf9COhrtT1eOONNySFgDG77777ZLzIUzd5nY6hKRXsHSVZQ2OTgLk3ePDgiAXJTeN0HE61+vDDD1MS/k/tAQodcw8wtocffnjg59IIqaxfv76kkyixgWzyh806i7GcfETfG3755RcpNIgcJNScdswxx0hhVj+Me69evYq8J/L7+eefd69Q0o2jsMqpjHXq1CkyDpFahQoVJM2OtCslszjKphyIQAh70NjQWPOYc5wUOGHCBKktEObQ8WzEMfztkSNH2o4hEziG2223ncjPsNdwyAXQM9Adg8aRRi0dnX+lBylwHLoRNDaxNkpzBNUBVIqCHuGvkxPU9tlnH3vAgAH2V1995b4ydijbEElumobtwXWR0v353Ouuuy6wVMP2229vlytXTuzJsJFxZw4GW8WKFYsNgrfNnj07MM8Ro+PZZ5+VwfJez+KJQEZJwmGydOlS9xXxgSFL4adWrVqJ4cP7ej+Hm4znqRXhh+87derUItf7G6+neLJSFAwSxrxWrVqB/UY799xz7VmzZolRSt4l/f3OO+/IYtu6dWu7adOmMpFPP/10qQGixA81im688cbA/qcxHxD2zI9012+45557pKaEvzi6t1WvXl2Ko3M/KMVhjjC3+BcDpFGjRrKQMk9oFMf1OnIA51yQsYnM9cNrx44dKw4c3o/FlXvDHKPMZ5vPV1IPzgGKrjKu/rUqWmMjBYc4Y6NkDhRMjocPGpNIDedO586d7cWLFxfWo9L5VHqw7rE2HXzwwYHjZRp1HLhOnabZCWsXh5h4i/9HasOGDdM5VwrQ55zGGDQm8TR0nvvvv18PSikB6iAG9Z+/caJYIs4x1i+cMEHv6W/VqlWzP/74Y/eV26BYOfXjgl5jGmsmQRphqzGX0TQrQrMeffRRyX10hKn7aHEI+yesn9BigzMw1rPPPmtdfPHFxVKsHKNO0p+oF0Aj/CsRyE8nv5I0EdKlCM8j/JJcPCCMi1w/x3Cxjj/++CKh6o7gsZwbSHJvI+Eo3JIKRF5fpLoUYWTmzJnW9ddfb23YsMF9pDikCNC/hFpSH4e+J4y5ZcuW1kUXXWQ1btzY+vXXX2UMSYcjhU6JHe7zESNGSB6qud/90N8dO3a0nIUx7SGrderUsc4880wJWScVwZ+OCaQJEWZJmhfjrmzDMfokZWPBggVSawOZSp8ig0itqlmzptRPIR3Omz7F3GI++sNgGW9kqxdS3ZCD1LOi5gfv5SzWIo+Zy9TRefvttyX3mueRm0rqoO7RkCFDrEWLFrmPxAZhyEuXLi0MP9e1KDMgw9Bhoq1zfpjH1KJ67bXXJOyc16KbkCoXLQxdSQ/UbqMmHP9Gg3EjlQ49hTmmaY3ZxQ8//GB16NBBUhpLgvUT3Ye0ciVzoL88/fTTkhKeDOgf6InoO4nahmGA1NEpU6a4v0UGvY/aiqTSx5pmReo+9WRJjaLeTUnsvPPOYitTL46fDeiz6KFB9oAB2YuPgfIq++23n/to/rMdHh3357SDoRBL51JouEWLFlIvxUAOMkYGuXJezjrrLFlcccKkGm7ue++9V/IIuRm9dO/eXYrcGRAY1HqhXkE0Tj/9dGvChAlFXhtWqBnwxBNPWAMHDhQnTTzgcCMvkgnPvcI9oyQGjkicOAhJ/31uwGinYDk1cvy1U1IBRc0xTil6TTNQZHLUqFFSm4X7xQ/5tZ06dbLwSaN0KZY4Uah3s2TJEjHaccDdeOONUm+sJJiHFJW74YYbCgvgocT27t1b+jgWWKwptkzuNTCe1Ehr0KCB/K6kBhQjnDnJQP06rQmRGUyx8PXr17uPJAYy+JFHHhGHjpJZBg8eLPpgrPoKThwceNQRU7IH1kaKG8fizOGwBXSffv36uY8omQAdBL0hFeBQRWZymIpSHGpRsklLPdpYoH4ph5zcdNNNMRV6JxiDWjlsynvhMI5ly5ZZtWvXLnaADWN27rnnFtmoZTODNZSgkGjwGg59CFXtRonPyRDUw+AjS2qEjBOyT6iqaYROEcrvvc4x4u2VK1dGPdozGQhpJvXKuWGLfC7N//1o/u8X1Egxo2aBP70hjFCfg9on8aQImEYaHH3uGKhyNPnVV18tbfr06XKEshI7zB+Olg7qZxppN88991za5hnvXbduXUlD5Ahyjsc2Yc3MwU2bNkmObtB3496h9ouzGMn1im1fdtllMjdMLQBkVffu3WNKq6Hff/75Z0mfuv766+2TTjpJ6o5Fyl/2w5zmtQcccEDhGPE9NL00tVC7rV69eoV9nGhjjBPJfVfihxpvsegIJTXqypE2oDpE5iBdauDAgVLPyKuvoJdSa5Ejyo888sgi42Sev/322zUVOMvg+OMyZcoUG6+gxvrpGJqS1q9kBkolYBsEjUcizTHuxU747rvv3E9QDB988IGk8sY6H2jIwKpVq8a8BqFX/vXXX1L31NsGDRoka2Lfvn2LPcf1xg4wkN514YUXBn4nb2O8+bvCRMbSrAh9IiKFUxtigWgBXuNtzveV5wjXx5PHriShc7F4Bg3mfXmPknBuWPHwEWJJiBi7MeY7RPt+0fjPf/4j6WZt27YN9UkHeGrpU6Kt6JN4Mf1PuCwRHaS/0Qh/JgKMxwhHN8fUMZZKcYi+4ChjTsP58ssv3UcLoN9OPvlkOSqe+zWWOePHEcoSfbV48WJJ6yCSxj8WeNlnzZol84LxI42SCDzSCA499FBJt8TDTnQeIbeMvR+ihUgjIiQz7GPNDgj3v1dWkVrDaVb+MSSFY8aMGZLGwcksnDbAnGnatKlVo0YN2YFhd4SISubaY489JrspXMu40Lz9jYxkh4f0KgPfg/cjvVRJHuQeEaOcBpksyEiiWxlnlZHpg6N1WevijUANAvm4yy67yLhpRGr6QX5xSgop/v4UAdJPe/ToIWskaw87z4yPkb1GR2H9IjUhHVGtSnwQ7UuUBtEIjE9JsH6iG3GyFdGtKifTDzrp448/XhgdnCzooeiPlOPglEClAOQU6WxjxoyJe23itejo2AglyTXmDNdgq3sbeid2G7o7GRbe57jeO9dIlUO3nD59ekzzFtuBci3pLgmRNTgDkhGWLFmSMk8rJwU4RoX7zvGBZ49K2fHCa0455ZSU7KwRSUBxvDDiLIzidWX8jj/++MD+SVU77rjjpJ+3bNnifrrih2g5Cpr5+84RolKQ2jEYEy6USgEyTkuiWKQjmO1+/fpJBA33gBdOIGvQoIFEW3nnF6cYcHqZuZ4IAk43owiz97vSeB3Fm4OKk4cNTpjy9iN9T7RO0DhyUpy3CORRRx0VWNzut99+s6+66qoiuzfs5vivZbweeugh+8ADDyy8ju/C6S9KamC+OApUYf8m0/bff3/71ltv1R3LNEJUBkWqg/o/0cau6Pjx491PUNIFa8/XX38t0YmsT/5x4GAGivAbOPWPwvz+6y6//PKYoxuV9MEayEEa0Q5WCGqsoRQvDyrKqqQWxijaaXGJtn333Vei65RtoK/17t1bIg6D+qykRgR4UKFh1jwia4Kia7wsWrTIvvnmm+158+a5jwTDe8ycObOIXllSw+7gYJ1E7ZdcI2POHFKVCDkN6vR4G2H8iVYmx3g5++yz3d9ihxSTl156KeqJS/G0Y4891n3ncEHoGykfQSHJ6Wh77rmnOAUQKkpxOH0oqN9whJkTVBKB/sbY8B4xjhOGo/s3b97sXrUN0iUJfeaEJXM9CwwnSfz444/uVQUnbnGCWdBCz8KiodAFR0wi40y/EF78ySefuM8WJVZnDk4yc41pzK0gg5JTexgjc12zZs3sN998031WSRacakGGZaKtZs2acgSsknoIQ2eOlHT6USINB5GSXpB71157rWwg+vufI3rXr1/vXlkADpuuXbsWu5aNK1IjldLl/fffl/UI54x/jGJp2ABK+sBoJ82+Tp06CY9RtMacjeZcCBs4YnBwkZYU1F8ltSBnDmvetGnTRAekMeeShQ15HOfxOPjYRBw+fHhoUlzTnmblfIaEbz333HMSeu9MJPeZ+KGYHMXnKHhK+lOscDLLrbfeKmleCxculHCtjRs3SigXxR8doeFeGRnnxpCwLYruUrCJ0Nlk4G8hTNoRLgmlr+QihCCTUkOaBuF5FFYl9SaokXr1bwyhdJykQ1oIaQJB70P/El7JPVCtWjUNS3chpYm5RMgiKThe6CPCUSl6yzglAqHMvD/pOAYq0DNvOO2IwtXe+57TlphbnLLkLAaSbsU9QMEzfuekJMLYSdPifZAlpIh4QdZQwJlx9p6EFzYqVqwoKVKkNnHSW/v27eWxIN566y2p/M/9QP9S6Jq0Kn8oMs+T1sOYGBnOSQOExpKG6oV7hvHlhDnz+RSzD4ucSzeckkO6cjJrqRdOGmvdurWe1pJiGB9O4rvnnnuKpB2mClJ+SCnmUAUlPVx11VWSJkw/e0HnINWR1BtvKgC6JIX4OVmT4uJGh/nuu++k8DW6CKH/6C1KZmFMOA2HlJJEZSeHorBGoq8oqQf9ghOspk6dmrL1zQvzEduPQsihSb+JAjofuhnlStq0aSP6mmnoA+gZyLNrrrlGUkm9z9MuuOAC0f+MbofejlykUVoB/ZKThbGzOWU4EbDdSHHlkBT00HjgtYwzp5jlfVkTcemkEbxizsAGes7iaexEEi1Acc5EIBSW9CbnppP3a9u2rftM/FCAKd4wzaDGLriG3gYTlPoT1Cg+mGiUVlhxFknxdDuCOLBPSXlKBtKhHEM+8L1pjrFvf/TRR+7VwTgLR2HoJ0WR3333XfeZAgiV9r8vjYiv+fPnJxxRlM9QGJyC7oSKf/nll/IYaXbOYi5FVennaBE0RFSxY8a1NEcxFvlOGgLvSfQPUTlKernttttkhzHo/k+kaWROemAuIMeC+jxaY5fUzLGSWuvWrd1PU1IJa6RjuAfqIeh+RD5G090Ye/RV/2vRP0l5VVILOmBJujQp4/7xSKQRzRrts3iO9ZCIYu4jJXYi6XWpbESTYA+qjhgd0poOOuggObQHXa8kSNWmULi/v0nNf+CBBxLSDYnyoUSL/z3jbczZfCdnnDk4Ykj7SFQ4kjdHuDPhrpzOk4wzh5ovp556auD3jKepM6c4Jp3t0EMPDewzf+MUJA19jQ8WMdIeg8JYOYXommuuca9MDMIhjdM0Urv44ovdq4PhO1Lhnmt5LxwOy5Ytc5+17ddff11OWvK/L7V+atSooadb+WAh5UQpFmdCVemj1atXSz+zYOLo4d9o+cXIXnMtjdeiFJHuwXviYKBGldZfST044YxDkxRGUlX9934ijdRHah/x/qzVzDHGVkke9IQHH3zQPvPMM2NupJlOmDBBalSZeRat8RlK6iE1gBobrCfe+cKJi9Qkw3EdTRdlXLjOf0IM78cprKSbR5O1SnzgNB08eHDEmjZsXnGqmHcsEm3UGZsyZYr7zsWhvibr4dChQ9VhECfxjhGp3shNbLp4ynigO/o3CJWiYIu99tproh+gK0YDWdijR4+I6d84hF544QX36thBj/eWXki0qTMnBaTCmYNgpPjYhx9+6L5rYixdutR+9NFH5di7++67z300MRDU3KBB3zfWps6coqDA4pmvUKFCzPmyRGJwLKgSOygYHEkc1J8ITo5hTRSUpliKs+KEwyETDQrpmgg4onmaNGlSqECjLD/11FPF3pdGcdCNGzfKdUoB7DKjhBonG/1JBBb1dRKtJ8V8vfrqq2Wni/fEUKEWmDpXU8vatWvFMCQK8a233pLHWMdwyHnv+0QaUQJE5fzwww9SvJWacCXNSyU2kFWs7998803MjRotQQUllcwyZsyYYo4cGjXgiF5Er40GY8+cYmPkQF/RTqPPan235MEh9vbbb9tNmzaViDbqaQYxffp00Su945BoY/zYaAo6WIMaSshqruNABnW2xgf6g7+/IzXmVf/+/UVu4lxDvwm6LqhxL6BfUgBYiQz3L1FvJTklicY/66yzAmUmjbqMHEMeb3+jm+J0o7ZnojV3sTWI7sl30l7EgCP9OE44GaiTQd0FajQkA8efcTwueYLdu3d3H00Mjvkl1zAZtm7dKjmFzkRxHwk35KXfd999lrNIxlQvh+OSyfPs2LGj+4gSC+QMU9PGz8EHH2yddNJJUmcoEaiNNWPGjMD39rN69WprxIgR8l0cxdd9tCjNmze3GjRoILm21Mmh/gRHbjsCXo7mpfYAdXa299VioQbQG2+84f6mAPOJI3NNX9OfHAlJfjo1ibw4C7jUFpg3b560pUuXyvV+nPVD+trIL353jFeVZylm/vz51rRp0wrrPVCLg3x16nlQs4hGfbBYoB6WOQaUNnDgQJn31JIbMGCA1DVjTVKSx1FspTaeqd8WS6NOwZ577um+g1IaUPfhnXfeEXnmh1ob1Jgqqc4iY49+wpziWHIvyFuOXuZYXiU5/vnnn8I1ivVt7dq1Ih/9MBbUBTFyL6iZ2lPMP2ohBV1DoxYduru/Zh8sWrTImjJlivyMHsS9pJQMOh1jGNSnkUD/Y/1CblJD1a8HRgO7lDWVWlZKZNCzqZmDzRwJdED0yEgyE9ALH3nkkSI1NGOB+osVKlQQu50at4lAjSveI+9xOj+t4DHlY5JpnATBcazJQp0ITiZI5DQrP+xKs1Ma9H3jac7iIDUnwg4eYPIyjznmmMB+8jcidxyDRuvlJADHpAb1Kad+JdqfjB+7maRpBb13pEbNByLuTMSNH+a9d0eN+cKOJ/AaTggJ8tjzGmUb1Cjyh8ByQgupV8gyA+lYHBPp7VNqczz//PPuFdsggsDsQpp2yCGHBF6rJAapNOwCe9MWiaYhLcoLx3uSr15SI2SanWwDY88aTRoz702UFe/PTpuSPbDjv3DhwqhNIz2Sh8go1keiL8x8oxEhSvRHvDvLzN9OnToF7lgHzWMlPljXOnbsWNinpMGxpiUCMo/3SDSyl7G89NJLC78LjbRjpWTQOymB4e0705g7RxxxROEaZk5IbdiwYWFmw7PPPluoe5LuzXWkf3M/eN/L26iHxSmqSuIQoTh58mRJ3w/qY387/fTTi+gfJUGN3MceeyzwveJpmmaVAlLhzKFQ67p169x3TAwW6X79+kmNgFQ4czBeye/EeAn6zrE2deYUgFFO3mtQH/lbvXr17C5dukihW2BsKeRKKF1J4YBKepw5hBzHE+bqbXfeeWfEsHXmPQ4f41xQZ05iEIrMQmrS1hgrjm30p1jhWAuah+XKlXOv2Ab1c+6///7C+lY4ixgrkwqkJA81IIJqQ5GfPmPGjITz/pGTyEwMH6+zlIaj/PHHH4/oYFVih/lF2hp9nWijBgeGS6QQdtMwapXE4X6fPXt2YIo3zk7kXbzwntQVq127dmA9CcaMNEolMdhA8vYnzmhS27wbFLGSrDOHdH/sC+/3wXmerO2S7+DwZAPIvw6ZRko4Rf/NekQ6ME6aIGdO+fLl7VtvvVUeQ5elDEPQe5pGfTIlcZCJ1C0K6ttIjZqasYBdPHLkyIh1eOJpbDrm+yEPpeLMYcKhjHK+vWnnn39+MUFoGjVuki0WR20IPLYoRKlw5sDnn39un3POOcW+L7UovH+baUFFk9WZY4vXlIicaHVyeI7+ox9XrVolCwC7MuPGjZMdLnbS8OyjjOFoUyIT5MzBIJ84cWJCShCwY8kiyvgQyeF//6BWrVo1uZ75HclwZN6zUJvTe6pUqSJV9s0YYygFLdhhd+ZQH2zEiBGFjUJyGP7U+qLPqRkW5PiMx5kDv/zyi9Rv4T2pEcCCiWPujTfeKPxsCteXVGNCKQ5zCvkWVAweBZfiqqw/9DFztyQYA9ZjrieSB5mJ8eON+qHxOzU9Nm3a5L5SiQcigKndQT8z33DG0dfJtGhro2nUUDKObiV+iKzA+PbPByIYqc1BQdBEYN7dddddgfot85jDCJT4Ye1v2bJlsT5t1qyZ6Obxkowzh/UVI9W/scT43nLLLe5VShD0e5s2bYrNO9N4nDFlkwg9keuxHxl7rzOHmopsLqEb8jh6CXM36D1N43OJelTih9qarHFBm6nRGqf84byLpPMbqL1YkjMu1oaeQyZNPFFBuUbGnTnsDBPRwk4+Xj3T6GQmqPda05YvX+6+W2LgLOnZs2fhTYfjAKM/WRAqCHDvd0Vx40b1/m2mPffcc8WKw6ozxxYnTCRBTiOi4IYbbpA0LPoR5YgdT5xAGJlmXHkPjk6mMK4SmSBnTv369eU+LEnARoLXsYiiBHHylP/9gxqKM+NZkpJMFXzjzGGMCWU24e4o4Cz0/vcOszOHNCnCjFnATLviiiuknxkj+jxSBBu7WcOGDSuyG8IcY/4FwbgzF3lP3hvnGw7Bbt26FX42SpYW1Y0fjoKnqGA02cg40cfc70RaRWvsbhKubsYl6P1MwwgxkY9K7DBmODU5Ccn0cyyOmFQ0PodTmJT4od/QEbnvvX3KukNqfiLOAS/IP9K0vO9tGvoNzm8lPpBnQbv2GIA4wdnwi4dknDkc3OE/ucw0xp0NK6U46A5sRJRU+JhxJuqXKDZ0DjamKGptNvUYLxw6png8RcpxbpcUzch8nzZtmrxGiQ82eyhsHNSv0RpjyWmc0WwNsi1woFPUPOg9Eml77bVXXqdbZdyZw+BEyhNmQuIp9V5PS8aZ88UXX4gh4n/PZI4mNwQ5c6666qqI5+mzuHB8ole5C6szB6OPCYvjxeS60i8YjtRIIn2NSBwcfC+//LJMfLzt7HriFCOyIJJyhAdWdyiDQalo3LhxsT6jr5PpMxxsRGVcd911EZUafyNdDu97SXUIeF+OMue+oBFGbXZkULIxeP3vjRI+fvz4uBW6fCDo2GryzIOcZsgqDA36Cic0cxKHTp8+fcS4oRFdQD/yesYCmY7zHQeOHxw5zGnGyfv5pNIp8YHiGhTNmalGrnoY50+iIAOfeeaZmCMT09Fw2oV9cyheOCaco62D+hM5yEmAqQD5ymmRfgMIg5I0APTiaAaOsg2isznhxtuP3sbmVLyn3xJlyno3ZMiQuOYQDlw2mPyOQNNwxmMXJBrZlc+gv+HM9PcZUduXXHKJPOedL+iBHJeNrA0C5w61w4jWNxsW2BKU6ujQoYNsZpj3Mo2NJ00Njx9SwCtVqlSiw8zfiDRF3kaSddiGOGoTLdsQqbHpT1rrmjVrCp2A+URGnTkY66eddpo4QSLBRPQOAC1RZw7Fk/DE+d+PhiMAIZxM+la8zhw+Cw++19AJqzMHY5wj61l0a9asKQ3BPXfuXLkHCH2kf5nwOOTYuWLHEyFfkjeY5xHcn3zyiftpioGFK6jPknXm4AQgPSeSQhOpIbDZmSlpHjKnuC9o3A9mMY/kzDGN7xU2SHfzF6Qj9TNIASJlzYSy4mhHHgXtSqKIEhnHPGWMWcTJXffXWKK/e/fuXVibxzR15sQPCmi8+eipbNQJYcyV2GCjAf0m3rDzVDZSedhpNs5uJTr00x133CG7tt5+xECpXr16ylMNf/zxR0mr8n4WjXEj8kBr/pXMd999JxsW0SIWkZup2LCNBdJ5gr6Dt7H+qj5aHIzroM2/q6++WjYS0C+o6+bVZ4i4wR7wzxXm1tSpUwud6USAEGXFBibvxaYhstG8j7cRrc59pcQO/cm9X1KUr79hJ+CQiwTzJFLJlVS0ihUr5mWkeNqPJvey2267WX379rWchdN9JL2sWrXKeuihh9zfisLRyFOmTJEj8ZTMw71w7rnnWg8++KD12GOPSeNY8jPOOMOqVq2aHJfrCHJr/fr1chwvR8k//PDD8rsjRNx3CYbnn3vuOWvYsGFyBOH/RTj6WkkNzKF33nnH+vTTTwOPsI7GDz/8IGPKWEeDI5W5L2iHHnpoiUfDhplLLrlE5ssBBxwgvztGudWrV6/Aozt/+umnwr7naNcPP/yw2FHl4Bg91pVXXmlt2LCh8Jh4R8myHEXJvaKAffbZx7r00kvlOEhDuXLl5HhLJT6++OILOfaztPj888/lnlBKhjWGucGxyKWpUzB3x48fb7377rvuI0ok/vjjD9ETHANQjpr2wvHj6BusNakE+cga5hincny5gc//4IMPrPfee899RInEwoULrQULFkTV65CbGzdulD517Bz30fTAMfMlwRrLUeV//vmn+4hCfyCn/vvf/7qPbIP+QjdEb+jUqZPVs2dPOV4emCPoHm+//XbhPYB+wvHY6PzooTvttJN17LHHWmPHjpUj6dF90DMnTZok1/t5/vnnrZdfftn9TSkJ1pm1a9da9957b9w6/8cff2w98cQT1ldffRU4h7EFg3TQVLF58+ZS1avSRUadOSxYgwYNEgMi3SDAv/32W1FIg8Dg37RpkwiBTIEgx8H0zTffuI+Elx133NGqWLFioYFOO+qoo2QS0z9PPfWU1ahRI2n333+/KMrfffed++qSYYHAWXfXXXfl5cTNFhDkLK5t27ZN2PDD+HjkkUcCF3UlOiyGzAvmDA0Ze8ghh1gDBgywLrvsMjEaRo0aZV100UVFjId4+eeff0Qx9i7cyE7/oosSxVxGAeOzaShi3B/MQ/M9aelcsBUlk7C2d+3aVRTU0gR5gKOVTQzmrBIZjD4cz8i1f//91320gHbt2lm1a9e2dt11V/eR1IAMbtWqlXXVVVdZZcqUcR8t4P3335fPxYiN5qgIM6wZjFtJmz/AuDIn0zUPsDEYK5zuJYGtMWLEiFKXD9kCfcfGPnp9EDNmzBDHCzrGgQceaF1//fVW586dZVMPWTt37lxr6NChhU7Y5cuXW8OHD5c5BDhj77jjDqtJkyaik+A0GjJkSLHNJwM6FPcVDl6lZNi0wJbHoROvrML2njhxogRaBDk3GVM2Io3+GKmxSbjzzju7r7Jkg3ffffcNvNbfvK/LFzLqzGEC48j5+uuvA715COpYBGMsIATw4P/444/uI8XBAzhu3LhiC3kyYNBGihz5+eefQ79QM8Z4ZoMaArlp06YiiPv06SP9RUt0N4Md0pkzZ1qvv/562ndnwgq7HURTcc8n2sfcEzfeeKN19dVXy3grsYNTpEqVKjJnaOxM0Ydly5YVZQdZ26ZNG1FogiBKkt1i4BoW0V122UV+98JCifMVJ6yBSDoULD/sghHFw2fTUKqQ97fcckvh96ThxFOUfAAjnTmXDRGD6FDXXnutrKlKMBhtOL1wMPvXLcYRhT8Z53c0kK8YQkRQekEPxRhlAyua3hpm0OduuummmKLf6E/0bdagVOr4Bt6zcePGYtCWBNdi+6gzp8DhjN6CQy6Sow2dH30BPYIxJJL/nnvusfr16yf6CvrE77//7l5dsKmIHslc5toWLVqILYEuQoRWt27drMWLF0e0vXAgoIPOmzdPbYUSoK+ZU+iZifYV85f3CNoAHjlyZKHuGK0x70477TT3VZZVuXJla86cOYHX+hvzNt/IqDMH2H2//PLLrccff9xatmyZPMaA4jEl5aZLly7yWKYg5CqVzhU8yrfeeqv14osvFobM8i+/8/iTTz4pj4URvN+TJ0+26tevH9hat24tgjeVEJ1FZABC2njxldTAvCW9KlVpBbNmzZJoKiU2UGZY0LyOcRws8+fPd38rCsrkkiVLRBa98cYb8hi7xDh9zjzzTIneIZLt6KOPlue8oEARioxjiGtp7Jjx2YQ7856LFi0SxSuIBx54oJjzhhDoMDu2o/Hqq68mHOmWStjRTNUGSz6DgY6hSWSFmR80DAocA5kGw4bNkXQYsbkORiTrTJAjGmc2UQBEdKQbnPCVKlVyf9sGDiYiFhLdxMpncMDFA9dfd911KZel6DxvvfVWXFHfyNIbbrjB/S28YAPikAuKymH+eeUnm4Sk1BkGDx4sm0M8R+SccZ7zOgx0HielnE0tnDpAFAgbUd73rVevnrXnnnvK817Qp9SRGh2iogYOHJj0ZgG28G233aYpwanCTjPOoonrrkijQKBjCNinnHKK7RgBtqPoy/HUkapXP/jgg8UKbUbDUWCkYnWk0468jWJIjuLjvjJ2KCbKKUt169Yt9p4U0zv00EPtLl26yN/Hvxwd6y+yRwtLAWTHkLTHjBkTWE0+3W277baTivZPP/10iScn5TvdUlgA+aOPPrIHDBggBYg5HpxGcbNYC4BSCNy8jsZceOKJJ9x3j40wF0D+9NNP7bPPPrtYIUgKE/vZunWrPXbsWDkCFNnUsGFDe/Xq1SIrHeVKikojh6JV+f/777+lKDnX0ngdhQhbtmwp78nc5kjYIFnNfeL9jrT99tsvqQL0+czJJ59cqoV0TWN91KNbYwOdgDlk5geNArqcpumVc6btvvvugX2eiuYYOVIIVE8jKw56W5UqVQL7jQLvFOd0jHX36vSxcuVK2zEsi32HnXbaSdY0vif3lLINCgn7+6uk5hj9UvCU9StVUGy3c+fOcR/4wKmSixcvDu2pZdzPnEQW6ZRGDpDxyk/azz//7L66AHR4HqdgselHbDijm/C4F6/OYhp22dFHH13s89FJli5d6r5SCaJOnTpx3/eRGjYxJ+AmAgcOeE9C4yCPV1991X02fJSKM8c0jBCqVu+2225RjzdDKVm0aJH7jiWDQYLxQDXzoPfzNm4mqp1HM2KCwDi66KKLihwz7m/c8Px90W78MDhzWEQnTZokDq1o45zudtRRRxUeqxxWI5Ij/3Ck+vsmEWcOfYix8Ntvv0lj0Rw9erSciuR//6CGIvvuu+/KiSLmPeJVosPszEEpQaH0yjlOIOJEOD8ff/yxnPBh5h9yC4fOe++9l7DBwHj169ev8PN5b5TVF154wb1iG/fdd5/Mf/M9aTj+1JkTjL+vSquxPnJsvZIYGBvoFka+eVubNm1EMfa2VB5rzolyKLfq0CnK/Pnz7XLlygX2GXKxffv2YnCvWLFC2tq1ayOeUBoPW7ZsKXxPWjRnAN/jvPPOE4e5UjCP3nzzzUADvKRGX3L0+y+//OK+W3KwXrJZXK9evcDPi9awedj4CKuTDrnHsdSRbLN47LxkYE4fd9xxgd+BTa94deEwgB2HAzrVusn5558vG5Px4nXmcD9hT4T5iPm0O3NYOJNVUNjBx5MaK+vXr7cvvPDCwPeK1DB24gGhxGIb9F6xNpxY/fv3Fy9/voIiyT1Q0lFz7EJznyR6FC+7nBxDGIsDD4MzkWisfIFjGP19kuzR5H/++af90EMPFTsSu6TWrl07EeSJ7lRFcuZwP6Fs5fPcAqJgWMT4W2lPPvlkoKJIFFXQ3OjZs2fCSi6GBkqy9/2IgHv++efdK4oyefLkwu9JC3L6KAWwtpTmseSmEakQ5BxUCnaDMQqIcEvVrv+cOXOKzBHTqlWrFnXjKFLDofP++++7765ANGdOUKtUqZLI1UQdz8joZcuW2T169Ah8/0itefPm6sxxoe8jRe7H0ohgJSIkFbBeRopwjqXhIMcZhM4UNpCXGO9B/UJjg4koKm/zH+mOzsfj2HlG10HPI0rYPO4FJ6D3/WjoItHsUqL4lW2w1tFv/ijwVDTe84ILLrA3b94clx2AXL3iiitkfURW+sc9bGzH/5wOTRuOkiP1EqjenyjUa6A4KqezxHLELbnQHH3m3BjuIyVDZW1yKTkJZqcIxUK9UJfi5ptvliPOE4XTmzjdau+993YfyT8odMbJOs5i7D4SjLPAWXXq1JE6GuStxkvVqlWlXgi1mBzB4z4aDPm1FNmKZZzzEUcASl95OeaYY6TvKb4YVAA3GowthZCbNWsW0ykTXhxBLoXnKNjpP90jFqjXQiFJ/z1ToUIFqbi/o6dgb77iKDTuTwX9SfND7YCTTz5Z8sGRi9z7yB8KDCIvTX65F8b1t99+s/bYY4/AfqQGFSdEUESe+g7bbbdd4XGgp59+unvVNvhcr0yO9F2Vgr6njpipbVRasI5SS0nHqTjMqQsvvFCKmlKsk3niBTnKnPPOHfqRtS7SKUn+OWLgGF/WLP/axkEPjmHo/lYA9w61JqjrwXeg/lKtWrVCIQtjgSOIkXvU04tU48sLco2TU6gnRk2keNZHxnLatGlyahbjETS2XnbYYQf5LI5hZt6hO6X6RK1cg3uempr0x38TPPGSMUS/Rz/kxJtkoD4cJycxrxKlevXqcmIra3BYZCsFc9HVnnnmmYiFcxkn0x/og9SV4tQrTsdE1lGnCH2DQrcUv+W9uI56ftTKoS6n0UGwJzj9irn+wgsvWFu2bClS35G5GOl7MO+wNw8//HD3kfCCnoe9S9F2TvxKB8g96jFSVxZbJFZY68wY8h7cP6EFZ046wXN67733igcu0eZMbqn1QC6zMwHddw6GNA3Sn4LeJ1rD60+UwIcffui+U2T4DKIBoqVPxdJI+yHFJJ9xJpvkvJbUPvjgA7t37962I5gD+6qkxi42ESeOgh34/t5Gzm1J91E+ExSZQ9SGs9DGHZ1DP+JRp/5VovOBHRLS3+Ld3eazZ8+eHVh7glDQMENfkt5hGpGEyGFS7BxjRCIuCEnl8UhzgbSAYcOGFdsZMyDbiUpo0qSJvCfpdffff7/cQ+w6ms9OVdRCvsM4sLaY8SBajrXPf29nqiET2KH0fy+lANYs5hFjVLZsWbn/vY3oj/r169uO0VHYWrVqJbVQvHMzlnnCc0QE+NcyQs1JpfI2x0iUlC3mJNG/HTt2lMg8pQB28ZcvX24/9thj0ke0ktYuM8bxRnoSmewYoiWmlzPX+B5ENjKGpIIzvmGfc/z9rEPUyimpD0tq1EMhxScZkINE/Sdbzwx99ZprromrFmiuc/3118ccEUcU4qWXXipp+Mwh5N9dd90ldfmINmQ+UhPV2E9EA5PBwWuZS6RwU/uG+4d5RHRprVq1Yr6HeC/kA/ZL2EG/J1I4kcjQeBrjGlTvUYmNnHDm0LiRKHBEId1oEPbPTRH0HiU1Qpljybk799xzU1KcMgzOnFhByUWZCeqnWBuvZ7FOVW50vhLkzKFRKyBe5WLdunXiaA16v3gaTrxbbrnFfdfYYKHG2Ayai2F35gwfPtwuX758YZs3b544WL755hupbRSL047irRdffHHU8FWUHWQy72kKKFOAkHBp89m33nqrPK5Eh36j1huh6MC/iRT8TFWbOnWqKNLIU4r4hzkfPYhEHNgYIfvss0+RuWna1Vdf7b5zcqBz4XRgTtK4rzBClaLQJ6aPJkyYEDhe/hbvZgfy8dFHHw1McTUNvWXIkCHyPfK5xlsisF4lUmg4UmvUqJH7zolBOkiyeqpp6Lw4Y8MCf29QPwQ17Diji+LIGTFiRJFSDegXrI/G2Yl+QV0+k5qMnMXxY2qx8B6kW1FiwbxHtMbrqT9IPdWwQ1obqfxB/ZTqxgEaSmKk3ZnDZGMBxMuarEBGCWICR9vBCqqVg7HHxKQhJDBATWMHBK8u9Rs2bNgQtVggCzOKEdXx/Z8Rb0OokMuunt8CyGfG+5usk4zxj7f+Udggeikof5/d5L59+7pXlQzzh1NZoimq8TR2Qx5++GH33UuGucpJeH65wiKO8yKs3HzzzcV2wIgQiCY3gyBHGgdfPLnIGJLspuGoNp9N1OPEiRPdK5RIYLggv9i0wDGGsUkEATuQrH3e8UxXYy7hCEUxJoKRyC0MTeo8UJNAKYBaJtRSCerDRNu+++4rG0rexm4yReWR2d6GHqK6Q+rAYcn9PXjwYDHkvOPCnDjhhBMSqo2E/ot+iTwOigogGpYIgjBFaMQKfffOO+/YZ5xxRrF+S7ThEKDORqKbC7GckBtrQ6ZSeycMjlbmTjyFc3Fso9+xBhEMcMABBxQ+x8nHzFV/zSE2lYjwNgd8EABwzDHHiBOH8WYte/bZZwvfp6TGmrtw4UL33cMLkXE4VOMZv0Qa9gfjlwpYG3GUslaGpe5Y2pM1yWEj/5c6JfycDOTLdu/eXerUOJPTfbQA52+R+izenFpyKclJbdy4seSn0siD3HnnnQubY3xYI0aMkDzMH374IeJ3dBYW6/PPP5ecvvfff999NHF22WUXyQ10FAf3kXBDDjF5qk2aNEmqT5YsWWLdc8891hdffOE+ovgpX7685OX7cRRayxGA7m/RcZRa6+OPP5bGHEoFzL+NGzfK94gFR9GTsfZ/PnOrcuXK7m/hg9xwf+2ir7/+2v0pdqgJxnvFA3ntc+fOLfL5jCtNiYxZv7j3qY/CGrN582ZZI8aMGWP1799ffo6lZlwisBby/qeeeqrUj2vfvr3UXeF70BhX1j9HwXZfEW4WL14s45VKHGNEao95GzXBkHHUC/G2oUOHWuvWrSscH9Mcw9B9NyUeypYtK7rf008/LXPRy6GHHmrdcMMNVs2aNeOuO8R7UruDOnUHH3yw++g2Fi1aJLVXVA8sDuv6gw8+mFRdSj/U/9iwYYPUS0KnjxXuCXSjVMo/ZOoHH3yQtjok2QJ9xpoWT70jZOGHH35oTZ482Ro1apTUwoGDDjrIuuCCC6waNWrImuWF2qotW7YUe47ap4wZ/cvco04W99H48ePdq0vm33//FTuCeoBhBp1j8ODBMhbUpUkH+Ah69+4dWGsxEbjnqJXEWslaHQqcGz4jOBNSclb5yGQbued4er2wY8Kxy3hTnQVU/mVXmTA5R8mRatyEi7Hz7wiCwsbuFzsxjmCQKAPq8gTteOHZpR6EyctMphGmSZ0JpQA8v4wPnnYipUo6+aqkxtiz48XupVIcdoIIWw06LYc5EMtR+ZzG0Lhx44RTGoMa85Z0A45CLin9kKNi8eL734NdVOQDKUJhZeDAgVLfwdsv7PDHu6uMrDvppJPiiszh3iLKzh/OfOedd7pXKEHQb0TFsTtFf3FsKjvSnLyDXESWseZRd8BEmZprk2nU6OC9iNxit3Pjxo2Fn9e9e3eJSDDrNscCM+/DDlEc3M/+vsxkY+zRXby6DI1oOn8UD41dyjBEACQK68njjz9erJ+JOiXVkXmRDMynG264IVAH5qhqToKMVz7nO9y3rOX+/kq2sTZSC44xjxVkIifPJlrTMVLj/RyD0/2U/AR9gLSoeCK4iWSrXr26rE/mMSIX7777btFPidohms3YaowlkTn8TiQGkaVmfSRCh7WLcgDxpMjxOqK8Y6mjmu8gm6gRR58E9VUyDb3/nHPOsd97773CtLlk4D3QWc1pZdg6YYjOyZgzh5uhX79+xQYykYZQwGDxgqJCChU3BhN25MiR8pi5OXDqsJBGEyi8FgUJZS0I0sVat24d+Np4Gooz76UUQNgkocaAEZ+KBROh06FDh5QIh3yE8FXqofj7DccmocTRoE85gpz54n99KhpzdPr06e6nBcMRvkFpm1WqVJHUlDCPO3Jv0KBBRfqFoqjxkogzB0gXqlq1apHPV2dOdDAW/DUFmF+EiXsdKKyjbCzQSH/yXp9IY6OD9+LzDaTKEVYdpLhRnDXsoBym0omdysamFPqPv5EazlgrwURaTzDmOFY8FesJczdSbR5quWh6eFE4chh9JKi/km04zkvaMPLCZiNlAILeK9lGsd58ZvHixVGPAY+1jR07ttAh/dJLL8mGrRlDUhmvu+66wt8p2puq9DzKCYQdag+hCwb1Tyoa6xYOVnSPZMHRZ4I6eG/kehjS/DPmzAEiZ/yDmGhDmRozZkyhw4bicRQnY5cDQxBPLbtRVCTHo4uDIBbjEwUWbzA7MUZwGPgcPHycFBH02lgbp5RgTIcZJi3KJY4tFmyE/eTJkws97ESIePNk422MNSeOcV8ERVqFHQQeO4VBjjOcKcylSIKVeVC3bl3Z6YjUcKoERQ7w3ox10Gu8jcU5EhRmJYLH/96MOQt4vM6HXAYDgXmEvKJR+JTx4QQHFkf68plnnilirMdKos4c5hsOcYpTX3vttfKdUIbZSTPfkxbJaR5GmjdvHmhMIhuprcBGBX3mjTZkDtO33kbtN9YX/3xC0fVfSzOyEYcOO2O8nutRrvzfhcb6SrRQWGFtYoc+HTuU6Wx8XyIS2NDSebcN6migR/rXE68jFRmbKnAasRHi/SwacpYNx1Q4jXId+gDjkehEfz+lqlHQnbkcC9wjbB4HyedUNOYmG2iskfkGNtS0adNk3Qj622Np6IzUsmK9A2rg4GQlMtw4b6iFQ00XdH4iuljX+DcVTqTzzz9fPiOsfPHFF9IH6V7zOHnx9ttvF901URhzIrr8tj52DlHNsc75XCSjzhxSH7wdnGhjoJi4TzzxhCy0NI6e45SpJ598UhwleFOJzEgkLYr3P/nkk8X7awSIFwqoJRrijmMJxTyeEM98g8V65cqVUuyTXUP6BYHNbj4OHcaTSUllc4pM+idmrI00IqLBNAqqOCx2nJwRqaAfO7kUso2kyHJcNcfdRmoUEw8qRk5xOhbeoNd4W6RdM8YSoRyUiocBSsE6DNMwgGxatGiRRBOi3NDoGxZf5hh9RV+ijCYCshODhqieRAwaHN/mdBa+B0exmu9J46hRNV4KwAHjv5+9DUOcotKsPRxtzW4nxh9y0gvrCoaQdy7RvE4gQMnmPUxD4WasWVeRxUHfgca6h3MwrKBzJGOYlHZjLaWorFIAaWmkYPgjQFhLOGwjESd4NHCkcfwuaahevQZDhpQiPT2nIEqxTZs2hbphOhpF5kkbiQU2MzBmg94nVY3NL04L9G8g5zpEyJDinYwjjPWIKByz7vXp00ceI3XL68xh83f33Xe3zz77bLkOx2ki9p+/oQtT/iGssF6kMyrH2zgsAxs+EdCH2QQOcpbTWLdJpc1XMurMYScwqJPjbXgIe/bsKQsjxgANbx5KLIYLO5icnpVM7RWEBQsKdXb8EO2BZx/HTNBrozWUdnJIwxwtgmGIk8U/PvQ5nnQEMROT8b3jjjuK5M3G21CaMEbD3N/RIHIiyDGJctm1a9eE81jZZQo6MYuxTHRhZG5zehU1PvzKN4oxYdkYrmEBedeyZcsifYFMSnQx9IMihEJNfa9IzrVYIUrIf5/hnAj7vGRu4TSlNo23byI1nDo4uGkYoUTcrFixIu7GRoV5HxrzMhanOQ7ye+65J6nds1wF/YX0RWRjUN/kSqPuhFLg+OSkHCLf/H3EnEjXhhuydMCAAcUMXBxIHHcfdtiMoR+8fZPqRoQajtlYnCfDhw8PvEdS2VhnSf3Kp8gB9PzZs2cnFWFPY10ibcasVUaPCHLm8DhZG1xXsWLFqBsTsTbkPWnHYYT7kRT5TK556DSJpFtRSwm5Gsnu5/EHH3zQvTr/yKgzB487KVD+Y3PjbUxQdnmDIJ8dD5zf2EukIfARsCYlCmMSwU7UAX/Liy++GNeig8AmXDPMUTlAyGQ0jznOOsLtAGMPzzBHOAZdG0tDScJbT8SCUhT6l74J6jcWUXawiKCIl1Q7c3AqsXMZaV5zz5DGE6ZID+QRURL+Qtbs/CYDRiu1wUxdEBwNyaZmsMh6vyMN+Rp2Zw5/P9FxsThSghrzgXs/kRb0frE0oncWLFjg/gXhgejfVOgVpd2oURfm6Cpgww9jMGgesB76D9hINUSpB9VgQeYSeRDWVDiM8yDHfzoaY099t2hQe5Mo0qDXp7pRCDmfoshx+EdK101FQ38gywG8zpx0NCJG0IPzMRUuEkR9k6GS6TWPeXnZZZeVODf9UFYFez2S4ynfnTkZPQ/RmdjW+eefb11zzTVyxFyiOIqvHD/sxTFsrIcffliOnuM4Xceoc59JHMeokaMqOY4cdtppJ+uUU06xJkyYIEecz5w503IMzJj/lhYtWlidO3e2dt99d/eRcPH3339bb731lhxx99VXX7mPFscxcKwpU6ZI++OPP6xq1arJ0bwTJ060HEWr2NiXxF9//WXNnz9fjpLlvZVtOILa6tatm9zXfhz5IEdKclTx/fffbzmLc1ztz4AjHZmXjsIWeH2ktmLFCmvIkCHW0qVLA+d12bJlrWuvvdbac889RTbkK/ztHO9Jn3BsNPPAWWzlmPl99tlH2sUXX2zVr1/ffUViMF9eeOEFmXupguNEO3ToUPg9zXdlvJAL/D3cF2EEmcRcSwTuCV6fSEsUPjPR75urvPvuu9Z9990XKH9yjY8//lj+HuZ5GEHecOQwR4L75wE63rHHHivH9KeTI4880rruuuusM888032kAGTuE088IWvuL7/84j4aDpAprANvvvlmRv52xh69YfPmze4jReH5N954Q+ZLJnjvvfcifpdchPFMZp0pCWOfXXLJJda9996bVv3hhx9+ENvln3/+cR/Jb9DdORp+1apVGV/zuGdee+016fNYPxv7n3sAm/x///uf+2hR+JuwKZH7rAH5xnbOhMu4Vsak6N69u/XOO+8kdKPst99+4rhp3bq1/M7APPPMM3IW/qZNm+SxVFKlShX5riz00KBBA+v111+3dtttN6tGjRoihEtafHbddVfrpptuku8YRszCOHr0aGvWrFnuo5HByEOpGjp0qDjB6GvgPa6//npr9erVMjnjUUh79OhhXX311aKo4cRQCrj77rvFCYrjJhKVK1e2Tj31VPe3kmG8WQj874kjs3Hjxta+++7rPlIyOP4Q7pHGmvc844wz5G/AsZGPY4uY/u6776wHH3zQ+uSTT8QZghJz+OGHi6PS9E2tWrVEXiXTBzg9eV+zKJ5wwgniSMNplgzr16+31q5d6/5mWfXq1ZPx2rhxo/Xkk09ae+yxh3XDDTfIeOazU84L61/Tpk2tV155xX0k+znkkEOsRx55xDrrrLPcR/KfxYsXy0ZUOmDuspb5VTF0BjbAUs0OO+xg1axZ0xoxYoR10kknhWauAX28Zs0a68477xTF38uOO+5o1alTx7rrrrukX4y+l06Qd6NGjSq28cHcYgMFORyW8UGPnzRpktyXn332mftoemFDhLnNZhbzwguOFfQKjNpMgF3z6KOPir6bDzoMm06s7+l06GSSdu3ayUY+m4b5DA6rl19+2Ro5cqT8Wxqg3/bu3VvaoYce6j4amc8//9y68MILxeYoiYYNG4rjB702nygVZw5etLlz51oDBgwQwyFeGNxnn31WFBJgIRw2bFhhBE2qwbjg+yLYwThz4oFdmD59+lgVKlRwHwkX69ats6644gqJsojHK3rYYYeJcsVENbC4fvnll2K8P/XUU+6jJYNDiJ0wnBdHHHGE+6hyzjnnWPPmzXN/y01QeIlIIeorH8cWxWj48OGyY0t0DkooTjHu5eOOO869KjWky5njh11YFNeffvpJHFQYUzjocRSkw4jNRtSZkxuwWYPTMR3gVMBJ64+EI4LZbFilg6OPPtraf//93d/CATINXYz+9ushOHCmTp0qmz2ZcqDgtMCxhFz3gjHTqVMnec5sZOU73P9stjE2mQKnCdHerK3HH3+8+2gB6Kw4efyOtnSB85B7D12sYsWK7qO5izpzchM2zHv16iXRm6U5dnvvvbd13nnnSeBGSY51Ir9ffPFF0Y1jYcGCBcWiInMenDmlAQVuOQaVrxBvoyYOld8NzkIo+ZNB16aqeatgUxSZCudB1wW1G2+8UepQhBVHqMtJVYkWIyMXlhN7ON3K4AgZOSnn/vvvjyu/2jGC7QYNGoTmxKNYcAzqwL7KtcbY5utJLdzrbdu2LfL3Us+IYraphkJy3rzjVNTMCYL6AI4yXeRvYgzJlw6LvESONWrUqEgfZHuj7hVrt5IaKMIbVLTRu94pqYE6Y+3bty/W1zRqV5UGHKgRVBOQe8IxUtyr8p/evXtnpFaOv1FIfvny5e63KICTzDj6ersEa5kl2vi8WE/ZynYonhtUkyoXG4drME9Zr/Md6uGlu+B3rI1+j2arcWIqtc92ivO0NHwIs2bNct8lPyi1WD52GypVqmSVL18+7l0QctePOuoo+ZkdM3InCUlmx9A0nr/jjjskP87fxo4dW+Ra0w444ICIHkBCzmbPni0/4zUnOojPLIkyZcpIpABexrBB+Pjbb78tOx9E0ySab0p6CV5iInSoUcROJrs4jBfectJMHnvsscJxZFcrEuyykJPdrFkzSckjLzMsebBBMHf8O8KK4oUd7EQiKBOBSBXuR2dtch9RFEVJHvQIwusXLVrkPlIAkdfnnnuupICXBgceeKDVsmVL0V28bN26VSIWv//+e/eR/AVd8dNPPy2VOkHUTyK1i88H9MGvv/5a0qwyvQ7xeR07dpTSDbkOtg/1n9DTcxmioMkQwFbNxxR+A7YRGSfUkUL2ZAMbNmyQ+YDsDirJwnzhu8Y7T4nQzDe7b4dbHNyfMw6ThEJwpN7EMyAIXiMgqJXz+++/Sw2eVq1aFTYWR9KiKJ7LRPQ26n8QUuu9nla7dm0x7nEuEUrHgJsbiPAtQi4pOAoUPcbBQLHlSJCWQKgsNyPOnEyF7mYDCAZy03GokXcZNBHjgXuDtAwWWJwwhIdzD1B7BecaY0r9IsaR31mY6XPyoP3OCiYx7/P+++/LoknqG+GgYRofA2k6zz33nMyhXIc0HcJDUY7zDWQRcpLFjdBX/lacxBghKBmphDRYHN5msWMuM1+8qY6pgPedNm1aEdmPfCZlFke/v4ZBPsLfTVG+TNWISAV77bWXyFnWbiV5yPNnjfSn/ZCCiE6iJA96HSkSpAeSom1gQ440Yw5YKK2+Ru9Av1y+fHmR7wbIfb47+mo+1xJDj0YOsq6ht8XaTOovawnQP2zmoQMEXR/UqNWGvt+8eXOpW/Ptt9/Kd6EOB30e9JpIjc/36pvxfhcauhhrbTKHxGQDOD5YK3CeItu4l+M1urMB0tmpbeV3tuYb2LOkOWK3Zcs4Ma+Zhzh5GzVqVCz9Hh2R1MSXXnoprgLY+AvwEeRTmnGp1MzxgsFApMXAgQNFoEf7OghKBC8GDUo/sPghNDDqIxVIjQXjcaXYKkIHz/zll19eeAISn40TqV+/fnIdBgiOGmrpBEGED6e3kPOcj8ZlNBhDol8o9kytjXhq5MQKkVE462688UZZ9Fh0DUx8jE/g3iIfnQUWh5LXQQcs4kTpjBs3ThbyknIz8w2cAdSfygdwDnO/UQQ43xwByEkKCPft21fkH45MnB4YIt57P1mYGzgWqMPjVUpxdrI7kkr4m4iqu+qqq8RgAeoWLFmyRMYyDNDfWjMn3BBpTFF//24oaxJ19pTkQReh9gKRqF5wktD/yJ3SrIXBRhWbKhS19+tLyPdLL73UYt8V4zgfwYER7QCGSNBXjCsNcM6xRnbp0kV+jxUTfcHrWfcwII2DKB4oYDxmzBj3N0vqgmInxAuO8lSu66UFNhmngWEP4BBBN6df02ETpBIyR3AsAge2mHqp+Qy6Mw7NbNvYxfYmkII6N/66jdiarJvo/PEUKmfz/5577hH7J2/AmVPaOAqt7Rjd9sEHHxw1R5Wz/r/55hu5nuYYA7YjFCQP+uabb5a8uUTbUUcdZa9Zs0bezzRH6Egjf5YcQuqz8LnAZ5533nmB35M8UfJ/+X5hg795y5YtkoccbSxN4xp/o7aOv5ZGUOMaZ/G1HUHrfnpxyHF1FhRpGzdutB3lTd7f2xh/aoQ4C7H7qnDAvdyqVavAvs3V5ijl9urVq92/MP9ALnEv86+RRanEWRAD64GVK1fOvSK18DeYvymdf1e2ojVzwgH3dKQ2duzYwJo5Rt+I1JTYcQzqYv1LM/oGtWmQPaahx6Syv/3vRTP6K23JkiWiMwV9R9r5558vNcaUoqCf33TTTYX9tPvuu9t33323+2zmufPOO4uMm2Mwus+EG+531nfqZ/bp06eYDh5Pw77y9rG3mfmcbHvqqacKdRK+exhAF1m5cqX0r9cei6cFjQkt6NpYGjYechEZ6R8Hfud+qlSpklwb9LnR2sSJE/OqBlKpR+YYCO3nyHI87ORZ+r8W4YccDcpxjXjPuZY6Nhx1S+QMldM5FSVRHINeIjzMjjD5npwkwb/s2HCMLt56POY0vIF4/+fMmVP4XZ0bSk7YYqeZXUt2s8MEu0vTp0+XnQl2950J6D4TDCFzeEa9ObU81q1bN9ml4tSJaNStW1fq6OBljSUEku9DpFWkHRe+R77ufPmhL4gGIKySSI98gePsCZFmx1WJH1IYqUOFfPWSjsgcpSAyh8hAjsfNkqW4REhLJWUl706DSCPU26M2RxDsiD7//PPFIovbtm1rnXrqqe5vRUEHOf3000MTwZYsF198sZxUFWmOoeN501rY6UW/MKAHki7vGHruI7HB5xFxQhoAc93La6+9JicmARHDyNdIOlP16tUlZR1Zga6qFMCcuf32263bbrtNfieahVNtOQmuNEAfHTRokPubJbv/2ANKAcwBouOwFRKFSB9sBLIn/HDSMMfbJwuyoDQj9UoLotKWLVsmJ0NFspOiwTpGnS8v2HREH5s6t/FACQFSDjld1Qvfk4yCBx54QL7vP25JgHigHAenZRE9R6ZHrpM1zhwDxd7IjfMeA4qBTY4bhiedjuOGFKjHH3/cvSK9kFfHYkxNFgOLLp+P8KbuCo4cFlwcTJxjH9YFl36h3kYkpcQLiiiG48EHH+w+sg3CVQk5jkaTJk2k8HE+TMRMgzOSo+JTsfBlE+rMSQ515mQWlt8nn3xS0kDYLMh22EhBLmMs+RUsJTKsVaQPpoo2bdpYEydOLBZ2rgTD5hBpqStXrnQfiQ90UOqxxevMAWrzYXj4nTnxwMYiDlTKCSjbUGdO+GA+4dQMco6zwUA6jlI6EHDhLz3CGoXs4vjwVEHgBqmnlNFIBuQ6dXfxOeQ6WefMARwnOEiIwsG4wDuH0clExWlCbR0iOvwGRzqhCBZ1JNjhMYYi9XV69+4tCzX1dMjrw5HDdwwz8Sgt9FVQf6kzJ73kqzOHCD6cEUOGDEl5YeAwoM6czIO85JQ+dpiyHeYXspn1N+zrXDxQGypoJzlRKBDOLrS/IKQSDHMMRw6RMOgMb7zxhvtM7Ji6ivGCip2omk2Re+opMd5EaWkkVlHUmRM+1JmTvWTKmYMc57PMCXSJQtAF8hV7IdfrbGblOWsUm8LrRoQHBhlG5wknnFCoPBJumunTP9hVIwWMY9s++OADeYxK9VdeeaUotxRdw7unCm6B0hNr0/5SUgkF9khbKI0jTvMZTlshHJWoSCW1IAcxAE488cSslod8TwyTbP+e2cjZZ58tc4ejX0mvSaaRokAakDpyYod7l1T5nj17isGNzoYTAAWexvMlgUMokRaLI4fPN9+F8H+KMvMdOUqdqHTSFNSRoyhK2CHQA30pWUcOkEGCc581IechMiebefjhh+0vv/xSfnYWRtsxKmxnsWN1LLW2YMGCUBY3ziSTJk0K7Htva9Kkif3FF1+4r1Di4aeffrI7d+4c2K+53qpWrSrFrpX4oBjcunXr7OrVqwf26+GHH14oi5XUwnoyZcoUKT5dpkyZhAr6paPxPSgyz3e68sorVd4mwdSpUyPOrXha8+bNdR6mgO+//14K1tK6desm97i3pXMO7rzzzoWfs88++0iBY/NdKMy5detW91sq0aAA8u23317YlwceeKB97733us9mHgoem+9Co4i5klocY96uUKFC4Lw688wz3auU0iDoUKCyZcvaM2bMcK9InldffbXIHAtqe+65Z+EhOkZ/idbOPvts991zl6xMs4oEu8MUxaUmBgWTSwuKGxM+WaVKFfcRJdVomlX6oFgYuaaEFpJWk29UrVpV/j7q5yixQ72yu+++W46dDiomT40UIgOCalwpyUMRVNI/qJ1DfbhkCvqnCo5oveiiiyTqtEWLFlI/TkkMjnwlyoJDApKBKB/C1nUepg7mHAcCGNixJSKcQpt+4lWZg6LYmEsU36QGD9E4HJxBGr8SH0Q+vfPOO4WFpOlPaluWVl9ymMSaNWvc3yyrdu3aoo8oqUPTrLKXTKRZka68cOFC97dgWGuHDh1qffvtt1Ism/In0aDgNfdOLpNTzpwffvhBHChUQy9tCNklNKt+/fruI0oqUWdO+iDP/JZbbrGGDx/uPpJfqDMnMQhb5YQ+UkGCUGdO5mAMUFZxrmWyNpwX0lBY3ziFIpbTApXopMKZwzjweoxETbtJHzgJSNflpFQ/69evt0aNGiW1G0ti/PjxUvfGz2GHHSaPa7qiosSHOnOyl0zVzCkJyiycfPLJslnNZ/fo0cN9Jn/JGWcO3jgiCSZPnhzzMWQUN2LXw4AAoBZPmTJl3EcSB4OYxZ4oHe8RlkpqUGdO+sh3Zw5FEPHEU3RUiR115mQXHA364YcfSv0MTk7EwASiBoKMzETBoGStpG4HDoKuXbvKaUnsbuvpOakjFc4cHGurVq2SQtRK6UDNIowEIulKgvpSe+yxh/uboijJos6c7OXdd9+V7JlFixbJ72SwUO+WdYtDNDKFOnOyGAoed+zY0Vq+fLn7SHHwABIWDvzLqSycMGWgsBwGCYswR6wmoxChTHPjHnDAARKipaQWdeakD4xBdvwprpivsIO9evVq9zclFtSZk51QcJ9mluqnn35aUkK8Dh02OIhcjQZOG5wzOG68VKhQQUKRGVc2P4hoC4omUJIDvYMDE6ZOnRqYvhML6sxRFCXMqDMnuyGS2IwNJy6WxobQr7/+ajVv3tz65JNPJIqyQ4cO7jP5S044czhGmbQJjh/8+OOP3UcL4LhGdhDZVeRfHDZA7my1atWKGPooxOyKkdOKA6Zz584SVcO1Snahzpz0wQ4/O/75WC/HgDP39NNPd39TYkGdObkBmwiMlXfppp4ckaLRwFFTp06dYo4ANkGo2ZGKiFUlMjjfXn31VevGG2+0VqxY4T4aH+rMURQlzKgzRykJNqzRVfEdVK9evdAvkM/khDOHFKvLLrvMmjdvnihEOG4YIOrWtGrVqjDNiWgb/66jl2nTpsnR4hRFwoFz+eWXS10A0jKU7EKdOYqSWUpy5lD8ll0O8qLV8M8ucNCiuJQEa5039VjJLOgevXv3tubMmeM+Ejs43fr3728NHDiwMAJZURQlTKgzR1GKs737b1aDv4mwZOPIOeecc+S0j/vvv18mNYYFLZojB/DWUYcACEsn7DkHfFmKoihpB1kYTR6SxsNJgtlwypJSsIZxistTTz0lqVfUiCqpEeHK9TgTTA0eJbOgwyQCNQduvvlmdeQoihJqkKGRmqKEkZy684m8Yed40qRJVqdOndxHE2fjxo3W2rVr1aGjKEroIWrgm2++cX9Tsh1qQg0aNEhqw8XbWD8ffvhhSc9SMgeOmNNOO00LSyuKoiQAKabt27e3evbsWaxRJ0VRwkhOpFlNnDhRQuoIESc1KtGdKVJ3iOih0rWBE7JoGnqeXWialaJklnfeeceaPXu2+1swlStXts4991yt2ZEFUEOOtSsZKBDImCqZg9OQKAzJEdfxcOSRR+Z1nTNFURRFUeInJyJzMNYvvvhi66qrrtIQY0VRlDRw/PHHW4MHD47aOBWA2h2KoiiKoiiKopQuOXM0ebJ8/vnncv793LlzixwLevbZZ0v9gJ133tl9RMkGNDJHURQlMi+99JJ16623yulG8ULKcr9+/eRAgH322cd9VMkE6B8TJkyIO6WR1KxrrrnG/U1RFEVRFCVEzhyOBG3dunWxEz9QZAk114if7EKdOYqiKJGhADLr2rJly9xHYof1bsCAAe5viqIoiqIoSi4SGmcOu2Avv/yynGjlZZdddrEuvPBCrZmTZagzR1EURVEURVEURVGCCY0zR8ktNm/eLCeNRWP//fe3TjzxREkZUBRFURRFURRFUZSwoM4cRVEURVEURVEURVGUHCInTrNSFEVRFEVRFEVRFEVRClBnjqIoiqIoiqIoiqIoSg6hzhxFURRFURRFURRFUZQcQp05iqIoiqIoiqIoiqIoOYQ6cxRFURRFURRFURRFUXIIdeYoiqIoiqIoiqIoiqLkEOrMURRFURRFURRFURRFySHUmaMoiqIoiqIoiqIoipJDqDNHURRFURRFURRFURQlh1BnjqIoiqIoiqIoiqIoSg6hzhxFURRFURRFURRFUZQcQp05iqIoiqIoiqIoiqIoOYQ6cxRFURRFURRFURRFUXIIdeYoiqIoiqIoiqIoiqLkEOrMURRFURRFURRFURRFySHUmaMoiqIoiqIoiqIoipJDqDNHURRFURRFURRFURQlh1BnjqIoiqIoiqIoiqIoSg6hzhxFURRFURRFURRFUZQcQp05iqIoiqIoiqIoiqIoOYQ6cxRFURRFURRFURRFUXIIdeYoiqIoiqIoiqIoiqLkEOrMURRFURRFURRFURRFySHUmaMoiqIoiqIoiqIoipJDqDNHURRFURRFURRFURQlh1BnjqIoiqIoiqIoiqIoSg6hzhxFURRFURRFURRFUZQcQp05iqIoiqIoiqIoiqIoOYQ6cxRFURRFURRFURRFUXIIdeYoiqIoiqIoiqIoiqLkEOrMURRFURRFURRFURRFySHUmaMoiqIoiqIoiqIoipJDqDNHURRFURRFURRFURQlh1BnjqIoiqIoiqIoiqIoSg6hzhxFURRFURRFURRFUZQcQp05iqIoiqIoiqIoiqIoOYQ6cxRFURRFURRFURRFUXIIdeYoiqIoiqIoiqIoiqLkEOrMURRFURRFURRFURRFySHUmaMoiqIoiqIoiqIoipJDqDNHURRFURRFURRFURQlh1BnjqIoiqIoiqIoiqIoSg6hzhxFURRFURRFURRFUZQcQp05iqIoiqIoiqIoiqIoOYQ6cxRFURRFURRFURRFUXIIdeYoiqIoiqIoiqIoiqLkEOrMURRFURRFURRFURRFySHUmaMoiqIoiqIoiqIoipJDqDNHURRFURRFURRFURQlh1BnjqIoiqIoiqIoiqIoSg6hzhxFURRFURRFURRFUZQcQp05iqIoiqIoiqIoiqIoOYQ6cxRFURRFURRFURRFUXIIdeYoiqIoiqIoiqIoiqLkEOrMURRFURRFURRFURRFySHUmaMoiqIoiqIoiqIoipJDqDNHURRFURRFURRFURQlh1BnjqIoiqIoiqIoiqIoSg6hzhxFURRFURRFURRFUZQcQp05iqIoiqIoiqIoiqIoOYQ6cxRFURRFURRFURRFUXIIdeYoiqIoiqIoiqIoiqLkENvZDu7PaeX//u//rB9//NH6888/rUMOOcTabrvt3Ge28ccff1jffPONVa5cOWuPPfZwH1VKm7///lvGbrfddrPKli3rPloUrvn999/l31133VXajjvu6D6rlBbMqe+//97ae++9rTJlyriPboN5yTX//vuvtcMOO1g777yzjlsWgFj+73//a/3666/WwQcfbG2/fXS/+9atW60ffvhB5ictSL4qmYGx+/nnn0UW7r///jKvgLnGOP3zzz8yPlzHY8DvPL777rtbe+65pzymZB7GDHmJHGTsIsHYsSYytshWnW+lD+vYTz/9JPLP6I/ML8bUO8/Mv94x4+eddtrJ/U3JJMyl3377TcaufPnyMvf8cA3ji4xkLeQaHa/Sh3nFuKE/HnDAAYFykPnH2GH7MWascTp2pQ9z6n//+5+MDXMKm22XXXYJHEPGGfvul19+KdRTkLNcr2QHGXHmMImXL19ujRs3zvrPf/5jPf/880VuAr7C119/bU2fPt2aOHGiNXLkSKt58+aBN5WSWZjszz33nDVhwgSrXbt2Vrdu3YoYlozd559/bs2fP9966623ZLIfeOCBVp06dawzzjhDftZxzDyMC47RadOmWbNnz7b69+9vXXjhhe6zBc9/99131qpVq6xXX31VHAc4e4477jirYcOGVqVKlUp0ICjpgbF5//33Zc698cYb1oIXF1hl9izuiDPgILjrrrusZ5991urYsaPVr18/WZiVzPPXX39Zb775pnXfffeJsnP77bfL5gTgJHj44YdlbHGYouQaQxPldutvW62WrVpaXbp0CTRolPSC45R17KGHHrJOPfVUGbsgMFxY68aMGWNVq1bNuvzyy3XzqZTBsTZt6jRrztw51sCBA0V/hM8++8x6+umnrW+//bbQCYDuaZwBPIZ+gnHC+ohjTskczKUPPvjAeuSRR6xly5ZZkydPto499lj32QKYlytXrrReeeUV2bBgbUNPadmypWx0KKUDY8e43H///SL/HnzwwSJOGtY11jr0y3feeUfWv73K7mXVq1vPOvPMM61DDz1UbYNSAn0fm/yll16yvvzySxm3o446ymrWrJlVq1atIhu62O/oNNgR2AvY8JUrV7aaNGlidejQQZx4ShbgGA5p5ffff7cd5cg+4YQT7B122MF2lB/7f//7n/tsAR9++KHdvXt321lIcSzZc+fOtR1B4D6rlBaO8LWvvfZau0KFCjIuI0eOtB0B7j5ry89LliyxHQFgly9f3q5Xr559wQUX2IcffrjtLLL2oEGD7F9++cW9WskUzJ1169bZjmFvOwalveeee9rjx493ny3g66+/tq+44gq7YsWK0ho2bChz9JBDDpFx3Lx5s3ulkkkYu4ULF9rOQmk7BoZ94IEH2s7i6T5bnL///lvm5W677WY7hol9ySWX2I7y6z6rZBJHQZK17vjjj7cdJdU+//zzZZ4ZHENEHkOWMt/OO+882zEgpbVu3dq+9NJL7QULFth//fWX+wolU7BODR48WGQh8+jyyy93nykKa55jVNo1a9YUWTljxgzbUXbdZ5VMY9a69u3b2/vss49dpkwZ++mnn5bHaW+99ZbtGI72YYcdJnoM/6KfHHHEEdL2339/eQ1z9ttvv3XfVckE//zzj71o0SK7adOm9i677GI7xr29du1a99kCWMtGjx5tV61a1XaMTLtr165yPde2bdvW/vU/utaVBsi8CRMmiD2300472S1btiwmB7ENTj75ZLmmV69e9i233CJ6DXKTcdyyZYt7pZJJvvzyS/u6666zK1eubFeqVMlu1aqVfeqpp9r77befXaNGDfvVV18V2Qn8i05y4okn2uXKlRP9knWyUaNG9gEHHGBffPHF9k8//STXKqVL2p05ixcvlpuECY+ShBL0xx9/uM8WOHt69OghzxtnznPPPVd4MymlAwstjpydd95ZFlqMk7vvvruIM2fTpk2iIDFuLLgYLhg0GzZssE8//XRRrtasWeNerWQKjEYMxB133NHedddd7T322EOMTC+MHWPUuXNn++OPP7Z//vlnGb8bb7xR5uDw4cN1DpYCn376qX3QQQfJvGPscIpGc+asWLFCDBIWZeabOnNKB+bKrFmzxMjAecrcw3HzzTffuFfY9tatW+0OHTqIgxUDlHFlrEzjeeSuklkYuyFDhohDlLWOTac+ffq4zxaFcatdu7ashxMnTlRHTinDWteiRQsZM/QQ5hbz0KxdOLtZ27777jtpOGxY59isePPNN0Uf3WuvvexHHnmkiG6jpB+M+ZNOOkk2LZh3ONqYX15WrVplV6lSxe7Zs6eM9W+//SYyFecAes3MmTPdK5VMwdyaNm2azDfmHWPHxoRXFmLgY/CzGTV//nxZ29ik+Oqrr+wrrrhSdBWcO0pmYQzY/EO/RP9/9913RQ9hbqHzY6PjoGGeAbLTjOPUqVNlHBln5i7X8T733nuv6i1ZQNrzKMg77969u/XUU09ZjuEvYZJeyDmvUaOGNXbsWKtvv77yGDl8SulC+GPVqlWtK6+8UtLf9t13XwmrdO4Z9wpLQpI7depkPfrooxJq7hihUu/h6KOPthxBISlXOpaZh5DJunXrSkpH79695THvuMHhhx8uYZOk8vAzY8n4cb2jPFkffvihjl0pQF0qRzGSsSPsn9orkfjiiy8kvQpuuukmCZNVSg/qPXTu3Nl67bXXJAzZUXok1NzAfKJVrFhRUq+Yk4Qs05CtjD3roZJZWOtI7bjuuuusYcOGWY6hIamLfr7++muZb+gwjz32mOUos5oOV8rQ/6QFjx492ho1apTML+adgXQB1jbmG42UANY50r8ff/xxSQMhLfWiiy7StOIMg7w7++yzLcdIlJR8Uvqpx2FAdpJmjB7ZunVra7/99pN0HsauevXqMs7oKX7dRkkvyEtsOfSTqdOmSqopeop3HD799FPr7bfftlq1amU1bdq0sE4Oa2SvXj3FRnjyySdl7VMyB2N3wgknWMOHD7eeeOIJsfH22msvmVvnn3++/Mt8Yy7CyhUrZQ5eccUV1gUXXCDjiMyl7u3gwYMlZRX7kHo6SumS9tXr+OOPFwWJG4gbCUXJCzcGBmSPHj2sHXcoyNPjBlFKFxQbajeMGDFCHDnWdgWON8bQgKOOscX49OZYIqDXrFkjzzP5lcyCcEb4Mn6MC2PmNxIZX2rkmLnGQkwRQmpBUNAOp5x3TJXMgKJKvZVzzz1Xxo26K0FgbGKMkLN+9dVXi/NUldrSg7GiThh1VnDkAGub10BkzMhV5/EFCxZY1157rdW+fXupRXbVVVdZixcvLlSilMzCGKCcYugzj4Jq4DBmixYtkg0OrsfY1DlXurCGUQ+O9Q5Yz5hf0WDMGEcccnXr1RUHbNB4K+kFvXLIkCFSpwP9hFo4fp2DmmKMl9e5ihMHhyqPq45SOpx22mlSK6f6CdVFDqJzem0DnKSMXf369YvU0QHqMeKM++ijj6JuVimph/nCfENnNLX8gDFcu3at6P44vNH/mV8zZ82U8UK/9MtVdFXsempzfvLJJ+6jSmmRdmeOMSRRYvG6c2P4QeHlOgqygjgPMgReR6KC7rnnHmns8GzevNl9NtwwbowNzplddt4l8DQkPyy648ePt5YsWSJCgyJnSuZh3NjtZ94hwL2C2wvXrF+/3nrggQesQYMGSUOw40zwL8JKZmC8UFiZS+xkeR0CBpylFIs/8cQTrUsuuaSYs07JPKxhRl4yh1jHvMYGO14orxT8ZJ6tWLFCnAe0pUuXikFKAV7mpJJ5GD/mHP1/xBFHuI8WwOMzZsyQHWmUWvSEO+64w5o0aZIYJTpmpYeZYxRBxggpaQOJAxsYP2Rm78t6S5SA1xBVMgdjgAOb+YVDwDt2jMlJJ50kkVUcioLz7a01b4meTjTAkUceKUamjl3pgH5IJBzjxxrm1VOYk4zLV199JWuhF65DhvI8Dh+ldMEupxgykY3MNaLlcIpjO1DwGJs96ARqZC2FyLlu06ZN7qNKaZF2Z44BBZebhl3LIOMECGMGbqh0C2iUatKDhg4dKuHVprE7d9ttt0lECp5KpaCv2DXBOIk2LlRFZ6eZ/kPpZbeZsL10wUIwa9Ys65ZbbonY2O32LyZhgf5h7FhYcQoE8fHHH8vJLddcc4044YBTkRo1aiQ/K6UDzpxff/1VlCSvQwCIoGJHk2v69OmjpwlkGexusdYhL71RpoQiY7QwfqRBzp07VwyUKVOmiFOAzQycOYy7knlYJ+h7xs7vzEFOEs2xbt06iai69dZbrTvvvFNSdNi04DmldOHEKgwMWiQYW+YdRgrRBeecc05EfVTJDMhEZCNRqDh0DOiaOHN69eol6VSXXXaZ1ahxI+vmm2+W50gTJ8Ij1eCYZT4bHZLT7bhvlOLgyGHs0C+9tkHNmjXF2cO6xtgZ6FvsKjYy6FPveCuZx9hQbAiyQUi5jLPOOkvG0qRboYMGyVQcsThfWTc5xTOVcG+wwUW6nhIbGVvFUHC5cYjUCFo8uSG4ebhB0hkRwE3CUZUo0eS/v/DCC+Jd5makYSBxTCIOCXa+NUqnYOwwKHGyBcGEX7hwoRyL/Prrr8uRdRxTyBF30Zw/iUL4H4sBO6J8L+ox4ZTzNpRthAHPk7vL0Yhhc+pwr3McJH1AylsQzEc88oSaUysHhyp9l6mwScZSd7WLw5zCsCSiyuvM4TFSeYgoJGedyByUYa7n/qYvkbMl3es8j8JKvQIaxg33Cy2V88SML98RmWs+jyODeS4fIUKAMcA48YYm49ghNJkaAqwt7CyjDNHq1asnDlScBSZCNdXQ32aMUz3O+QD9gQ7C2LEZ4QVnDlBfDOMSHYE0AzYv0BlIvdqyZYtco5QORAEwl0iZiqR3sB5yHC8y6YYbbpBNqnTDZ3nnHY3H8lX+xQtrA+saBqM/+hvHN5uEgFHZuHFj2RBmrKn7gQ6Yjn7EBjE1zIhafu6558R5xOagGT+lQE9ho54NJe+cI5rj0ksvFQcruiWRcNRoQTdHZuLQoU5ZOucf8pyocyIqZ86cKZsmyHFd9wr6hvWKOcTaxe9EvF1//fXFxoR7PajPjG7HuDNPUglrMNFC1IU0v3PPkNKlBJNxZ44/HM9gHCo8793NTCUoXUxohAx51uR1RgJv8+TJk6UuBa8LMxgnTFZ/XizQTxgm7FAyxkQMYKydcsopERWqZCGsb+DAgbJAUJPJv4sK3GPUsEBBwPjleoRDmEDpQBFi7Py1qgwov9Srok4LHnoKQaLs0rf0c7ohcginAt9V2QZKEoYl42YWSuQnDhGcb9zfGzdulJ1DFmAc04w1jsu7R94tTupoSgv9fe+990pdJRrRBrwH0QYbNmxImYKMTEAeEOnI7o/5PAo25+vCjLxkPUP2eDcmUF7HjBkja4rfucoY8zyvw7hJB+xyMb6mvfvuu+4zCnDPM3boId60VB5fvXq1OOKoEce9jEHCwQ6kaHM/oxgjN9NhWCqxwUYEBjhrWhDIQ3afMfBIJaD4Z7rhXmKzyTvvaMgAjGBlmzOHsfMakowXfUdftWnTRhwq06ZNk81Y5hwFdNE3U62nIIspqk0qLHojui01ethAJHKfdXLevHnq0HEwzhzWOq++z7qHXkK2A5vA6BroGDjDcPQw1ieffHJaa1Vh/KNnYMehD1Gwnqgu9Jsww7ziXqZW7d133y3Fx9Er+d27+cRmFLY49z7j7Ae7GGcdczbV0eFsLtIMfBalO9gEVILJmDMHgYvwi7RrwqLH8xgv/kJLyYKCxYLBQnDjjTeKARkL7ApMfnSynPgTZsxi6Y+YQiiwW4Gz5OCDDxZDBYGQztQqYCyXLVsm0UBEkLBo4DzyQjTDmWeeKcrbK6+8Yr344osSNRQmuO+5h5lv3uiOIBDIxxxzjBRGO+yww0SQmh2xdMJcxAiK5ngIIzhbWMAYFyMvGU8UTdIDOAEQRwlGJqcnEYWGUsXO0xNPPiELX7Q+Zbfxvffec3+z5D3YqUb5YT4ZxStR+K7IWpRhFGBkhNfQRRajCOQjzDkcb8w571qHYkRaAE4BP/QNjhxIR9oH9wfGCWNiGor2yy+/7F6hMAaMG//65SXKLAYI65xXPyGSgKgqxpkogXQ7pdndZm7S2FGNVZcJA4wdYxNprUOeojegP+BY9u9ApwN2u5Gr3nlHQyZi4CoFur/Iyx2KykvGCx2PKDnqibFxx3zj9CT0FFJ73nzzzbSmYiCzicTr2bOnNWDAAJGh6MHIThwEYd+EQlbSvONmwBlA+j4nc7KJzqYOm4bUWcHhyulJJemlicD3IRIfXYbIc5yn/IwTkHuNuYd+FFawmaj3RnQ3m4H0D2nffvuOzXvmGJtuQY5n5CiOceZkqk5SZewA+wOd1AtrHfePOsGDyZgzZ8edCgR1JAMDI4XnI4V0JQPvR1g0O9rx7gZv+miThFPjwTQ3WthgkkeKpqJfGDvC9QiBTVdUlYGFG0HEZxK5MG7cuMICXV64l1DAUX6NVxmHTjIGaq5BH5hx89+7KE/0i/9xUj8wWBDUKFPpgM+m1guNnRKcbShr/M54Mq5Kwfh5ZSGGCkolNR/YpXz++edlh5A6KzhHcMa1aNFCHmfHMpqixMk8JnXEC/cDzxFxQAQCToB4wZlBqh4LL7tiRub67zX+vnzEyMt41gvmIo5ndjhpqYIdb2o+YEDiePfCODNOzDsiupTI9ySpHUSh4oD0jys6C48x7qm+p5GVzHc2Sfr27SuRQWya0KhxRl06nmPOh92wpO8Zh0jzjhQr5sAZp59h1a5d2300vSCbKbjshzShRGRrPlKoozj/eUF2saGE88af9kgkAPV00FMytVvPZ+KAIE2WqH5SYlNtq+Qb2AOkprIBRb9hiFO8mjqNOMHTAXoNm0jcN2xM8S82AtFdRJyzERbWqFTWKvQMTq0luhS9G30/yL5DnhK1Q2QODiC/XKUECfYYm/eRIv/jhc8kEm/OnDnF1lLsAvRd1mGlOGl35nADoJDss3dBxA31AHACeIUgP2OcY3yg+BMJwmtSBc4YjER2oiMt9JHgek4f4T1IJ8KzGxYYFwx6CnnyM4ur18BnIqOoYESi7LKwMuEIVSdqgEkXb39HA4OHYmosBiiufB8cASyqFMfjGER22wifNgKB5813ZhcHby+vy3cQ2vRRxYoVZexYRI2yz3M4uVq2bCmCnd+B5/G0o0BxwkdQBEEqYOFAKWKBeOaZZ+Q7YPRzP1E4jx3wMIPswzAkPBlZyH1vxojH2QlhTpKqwxixGLODwnM4AoisKqmwIPdEpLnJc3wexgbGIwaJcYhGg2vYrcRxgLxlnkX7HBzB+RTyzN/J+sCOJPcw8o8+MX8/jgDkEook/QI8xzU4mkkDRYYxnsnAezKX6Fucchj+yD3zmQZ+Z4ypb0b0wKuvviqGkf+6MECfMe9MnSPuXcaSx1EqMTyQoStXriyyBqLLEPGJ7kJ0aKp2mpHF6B1E3hFFh0OOf7l3mJs0vseUKVPkOTZTqA3B+ojTIkyYvkBeMpeQmWatMzCO6APoJafUOSUjhVeJDmAM+Ww/PMYJMNRmDON8MzBOzDfG4w9nDH93xs+sdcwl9DlsBv9uPBsG6PM4CzJ9AABp/Ywbac7ovGEF+YhsZK1j/iELg+517m/G65Ulr1jdunUT45/U/nRF8DPHWU9xMHjvDb4rkTroTEHfMwwwt1gjsNGoucgYstbRZzhtmGde2xsHHNdic2EXMJY07HQiC/kZJ1mqohzRkRg70sCCxgidis0NpTg73EKcVRrhBsBQI6wNRYSFlhuB2jhMZoQ5g0eBKhROnuMGQ0ji0UXQJwo3A6FkhLpi8CcDNzmNPE+MqCBPZj5B36HcY3xgZCAACHPD643Bzbh89PFH1rSp00SYUzOAcWSHEAOdXV9yVln4UuG1RUlDWSUqBweSmegIHu4tlG2MXIQKUVgIGcI62QEzIMi4DygaS1ig3/ObL7CoEp5MDRwcWAhj5h2PMx4oSXjVyTnHWMCRSr0B5h/GH0oKYczsnqSjj5g7zG3Gih0CFhEWWCLnqHOU7uiubIZxQl6a+YMiSxE4HDU4TCPBgkx9AfqR0whK6kPmRlCRa8abQrxE2bGjxZxiTjPfcBjxexB8T+YnTgHGlzmGnOB+4/4LUnoxdnAopipEtzShf0izQV4iN5EzKLDIRaLdcBIwr9gpRE7ijMPoZoeXcePoXfoXpzTO8UTnHesp/UpqAEY+csBERkUDuc73wvl9wgknSM0Y5EJYwKFMdBtpOMhGxo51hh1d7nnmE1GdOMhYz4gERQHGQYBDhXudtKdUKLXMZT7L1AXhvjEGbiSQEbyG78PP1F/KxKmgpQ1rGg5kZA9rGfONcUHecB+bvx+5Sp1ExodINMY1naD3Mq+JoIwE+iTzv23bthEPl8hnmGP0EZsF6AHc9+gC6JYY3cw5nNI8j56H3sJrcJBhL3DqJkeTU7sqlToDuiOONmQCctHfGFv0JVJUcbyz8RUmWQn0A6cBs15wDzPfcK4hF40DhX5EL0CvpCbLsOHDRI8h9apVq1ZJ2XbRwFbA1kQGYq/5xwabEPylGcIA8wj9BFmJnc16h36HnGI+8dx/nHmIzsL4IJdwsPA8+iJjin5B6RHkLjYCKYfoN6lgzD1jrEcnPyrOQVLxqOHJ5iTflfmGkweQ7Zl24mY9jhKaVhxD23YMDNuZUFjf0hyjxF60aJE87wgB2xHGtiOMbWfhlef5t0OHDraj7Mo1ieDctLZjyNoNGza0nZui8LOTabxPjx495H3zHfpv0KBBtjOhbcc4K+yDihUr2o6AlmscZdeuXbu2jC2PO8LRbtq0qe0YaLazyNqOIWc7wl6uTRZnAbVPO+0021kMiowJjfvFWVDlXnOUOttZaO3mzZvbu+22W7Frafxd5m/IRxyFyO7cubPtKK6Fc4p+4979+eef5ZpffvnFvvfee21HGbH3228/21GebMdIsR0hbo8ePdp2lF+5Lp107drV7tu3r+0o2fa1115rn3vuubaj4LrPhhNHSbIdQ0PmlBk72p133uleEYxjsMvcu/zyy0WmlsQZZ5xR+N6m8ZnMYeYR42/aE088YY8YMcJesGCB/c8//7jvsA1nkbfHjh1rN2vWzL799tvt9evXF76W54YMGWKXK1eu2OfRHIXAfZfcxjG2bceQFjnoXev4u816wb1NPzHfDjroIPvwww+3K1SoIGtfnTp17Hnz5tmOcSrXJgJj4xhFduvWreU9vf0ca0Pet2nTxl6+fHngWOcjjoIq9+1ee+1VZK076aST7LfffrvwmtmzZ8uaVr58ebtBgwYyZug29erVsx0DQa5LFseglfnGPPR+F9OQ6eecc47ITO4d//PIDEexlueZr44x7L5zfoKOyP3K+ubtL/RHxszAOHJv8/hPP/3kPpo+nn76aZnf3rEJajvuuKPtGMXuq8LFF198IXPHKy/Rse+++27bMebkmg8++MBu26at6CbYDY4RJzrKnnvuKeO+YcOGIuOcLO+995794osv2pMmTbJHjhwpupC33XzzzTLvkOvIWPQn5D5rXVigv6dPn27vv//+MueMnkJ/0BeGV1991a5fv77017777mt36tRJ7IHff//dvSI9YLs8+eST9lVXXSX6lOGjjz6yFy5caD/22GN5o3fEy19//WU/9NBDstYxh2rUqCF21VlnnWWff/75ds2aNWVeoU8aNm3aZPfp08fee++9Zb3j3uf1F154ocyXVDJwwMBCWcD9xT0EzC90Wx7ne2PDKUXZjv85HZQ2TBiXIwDcRwrq47DbheePj8fb7g3Rc4SDeNq5hp8TgXAs8smJ0kjln8h3J1Qw34si02d4271pAsDfz86kI8TlcXaXGGMep/G4eY7HzTgnC7v7pGVE2mVmx42dNzzK3DMUOYt0Ld+Te4OCevkIc405hXfbjB19Qh+RhmPmFF56+pXUAWpmEBFAVAbRHfRRuqEwHjs0RAGw80zoMl7+dJ5wkO0QWUGqov1/VBDYNu8YN3YqIkH/sSvNXCPqsSS52axZMyk87YUaBBR4bN26tcxhA/cT9xE7MUTaeN+b70WqDlEgnBbRtWtXea25htcR4XDuuefKjo4f3pNIonyA+eYoHcXWOlII2JEE5hypTKxL7FqyzpFySEQastLb7/FAP7NbSp0jdky93yFe+M6MCfI2mSihXIK1zpsWzN9MJABjZ2Qhc4zdZ6LaiMJiPhIZwMlIROsm00+8N9Gv7PozB5HH5rsA34E5RPSWYxTJXKXeEWPOzrc5wtXA9dxLFP7k9M583cXkPmfOoWt4+4u1jrEzMNfoiw4dOkj9jnTe06y91DNifNB9S4LgeGpXpCKCOZdg7FjrWPMM3LPMK6K9GSPGlLnJ3KCALePITj1zgYjOaGtiIhA5ifzkxCruFe99wn1GpDMHa/DZyGzmGVGYo0ePligQvncYwF6jP7xzjr4yaapApCPFdekXCo7XqlVL1rtUzT0+m8gt9FW/zkg2AWN5zjnnSPQvILeJcqTuIOubd63FzkF/4n4i2iqd8qG0YeyQUfQfaxz9YBr6CX87stPbB7yGNYZIHq4j8pro+lTPv0EDB1l3jbxLfmZNJbsAec33xaajDiMQwUx6uOLBGdC8g13Sd99913aULCRNyhtRH6n2SCrRcYSt7H4SNRDU8OB6ozpWrVoVeB1t8eLF9o8//uheqZQGjiLn/qSUBkGROY5R4T4bDLv87I56X9O4cWN78uTJEhEHQeP67bff2tddd11gpEFYd8hSjaOk2o6RIbukNH8/x9q8ryWq1TFUdK4G8Ndff6UscolorNdff72w/73zhN/Z8WZsiWTwQxQekQz+eWle6xibsqNJtKqSGYiIIvLOPx6RGjvdjuHrvlopTVjHsBuIwjHRQcwxIhXvuOMO+/jjj7d79eplT5w4USJAYOjQofapp55qT5kyJanIynwD+UgEvOnHVIF9R5QNunyjRo1kLFasWFEYdW5Az0f2Ya8xz8giwC7wQpQQ1xGJRZQV7/fSSy/Z77zzjq57pUAskTm0yy67TB5XtpGXzhyM+latWsWt1MZz/SWXXOJ+mpJOfvvtN1GONm/ebFerVi1wjFB+Cfvzpr/VqlUr4ngSpv7hhx9K+CCLgpI5MOwZ02iQJuZfmJXUEuTMIYQ8Gp999pmkmXhfwxwjrWfZsmXuVcUhdWTmzJlF5qP5+bnnnnOvUhIBxZa+J1Ta9G08zS8jDzjgAFGaCFEnVYeQbFVq0wdK6qxZsyQlJ2i9YjwGDBgQdfMIeYpBQ5olr/G/zx577GFfeumlgc4gJbWQwnX99ddLSoJ3DKK1MmXK2FdccYWkkiulz4MPPihpjuPHj5d0Ihw7OLZJCcdh44eNQZytpGVu2bLFfVRJB2zoTp06VVKCkHPG8Y3zdPjw4YEp5tgPXHPXXXfJemnA0USKI+/jlZn8zPjzWcZhp2QGdeYkTtoLIJcGFFEjjYaQsVggbYqwsXiOZyWsj5Bnk9ajpAeKGXL0KuF8FMWj+B0hd35I0WnQoEHhsb6EuxKaG3Syx9ChQyXEkNPJSH/I13SrbIQwTU5/IeQ2CNIMKABMIT3Sr5T04CilxQogk+ZD6Cx9HyTTKLBK2CvpKF5Io6IRnhxUpJkCehwV6k0F4f0Jm+XoS4oBK4lBes7tt98u6WredIVY4SSKfv36SaoQjZQvR2mSVALGhnXRpBkpqYWxo8AxKRqsVf/nS41jvSPVjZByUgki6RmsYdWrVy88CZC0WS/cF6ybpPFwWpqSPkj7IK3Nn4ISDcYHWUzR+SD5qWQW5hPzzZR5YE41b95cUoU41po0Ey9cg4xk7NFXmWOR5qqSHBzQwcl9FF1m3tx8882SRkW5BwplI1PNAS0GUlFJ+SIltl69eoVjQ5FrUi8pZs2847049GHVqlWis5ix9KZrKqmHcUS3JBV46atLrWXLl8nj2Hz+AsiMDZBmTAqd4kFcOnkEu8APP/xwoQcvUnMmtIRGUkiJopGrV68W73vQtUGN8GV2u7yeXiW1EGFFQTUKXh1zzDFSWJXxYqfRjAMFISns6y9qiEedHU3vmDkCXnZQSB245ppr5H0pfKmhsemHQpWMJTv+xx57rP38889LEXQ87sA8chZjKfRLMWaKM7OjQjSIknqIuDjqqKOKzY8uXboUFk1lTEjfefbZZ2W8LrjggiLXexvytEWLFlLE1zuuyGMiD4LSQExxWSVxvvrqq8Aoq6DGbuPgwYOLNApSEnnjbUpmYBe/atWqRXaFTaMIOhEB8Y4H0aYcQOB/P9qJJ54oBUB1jNMDERpjxowJ7PuSGroIY6OUPl5Z6G3RQA6TnuUYnhrNkSbQJUz0ITZA+/btJdIb/Z2C4xyCQqQOj3kxkTnoll57DbsPu4L0qnHjxkk6GPomUXJcz3P+tCwl9TB+/fr1k6LL8UbmELHKmqfkYZoVhogZ8GgNZwynrJjJzb9Lly6VnEmeC3qNtyE0UKLJrfwnJKd+ZBJCx6k6T1oHyi4C9+VFL0sqFSfGMAY8Thj6+++/775qGyy+OA8wUI2yTEX9CRMmiDOHk5N4jIrsyZyapsQGJ5+x+Jpx418UX1O7iDl09dVXy0kx5nnCmhkrJfWguJAe5Zd19P2VV14ptQOeeuop++KLLy48QY7aHShR3kZoedu2beXkOGQi1x533HESqo6ChVMOJcuMKY3P7Nixo6Z9pIDXXntN+pf+948NdYpuvfXWwoZSq2QHrE/UyfHOCxpzqEqVKnLqWSJ6Be+LzDzvvPPEQeB9bz6Lmh9eg0ZJDfQ7uqC3v+NpbErddNNNml6coxhnDic3qTMnPeBo2X333WVt4yRUb4kEjH1Sr5hL8TpzOFHNwDwmzR9nASenpeqUQiUY5gqnN6IPJuLMIRXykUcekXELO3mVZuUIVEnRWLJkiftIZAiVpEo2p/c4So6ExJLiwWtJGeD3aPA8obGOYWLVrl071CfwpIM1a9ZI2CPV54ETDRgfThAg/HzRokUSNs7JHoTAEgrrhTFlbDjRijBLQvlII6CKPSkm06dPl7B2qrlz8gUpPXvvvbf7aiXVEKpKX3PyEXOHsEnGwJzgwXzkhIh58+YVnoLGaSCchKCkB+YIjbEhrBgqVaokJ7CQqsEcZHy4hrBzTh5r166dpN8Qskzj5CtS5ghVZsy4rmnTppazCMtYc/rH5s2b5aQn5uMpp5wibciQIZLSxXsrieMYfxIu3rZtWwk7NuPCunb11VfLzw0bNpRGSnAsIGsZT8LMeX/GjpBnHavUQUo36xDzwwvrE2lvF154YeDJOKxZpJGzrjHfmFNezFytUqWKqL2MIc2AnCUVmRRxdBZ+V5KHNDZSOUghTgT0E+QlqVaMjTdNRMl+SP0nVQQdklOwdF6lHlKpOM0IudW3b1+Rgcwb0r4pp7Bw4UKRiZyq6ZWdJs0KvcWbZoWewwmbnOjKc6x1vA+6EDKUUwJZU0k7V1IPZVAYmyZNmsi4kVK1YsWKuNKs3nrrLeuVV16RU9TQJ8NM3jhzGGwG9sYbb5R85ZIwzhxuCiY1Ciz56xxfh8IUKxgqHNd7wgknuI8oqeDKK6+UicuEBxwAKKUI4u7du1tz5syxjj32WDFYIhkp++23nyhF69evl8mO4wdHHbVyzD2C8KaOC7+3aNFCHlNSD+NGX3PcIEdno/R07NhRjqo0cDwkR/9i7OMgYE7pQhofzBeUEuQZSk6kRl9XrFhR5B+G/+zZsyXfvH379ta1114rNVNwBHB0LEeYs0ywuF5wwQUyLtSZojE+LMSM2THHHGPNmDFDfkfZOu+88+TadevWyZGyKFgoVRyLzn3wxx9/BH43b0NZw9mqBMM8Iq+fPq1bt644P2k4vWMxCJGr3CsoyqbPcTDccMMNIiefeuopkbvUI8MZqyQPfcz6Re0Ho2vgUMXQeOCBB6xTTz1V5loQzJkJEyaIo5v1inUtiAMdGVu3bh15HoUZgwUYa+NQZ87q3EoNOHGQkcjVREEnRedBL6X+mJIbMIdxflP3inWvQoUK7jNKKkFuzpw5U+YY6xG6IkeQs+lEQ/e54447rEqVKxdxpkVy5qCn4PRmveMa5h5OOXQa6l4xrugwqoOmB/SKK664QuYNcyZRZ864ceNkgwI9KNROcGdRzwtWrlwp4cnORC0MxYrWCPUnrJUK6I6SKo/x2lhf722kEiipwRGgEl5Ofn9QXxPKSmoOY+cYoDGF13F0Kylbjz/+eOB70qgzQAhmLO+npAZ/X2vfJwfzhhzieI7FNc3IPb/8c5SiwjSrWBpyleZ9v0Rkqml9+vSRv4twXE0PSR76kL40jXz1G2+8sUifM+ZmzEitI6TZUaDdd1CSZerUqZLya/qbFBvSu+H/nP+iQd0I6r2VLVtWagWUJDN5ns/jM8zn0aiN5SjT7lVKMtDH1AVjTLx9nGijjpXKutwBfbRZs2Z6mlWaYZ5Rz4a1iXR8jhCPRWeMlGYF/tfzuynVQfqyplmlB/qZ1ERqxtHX9erVSyjNivq4pBPThg4dKo+FlbyIBWT3lhQcPLPO3+Q+Gh1nUlv33HOP7I7xeuC1sb7eC+lAeA6V5GHnkRBzPK140f0Nr/yIESNkFwyvuSPY3VdGpn///lbnzp3l1Jyg96ThkSciIZHxVxKDsSOFg/RIR7jHNJZKMKQ1saNPOg0RUPFi7nv//c+4IFdjBblK875fMnPqsccek10bdqpHjRolIdDJvF+YYByIHH333XelbdiwQXaxSOMgKovGKR5jxoxxX1EAY276mN2u66+/XtM+UohfznGCyvjx4+Xn7Zz/vDAO3PNmDNkxfuihhySSipN1mPc8TuRb0Lzgs4i244QyJT0Q5k9EOBHeqYDI47lz57q/KemCdEUzrxJpzEtkJTIWkKWchKWkB2QZugBlFpB36P8vvviiROxEw8jbIP3SPIbdQYTI008/LRGuPE5UY6QISSU5yJDo06eP9HkqQEcl0ocIVEfjdB8NF9s5CkDO/+UIZRwAhGgxKTMNjgfSC8j986aNKPGDY+3ZZ5+VRTISHGFHKDLGCosqIa6RIAWOhnD+7LPPJKQySKgDzh5y1iM9r8QHwpWcZMJUqYcTBEL98ccfF0dakMHIfcB7oDid2qCBtYcurkXAiUxuN/3HwliSYpOrMCdx6JDmRWiuHuFbFOaIXw6i4FCXBRlpIJ10y5YtMTvECEVHab7uuuskJN0bvq4kBvKOexj5CKTF8VhQujDz+8EHH7QefvhhmQM4vkmjBMaC15D+Rp2dHj16BBqTrJODBw+27rrrLvcRy+rSpYs48UzNMiUxkLePPPKIbApSwyMVkDo5cOBAq3fv3lrHLw0wTshL6mOiayYKqcik7tx///1yLDkOU+q1qAMgfbCZS0o4sozNCeqksNkQLRWKVBzkH/KxTZs2gfo99wRpxayN6KQ4jXhN5y6drd12LV67TEkO5kuvXr2k9imwoc64jh412rprZME6RSr+rFmzxNZjs53xoGYSXHbZZbIuknJMqQ3Sh7ELR44cKeUbwqin5LwzB0UFY4bdDAoSpxomNfl5RBDgBebz/HDjYFzgTKKQrpIYRBSgvBJdQH9HggX09ttvF6GMEkX9gUhcddVVkneJo4DaOCjRkUCgICD4DggGNVwSB6cqgphFl8LTCF8iAbwLKWPMnCH6gnGivor3eRw5X3zxhRiSzHEMU4qNY2AqBf1H3jgFF3HkBMmmfAOHK4YrijOLfZhBTpHrz7jffffdklPuhaWdnapkNzgwTthFw7gMe5HBVOB35lB7avTo0bKu+cEhR50IFNlIBzMgDxn/Sy65JLCuEbvYyNBHH33UfUSdOamCMWnZsqXIYRPhnSzoHURrYaiw3impA1nJ/Lvpppskuo1oKvqaem+xQh05jFDmHQ0Zy/vilB02bJisUUA9KnQejWpMLYwZETTYY2zO4uCJFhHF+seGP5E2bLwHOXOQs4wj9RypN1e9enWJ6GftC7peSY5UO3N4HsaOHSv6YShtN5w5uQw55PwZzoSTf1PZqBfAMb3OjSL5fQ0bNpRj8YKu5WjYr7/+2v1WSiJMmjRJjqnjuHBvTQFvox4I9XIGDBhgT5w4UerhBNUI4X6ghhLvR12ku+66y3YEhzzmv5Z26KGHylHYM2bMkCOzf//9d/dbKfHiLJ72ihUrZAzMvOzWrZvtKEHuFQU5s6tWrZI8c2pWcfT8l19+KcdCUiMFmE/kyTqCWeqwOIaHPXfuXK3f4cKR/I4CKX3jv5/zuVHD55577okpXz5fcYwHmT+HH3649AlzxN9PqWpmHnN8KPUhwtzvqWDatGlF1jfGjuP8kX+Mqx8eo96DGWtvQ+/o0KGD/e6777pXF8UxWO3Ro0cXe53WzEkexwC0ly9fLvU7/P2bbKtQoYL9zDPPyGcoqQG5xfHWp59+uhzRf95559lt2rQRHTEePv74Y7t+/foy91h7zznnHKnleMghhxTqO7Q6derYq1evtrdu3eq+UkkVZg2644475EjySK1atWqF48GYB13jbSNHjtQ5lwE++eQTmYdmbOolWTPHPD527NjQ1hvLeWcOg2wGMpbmFbbRGgZDgwYN7DfffNP9JNtet26dFDrjOf/1OH4WL16sgjtBUCwpxIlzBmO+e/fuYrx7+5ixY+Fk0l9wwQX2sGHDxLg466yzio0rDoIHHnhAHAI45AYNGiQL+S233FLs2gMPPNC+4YYb7A8++ECU7E6dOtnr1693v5kSLyg7DU5rUMTAPPLII2U8vPTo0cPeb7/95HmcpChEFDEzRgYOuCOOOKJwvHbeeWdZcJmHYQdl5r777hO5Y/o4LA35e/XVV9vff/+92xvhAmfmkiVLZF74ZVkqm/+9+b1Xr17ut1AShU2FunXrFulbIytxgv/555/ulUXBIe59De2AAw6w3377bfeKomzevNkeOHBgsfuEQr2snWyEKYnz3XffFRmLVDYzZugsSupo0qSJzLXbbrstYaOdzV0cpBUOrSCFy5lH6KHor+gwLVq0sE877TR77733lrHEQcBmsJIYbKyuXbtWHKc0NjGYe7GAPWHmFPpkrIY+diWy2HwmTjnGXUkN6sxJPTkdi0Ro1YIFC0oMg+N5QuwcQzDmIx8JjSS9yns9qTc8FlQXhzA9Z4GQnHYlflavWW3de++9UhuA43AHDRpUJPSVMaTuCnnK5Kk/88wzcow8xx63atWqWJgs4eYcb02x5CeeeEKOfCVkj+JmpsCZgSNaCc3jXnKMZEnbosikkhikHD4y4ZEidY9IIaB4pxeOl+T4eKAo65y5c+RIZBP6T2oHNVIcOSW/c3wvIZWERSuWhBY7iqn7W3hA1lIwlhDrsEEoOOHIXbt2lXlh5kY6oEYOtZhMu+aaa6ymTZu6zyqJgnxkbfKCrGRNQubNnz9fahv5iWesP/jgAzm+nHXMf58ceOCBMR9drwRD3SL0hXTJXzNm3AuklSipgTnGXItnLnkhNQsdlTT/6jWqS7oPqTvoLBzKgV5K8Wp0Tg5GIZ0SHZQ0SFLylNghjZj+JT2UejetW7eW1q5dO7EVqKNYEt5xjmXMSUnFTkC/aNu2beFndurUSWpjkdpVGnVZFaUkctoSIHcVAVoSO+ywg9RYIOfOOGe8xnwQOAwQyu+//777iCX1CXiM5/ywQJAHyMkGCHwldqiVM39egdJC3aMrr7zS2mOPPaTwJpXrgTxkCp01b95clCgEPYJ38eLFInQHDBhgVa1aVa4FnEG816RJkyRfFuV49erV4jSgJg/3BFCnBScfBiL3Et+BYlrr16+XsVTih7mFkst43HHHHbL4mse8kC9L4XJOAqHP58yeU6TuANdTAJKFHIWI2hK8T0lzV8l/uF9SVaMiV0CGzZgxQ+qEUUsq1fTt21feW9qw4SJvMVrYpDANmawkDqdukuvPOHpBpmFssJaZn/3wGDUcqJHFGJki4EHXUkeiZs2aciiDH/QUapktXLiwiMNdiR10D4z1WAzEZGBtNLWVlNTA/Hr77betTZs2uY+UDIVx2eSjvh9y8LDDDhObAv3E6CTolGwi0rAzcMwOHTpU6oxRp4fTc7/86kv3HZVosL5ja9GH1Ddi05YixTQOMsHBQ/2UVNparKlsELOxi97Kxrz5zI8++kjGErtiypQpoahPqOQYzmKUkzhKiIRqRctX5rmVK1dKeBypO7yGkD3CIgm3DHqNtxHOf8wxx9innHKKNM7ELymtgeucRcL9lkpJzJo1S/rVWQwL+5CfyWcmbY3+pM/Jd33ttdckpcqf5kYdHPqc1Cuu3XXXXaU+i6MYF7lu++23tytWrGjPmzfP7t+/v6TtUG9g6dKlEubH897ru3btqvmzCcJ8M7Vt6EPq6PjheUIimZekJzI3+dnAz6Qc8F7Ae5ifww5989BDD0nevveezVRj7jDXvPM20+3ZZ591eyO/Yaz/+usvCeH3hhTH0pBpRiaaRqopayJzztt0bqUP5Bw1rkg39de4IiW4Zs2aMgZe+ecHeYmMNOPE7yWNG/KTUHQ+w/uZNFKKHWNJ17g4YYxI20YG+vs01Y3527hx4yLp/kriUJMPOcq6VblyZUl3HDdunMhX5grzlPnEzzTSp2rVqmUfe+yxIkdp1HREF4k2V70wT6nxht561FFH2Rs3bgxtKkgskFpIqQPWOsaJPid1jTIIrFuDrhskjyHTsAveeeediP1JipuZSyNGjIgo63j9/PnzxT7gvbE/+CxqjjF+3DM8bmwPUoRiTfVSCmQmfW/mjKZZpZ6cjcwhSoYw4mieWUJhSctwhLJ4zR3BIClSVNEm8qIknJtPwpXfeOMNaY4QjnrKEpiIEaVk2GnmFB761bkX3UedGen8zHG6pMaxi8mJDoQbE8HDbgrj4oXoKdIPiKwhrPWll16S3Sz/ODiCxNq8ebPsTHJfEErJziVhkxxzyPNeOB2G9+S9vd9PCcZZ9CRajn5kvnGaA7BTxbwD+tpRluRnnif6hnnJjvNuu+0mPxv4mVQAE0XFe/AzY8E4+sdLyQykxpHmw86+zov0wlxhrSMihhPdSC2OBHODHWNO4jCtWbNmssOJ3DSNk+OYb/5m5lk0WP/YGWUX0zR2Lv0yWdnG1q1bi5y46Sib7jOWyDzGiNQNv/zzg7zkGjNO/F7SuCE/iX4kioQ0cS+skUQbEGHAWqlzuWToI/RKdu2945guWOPQhRgrHZ/kIR2KSF9OmUKHWLlypaTsnHPOOXIq2XPPPSfRGeZ30ryJ4iGl5+ijj5Y5zFHk6CLR5qoX5imnxxHpiH6E/bF06VL3WcUL9zhrCqfD8TOR8xwjP2rUKJFlrDXXDbpO7DJSfrmOY/w5qbYkiNJfvny5+1tRSIGjFAM2xllnnSXyGN30ySeflPWX37EB69evL9djLyAzdd2LDex0oqno30yA3OSzMiGjs4WcdOYwQExqhGxQypMBw5HJy4RjAWZw+ZmQvXTdVChrOCCUksGwYEGlZo2/sdgydgjwY489VvKS33rrLTFWgq5/9tlnxfA58sgj5RrqSvCaoGvXrFkj9w2LNe/N51CHxX8dobIsJFwfJqGQKIwnBn40hyfOO5xpkcAZytyM9h7MYY7axXmkZJ569eqJkhuL8a8kB+sWKTHk6vvrqGDIcxyukVfUoML5TL0G0zBUTj31VElXNQ0neSyGCPOMdRZDxjRkIQYNBpFphKTHUr8gjCDHSAUmXQ2Dw+uAZn0hbZgjcE0KaTqg1ljPnj2lZhn3i3fefv3115Lyhc6imxYlgx5AXRQ2ejK1mYADYMmSJaqDpAAMdJwApMsgL5kPjCMbgOgubBCPHDmy8Hd0Tq7BGYMxylwtV66c+26xgxOJ+cfm4euvvy6OANVfioMOTyobDpQjjjhC1jAcZ+jo1Ajk6HBS2w455BB5nDlB7bxY7Dl0z0gpizjccRDhLMcmYIyxPbhXZs6cKWshzvDjjjtOnHPMSeP8UUqGe51UtZKCIVIFn4cjLlQlT5zFO+dwFEe7devWMacYOMajHDvNSUgbNmyQ1Kmg61LVateu7X5TJRqEMX7xxRcSVhnUOImKsHJOAnCEqRzdGnQdjZM7CDl3hLWEzG7ZsiXwOtO4FpxJX+K1jkEVc0ht2Pg/5z9Cjhkn0uIIa3UUFelfHgfGjt+5xlmoJYSV32n0P2HN5nnH4JFUOk5oMY/xPHAtjzEeRx99dOHnMN5hg/uxtNKsSM8g7JyUEccADbwmEy0MaVbIJo645e+tUaOGpOOYRui3o6AWyilkIDI1EbifmK/MJ9MIhSYF1ts4HpvUD+84cDw+R2OrjCyKY2jYjuEmqcI7+FKrDj74YHvw4MGyphk5mW5IGXGMJDkG3Ss3mMPMadIQCGdXIsO84NQi71hmopHyHcZ1Ll1QagF5idycPHmyXb169SKy1bR27drJNY7RnpL0DVJcOYHuxBNPtF966SX3UcXgGPuSVsg9j9wE1rhbb721yIlg6JStWrWS6zgRlXINQXjTrGhz5sxxnykKp9eSAoeNiEz2rmXYKMhq0uNYE5HdvBenHSNPlZLhXuckaOYcpDvNivS4q666Sj4vLHpJTkbm4L1lRwnvW0ngiadQIF7UefPmyQ4YHlg/7IrhlcXrmixOv0aNGFIKwLNOygZe8KCGBx5vPLsajCP/Bl1H4314P67hNRRMDrrONK6FWK5lBzxdu6a5znbOf0TJsNvPLgYhr+xg8PvFF18sOxqcTsZjFLUmPYedTX4uU6aM5RikEr5aqVIleYwoAnbEHEVKIquqnVBNdrKA3WXuCcYYLz/vyc9jxowpTN1SUg9zj7FhpwrY3SICERls4Dmu4VoldSB3kD/MFeYJO8WmsZ5xwh+RiLQKFSrIGMQC85I1yjTWUnadeb1pFO4khZU0WNMYd0c5ct+lgFWrVknqAOHxSgH0EXoGkTf0j4mqYDzRMSjYT0QT0TlmLUo3rHOMKTvNnFRm5ir6CnMaOU7KlX98lW04hr+MW6b1Ae4f5qySGpCnyEvkJnrK2rVri8hW09jd5xrHsEzJ2ka6I6evkqbnj7RU4iMdcxBZTCSjF6JZiVoE/32gdkHJsJ5wsEymonIMr776qtWtW7fQnDCd95q3UUxQWGiRwMnDQs1JShj4yUAeJ6kIsTibwgjpbxgFLJZUqycP1d84yhojnXxxQvkJaxwyZIg8HnQ9+ciEZho47YO856BreT/GCAFNCDw1BYKuo1GrgtOzgmrqKAVw0hSV/nHIACeGYawwn6iXc9FFF0mKASGqwDxkQezYsaNcQxgzY8cpYyhZ9DOLJI6d++69T8aB13A/8L4crcs1OGkJiWbO8jlKesDwo+YH9agAA5SaUzjZjEwl9YZQ6KpVq6pDJ4UQVv7888+L4yzRdQlDkBBzUkZNQz76ZR1HsvpRmZcY9HGbNm3EUebVO9gcGD16tDim0wEGIp9N2lskfQcHIHU/qA3hT5UkXZl5vXXrVvcRxYBRQNoh/Rqpb9MFjltquahDJ/fJ9L2TD+AMYLOA9YjGPOQxdI0aNWqIkyUZ2DChRAN6KvrkZ599Jo8zVmxiqOMtcei/a665plRSnqgxyH0ThjmXk1o3u/KpinxBELRo0UImMMb/McccI9ECGDCJgiJEXR6lOEwulEWOdyTKAgOfXRF/w9GCsonAphYLilSjRo0k1zjoehw0xpkAvXv3ln+DriWChEgCdl3IjeZnnEb+6zjSHIcCQv7aa6/NuGc5V2A3gzlDDjpCkzFt3bq17EDjlMHRwnyiD41QZUEmPx3HAM8ThXP33XdLrSTgOqJ8GHOe532I9qHOkZmbRO9QPNREjCiph37HKGW8qN8CtWrVsho3bmx9vvlz+R1wthIdhWNUHWupA2WViFEiZWLZBcRxQ00qCvzjgKZR5wbnW+fOnaVR/4Hi7355h2xVUgN1aIjMMRE5wA4vx7/jxMZ4SAdEUjHGOAAjKbA4cJjD1PFhLfTCPCZ6wBgzyjamT58udVNKAyKn2IDCiFVyl82bNxeuo0pssP6xATxhwgRxVLNWPfTQQ7IZzCYEG3rUjEsGorTQT0866SRxaGOfsIbScEQgr9Mls/MZ7D10ENaT0oiex66bOHFiTLpTrpOTzhyUjaBUqUTA6GTHn+gBJmvbtm1l1xJHQrJQHEvTP4pCRA6hb4R6P/3001LkDCeAdzefnxuc1kAEOFEfCAPCv0mr4WQrbyocu9VEdPCc16jHU0/khncSY2RS6JidSRQznAlffvmlddlll0k4vH+Xku9F+gDOJ1Ic2B2nQK9SHMYTRQWH6C677iIC1AsOH06D4Hmcp0CKlDH8GSd+x+DBQcM1OHpYyA3cD5w2wTjzPswtTupR0gcGIYoTcpExhldeeUUiC/r26Su/AzvHOH3Y8dfd48zBnEAubdmyRRqOnGHDhkkoP45PGg62RYsWFUblsNEQltDjTMN8wVjjdBRvVBNOajYc2DQijD8dyiWKM/cAY4zuEcmZA8hjopHHjh1rnXbaaYWpXnxndCucBtxbyjaIdqJ/SwPuFyJzSFlWchec6MhiJXaITsUBjjxDx2jXrp21YsUK0c8p8I9Ob+RXomBH4BiiMDaObqJU27dvLxuM6KBsLBIRziYzMpLNRwIBks3iyHeIuMcZVlrOFNZEbLwwkHPOHHa62EFMhaKB0wDHEMY6jhwMdRwFGC84eGK9AZnQXmcE8Pv5559fmGupFBgeRLugEDHJMCgQoPfdd58Y+kC/IZhHjxotP2OoEIWFowChTpoNoerA+FAHgGMDceZ4wUlw7rnnFkZ1AJ9x0003yXGHvC8KL1FUOJRYZL3X8lk8jhPnxhtvlAihE088UXY+1VgtDv3P2OBsuWf0PYFzp27duvI8DhhSq/xzhv4nwoeIKXaW6W8vvCdGEc5W3ofaBf73UFIP84SdFXavUGAAOYzjjbnKuDBHMXbY2Y9mRCrxQV8ib2j0L0a2t1FfiuhBxoaGo5roAZwJjBmNn1MZVch4M+4ouabhYA2a82GDcWLjgcgcA3KNzSF0DX89hmQxEXPcC5xIxeYUmxKsr+Z+4d+gSGb0FiKRqSfImmrGj+v5G9j51rlcAGkWpZl6xjgQnYP+hC6iRIa1ychM9G+vvIyn0dfYBOa9vC3eTVrGj3FD5+VfdMtUy4J8ABmEXkHf0MeMAzKOyBs2XznFCplldM3q1auLfE0FrGmspayfpIvj7OZzOBmX6HzuBzaxkI/ou9gSfFclMswV7nldRzKA08k5xcsvvyzVy/nq/rb77rvbjhEe9wkrnLCzYsUK+/rrr7dvuOEGqaIedJ2/8Tlly5a1L730UttRpIs9TzV8KqE7wsj99uGFPqDivCP8CvvHMcTtJk2ayOOLFi2SEzUqV65sO8JUTkehwjnXcC19zWkqw4YNs8eNG2c7wl5OVrnttttsx4B0P6UojhFjd+/eXe6LffbZx7733nvlcxyBbTvGh7wvp4xQFZ+q51S+Zzx5byqhb9myxb7wwgvl9eY716pVy3aU3JScbJDrcLqGI6zlZ+89zs/md57nOj/mGvrxjz/+KLze/Gvgd543/e193vsznxH0OfkKfztyi/niKDOF92eqmmPciUzbe++9Cx/j9KhXXnlFThXgdALmHTKTeXvGGWfIqSB9+vSxHSOxyHulsiEHmMt8txdffNHtjfyFk9uQd6xLjgJp77HHHkXabrvtVux0qVQ3TotAbtPnNE5iueOOO+ypU6cWtgULFiR8kla+4BgfMi+qVatWqIOwdlx00UVy0l8scGJfPGsLp3Y4BobMV8cYKRwz1jfuD8aOk/+mT5/uvqI4nAB5++23iywx35v3u/baa+XUn7DDusIJVrvuumth/5ZWQ7aim4RprYsHThtzjHw5fej++++XE/84eTGeVqVKFTmxiJ+NTeBtvPcTTzwhc4PPC2pe3YQTmpin/fv3F32zfPny9sKFC91nFT8fffSRnCrF2sb9PmrUKDmJD7lIv3r7tiRiPc3Ki/kM7+f88MMPclKSOc0Refr777+7zyqRePPNNwv7/vjjj8/oaVbY3zzWvHlzuTbfyTlnDkfUmYHzNhSZFi1ayHG98Si3KC+nnXaaNKPImH+jNQQNNxvOAo7Oq1u3rn3ggQeKEmSMGX4eOnSoHKEcdljQ6Av6zd+XGIDffvutPWDAADnu7/f//S4KC/3pvY5xYXHm6MC2bdvK+3FkZDQwMHHwsZB+8MEH9pAhQ4qNb8WKFe0777xTFhGEdfv27UUI4bTxXkfDkch3K+lz8x0MlxdeeEGOEo+0uPI4zz/zzDPuI8VhLKdMmRJROeXx++67Txxr0T4HR8PMmTPdR8LBp59+Ko5Qr8MlFY35gZx9/vnn5Uhcfqex+PI4x8YbJx7OHY70vOKKK2T+4NRB7jF30+FkQLZivOLIYfHPd5gf9LtfZqWr0b84jRg/Gj/j7OZewAChvf766+JkUorCGoeTy9ufDU5rYL+99m2Rl7GA/oLhEivIRxRe1k3v55rG5gRKsFGiI4GOwtrodQhxhHkY5lg0WFtYv9jEydQcLKlhpMyYMcP9hooX9D3mAmsQm4JGZsXT0GvQ671y0NvQAVnzOnXqZHfp0qVY6927t2x0MOcxLB9//HG7c+fOYsxiePK90GeUYNgUmD9/vmwaMOcYSzZtsREi6YCRSMSZ44Xxo2FrHHzIwbI+cg+wwaiUjDpzMkfOO3OMwdCoUSN748aNYlDwuzFAvNemsl1wwQXiHEAJQsB8/PHH8jvGKxEk5jqcD0TnhB12HDHCvH1oGru+CN1JkyaJ4c5i7J2g3sYEZ1Kza8giWRIsqoMGDRLvPgvEIYccEvi+5557rijjOBa4FkcOymzQPVSnTh37s88+cz8hnGDMM2ZHHHGEvX79evfRAsyCu2bNGnFyYuAEgWBHIWrZsqX0vcG7YLNoMtfY7TYKkHne/Pv000/LWN10003yO3jfI5/B8IsUqZhMO+GEE+zGjRvL+JrHmAuMhTcSjl1IFlBk3sknnyy7+08++aT93nvvye6m9z1T0Yg4GDFihPvp+Q/GOlGKRAWkYz1jp9j7O7vR77zzjqxlpuFQCst8SgbGyu/MadOmjcyRWGnYsKFsbtDnsYLRSNRpmTJlinw2DX2JXeVYYO3zRqGifIfdmYNhgLxJR/Rjog2HG443nZPboC8w+CpVqiT6G3IrUYOb90Kv98pAb5s7d27guNC4TzD40WGJOqexWWieR8dVR0DJIEs3bNggfYaNh46DcY6NFw/cC6bvafE4c5DbV155pYwhDiVeT9QWWRzIBaVk1JmTOXLKmYPBh8FmBo7GjgmOFBQWlBqEAIY2g+29LtUNo4VF3kxqPnfgwIGyM03agbmOGwkHU5jB8EdRrF69uqRIBDXCV/HIM46EoQZdY1q7du0kxDXWMEeuRRg89dRTge9HQ0gTUosARxAQfRB0HY2x79Wrl/vu4QLHCf1PFBwOFJQXFJdu3boVCl7ud6Kb6tevL5FYhPnjsMGwYQwYN3awzjzzTFmk2QEjrBaHGg4iHBQPPPCAXM/n4Ozjc5hbRIBg3AL/kgZXo0YNUaD4HKIIcDisXLlSrsl30uXM8TccCTjUUHL9igxzZvbs2XIdCytpJSi9QamnybawOXOAdW3Tpk1yfwf1SazNpJt62/Dhw0WJ+vrrr6URcaiKamLgxMQZ5nW6RXPm/J/zH7KQ9Yl+R0YyJhgPyDaTxhGL0c5uP1E43vGmjR8/3r2iZPzOHN6vWbNm9u9bw5tOQFo/ukE6HKmJtu0d4xZZQFRmrBFf+Q4p9a1btxZdId1RS+j6Rl56GzIaHZfxCRo3GhuB6Drz5s0TfVfHLzL0zVdffSUROpQ+YO0ng4L+i6UhT9FRTd8zLmw4BV0b1LDd2Pwl8pnNKiJS0X90zGIn25w52KL56kzNqeqhL7zwghSj8sLpHRyxWaZMGSn85xh1UpBx0UvprRhPUUlOZoL//e9/lqNwWatXr5ajrilUZ+BYWAoqOwLAfSR8MC7OxLWmTZtmvfbaa4HNmZxy/K6jQFpPPPGENWfOnIiNY3YZb4pVOwqvFGilONkP37uNn53G444yLNc6E95yBIacyBP0nowRxSO5dyi+RsEzR5AEflcKr/Xv39/968IFBasPP/xwua8dg0Pua/qEI24dYS3XlC9f3urUqZO1bNkymRsffvihtXz5cjk6npNTnEVZTgdwFGQpzOkskFLIlZ8pgMx48e8BBxxgrVy5Ugpm8znML8awQoUK8jn8y8kDHFXpCGk5wv7tt9+W4soUyVOSY4ftd5BC4BQZB05222+//YoVnd7O+Z2xBEfRldPnmB/MQSU5HMVECi4yXxyDwX20ZBgPZJhj9BU2jsX2y7KuXbvKKR2MM81RoGIqKs569+OPP4qMpQBvmNc3A33B8dGOXuU+Ep1///lXirhzakqXLl2k6Dt9yWlUjuIqj3Nc7i+//OK+IhjGwlFQ5XOZn8g+xjSWcYyGoxCLXP4/e9upXGGCtQsdj0MPYh3TTMB4s6ay/vIdlYJ1Z8mSJTJf0BHSCTaGkZc09BR0UfRXTlcq5x7Qsfvuu0uhYyN/mZfcS8zzoUOHis6LToP+g/4SZtD9jN5uGrJwxx13FLthypQpUpzYMfjl3o+10bcG5vCXX34ZeF1Q4yQmdFlO6uR0K4otM/Z8L76fsTv4V+dhAegrXvs328BWmDp1qvtbfrGdc4NnzypVAmPHjpWj4/70ncyBUbdx40b5GSWWyWYMvnSBonTxxRfLqVcoPBipHG/Osb1+zjzzTOvZZ58tcnS2UhwWZMZ29OjRohRHEpCccsR9gAHBKVRLX13qDLz7pAv3Qbn9y1nt2reTU5RwKOFQuOee4JOWcODUqVNHqtWjLFHZPug6xZKTxeh3jkA2YBiy2Bo++ugjOVnHcMEFF1h33XWXOHQAscOpVpxMhbGCMcIpVjhiWDCBOc1rHnvsMfkdQ/OZZ54pVNZ4D45qxegBxrhPnz7W9ddfL4twGGDhRFHEsE41OECvuOIKcVzTz5wOxxiZ8THgQOMkHY6jP/bYY8VpwBzmHkg1yNBbb71V5n++gxxC+Rw5cqQ4m4MUfsaCE95wgPoZMWJEkRNTmBNm/sWLkc0GZDOn/OFowrnLmPNvsg6EXGby5MnWDTfcIE43o1ZxlC6GCIadH8aT9YYNqv/+97/uo0WpXLmyGDPRDFROrkI3Qp6ihyBrX375ZdE5+vXrZ3Xu3Nm9MjoouRiYGFbAxoY50THo++c7S5culWN12bjINjUZ3eS4444T50Hjxo3dR8MLaw26A5s7jBmbhzgC0omRiWwYciIrmxjcJ+hC2B+sy5dccom1zz77uK8omGMcq41sx1l62GGHyQYmR2BzfdhAh0feMNcef/zxQtnjhdOl6GdORaLP4wF9hbEB5gxrYoMGDeT3WGA9q1mzpshqdC3WYcbZDxtdyF7shjDbeTi20P3YpKDvcFbWrl1bnmOzd/78+TI3CMKgz8wx/axvrIOcYnzXyLvkMfR9nGj0K2vc4MGDC8eSdQqdc8KECbK5z/PAOsiax++NGjUS3bR58+byuUBAyIIFC8R2wfmaVzjCJ2cYM2ZMkQJ9pjk3h+0Y6pKGwclS1KjxX+NthA+TthH0XDyN0D8K5pLmQOoNp0cEXUc6iSOM3L9CiQThsRQbpF4A4apBfcm4EU5LegBh7RdffHFgWCuPEZZHqDpFJQk35wQCf40I0xgjQiidhVhC1h1jxf1WShDkfhOSz1yingf95oWQY1KseJ5GHQg/5513nqQUULyYkEpSpAiPNDAGnCJCGCXvQQ0WalIZHIVI0raYdzxPigKFrMNEOtOs6FNnsZT6VMy7Y445JjBElVQQQv65huKPhMuSksV7MN+4T4LmaCKNUOuwpFkRkoysYx45iqj8/fSnmQ806jEg1whH9zZkqKMou+8UP8wtb5szZ46MKesdjdoU5nQf/iVFMuxFPTkV6rrrrityv0ZNs3L6dd26daK3RFrDSDFwFGT3FcEwzsgBxp16VrwvYemkfrD+xYo/zYr0Ir4f7xc2+JuRad7xyMbGqTphHB8/6BukayMfqfeGPkK/mJYKvO9HI+UcmYgsRAfhs8uUKSMFcqntwrz92z0owPDzzz/LPKU0BKkizHFex8+p+p65gOlD0klZT+gz+sF/f7PuYVtxEEM8dcQMyRZABr4ndsZhhx0WaOPxHampQ1oPuqz528IGfzM6ALaUSdXOtjQr6qaix+ZjmYycceZgRKDEBzlzUPCZ8DyHg4XB8l9jrkP5xUhs2rRp4DX+hqKKoDEFsBJp3LQlKWRhB2cXdVIYF8aa4qvGWKAhMFE0qdfCAsAEplYKOe04BbwTmsa9cPPNN4uhw2LLJGeCY+xzj3ivxViiEC8CBoFzzTXXSO2eMArkWMGAYMxMM8LbQN8xjub5v/4qflqVeZzXmmv9fY4y5H0f/+f4v4dfecp3UunMYY4xNw466CBRSlGuyBlnUeU58vwjzQnmITIShRojkDnFe5500klyLDMKtv/zEmlhcuZwqgpj4W3Ug8IQ8N7z/jkRD6yF3EPexjHjOFmpN2AatSiiOeSQzdS3CjPIMn8BZBzU0dYSHsdIMYqnt7G+BcnNdMB9hGJs5i2NtRAFO4ywAcQ97x2PbGvIZL4jh0aEHWQgOja6OjUrsQeM7EKWcfqhX87F01j7OGTFKxNZG3dyTzdCNp9+xulirKKvRJrvXpC9yHNey3tQc9N7uEC+gkxjE+6UU06xjzzySNHdvWucv9HH6CPU4ovkGI9EMs4cxpDxYF3j89E90HGCviPPs5nFfOSkMzYduQ/CBAcnsAl/1llnFeok2ejMYd6yLsez0ZEL5ExMNKlMhCgS7ubHEQ4StuUoJFJD5YMPPnCfKcAxSiTUi/Bj0jQIhSPkixxWnosEIezU/iDMmLBl0nt23XVX99nYIdSLXF4lGEIrn376aUmBIid2/fr11qhRo6xq1aq5Vzgz0rathg0bWjfddJPkwRJGR4g/Oe2E2xFS58VRdKxzzjlH7gVnMZZwZFKDSIUjtN077ryW1A3CJwmRJ6Vk3LhxmmYVBfrPWdwKm2PoSbgxYZbOIih9xzwzz/tTc8A8zmvNtf4+dxbIIu/Dtbw/KViO0C72PbheSQzGokOHDlKzipQq+pc0H+YPocaEi0eaE/Xr1Ze0DkJjyTd3FFV53FFoJC0P2azEByku1PNat25dYUOGEZrvveeZE7GAzKQeC3LONFKDHMWmSKM+D6kA1OQwjbpVzLtIIMMZZ2R3tOvyGdYoP/Qja1mklEP0GeYY88QPcy1IbqYaPpv77JFHHikyT4P+njBAOgX6JPd8NsP48B2pw+KtDRJGkIGsT6TE3XzzzZJ6Sp8gu5iDyDS/nIunXXfddVK/z8hD1kTkM6n5PI5snv7kdOvggw8WfSUW3ZHrHGNUZOb5558v6ZTosqQ15yvIF9JB0fUZK2QPfetd47yN9apFixbyWuqRou9nCu4fvhspYMhp7Al0nKDvyN9DPUnmJLV2rrzyStGjSKULA6QJMzaZHJ9kYM4OGTJEdNy8wbn5coLHHnusWERFrA2Paffu3W1nUsoOFDgC2e7YsaN4fYNew04joVhch6cPbzLHVXOaTqR0qmiNKvZKMPSxOQKZnUF2JEl5GjdunERSOQa77FyQguUIT6loz7WOISPXOoqXhDfys7OIynNE+Tz33HOFr+cxPOaExq5atUpC23mMyAGOdeWUNCrWc6/wOKekEWatFMAuBbsNzAF+DoITwDgunt2TSNdw6oQ3lSoIdqq//fZb97fiMIcdBUtOg4gE0QWEXuc77BqmKjLHUYhlZ4l7n90mHmM+9ezZU8Y2Wn8DO43MO69MRVYSKend8U+mMefDEpnDzh4tUUibuf322wsbO1uk7TC+phG1GNTPiTTWTOQpKa3spIUN9AR2ItllNOsQjbWLk1VYe/wQls5JgOxQEw3iGHOyFrF7yE5mumF3sn///hJNx9wy35kTJYli/T3GEyPzCY6e5lQy0xfZ3kj/YK4rBXoKayIn2nLCoplT6JJmTYu3Ucbh/vvvl/ehPfTgQ6JvoncSYZBMOqvh+eefL4y0ooRAPsLYoP8dffTREjnPaaf83dGyFnjN+++/L+sXcpQ07rVr17rPlkwykTlEFBu7hOg3vgc6jh++IxE83A9E02KfYHPUrl3bXrJkiXtVfoNNRaQNf3cuRObwOPrPe++95z6T+4TCmUPDkCcVwMDEI2wy6FoaKT6EQOJoMHz44YdypHIihgk3kLfeh1LAihUrpE+Nw4XGz8OGDRPBj1FOCCMLAGF81O/wTl7G6ZJLLpFrSbdCsZk6daoIXdKlvEo1yipHrWKYosDyvqNGjbJXr15dLI2O78BkxzlhBFOYYQElXBmlMag/SG+aOHGiCGjq6UQCB9ttt93m/lYcUkgYmw0bNriPFAVHEe9POg81kyJBih3Ho/tr+eQbqXTmBDXmTzx1GVgcOareO+9S2cLkzIkH5uWAAQMK26BBg8QgRWk2LdLGRaob62pY04ox7FiPcIx6+4T1BEcaeoxXfuIsWbNmjegGPM48QxFlXeQo3HSCwXvllVcG6jNsbKxcudK9MjyQEte3b98iKd7Z3ri32JxiszJWOR0G6AvTmJfU1cQGiLcxD3i99/1oqYRaOuhFpIihdyZS2yXbYYOuR48eoht06NBB9HBvP/IzqWZmDUM3N9A/bOai+8fTN8k4c9BVcUCwqWvSu7ArcCyZ74iT0Ls5yd+AzchmI/YFAQPYJvkOTivj+MoVZw6OU37PF0Jz9ARhcoSZUw2bk1AIpXUEtPtscQj/42hqZyLKa2lfffWVPGZSCOKBUGreS9mGI/gk1NIxRIqEu/Ezp4QR0uhMOOuEE06QMEZSeBwBW1i5HBgnx7iXVDuqmLds2VJOryIdgZQ65x53ryxIxyNdj7DkCy+8SE7q4fVBp4nwHfhuvAdjH1aYI46AlP5fvHix9AfV6glTNBA2y6lTnEZAdXrGjt953Iwrc4cK95xMwNjw88MTHi4MQ+U65iav437g1ID7779fwlgN06dPl1Mf+HxCYEmdcwx7yzF65F5irLmeSvXMU04yuPPOO+V7BJ2SoERn9913l1MDOB2Qfufo92gg45zFW0KT032aYFjgnkb+ILtM496/5ZZbZA7RuN+ZE5x6ZRr3PScCEtZuWjrkmKOYy6lnjuJa2DKRGpStIMeQRX543FHy5aQb75q02267Sfq2o8xKqgj9uZd7siJh++mENY/UjiB9hu/Id/Z+1zDAOvHFF1+IXpArME6kEqXj9MBchrlk2g477CB6YZMmTeJup5xyirze+360VLL33ntbNWrUEPmJ3olOk08gE9H1SOVEtvXv31/KKJh+ZN6hx3PSFKei0jgN9fbbb5e5WLZsWTkaHH2UlFD6KJ2gr2IXAN8JOc2pq9gPRx55ZOF35Fh6rjUyn7+natWqkgrNWv3y4pfFblGyD8YsaK3OVXLCmUOHs2AlA4JkxowZYpTQONIslpxoFnaMWQzVaM4fJX5QPqhpc9BBBxVrLJ44Bhh7jEME6prVa6RGRND18+fPl2Ncu3btKnU7nn/+eYsaLkHXoviUL3+QHNlKbjVOChbToGsxZNeuXZv0/ZfLlCtXzlq2bJn8zFGB1DXCgDOwoOHcWbVqlfxODjHXsQCbxZrx/O7772SBZN5xrHHZvcoW1vvgOhY/jg4kHx1HDg5XlBsD7/fyyy8XHg2JcfTW228XuQYHBONlvi+1dbhnUq18hQHmHmON7EOhMmMVCcaNPPHly5eH2gGaDPQ5fWcac4Cj+XHOmGYcNswhGsdhc8+nG+aWXz4ic3GoMl9Nu+qqq/Lv2M8YQH4hd5B/ficIxgCGYceOHWOucZRuDjzwQOu2224T+e7/Tsxl1lD0prA4dNDv+JtLclpnK/lkmIQRnBtsRqKv5BvUU2OTDj2MDVpqlqITAvctG92sL2effXZhnaIzzzxTNoVwoHg34+bNmxfTHOV9E50T1M7Eoda2bVvRddF/2KhCTprvR8PRx6bhW2+95b6yAOqzNm/e3CJeBLkSNqe4Ugo4N1nWQ4oHNWdSESbuCJOYUwAIteXoQf51FFc5aSmRejmmRUsLCSPURiEvlZMGghrhrab2AuHohBEHXUdbtGiRpJwYCFEPuo5G6hY1eYDXRHtf2qYPNwWmFoUJwiDNfRwUmsgc7dy5c+E1nDzgxVlUJcTVPE/zn9xAihV1j8zzjIsX7gVqX5n5y7G/773/vvtsAXwOOeeklXDNySefnNcnRHD/pjvNin/feOMN9xMjQyg0R8lTdypWGRtvy/c0K+QWNYo4tY/Gkd+EG/v7IV39G605irbtKNZFZCNy11F03W8fbgjL5zQP/9jwO2kwyMhsg7GjDgjH3Hu/Nz/zGKnLQXUi8hFqsRGS7x27XGnIXI5vJk1MyV1IVSftkRIB+cTry5bJOrb99tvbbdu2LSJTKHNALZxI6Ug8j5wiLRRbjPeJxZZibapbt26ReRJrmhWfSf03o/cgG0gh9+uS2CXUPKO0g5d//vlHUv0ZS47qRjfKZ3Ixzerggw+Wmk35Qk5E5nBqETv/qdjtdf7mmL2keGOpNM+/7FATFUC0R6IQYkj6h1IAlf8bN25sNWvWLLDh9TY7vKRWEe1Bmk5Qc4RpkXDGmTNnBl5HI5yT0EjYd999Jeon6PNNO/KoI7NmN7W04FQ30tPYdQ/qC3Yx2H1ml54oJ38Um2McyL/Ooi2nu0HQPGzatKm814UXXlhsvrPLwg4NuzXMRb7H66+95j5bAO9JSgnRdETlcKpAmKOqkoExo5HCc9xxx7mPRoZxv+SSS2ROxypjlaKwg0kYOSmFNNIaHQPNfXYbqexfM85e2BVlt5E5ZBrRrGeccUYR2ch83WWXXdxXhRMzFo6xIWme3rFBRnXp0sV64IEHJE0gkxCJzJoZDcaOaFZO3CJSx8DfQFQOKarI3bDMZ/88yBVYb4luIGUuLGOVj+Tr2O3g6oycHEvKvjf6CNsKO8uvMxpq1apVuMYwP+mjWPqJk5WI3k4FfN8qVapIdLgXdN5DDjlE1kayA/wwH1988UXRSRUlnYTbQs0whMIbJ4ISG6QZDB48WNKdcOhxhLkxdLxtyZIl4nQzsDiQ0hN0Lak8vC//qnOtZFg4CRs9+uij5YhPnGx+OFqTdI9evXrJUf6kMvoXXNIMODaUcGJSpfypGDj3rr76aqt27dpSO+ekk05ynymAcFce54hK6klQK4SwXC8YT9R5adeunXXsscfKcZLUoFDih/7myP7u3bvHnDbDazAKTQi1kn0Qzk4qqmn77bef1LHCYUOdHf5l4wHnA3PINOZnLGD8h8mBSnoVGwQc8+51BlA76LzzzhOZd/jhh7uPZoYFCxaIgwZ9oyRDYtdddxX5jvwmdc4L8hSHOKmxjGs+wziRIperMG/HjRuXsw4pJf9BPyDNKmhDMBbQKUkNPeuss9xHIpPMPNhxxx2lphg16aiVUxLMPZxSilJahNKZgyChVgpeVSV7wSBAkOLAwdjo1q2bFItE0BowGik2Ri0J/jXgAMJp4IVxx9CkBg8ee3ZL8d7H4uUPGyju7CowBiyKGH38W758eYnA8IOhx5zaZ599xOlTqVKlYospThVj6BPpgbHD+xNtwxhgVPA+7IIwln4nDOOHIsD7s1NDIbogA5PPMDsovAf3C5/jLZytlAy1NChCGI8zjGtx6NWrVy/UhXCzBeYSkWzMGdMuvfRSqYNEfSMaUY04PXHYsPvIv7Eq3Mxb5tWvv/5a2Kgz9+mnn7pX5D9sCrCWUJTTrCXU8WIXmnUIuZio8RIPOJXMGGBc0IjM4fvxWDT5x7zFIY/xgsFlYB2gJgTrb74aK+YeZmMnljqK2QoR7NQDxAhVnSZ3Qb8iYjwsYIehrxk9MAijJwL6HXpmOkF/paYmtXnY+I3kyOZxIsjZQGzcqLH7aDhgPFKRLaOkhtBG5nAaCIprpkEo6UIbGyhWRHjwL6dYYXBwEpnXuGSXmWgNdkC9TgYqzeN48MKiQUh5z549rY8//lgKq5Hyg/KjFIVIqKeeekoMs0hwLyPMIy103Oc8z3WRwEDAmIwUYgs8x/tEW+hL+hxzLymxgcJEsdaGDRu6j8QGTjZOq+CkMSI+lMyBwwAHHEWJTcP5PXToUCk+aRrRb6RIkTJFY5fTLysjYZRX0zCC2SnlXjGNSA4iI8MA/UE6mvfvxYnNHEDekCKQiSg1vgfrWYcOHWQMiBIiUnXp0qXWTTfdJI8NHz7cvToY0gWI0MEJ5d3oIrWc98aoyUfdBScYTrdcLXzshci6Pn36RFyTw4rRIRJpmYK5xbg1O6OZzON8hL+RsfDKEU7xQuawjhBF6Jcx/E6KP/KLTUXvZm66wLlUs2ZNGX8cNRSED/penCxJai3XVj68svtMOMA+yAeZafDfl7lG6Jw5KClMToQHaRze3M10g4FM2oI5aUeJDF5f0nVM+hQ7vZzcws4yHnNg9xMHDwYnUR1eiAogbJzUHjPGJ598slxvQuJR4lDCcehEcwSEDY7P5YSvV155RWrTELJPXxlQGFHuBwwYIAYjKRmMk3H8EE3FazjZhmPlOTLeewqVgdo4fA6nlvEvn+v9HKKneB8MDD6HFDmuMTVEWGDJRx4yZIgcB4kSy/tQO8CAo878PaRn8Vlr1621/v5HdxSiQV779ddfL06deGHuMe7dL+kec2qOUgCRUMipWMB5TQ2qvn37SuO4V6IYOXXDNPL4qXdFaqRpRN3EAo4aojqYu6ZNnDhRUob4njROJaE+FacAmYYDIVoUSL6AvMNxNWbMmEKjj3WoRYsW4sxkDmQK0oOItuKkF8bA1KBAOUXu8tjq1avdqyPDmkr9BwwrdqcNGCxEdLGpkk+w3pD+Tr8F1abKNTAumaekpHvX0jCBLseYstbTF9z71OAzMiueRu0w3oP3Yh6lS09EZ2JTksi4vcruVWTu5RPoYKxV3nuTKCTWJe5ZNtip02XWGxrRo2zCckomY8lGRCaglubll18usg97kY0Q7/diExKdk9ID/nR/A5vN3Hv5lAXCmsJJxIwlEZ/5AgEeRLPmLM7AZD2cmsFXTbYdcMABclKIo+TIqTeO0mLvtddegdfSOCFg++23D3zO33bZZZeYrnWMIznBSYmOI9Dt4447rkjfnXrqqVLdnIro2223ne0Y+FKxPhqcDuAsFjKWnILDiUmcuuQdq/r168spMtwTim2fdtpp0j/0Mf86xrlUhzd4Tywy/UgfT5s2TZ53DIliJ8/x+7XXXivPG+h3Xm8+i+rz3tMCHOPB3mGHHQo/h3+dxb7wlKsVK1bI8//f3t3GylXVexw/+uIa8fKCRDAaUlAjBgVfoC98wBIo+EZbbH26lCiReMGoUQw2IZjgYyqkGhpRi5GIVlHsg6JRYsSLDQYiNYAowfIQ0VRErSFqqsabXObOZ3X26T7TPXPmzJlzOjPn9yUrdGb27D1nr73W+v//6/9Qv47xrDpL1ZcqEKiQVT+Hiliy408Do65m5R6tXbu2dc+993SuMDxtBbf1sY99rFQNaLrWMO0/pryaFb7whS+U9aTeVPFQ4WTTpk2z7ZprrilVNobB+OhubWWl1RbQZpuKIcZLdx80vVdvxqjqFtPOt771rSP+dut7U7W/+TBWVAprKzmddxbOT3/609bGjRvLGO7+XebfttLROXJ+VEVat27dnL72b9U9pwlVZjZeuHHeZ3rS2llnnTXVVRybMIe1lbFSrVT1uGruPP7448u4qM+dg7RLLrmkdeyxx5ZzGD/Wxb1795brjJo777yzjNuzzz67tWvXrs6708O+fftal112WZEbu6tZ4Z///Gfr05/+dJERn3/y82f7TjvxxBNLJSOVi8yTg9Kk33384x9v7d+/v3PE/OhrMsz73ve+1ote9KI5v4v+sXnz5jmycYXfqZqVKsj33LN4WWqcoD9fddVV5X56bjEN1azYBugwTf05CUy8MadahAdZjD1MJvsKD0IvYw7hef369UV4me/cBraH+wUveEHj5/UWY85gnHHGGUcIpfrh9a9/fSlRaKAqxfnwww93vtGMxfcNb3hDKQ9IQfnoRz/aeF6CazjEF7/4xaKQuTcEoSuvvHLO4ms8Kllbv4dKS957773l8yeeeKIsfvXPX/nKVx6h5CghvmrVqvI5Y5CJ2KJesXv37mJYqs5xzDHHFIWWQQ6eA2O0+ly/Kp9cL6P9pz/9qXznuOOOK8dYXHfs2DE15ZSXojS5BW0UAqtzEOL0/SDz8yBtJRhzfvaznxWhs7stRJCdD/PiDTfcMNsYvc8555wj7neTYaBX08eUHsaogwcPdq40vZhH6n8/mUE5ec/8QvnHP/5RzmHsLebeEX7rv6n6XdY3v2vQce03eCaUJ6+fS+n1acF4Isybn+p/4zS0U045pfWDH/xgxZSVZ7j68pe/XOYwBhiyYTVvbt26dVZmWAgHDhwoirxzOB8ZwrNC/hk15kzzJ5lolPP8OPHYY4+VZ5Nsz/Dc9Hd6jxGm6jvt85///OycuBC5pNuYYy1zj6tNx4Xg+l/72tfm/C7PG/mriR/f9uMy59L3GDSmCRuk9DD3dJqMOfTEl73sZa377ruv885kMfFhVu0HqJTOnS/mX6wld7d6tQYVcYTdtAd5553DcJdeu3ZtcaOWELDpmIr2BFGqvThWUlaveyF8SKzhNLj0LgX//t9/F7d17sLtibvz7iHaz2tJWCxsRviUfA9cYfshlI7LuATJ8kkIcWs6rxw6Qq+6P1uJSGBb3VfPfXclI/ddKEEdMd7ihmGMGQt1fNaeVDuvDvGMZzxjdqxUY6g+dhxvjFZwWd2wYcNsZRiJRYVgVfitq1evnhOm4j1hdtV5zRPyK7l2mEtbES/3VzWxUeCeC9PyPEnCGwbD8yuktLsNkytAvhOlzuVvqZoqR21htLiQV00opPCobgadD/W10IC2cDXzrne9a+DqZ9OEOUUIwItf/OLOO/1pFfnzUCioUAJzlZA1r0eJviHPOH99fu2H/lMRsK0Mdd6ZLqz5bcVxZteuXSUccdqQy8LfpojBtCMfngTdcoGRM7Zt21ZkvmrefP/73z9UNTk6g3xTzmG+NEcKXxS+L3xVGOMo2LFjR/n90gWsWbOmjNNppFpLpDUQvmv8dWONUz2z6jtNKHG1ngw6fzXh+sb9MLKf68s7Vv9dQr96JareuWtnSUYuJQQ5dZqQ6F//TSNSNwglrldGnhQmftY44YQTitBRVa/pBYPMq171qjlZ0FXtkHyr1+Tp/XXr1pVyj/2EWh0v1lXcJGFZfo9eHDx4sOQd8NCEI3n6055e+sWC/L3vfe+ItmXLlmLAe8c73lGSHM+HyV+JXfkL5JiguDSdl7GHAWMxi8W0QLCQJNp90Q9XX331nBhn90gMsdhmxzDsWCS7EQdNkXTMO9/5zs67hxHXLk7V5/IYqZpSL6PLCHPBBReU65hgm/rbb7Fguo4cL90YZxRaOSxcxzHinecr17sSefOb31zmMeNAjgBG02GgQFx33XUl8S7h7Oyzz26sgBaa8Uw3tfkgHMv9QQGpmnLLxhgFpGqSvRLG9FO9LUY5ketg8+bNZV5mFJx2jA1K2CD90oun/u+pmRtvvLH0zyc/+ckiYzz++ONljfP+YvJzXHTRRWXevOyyy0rffvvb3555+OGHO58Oj4pJEpFOorBbR7+p9EUxWcx9HlesxxJzWxenGXkoVZKzoWvDQN4wMoNk3guZO3tRfV+eMUYFxlbGCHn65AlczJzpu1/96leLoUixAEZ2xqhpNeYwjsmjCBsH8t80Ue+3qo0Dg/4ucqZ5xTpIZqWjTgs2w82bTfL+NPCHP/yhrJUTqR+0O2Xs6RVmxZWUmxX3rFNPPbXxGK096Er+laY4fm5ZdTetqgnHuOmmm8ox4qqFmnA5bk+0RxyrPfOZz2z9/ve/L+5d3Pvayktx9+zO6VE1rmph8Yjf5JrZq1XufmFw2gJGeebhHl577bV9w5KMTyFPdZ588slWe1Is/dOLtkI5G9evn7Zv397XLVwsfPd1hE3edddd5fvCCOTRqSP3g3xIwhiq13v27Bk618i4Mcowq/PPP7/VViKL+/Bb3/rW1mc/+9nOVRaGUDkhGieffHLJXyQWvi1oN15zoW0lhFn1oq3sz5nbjNGbb7659JcmPFI4adN9G3WzrlnfrIkveclLyrMyqbHmw+D57r4n7oV+GIRHHnmk9Y1vfKO4nnefRyOvOJe5dSFzlflxy5YtJVTP88Jl3GvNNReCObNp3JpvpiHn2Nve9rYj/rZpaxs2bOj8tdOH59u8c9JJJ5XwTmESS43Qqw9+8IPl3grZHyZcm0xEJqEnGOcLmTcmHfKKcJnnPve5Ja+TnJf9ZMTF0JQzR9u5c2fniNFiTdava9asKX0q9cB8aSAmCTK2e1q/l9MWZuV9OZquu+66idMRJtYEzHrdnsRn3vSmN82+7mXRZiHl+t0UksO1UThVHRbX9kJfyorCrrKS2KpgCdVpssi2H6CyU8eiZ3eSh45dUF46vSy4YXG0J8+yE81zxG5hvXlPdQAVk/p5VYUj8fxWnhQ8K+zu9nNNFVpgLNbhAbd+/fqeZXnbc08pidxe9Mq/jV0eNsIBeqGyRPd1eHHxuPN94Q1KAtex4yVUS4hW9dqY5/UT5lJ5UPHKEo7mPg2Dyg3OY/5TFetDH/pQcYUPi6MtoMx8/etfL7vDmp1cIQQXX3xxaaoNtZX/ztFLg/nAWDIOeZTYEeeRo2LWtIbkLAU8HVXr05p46KGHimcbr8KFsOqkVWW88Yokd/A89loTAh7CtECuI2e3FcRSzZI32lJDfjDXGVs8i3m9LQSyDo8UFZCEHwuH4z15/vnnd46YboQl0aWE5auux0uUDO++TDKeReGa5llem/7PS2y+NBCThLCxaQ2vqsM7VgTHpFUDnEhjDgXxpS99aRFehU9RPJW741rZDSXPxCsWtelzITgEHsdUxiATCwWwHvtOUDVAq2t2G44YFpSqe/LJJ4uiKO7TbzJpV9d1DQ2TPnmNA/pA6WPu5Nxe680CyR2Wi2N1z8P4UPWJ3Ehcjbkch6NLNScxEJi3FlNaWf8yzsmZ49+Z7xaPTQmbA9YlTR6IXnl0hp3zute1bs4999yyaXHDDTeUsANGJIpIPXx5JSD3nXs83/3qBeXTODv99NM778zltNNOK/mHGMQXYnhuSxidfy0N1VjOeA7jAF3As0jGtjm01FTzqv8rWb1QY45QcpscFGOGIbl9zKO9cq9MI/pKXj4bhAw6Qt8ZuGyITyrC0q+44oqZvXv3Fv1DfqVpMuRAaXghSNOO+cT4Njbp85PCRBhzugUHk4GYcsmLCTomhTPOOKMYWbphMZUjo18CNBZ9Xhx1D44mYUXMJy8FQpZjq4kd1QNQF+78HkmzXN+k5RhC75e+9KWSLDIsDgu5fuct1S1Uey23jlwO9X4K44UcUnan62MvHF2MqfkSyg8C44O8LYsxCoXDSMLIW8q6p1lbCJGSctYbJaPaiBh07quOO+WUU8pa1X3Oql1//fUlN5w8SDywVio8d3lGLWbeIk/I99GUC8xn8pKNG54PO8/T0PdNMl4I80GmlEeT3DkInjMekzxe5WZ88MEHiyGHZ6MN337eyNOKIhrmEUm6eSHKGWajfNIMOgcOHChGHF6U5Fj9y0g/bTkC6bA8qFYKxqzcQJOUG24ijDnCnYTOCKGQIIwHjJ2r+bKSs3bbQfT9ftU17B7z9HFulXgIwr0GI2OMsBLVJ3j0cDevQkk8AN0CApd0AhAPoD179pRQBhVjVrIgPEoYbTwbFJt6n+mb7vC5MB5YsIWJWPTsyvzwhz8su1N2M4wPu95h+WEYF45KUR+FAdTYtDslFM58F6PqaNFf7q21sN54ewjH+tGPflRCEAfBumWTgpecubP7nFWz3qUfZ4oiJylqHYYdnoaDVqNy/G233Tbz2GOPlfFB/uCxU4WEHk14SgqN7PaYpHj6jb08wiYJ1Y+Eg06jV4SNRF5zvMmnGaGDxs4vf/nLIgfaHFpqqjBTmxW9kG7ht7/9bQnF4qUvyTFdpKpmS86RIqKfXjLNGHPmERETQnXNhbw+GLzcL00I1r59+4Zuf/zjHxuN7cJomo4fpNkoUam1+o1kWIY6kRmbNm0qIXjHHnts50rTwd///veSrkJS52669V3UDXJNn8P7TX1TVXiEtUcI5a9//euSvF+y84pe560zyDH9sJYz2j7xxBOdd8abp7X/4MX9xcuEjq8ekqZJVGlp3jU33XRTiTO3mCltbKLoFrqaqM5vQmF4YYDp9vao47Z52LhLsi6bpF1HHKzQn7C8mHDkerFI6huvPQNRPMYTix93Y4ZZi67cORZGC2L6bXC4gZqrRlEdryqJzetjVPffWLQobt269Qjvx2FgwCAYi7sP/bEOquyiEtwgcBEfVVn6lYBwMx46FeQFSp5qgHae54P8YFxQEnjCcc+306vaJaOJnAtHy2hiXpE3gOJZF8552VFopoWqLPy0lSdnRH/Pe94z1WuptUV1NV4RwpfI4NaYt7zlLY0pFUaJ3CEqP+7cuXPWi1WODfqA0CsGg6985SvFUEu+YVS3SUzGYRTvp1usNMgEjHDyH6kmVGGtt9E+LAxpNgrr3hXGgqqdNu+HwW/Vn/U50TizgWJTfxr7lUeuZ9lc2S2/kdc919YwG0HWL1EwvJXcC3q5nHruO0cJaxqvNOPWOeWMgu+4j/qLtzF8/4EHHiibChw33OPK8M6bVWl4DhLGIOMpVLY+55xzSp/zkjIOGQ0Z7sHou3379pm//vWvZfNfKgD6PqzFrldHBA2D/1LPJ6NgYow582FweXAIWIRYFm/u4HYZBxlgv/vd72buvvvucny/XATdUEo1eGA9dJmolx8LqcnBjrTBqxS1xSCML3aqGF+VFL399ttLOWtjdj6Pu3CYURlzJEy1ACsz32/HcRgIAAw6owjdijFncGLMWVrsVBJO6yX87coSSuWcms/jg+hF6KxEMDv+xkolmDLoHA1F3FqqdDCvSSF3FTar7EYLD5kW3Hv3m/w4TUYPf8vRen6WE+OFQkiRpIzxmLOpZ2PC2FI0YSkSs9eNOcJrGHAYkyiQFFo6QbWh7PoUTAYdsk3lyR8O0z0XjgL6gDnMxm4dMucb3/jGzqvF4ffq02nwVOyFTQdzZPdcUv/bzZ/WDe85roo88b5+rb5rTqIfG7eOr4xDPncu46YylPmMpzid3rimH9hohHM4V13/dm3yIfnVv6t8VvXf429x3QrHV33neN+rU/2uidDp2z9+amh3filzVzWvB+Wb3/xmKW+oXOhCvhfGB2WnlYvct29f550wziiF/eEPf7iUF7/00ktLecKqVHkYjFGVJr/88stny0kuBUpLXnzxxaVkZ9P1B23txXfFliZfKAcPHmytXbu28T42tb1793a+GQahLUS2Nm/efMR9bCtrrd27d5eytJMmS7QVn9Ydd9zROu+881ptQXbO32V+3r9/f+fIEMYDY8xzqXTx6aef3morZ0WW15Qi/tWvflXa/fff32orcp1vDYc51Xm2bdtWSh/v2bOndeaZZ85er630tZ71n89qvf3tb2996lOfav35z38uushSrq2hmeUuTR5GizGzcePGsg495znPad1yyy2dT0ITU+VCworG6l01rweBKyTrOguf/09SButwGBZUrnhCdsL4s27durKzLaGgRKCs7m2BqPNpWC54E8hHtpS7DzwleWKJKVdhLoRJx3iRLJwXQH23vS1XlXwYdn+5qFc7jeOO8IGbb755ZvXq1SWXj78D5Chjlms7b4MQxgnPpzAI3tg84uSesgP/1FNPFU9TMqEmnIJHjWSuwzZpGHjv874TbihJudAqa6iqfnL/XfLfl5RcGzxdn338s8vcMBE7+yGMCcbuo48+WsKxwmBMTZjVYhBny23fouB2cJtuqjARQhgtXGAlOHvFK14xRyEKg7HYMCtKGgOLePX5jN/ySnBpF0csHEcYz6233tr5dKaUzZ4v4a5EduKa77vvvs47CyNhVoOTMKvlQQJMeTsodd0IX3z3u99dnlvhpK997Ws7n4wHQkMoqJRNSS7l67GpVTfkMODIjcDlfRShkiEsFZ5dOTc0z671iXyBSr5fLNV5bBpay2xUyO0if5acWWE8sHl0+eWXHxFmJTRO3pwwvgjrUgl1y5Yt5bXxJRcdg2loJsacNmJteQiAUCNJmXLlLPBhPDAh33LLLSVxVRM8Onh6VImqxFD/7W9/K//uxiNvUkh5+KMPrzil+uVhoPCEhbFYY46EppJHyjPVjWRxP/nJT2aNPJRWCqucBPIFSEzHeFN9zhBgJ1SuEF5WTR5yKhKomnTttdcOtesSY87gxJizPPC8ueuuu8puvITBdTyvlD1jhGfA+vXrZxVKY2+5y4/zWOAFWSHxqCIRfhMBmnGnWyQ0P1N+jOdqrIfDqLjCa2PQKmbzIReEioKSGIeFY1dfA6OOfJheWzd4nw2LsWocOIdS2uRHG78SuxoXdIeMj/EhxpzJJcachbPijTl2iJVJpvxXmJS5G8uKH44uFBLKiERyBradQ8lUu1GFR3Zz2fAppvpPwqyHHnqoc8Rh7KDIsC4xl50cLrhh+bHIfve73y2Lq74TlhB35IWxGGOOqgJKgcr0L8EcVCUQampZUClg27Zt5X14T7v00ktnPvOZzxQlpm4EIshqhFwlcatzSgDJ6FOV7GQQUiGgaWzOR4w5gxNjzvJhXHiueegoCd9ENT4qJHs37/UTwXgrGmMqhsyHAhD33ntvX4WS4UnJamtfRaX4dkOAduxHPvKREsIcmjFP8lqyMTEKzJsMbhs2bOi8E4alGlueezL+sAY3Y0QFJImMbXLwJOaJeuedd8ZbbUyJMWdy6Tbm2EhQXVFLmH4zK96YI7xAxnM7VnXE3ioz/sIXvrDzTlhueOHwBuAFwPhSDWiLafXYElztZHGl1WSwpzhSUk3YYqQrHMuDh6GHy7uSpOKrlacLywfBSr/YMWNwE3pTZatftWpV2cGuss+H/izGmEMY5U1gXFQeb8abcVHP+N9NL2NOLyii733ve2eOP+H4tnR9yBWeYK2C2UKXHyEfvLgIaaE/MeYsL5WHjt16JVYZVvRBL4y7+Z5/zzvD56tf/epDb7DT+Er9/x1u/5/bixfNYrA+movl/JHLjBde8uT0h/eiKl+jNOYwouuDMH4Y14w5PMHJm0och/EjxpzJpduYA7q4asXyO4YjWdHb4Fz+//KXvzQKVBZTseTckMPyQ+FTFvUTn/jEzIMPPliMOIRlMcrVDj8o/bwAeOtQME3UQuYYdhhq6pgMKJUsu3a+rr/++lJe9je/+U3P3cmwNDz++OMz3//+94vLsvFnx2z79u3ldfpicJRVlIB1mJ1zBhzCKEWE0q953c+QMwyMdUJXL/ivQ9dgmB02sR1X97POOqvzKoTxgReNnDhXXnll8WbhpeN5PfXUUxtL1w5iyGQM+tznPjc7PqsxNOf/nbYYQ45Qkde85jUzF1544czVV19dPF0leY0hJ4QjMXYZdI455pjOOyGEcPRY0cYccc67d+9uVB7FjrMC/uIXv+i8E5aTAwcOlBhJhhZGHEr+rl27Siw5ZY7gzJDDi4MrOEOAnWV9aaHlmWOx5TlQCdJ2uhh+7rjjjuIZ8q9//at4CPDOqrudh6VF3/F6Y6AT4sYYwcAmfEbOFTkmwmC4V7xrqpCmhcCYvWPHjhKauJR0K61CuR544IGBlNkKXgynnXZaCcUzrsP8GGcMCRT1fri38YYbLWvWrJn5wAc+MHPjjTcWo4557bzzzitNrpxB84MZIwsZJ4Ogv5/3vOcVQ5Pfc+6555b52E62YhA8VePKHsKR2OhItdsQlhZOFHTwMDgr1phDQDIp2yFuEpYqA0K3i15YHhhXJFhlcKle79+/v+TjsAMptwpFxS7iiSeeWDw96n1VVUjipUPhFddMqZF8lfuevgXvBNfhCRSWDwqFvlD9gZeUPrIbnAl8YVDYhaZp07xLyFh11VVXFS+iUSu30wpvLeHCjNhCUXvhfgpdkxMijA6bCNYrufck75dLR/Mcv/zlL58tmVxvQptGMY7Nr+aEpmvo540bN8585zvfKb9HGXIGJ9cexii80mGYk3/MXDwKFHGIYXU8EUrHAGp8hRCWBhv5omMyzgZnxebMka9DLLp4535wZRaOI4lnWD54a0hOXc9lRDjmmSOcyo6nMCpeOvpRnoK6QYZgRZFRGpbbu/AqiY8J0vVqHpAnQDJKAndYPpqmnkzewyHMUO6v+++/vyQwXgpPM0qmCn+ve93riocb7zllzeXrefTRR4/IOzYKPA+8CK655poyfpvCVUJ/7HIJmeHl2At5yRK+tjz0E7lsLDCs8F5bLEK9eN30InPt6CBHki0kwbYROAxkFh5yFJl4H44njzzySMlRJzm4OVNOKfJjGD9s+pJTujfkeSOnuM14I1pi06ZNnVeHSM6c/qxYY46kkJR87v794Iosb8uZZ57ZeScsJQQhiVEZXyyc3Yjht6uoqgBX8FtvvbUY27pzG/HcMWETsAjGdrq4yKo6IU9SN5Imm0DqpZZDmBSEFzLg8DTcunVrybXBwMPI2auc/6AwoEqWbLxdccUVxeNDs3TwnPv5z39ewlV5VUmKTLEZVqGpMM6VN/d/eUgYclJRZziqfuq11Huf504MZUefahwvVizzfeMliubywJDNWMpTeNiKjPqeTMqbK2NxPKmMOXJLkTuTU2p8IYdIzSCZboV5kQ5Azg/jS5Mxx6aeDXoFOPp5Gq9UVqwxh6IvAaudZu7I3Qq8hVXpXDvOvHPEk4elh8GFAUbYVK/QJx45EqpSGHnoKA/ZhETJQgxWr15ddr3k1JFMsslYY3KwKybPQcpjh0nFmGDIMa0rVSyhcVMp/4VQ5Z8yLgiv3ePHmK0UUJU+hM8tdllRIYSn0XHHHVcU0oQdhBDGGQadftXLBsH8OqpwrTB6KmPORRddVNa5QXNfheWHEUfrlkXIEum38abJmMPALQT17rvvLp5xYS4r1phTeWxI/CdZYbeCwpCgmpUdZ8YDikUYHzy0C/WfabX/e9qCvxVCCCGEEFYy0jMI3RGSykMgnm8hjB5VibWmjXdpMuQoC3NZkcYcf3L1kNT/3Y9BjwshhBBCCCFMD9EDQgjjyIr1zAkhhBBCCCGEEEKYRJIcJIQQQgghhBBCCGGCiDEnhBBCCCGEEEIIYYKIMSeEEEIIIYQQQghhgogxJ4QQQgghhBBCCGGCiDEnhBBCCCGEEEIIYYKIMSeEEEIIIYQQQghhgogxJ4QQQgghhBBCCGGCiDEnhBBCCCGEEEIIYYKIMSeEEEIIIYQQQghhgogxJ4QQQgghhBBCCGGCiDEnhBBCCCGEEEIIYYKIMSeEEEIIIYQQQghhgogxJ4QQQgghhBBCCGGCiDEnhBBCCCGEEEIIYYKIMSeEEEIIIYQQQghhgogxJ4QQQgghhBBCCGGCiDEnhBBCCCGEEEIIYWKYmfl/z8mCjnXUmZ0AAAAASUVORK5CYII=)"
      ],
      "metadata": {
        "id": "RexSAyjDLg80"
      }
    },
    {
      "cell_type": "code",
      "source": [
        "!cp \"/content/drive/MyDrive/magamed/introduction ML/PCA/X_loadings_456.csv\" /content/data2.csv\n",
        "!cp \"/content/drive/MyDrive/magamed/introduction ML/PCA/X_reduced_456.csv\" /content/data3.csv"
      ],
      "metadata": {
        "id": "AcIcuDv8CfVB"
      },
      "execution_count": 32,
      "outputs": []
    },
    {
      "cell_type": "code",
      "source": [
        "data_reduced = pd.read_csv('data3.csv', header=None, sep = ';') #матрица счетов\n",
        "data_loadings = pd.read_csv('data2.csv', header=None, sep = ';') #матрица весов\n",
        "\n",
        "data_loadings"
      ],
      "metadata": {
        "colab": {
          "base_uri": "https://localhost:8080/",
          "height": 423
        },
        "id": "a_6-Z8PJExfW",
        "outputId": "cedfacfc-67e0-4e4f-a12a-555e2404bc1a"
      },
      "execution_count": 37,
      "outputs": [
        {
          "output_type": "execute_result",
          "data": {
            "text/plain": [
              "               0             1             2             3             4  \\\n",
              "0  -6.238565e-18 -5.674130e-18 -2.293371e-17 -5.135538e-18 -1.192463e-17   \n",
              "1  -2.220446e-16 -2.775558e-17  5.551115e-17  1.595946e-16 -1.387779e-16   \n",
              "2  -0.000000e+00 -0.000000e+00 -0.000000e+00  0.000000e+00 -2.775558e-17   \n",
              "3  -0.000000e+00  1.110223e-16 -2.220446e-16 -2.775558e-17 -2.220446e-16   \n",
              "4  -0.000000e+00 -0.000000e+00 -5.551115e-17  0.000000e+00 -0.000000e+00   \n",
              "..           ...           ...           ...           ...           ...   \n",
              "95 -0.000000e+00 -0.000000e+00 -0.000000e+00  0.000000e+00 -0.000000e+00   \n",
              "96 -0.000000e+00 -0.000000e+00 -0.000000e+00  0.000000e+00 -0.000000e+00   \n",
              "97 -0.000000e+00 -0.000000e+00 -0.000000e+00  0.000000e+00 -0.000000e+00   \n",
              "98 -0.000000e+00 -0.000000e+00 -0.000000e+00  0.000000e+00 -0.000000e+00   \n",
              "99 -0.000000e+00 -0.000000e+00 -0.000000e+00  0.000000e+00 -0.000000e+00   \n",
              "\n",
              "               5             6             7             8             9  \n",
              "0   2.400842e-18  1.306027e-17  1.271542e-17  1.449213e-17 -9.758364e-18  \n",
              "1  -2.896988e-16  1.179612e-16  2.532696e-16  2.393918e-16 -3.937822e-16  \n",
              "2  -9.020562e-17  1.387779e-17 -6.938894e-18 -1.387779e-17  8.326673e-17  \n",
              "3  -1.387779e-17  1.110223e-16  8.326673e-17  0.000000e+00 -2.081668e-17  \n",
              "4   5.551115e-17  5.551115e-17  1.110223e-16 -1.110223e-16 -1.665335e-16  \n",
              "..           ...           ...           ...           ...           ...  \n",
              "95 -0.000000e+00  0.000000e+00 -0.000000e+00  0.000000e+00  0.000000e+00  \n",
              "96 -0.000000e+00  0.000000e+00 -0.000000e+00  0.000000e+00  0.000000e+00  \n",
              "97 -0.000000e+00  0.000000e+00 -0.000000e+00  0.000000e+00  0.000000e+00  \n",
              "98 -0.000000e+00  0.000000e+00 -0.000000e+00  0.000000e+00  0.000000e+00  \n",
              "99 -0.000000e+00  0.000000e+00 -0.000000e+00  0.000000e+00  0.000000e+00  \n",
              "\n",
              "[100 rows x 10 columns]"
            ],
            "text/html": [
              "\n",
              "  <div id=\"df-fdfbeae6-2582-4058-9edc-de705a18d154\" class=\"colab-df-container\">\n",
              "    <div>\n",
              "<style scoped>\n",
              "    .dataframe tbody tr th:only-of-type {\n",
              "        vertical-align: middle;\n",
              "    }\n",
              "\n",
              "    .dataframe tbody tr th {\n",
              "        vertical-align: top;\n",
              "    }\n",
              "\n",
              "    .dataframe thead th {\n",
              "        text-align: right;\n",
              "    }\n",
              "</style>\n",
              "<table border=\"1\" class=\"dataframe\">\n",
              "  <thead>\n",
              "    <tr style=\"text-align: right;\">\n",
              "      <th></th>\n",
              "      <th>0</th>\n",
              "      <th>1</th>\n",
              "      <th>2</th>\n",
              "      <th>3</th>\n",
              "      <th>4</th>\n",
              "      <th>5</th>\n",
              "      <th>6</th>\n",
              "      <th>7</th>\n",
              "      <th>8</th>\n",
              "      <th>9</th>\n",
              "    </tr>\n",
              "  </thead>\n",
              "  <tbody>\n",
              "    <tr>\n",
              "      <th>0</th>\n",
              "      <td>-6.238565e-18</td>\n",
              "      <td>-5.674130e-18</td>\n",
              "      <td>-2.293371e-17</td>\n",
              "      <td>-5.135538e-18</td>\n",
              "      <td>-1.192463e-17</td>\n",
              "      <td>2.400842e-18</td>\n",
              "      <td>1.306027e-17</td>\n",
              "      <td>1.271542e-17</td>\n",
              "      <td>1.449213e-17</td>\n",
              "      <td>-9.758364e-18</td>\n",
              "    </tr>\n",
              "    <tr>\n",
              "      <th>1</th>\n",
              "      <td>-2.220446e-16</td>\n",
              "      <td>-2.775558e-17</td>\n",
              "      <td>5.551115e-17</td>\n",
              "      <td>1.595946e-16</td>\n",
              "      <td>-1.387779e-16</td>\n",
              "      <td>-2.896988e-16</td>\n",
              "      <td>1.179612e-16</td>\n",
              "      <td>2.532696e-16</td>\n",
              "      <td>2.393918e-16</td>\n",
              "      <td>-3.937822e-16</td>\n",
              "    </tr>\n",
              "    <tr>\n",
              "      <th>2</th>\n",
              "      <td>-0.000000e+00</td>\n",
              "      <td>-0.000000e+00</td>\n",
              "      <td>-0.000000e+00</td>\n",
              "      <td>0.000000e+00</td>\n",
              "      <td>-2.775558e-17</td>\n",
              "      <td>-9.020562e-17</td>\n",
              "      <td>1.387779e-17</td>\n",
              "      <td>-6.938894e-18</td>\n",
              "      <td>-1.387779e-17</td>\n",
              "      <td>8.326673e-17</td>\n",
              "    </tr>\n",
              "    <tr>\n",
              "      <th>3</th>\n",
              "      <td>-0.000000e+00</td>\n",
              "      <td>1.110223e-16</td>\n",
              "      <td>-2.220446e-16</td>\n",
              "      <td>-2.775558e-17</td>\n",
              "      <td>-2.220446e-16</td>\n",
              "      <td>-1.387779e-17</td>\n",
              "      <td>1.110223e-16</td>\n",
              "      <td>8.326673e-17</td>\n",
              "      <td>0.000000e+00</td>\n",
              "      <td>-2.081668e-17</td>\n",
              "    </tr>\n",
              "    <tr>\n",
              "      <th>4</th>\n",
              "      <td>-0.000000e+00</td>\n",
              "      <td>-0.000000e+00</td>\n",
              "      <td>-5.551115e-17</td>\n",
              "      <td>0.000000e+00</td>\n",
              "      <td>-0.000000e+00</td>\n",
              "      <td>5.551115e-17</td>\n",
              "      <td>5.551115e-17</td>\n",
              "      <td>1.110223e-16</td>\n",
              "      <td>-1.110223e-16</td>\n",
              "      <td>-1.665335e-16</td>\n",
              "    </tr>\n",
              "    <tr>\n",
              "      <th>...</th>\n",
              "      <td>...</td>\n",
              "      <td>...</td>\n",
              "      <td>...</td>\n",
              "      <td>...</td>\n",
              "      <td>...</td>\n",
              "      <td>...</td>\n",
              "      <td>...</td>\n",
              "      <td>...</td>\n",
              "      <td>...</td>\n",
              "      <td>...</td>\n",
              "    </tr>\n",
              "    <tr>\n",
              "      <th>95</th>\n",
              "      <td>-0.000000e+00</td>\n",
              "      <td>-0.000000e+00</td>\n",
              "      <td>-0.000000e+00</td>\n",
              "      <td>0.000000e+00</td>\n",
              "      <td>-0.000000e+00</td>\n",
              "      <td>-0.000000e+00</td>\n",
              "      <td>0.000000e+00</td>\n",
              "      <td>-0.000000e+00</td>\n",
              "      <td>0.000000e+00</td>\n",
              "      <td>0.000000e+00</td>\n",
              "    </tr>\n",
              "    <tr>\n",
              "      <th>96</th>\n",
              "      <td>-0.000000e+00</td>\n",
              "      <td>-0.000000e+00</td>\n",
              "      <td>-0.000000e+00</td>\n",
              "      <td>0.000000e+00</td>\n",
              "      <td>-0.000000e+00</td>\n",
              "      <td>-0.000000e+00</td>\n",
              "      <td>0.000000e+00</td>\n",
              "      <td>-0.000000e+00</td>\n",
              "      <td>0.000000e+00</td>\n",
              "      <td>0.000000e+00</td>\n",
              "    </tr>\n",
              "    <tr>\n",
              "      <th>97</th>\n",
              "      <td>-0.000000e+00</td>\n",
              "      <td>-0.000000e+00</td>\n",
              "      <td>-0.000000e+00</td>\n",
              "      <td>0.000000e+00</td>\n",
              "      <td>-0.000000e+00</td>\n",
              "      <td>-0.000000e+00</td>\n",
              "      <td>0.000000e+00</td>\n",
              "      <td>-0.000000e+00</td>\n",
              "      <td>0.000000e+00</td>\n",
              "      <td>0.000000e+00</td>\n",
              "    </tr>\n",
              "    <tr>\n",
              "      <th>98</th>\n",
              "      <td>-0.000000e+00</td>\n",
              "      <td>-0.000000e+00</td>\n",
              "      <td>-0.000000e+00</td>\n",
              "      <td>0.000000e+00</td>\n",
              "      <td>-0.000000e+00</td>\n",
              "      <td>-0.000000e+00</td>\n",
              "      <td>0.000000e+00</td>\n",
              "      <td>-0.000000e+00</td>\n",
              "      <td>0.000000e+00</td>\n",
              "      <td>0.000000e+00</td>\n",
              "    </tr>\n",
              "    <tr>\n",
              "      <th>99</th>\n",
              "      <td>-0.000000e+00</td>\n",
              "      <td>-0.000000e+00</td>\n",
              "      <td>-0.000000e+00</td>\n",
              "      <td>0.000000e+00</td>\n",
              "      <td>-0.000000e+00</td>\n",
              "      <td>-0.000000e+00</td>\n",
              "      <td>0.000000e+00</td>\n",
              "      <td>-0.000000e+00</td>\n",
              "      <td>0.000000e+00</td>\n",
              "      <td>0.000000e+00</td>\n",
              "    </tr>\n",
              "  </tbody>\n",
              "</table>\n",
              "<p>100 rows × 10 columns</p>\n",
              "</div>\n",
              "    <div class=\"colab-df-buttons\">\n",
              "\n",
              "  <div class=\"colab-df-container\">\n",
              "    <button class=\"colab-df-convert\" onclick=\"convertToInteractive('df-fdfbeae6-2582-4058-9edc-de705a18d154')\"\n",
              "            title=\"Convert this dataframe to an interactive table.\"\n",
              "            style=\"display:none;\">\n",
              "\n",
              "  <svg xmlns=\"http://www.w3.org/2000/svg\" height=\"24px\" viewBox=\"0 -960 960 960\">\n",
              "    <path d=\"M120-120v-720h720v720H120Zm60-500h600v-160H180v160Zm220 220h160v-160H400v160Zm0 220h160v-160H400v160ZM180-400h160v-160H180v160Zm440 0h160v-160H620v160ZM180-180h160v-160H180v160Zm440 0h160v-160H620v160Z\"/>\n",
              "  </svg>\n",
              "    </button>\n",
              "\n",
              "  <style>\n",
              "    .colab-df-container {\n",
              "      display:flex;\n",
              "      gap: 12px;\n",
              "    }\n",
              "\n",
              "    .colab-df-convert {\n",
              "      background-color: #E8F0FE;\n",
              "      border: none;\n",
              "      border-radius: 50%;\n",
              "      cursor: pointer;\n",
              "      display: none;\n",
              "      fill: #1967D2;\n",
              "      height: 32px;\n",
              "      padding: 0 0 0 0;\n",
              "      width: 32px;\n",
              "    }\n",
              "\n",
              "    .colab-df-convert:hover {\n",
              "      background-color: #E2EBFA;\n",
              "      box-shadow: 0px 1px 2px rgba(60, 64, 67, 0.3), 0px 1px 3px 1px rgba(60, 64, 67, 0.15);\n",
              "      fill: #174EA6;\n",
              "    }\n",
              "\n",
              "    .colab-df-buttons div {\n",
              "      margin-bottom: 4px;\n",
              "    }\n",
              "\n",
              "    [theme=dark] .colab-df-convert {\n",
              "      background-color: #3B4455;\n",
              "      fill: #D2E3FC;\n",
              "    }\n",
              "\n",
              "    [theme=dark] .colab-df-convert:hover {\n",
              "      background-color: #434B5C;\n",
              "      box-shadow: 0px 1px 3px 1px rgba(0, 0, 0, 0.15);\n",
              "      filter: drop-shadow(0px 1px 2px rgba(0, 0, 0, 0.3));\n",
              "      fill: #FFFFFF;\n",
              "    }\n",
              "  </style>\n",
              "\n",
              "    <script>\n",
              "      const buttonEl =\n",
              "        document.querySelector('#df-fdfbeae6-2582-4058-9edc-de705a18d154 button.colab-df-convert');\n",
              "      buttonEl.style.display =\n",
              "        google.colab.kernel.accessAllowed ? 'block' : 'none';\n",
              "\n",
              "      async function convertToInteractive(key) {\n",
              "        const element = document.querySelector('#df-fdfbeae6-2582-4058-9edc-de705a18d154');\n",
              "        const dataTable =\n",
              "          await google.colab.kernel.invokeFunction('convertToInteractive',\n",
              "                                                    [key], {});\n",
              "        if (!dataTable) return;\n",
              "\n",
              "        const docLinkHtml = 'Like what you see? Visit the ' +\n",
              "          '<a target=\"_blank\" href=https://colab.research.google.com/notebooks/data_table.ipynb>data table notebook</a>'\n",
              "          + ' to learn more about interactive tables.';\n",
              "        element.innerHTML = '';\n",
              "        dataTable['output_type'] = 'display_data';\n",
              "        await google.colab.output.renderOutput(dataTable, element);\n",
              "        const docLink = document.createElement('div');\n",
              "        docLink.innerHTML = docLinkHtml;\n",
              "        element.appendChild(docLink);\n",
              "      }\n",
              "    </script>\n",
              "  </div>\n",
              "\n",
              "\n",
              "<div id=\"df-d5b1f8fe-5ca9-476c-a188-b0963666e6e4\">\n",
              "  <button class=\"colab-df-quickchart\" onclick=\"quickchart('df-d5b1f8fe-5ca9-476c-a188-b0963666e6e4')\"\n",
              "            title=\"Suggest charts\"\n",
              "            style=\"display:none;\">\n",
              "\n",
              "<svg xmlns=\"http://www.w3.org/2000/svg\" height=\"24px\"viewBox=\"0 0 24 24\"\n",
              "     width=\"24px\">\n",
              "    <g>\n",
              "        <path d=\"M19 3H5c-1.1 0-2 .9-2 2v14c0 1.1.9 2 2 2h14c1.1 0 2-.9 2-2V5c0-1.1-.9-2-2-2zM9 17H7v-7h2v7zm4 0h-2V7h2v10zm4 0h-2v-4h2v4z\"/>\n",
              "    </g>\n",
              "</svg>\n",
              "  </button>\n",
              "\n",
              "<style>\n",
              "  .colab-df-quickchart {\n",
              "      --bg-color: #E8F0FE;\n",
              "      --fill-color: #1967D2;\n",
              "      --hover-bg-color: #E2EBFA;\n",
              "      --hover-fill-color: #174EA6;\n",
              "      --disabled-fill-color: #AAA;\n",
              "      --disabled-bg-color: #DDD;\n",
              "  }\n",
              "\n",
              "  [theme=dark] .colab-df-quickchart {\n",
              "      --bg-color: #3B4455;\n",
              "      --fill-color: #D2E3FC;\n",
              "      --hover-bg-color: #434B5C;\n",
              "      --hover-fill-color: #FFFFFF;\n",
              "      --disabled-bg-color: #3B4455;\n",
              "      --disabled-fill-color: #666;\n",
              "  }\n",
              "\n",
              "  .colab-df-quickchart {\n",
              "    background-color: var(--bg-color);\n",
              "    border: none;\n",
              "    border-radius: 50%;\n",
              "    cursor: pointer;\n",
              "    display: none;\n",
              "    fill: var(--fill-color);\n",
              "    height: 32px;\n",
              "    padding: 0;\n",
              "    width: 32px;\n",
              "  }\n",
              "\n",
              "  .colab-df-quickchart:hover {\n",
              "    background-color: var(--hover-bg-color);\n",
              "    box-shadow: 0 1px 2px rgba(60, 64, 67, 0.3), 0 1px 3px 1px rgba(60, 64, 67, 0.15);\n",
              "    fill: var(--button-hover-fill-color);\n",
              "  }\n",
              "\n",
              "  .colab-df-quickchart-complete:disabled,\n",
              "  .colab-df-quickchart-complete:disabled:hover {\n",
              "    background-color: var(--disabled-bg-color);\n",
              "    fill: var(--disabled-fill-color);\n",
              "    box-shadow: none;\n",
              "  }\n",
              "\n",
              "  .colab-df-spinner {\n",
              "    border: 2px solid var(--fill-color);\n",
              "    border-color: transparent;\n",
              "    border-bottom-color: var(--fill-color);\n",
              "    animation:\n",
              "      spin 1s steps(1) infinite;\n",
              "  }\n",
              "\n",
              "  @keyframes spin {\n",
              "    0% {\n",
              "      border-color: transparent;\n",
              "      border-bottom-color: var(--fill-color);\n",
              "      border-left-color: var(--fill-color);\n",
              "    }\n",
              "    20% {\n",
              "      border-color: transparent;\n",
              "      border-left-color: var(--fill-color);\n",
              "      border-top-color: var(--fill-color);\n",
              "    }\n",
              "    30% {\n",
              "      border-color: transparent;\n",
              "      border-left-color: var(--fill-color);\n",
              "      border-top-color: var(--fill-color);\n",
              "      border-right-color: var(--fill-color);\n",
              "    }\n",
              "    40% {\n",
              "      border-color: transparent;\n",
              "      border-right-color: var(--fill-color);\n",
              "      border-top-color: var(--fill-color);\n",
              "    }\n",
              "    60% {\n",
              "      border-color: transparent;\n",
              "      border-right-color: var(--fill-color);\n",
              "    }\n",
              "    80% {\n",
              "      border-color: transparent;\n",
              "      border-right-color: var(--fill-color);\n",
              "      border-bottom-color: var(--fill-color);\n",
              "    }\n",
              "    90% {\n",
              "      border-color: transparent;\n",
              "      border-bottom-color: var(--fill-color);\n",
              "    }\n",
              "  }\n",
              "</style>\n",
              "\n",
              "  <script>\n",
              "    async function quickchart(key) {\n",
              "      const quickchartButtonEl =\n",
              "        document.querySelector('#' + key + ' button');\n",
              "      quickchartButtonEl.disabled = true;  // To prevent multiple clicks.\n",
              "      quickchartButtonEl.classList.add('colab-df-spinner');\n",
              "      try {\n",
              "        const charts = await google.colab.kernel.invokeFunction(\n",
              "            'suggestCharts', [key], {});\n",
              "      } catch (error) {\n",
              "        console.error('Error during call to suggestCharts:', error);\n",
              "      }\n",
              "      quickchartButtonEl.classList.remove('colab-df-spinner');\n",
              "      quickchartButtonEl.classList.add('colab-df-quickchart-complete');\n",
              "    }\n",
              "    (() => {\n",
              "      let quickchartButtonEl =\n",
              "        document.querySelector('#df-d5b1f8fe-5ca9-476c-a188-b0963666e6e4 button');\n",
              "      quickchartButtonEl.style.display =\n",
              "        google.colab.kernel.accessAllowed ? 'block' : 'none';\n",
              "    })();\n",
              "  </script>\n",
              "</div>\n",
              "    </div>\n",
              "  </div>\n"
            ]
          },
          "metadata": {},
          "execution_count": 37
        }
      ]
    },
    {
      "cell_type": "code",
      "source": [
        "red = data_reduced.to_numpy()\n",
        "lod = data_loadings.to_numpy()"
      ],
      "metadata": {
        "id": "H0ppopY7Fy3b"
      },
      "execution_count": 40,
      "outputs": []
    },
    {
      "cell_type": "code",
      "source": [
        "plt.imshow(red@lod.T)"
      ],
      "metadata": {
        "colab": {
          "base_uri": "https://localhost:8080/",
          "height": 450
        },
        "id": "yjABLrX2GL7l",
        "outputId": "20a33ba9-39e0-4f8c-a1ae-5653264bac37"
      },
      "execution_count": 47,
      "outputs": [
        {
          "output_type": "execute_result",
          "data": {
            "text/plain": [
              "<matplotlib.image.AxesImage at 0x79eea625d600>"
            ]
          },
          "metadata": {},
          "execution_count": 47
        },
        {
          "output_type": "display_data",
          "data": {
            "text/plain": [
              "<Figure size 640x480 with 1 Axes>"
            ],
            "image/png": "[encoded data removed]"
          },
          "metadata": {}
        }
      ]
    },
    {
      "cell_type": "code",
      "source": [
        "(red@lod.T).shape"
      ],
      "metadata": {
        "colab": {
          "base_uri": "https://localhost:8080/"
        },
        "id": "qOjzKw19GR_k",
        "outputId": "d74faba6-d0ce-45df-d63f-bdd392b8ed53"
      },
      "execution_count": 49,
      "outputs": [
        {
          "output_type": "execute_result",
          "data": {
            "text/plain": [
              "(100, 100)"
            ]
          },
          "metadata": {},
          "execution_count": 49
        }
      ]
    },
    {
      "cell_type": "code",
      "source": [
        "res = red@lod.T"
      ],
      "metadata": {
        "id": "gCTm-GNfIQXZ"
      },
      "execution_count": 50,
      "outputs": []
    },
    {
      "cell_type": "code",
      "source": [
        "pca = PCA(n_components = 100).fit(res)\n",
        ""
      ],
      "metadata": {
        "id": "lZkLg6dcJCLz"
      },
      "execution_count": 51,
      "outputs": []
    },
    {
      "cell_type": "code",
      "source": [
        "plt.imshow(pca.transform(res))"
      ],
      "metadata": {
        "colab": {
          "base_uri": "https://localhost:8080/",
          "height": 450
        },
        "id": "oaGbd3XdJMl4",
        "outputId": "8288e95d-6252-490d-90e6-ed54c69d4c55"
      },
      "execution_count": 52,
      "outputs": [
        {
          "output_type": "execute_result",
          "data": {
            "text/plain": [
              "<matplotlib.image.AxesImage at 0x79eea627fb20>"
            ]
          },
          "metadata": {},
          "execution_count": 52
        },
        {
          "output_type": "display_data",
          "data": {
            "text/plain": [
              "<Figure size 640x480 with 1 Axes>"
            ],
            "image/png": "[encoded data removed]"
          },
          "metadata": {}
        }
      ]
    },
    {
      "cell_type": "code",
      "source": [],
      "metadata": {
        "id": "nvb_a92ZJUhD"
      },
      "execution_count": null,
      "outputs": []
    }
  ]
}