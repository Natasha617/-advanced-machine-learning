{
  "cells": [
    {
      "cell_type": "markdown",
      "metadata": {
        "id": "view-in-github",
        "colab_type": "text"
      },
      "source": [
        "<a href=\"https://colab.research.google.com/github/Natasha617/-advanced-machine-learning/blob/main/SVM.ipynb\" target=\"_parent\"><img src=\"https://colab.research.google.com/assets/colab-badge.svg\" alt=\"Open In Colab\"/></a>"
      ]
    },
    {
      "cell_type": "markdown",
      "source": [
        "# Распознавание лиц при помощи SVM и kernel trick"
      ],
      "metadata": {
        "id": "x301k4lQYICQ"
      }
    },
    {
      "cell_type": "markdown",
      "source": [
        "# Описание набора данных"
      ],
      "metadata": {
        "id": "9B7p1Wl_Ai3R"
      }
    },
    {
      "cell_type": "markdown",
      "metadata": {
        "id": "bWycMPiv1cuh"
      },
      "source": [
        "В этом задании вам предлагается построить классификатор, обученный на изображениях лиц. Сначала загрузим необходимый набор данных и посмотрим, что он из себя представляет.\n",
        "\n",
        "Таблица содержит \"распрямленные\" представления изображений лиц людей.\n",
        "\n",
        "Изначально каждое изображение — матрица размера $62 \\times 47$, значения которой, предположительно, нормированы к диапазону $[0, 1]$ из диапазона $[0, 255] \\cap \\mathbb Z$. Сами значения отвечают за интенсивность пикселя: чем значение больше, тем пиксель светлее.\n",
        "\n",
        "Обратите внимание, из картинки (или, что то же самое, матрицы) размера $62 \\times 47$ получился вектор длины $2914 = 62 \\cdot 47$.\n",
        "\n",
        "Колонка <code>label</code> отвечает за имя человека, изображенного на картинке."
      ]
    },
    {
      "cell_type": "code",
      "source": [
        "import pandas as pd\n",
        "from google.colab import drive"
      ],
      "metadata": {
        "id": "oY7c8e2AeIV6"
      },
      "execution_count": 2,
      "outputs": []
    },
    {
      "cell_type": "code",
      "source": [
        "drive.mount('/content/drive')"
      ],
      "metadata": {
        "colab": {
          "base_uri": "https://localhost:8080/"
        },
        "id": "siQIa646eeiy",
        "outputId": "e8b06a88-7e84-4756-f7e9-3b367ada4486"
      },
      "execution_count": 3,
      "outputs": [
        {
          "output_type": "stream",
          "name": "stdout",
          "text": [
            "Mounted at /content/drive\n"
          ]
        }
      ]
    },
    {
      "cell_type": "code",
      "source": [
        "!cp '/content/drive/MyDrive/magamed/introduction ML/SVC/persons_pics_train.csv' /content/data.csv"
      ],
      "metadata": {
        "id": "VyLAjcZXfBQk"
      },
      "execution_count": 4,
      "outputs": []
    },
    {
      "cell_type": "code",
      "source": [
        "df = pd.read_csv('data.csv')\n",
        "df.head()"
      ],
      "metadata": {
        "colab": {
          "base_uri": "https://localhost:8080/",
          "height": 342
        },
        "id": "PIn4KHeTYfCb",
        "outputId": "78cf6f26-85a9-4977-a471-235b8d8c5a0f"
      },
      "execution_count": 5,
      "outputs": [
        {
          "output_type": "execute_result",
          "data": {
            "text/plain": [
              "          0         1         2         3         4         5         6  \\\n",
              "0  0.379085  0.312418  0.352941  0.445752  0.466667  0.473203  0.484967   \n",
              "1  0.450980  0.466667  0.512418  0.509804  0.450980  0.458824  0.516340   \n",
              "2  0.589542  0.614379  0.688889  0.729412  0.738562  0.775163  0.789543   \n",
              "3  0.390850  0.432680  0.499346  0.562091  0.597386  0.644444  0.670588   \n",
              "4  0.645752  0.626144  0.605229  0.585621  0.602614  0.664052  0.701961   \n",
              "\n",
              "          7         8         9  ...      2905      2906      2907      2908  \\\n",
              "0  0.513725  0.545098  0.571242  ...  0.597386  0.620915  0.732026  0.852288   \n",
              "1  0.571242  0.607843  0.618301  ...  0.430065  0.453595  0.679739  0.934640   \n",
              "2  0.806536  0.820915  0.837908  ...  0.733333  0.854902  0.937255  0.624837   \n",
              "3  0.650980  0.637908  0.639216  ...  0.713726  0.898039  0.968627  0.959477   \n",
              "4  0.709804  0.733333  0.771242  ...  0.115033  0.129412  0.132026  0.129412   \n",
              "\n",
              "       2909      2910      2911      2912      2913          label  \n",
              "0  0.921569  0.937255  0.941176  0.950327  0.946405  John Ashcroft  \n",
              "1  0.985621  0.981699  0.963399  0.938562  0.874510   Ariel Sharon  \n",
              "2  0.128105  0.082353  0.107190  0.095425  0.100654   Colin Powell  \n",
              "3  0.832680  0.443137  0.266667  0.303268  0.313725  Jean Chretien  \n",
              "4  0.155556  0.171242  0.167320  0.176471  0.183007   Colin Powell  \n",
              "\n",
              "[5 rows x 2915 columns]"
            ],
            "text/html": [
              "\n",
              "  <div id=\"df-7e4b5c4c-8a16-4c65-b0c8-d07a7cdcc76d\" class=\"colab-df-container\">\n",
              "    <div>\n",
              "<style scoped>\n",
              "    .dataframe tbody tr th:only-of-type {\n",
              "        vertical-align: middle;\n",
              "    }\n",
              "\n",
              "    .dataframe tbody tr th {\n",
              "        vertical-align: top;\n",
              "    }\n",
              "\n",
              "    .dataframe thead th {\n",
              "        text-align: right;\n",
              "    }\n",
              "</style>\n",
              "<table border=\"1\" class=\"dataframe\">\n",
              "  <thead>\n",
              "    <tr style=\"text-align: right;\">\n",
              "      <th></th>\n",
              "      <th>0</th>\n",
              "      <th>1</th>\n",
              "      <th>2</th>\n",
              "      <th>3</th>\n",
              "      <th>4</th>\n",
              "      <th>5</th>\n",
              "      <th>6</th>\n",
              "      <th>7</th>\n",
              "      <th>8</th>\n",
              "      <th>9</th>\n",
              "      <th>...</th>\n",
              "      <th>2905</th>\n",
              "      <th>2906</th>\n",
              "      <th>2907</th>\n",
              "      <th>2908</th>\n",
              "      <th>2909</th>\n",
              "      <th>2910</th>\n",
              "      <th>2911</th>\n",
              "      <th>2912</th>\n",
              "      <th>2913</th>\n",
              "      <th>label</th>\n",
              "    </tr>\n",
              "  </thead>\n",
              "  <tbody>\n",
              "    <tr>\n",
              "      <th>0</th>\n",
              "      <td>0.379085</td>\n",
              "      <td>0.312418</td>\n",
              "      <td>0.352941</td>\n",
              "      <td>0.445752</td>\n",
              "      <td>0.466667</td>\n",
              "      <td>0.473203</td>\n",
              "      <td>0.484967</td>\n",
              "      <td>0.513725</td>\n",
              "      <td>0.545098</td>\n",
              "      <td>0.571242</td>\n",
              "      <td>...</td>\n",
              "      <td>0.597386</td>\n",
              "      <td>0.620915</td>\n",
              "      <td>0.732026</td>\n",
              "      <td>0.852288</td>\n",
              "      <td>0.921569</td>\n",
              "      <td>0.937255</td>\n",
              "      <td>0.941176</td>\n",
              "      <td>0.950327</td>\n",
              "      <td>0.946405</td>\n",
              "      <td>John Ashcroft</td>\n",
              "    </tr>\n",
              "    <tr>\n",
              "      <th>1</th>\n",
              "      <td>0.450980</td>\n",
              "      <td>0.466667</td>\n",
              "      <td>0.512418</td>\n",
              "      <td>0.509804</td>\n",
              "      <td>0.450980</td>\n",
              "      <td>0.458824</td>\n",
              "      <td>0.516340</td>\n",
              "      <td>0.571242</td>\n",
              "      <td>0.607843</td>\n",
              "      <td>0.618301</td>\n",
              "      <td>...</td>\n",
              "      <td>0.430065</td>\n",
              "      <td>0.453595</td>\n",
              "      <td>0.679739</td>\n",
              "      <td>0.934640</td>\n",
              "      <td>0.985621</td>\n",
              "      <td>0.981699</td>\n",
              "      <td>0.963399</td>\n",
              "      <td>0.938562</td>\n",
              "      <td>0.874510</td>\n",
              "      <td>Ariel Sharon</td>\n",
              "    </tr>\n",
              "    <tr>\n",
              "      <th>2</th>\n",
              "      <td>0.589542</td>\n",
              "      <td>0.614379</td>\n",
              "      <td>0.688889</td>\n",
              "      <td>0.729412</td>\n",
              "      <td>0.738562</td>\n",
              "      <td>0.775163</td>\n",
              "      <td>0.789543</td>\n",
              "      <td>0.806536</td>\n",
              "      <td>0.820915</td>\n",
              "      <td>0.837908</td>\n",
              "      <td>...</td>\n",
              "      <td>0.733333</td>\n",
              "      <td>0.854902</td>\n",
              "      <td>0.937255</td>\n",
              "      <td>0.624837</td>\n",
              "      <td>0.128105</td>\n",
              "      <td>0.082353</td>\n",
              "      <td>0.107190</td>\n",
              "      <td>0.095425</td>\n",
              "      <td>0.100654</td>\n",
              "      <td>Colin Powell</td>\n",
              "    </tr>\n",
              "    <tr>\n",
              "      <th>3</th>\n",
              "      <td>0.390850</td>\n",
              "      <td>0.432680</td>\n",
              "      <td>0.499346</td>\n",
              "      <td>0.562091</td>\n",
              "      <td>0.597386</td>\n",
              "      <td>0.644444</td>\n",
              "      <td>0.670588</td>\n",
              "      <td>0.650980</td>\n",
              "      <td>0.637908</td>\n",
              "      <td>0.639216</td>\n",
              "      <td>...</td>\n",
              "      <td>0.713726</td>\n",
              "      <td>0.898039</td>\n",
              "      <td>0.968627</td>\n",
              "      <td>0.959477</td>\n",
              "      <td>0.832680</td>\n",
              "      <td>0.443137</td>\n",
              "      <td>0.266667</td>\n",
              "      <td>0.303268</td>\n",
              "      <td>0.313725</td>\n",
              "      <td>Jean Chretien</td>\n",
              "    </tr>\n",
              "    <tr>\n",
              "      <th>4</th>\n",
              "      <td>0.645752</td>\n",
              "      <td>0.626144</td>\n",
              "      <td>0.605229</td>\n",
              "      <td>0.585621</td>\n",
              "      <td>0.602614</td>\n",
              "      <td>0.664052</td>\n",
              "      <td>0.701961</td>\n",
              "      <td>0.709804</td>\n",
              "      <td>0.733333</td>\n",
              "      <td>0.771242</td>\n",
              "      <td>...</td>\n",
              "      <td>0.115033</td>\n",
              "      <td>0.129412</td>\n",
              "      <td>0.132026</td>\n",
              "      <td>0.129412</td>\n",
              "      <td>0.155556</td>\n",
              "      <td>0.171242</td>\n",
              "      <td>0.167320</td>\n",
              "      <td>0.176471</td>\n",
              "      <td>0.183007</td>\n",
              "      <td>Colin Powell</td>\n",
              "    </tr>\n",
              "  </tbody>\n",
              "</table>\n",
              "<p>5 rows × 2915 columns</p>\n",
              "</div>\n",
              "    <div class=\"colab-df-buttons\">\n",
              "\n",
              "  <div class=\"colab-df-container\">\n",
              "    <button class=\"colab-df-convert\" onclick=\"convertToInteractive('df-7e4b5c4c-8a16-4c65-b0c8-d07a7cdcc76d')\"\n",
              "            title=\"Convert this dataframe to an interactive table.\"\n",
              "            style=\"display:none;\">\n",
              "\n",
              "  <svg xmlns=\"http://www.w3.org/2000/svg\" height=\"24px\" viewBox=\"0 -960 960 960\">\n",
              "    <path d=\"M120-120v-720h720v720H120Zm60-500h600v-160H180v160Zm220 220h160v-160H400v160Zm0 220h160v-160H400v160ZM180-400h160v-160H180v160Zm440 0h160v-160H620v160ZM180-180h160v-160H180v160Zm440 0h160v-160H620v160Z\"/>\n",
              "  </svg>\n",
              "    </button>\n",
              "\n",
              "  <style>\n",
              "    .colab-df-container {\n",
              "      display:flex;\n",
              "      gap: 12px;\n",
              "    }\n",
              "\n",
              "    .colab-df-convert {\n",
              "      background-color: #E8F0FE;\n",
              "      border: none;\n",
              "      border-radius: 50%;\n",
              "      cursor: pointer;\n",
              "      display: none;\n",
              "      fill: #1967D2;\n",
              "      height: 32px;\n",
              "      padding: 0 0 0 0;\n",
              "      width: 32px;\n",
              "    }\n",
              "\n",
              "    .colab-df-convert:hover {\n",
              "      background-color: #E2EBFA;\n",
              "      box-shadow: 0px 1px 2px rgba(60, 64, 67, 0.3), 0px 1px 3px 1px rgba(60, 64, 67, 0.15);\n",
              "      fill: #174EA6;\n",
              "    }\n",
              "\n",
              "    .colab-df-buttons div {\n",
              "      margin-bottom: 4px;\n",
              "    }\n",
              "\n",
              "    [theme=dark] .colab-df-convert {\n",
              "      background-color: #3B4455;\n",
              "      fill: #D2E3FC;\n",
              "    }\n",
              "\n",
              "    [theme=dark] .colab-df-convert:hover {\n",
              "      background-color: #434B5C;\n",
              "      box-shadow: 0px 1px 3px 1px rgba(0, 0, 0, 0.15);\n",
              "      filter: drop-shadow(0px 1px 2px rgba(0, 0, 0, 0.3));\n",
              "      fill: #FFFFFF;\n",
              "    }\n",
              "  </style>\n",
              "\n",
              "    <script>\n",
              "      const buttonEl =\n",
              "        document.querySelector('#df-7e4b5c4c-8a16-4c65-b0c8-d07a7cdcc76d button.colab-df-convert');\n",
              "      buttonEl.style.display =\n",
              "        google.colab.kernel.accessAllowed ? 'block' : 'none';\n",
              "\n",
              "      async function convertToInteractive(key) {\n",
              "        const element = document.querySelector('#df-7e4b5c4c-8a16-4c65-b0c8-d07a7cdcc76d');\n",
              "        const dataTable =\n",
              "          await google.colab.kernel.invokeFunction('convertToInteractive',\n",
              "                                                    [key], {});\n",
              "        if (!dataTable) return;\n",
              "\n",
              "        const docLinkHtml = 'Like what you see? Visit the ' +\n",
              "          '<a target=\"_blank\" href=https://colab.research.google.com/notebooks/data_table.ipynb>data table notebook</a>'\n",
              "          + ' to learn more about interactive tables.';\n",
              "        element.innerHTML = '';\n",
              "        dataTable['output_type'] = 'display_data';\n",
              "        await google.colab.output.renderOutput(dataTable, element);\n",
              "        const docLink = document.createElement('div');\n",
              "        docLink.innerHTML = docLinkHtml;\n",
              "        element.appendChild(docLink);\n",
              "      }\n",
              "    </script>\n",
              "  </div>\n",
              "\n",
              "\n",
              "<div id=\"df-a91f9f92-dab0-4a1e-8be6-7ebc26c795f8\">\n",
              "  <button class=\"colab-df-quickchart\" onclick=\"quickchart('df-a91f9f92-dab0-4a1e-8be6-7ebc26c795f8')\"\n",
              "            title=\"Suggest charts\"\n",
              "            style=\"display:none;\">\n",
              "\n",
              "<svg xmlns=\"http://www.w3.org/2000/svg\" height=\"24px\"viewBox=\"0 0 24 24\"\n",
              "     width=\"24px\">\n",
              "    <g>\n",
              "        <path d=\"M19 3H5c-1.1 0-2 .9-2 2v14c0 1.1.9 2 2 2h14c1.1 0 2-.9 2-2V5c0-1.1-.9-2-2-2zM9 17H7v-7h2v7zm4 0h-2V7h2v10zm4 0h-2v-4h2v4z\"/>\n",
              "    </g>\n",
              "</svg>\n",
              "  </button>\n",
              "\n",
              "<style>\n",
              "  .colab-df-quickchart {\n",
              "      --bg-color: #E8F0FE;\n",
              "      --fill-color: #1967D2;\n",
              "      --hover-bg-color: #E2EBFA;\n",
              "      --hover-fill-color: #174EA6;\n",
              "      --disabled-fill-color: #AAA;\n",
              "      --disabled-bg-color: #DDD;\n",
              "  }\n",
              "\n",
              "  [theme=dark] .colab-df-quickchart {\n",
              "      --bg-color: #3B4455;\n",
              "      --fill-color: #D2E3FC;\n",
              "      --hover-bg-color: #434B5C;\n",
              "      --hover-fill-color: #FFFFFF;\n",
              "      --disabled-bg-color: #3B4455;\n",
              "      --disabled-fill-color: #666;\n",
              "  }\n",
              "\n",
              "  .colab-df-quickchart {\n",
              "    background-color: var(--bg-color);\n",
              "    border: none;\n",
              "    border-radius: 50%;\n",
              "    cursor: pointer;\n",
              "    display: none;\n",
              "    fill: var(--fill-color);\n",
              "    height: 32px;\n",
              "    padding: 0;\n",
              "    width: 32px;\n",
              "  }\n",
              "\n",
              "  .colab-df-quickchart:hover {\n",
              "    background-color: var(--hover-bg-color);\n",
              "    box-shadow: 0 1px 2px rgba(60, 64, 67, 0.3), 0 1px 3px 1px rgba(60, 64, 67, 0.15);\n",
              "    fill: var(--button-hover-fill-color);\n",
              "  }\n",
              "\n",
              "  .colab-df-quickchart-complete:disabled,\n",
              "  .colab-df-quickchart-complete:disabled:hover {\n",
              "    background-color: var(--disabled-bg-color);\n",
              "    fill: var(--disabled-fill-color);\n",
              "    box-shadow: none;\n",
              "  }\n",
              "\n",
              "  .colab-df-spinner {\n",
              "    border: 2px solid var(--fill-color);\n",
              "    border-color: transparent;\n",
              "    border-bottom-color: var(--fill-color);\n",
              "    animation:\n",
              "      spin 1s steps(1) infinite;\n",
              "  }\n",
              "\n",
              "  @keyframes spin {\n",
              "    0% {\n",
              "      border-color: transparent;\n",
              "      border-bottom-color: var(--fill-color);\n",
              "      border-left-color: var(--fill-color);\n",
              "    }\n",
              "    20% {\n",
              "      border-color: transparent;\n",
              "      border-left-color: var(--fill-color);\n",
              "      border-top-color: var(--fill-color);\n",
              "    }\n",
              "    30% {\n",
              "      border-color: transparent;\n",
              "      border-left-color: var(--fill-color);\n",
              "      border-top-color: var(--fill-color);\n",
              "      border-right-color: var(--fill-color);\n",
              "    }\n",
              "    40% {\n",
              "      border-color: transparent;\n",
              "      border-right-color: var(--fill-color);\n",
              "      border-top-color: var(--fill-color);\n",
              "    }\n",
              "    60% {\n",
              "      border-color: transparent;\n",
              "      border-right-color: var(--fill-color);\n",
              "    }\n",
              "    80% {\n",
              "      border-color: transparent;\n",
              "      border-right-color: var(--fill-color);\n",
              "      border-bottom-color: var(--fill-color);\n",
              "    }\n",
              "    90% {\n",
              "      border-color: transparent;\n",
              "      border-bottom-color: var(--fill-color);\n",
              "    }\n",
              "  }\n",
              "</style>\n",
              "\n",
              "  <script>\n",
              "    async function quickchart(key) {\n",
              "      const quickchartButtonEl =\n",
              "        document.querySelector('#' + key + ' button');\n",
              "      quickchartButtonEl.disabled = true;  // To prevent multiple clicks.\n",
              "      quickchartButtonEl.classList.add('colab-df-spinner');\n",
              "      try {\n",
              "        const charts = await google.colab.kernel.invokeFunction(\n",
              "            'suggestCharts', [key], {});\n",
              "      } catch (error) {\n",
              "        console.error('Error during call to suggestCharts:', error);\n",
              "      }\n",
              "      quickchartButtonEl.classList.remove('colab-df-spinner');\n",
              "      quickchartButtonEl.classList.add('colab-df-quickchart-complete');\n",
              "    }\n",
              "    (() => {\n",
              "      let quickchartButtonEl =\n",
              "        document.querySelector('#df-a91f9f92-dab0-4a1e-8be6-7ebc26c795f8 button');\n",
              "      quickchartButtonEl.style.display =\n",
              "        google.colab.kernel.accessAllowed ? 'block' : 'none';\n",
              "    })();\n",
              "  </script>\n",
              "</div>\n",
              "    </div>\n",
              "  </div>\n"
            ]
          },
          "metadata": {},
          "execution_count": 5
        }
      ]
    },
    {
      "cell_type": "markdown",
      "source": [
        "Убедимся в том, что перед нами действительно изображения лиц людей. Возьмем первые $15$ строк из таблицы исходных данных и построим соответствующие им изображения."
      ],
      "metadata": {
        "id": "kspU0Qef11XU"
      }
    },
    {
      "cell_type": "code",
      "execution_count": 6,
      "metadata": {
        "id": "hRwvUSbf3D1V"
      },
      "outputs": [],
      "source": [
        "import matplotlib.pyplot as plt\n",
        "\n",
        "def get_img_by_row(row):\n",
        "  return row.drop('label').astype(float).to_numpy().reshape(62,47), row['label']"
      ]
    },
    {
      "cell_type": "code",
      "execution_count": 7,
      "metadata": {
        "colab": {
          "base_uri": "https://localhost:8080/",
          "height": 426
        },
        "id": "UFJb9mct2oWK",
        "outputId": "a1093301-606d-4430-c1fd-a77f20e6311d"
      },
      "outputs": [
        {
          "output_type": "display_data",
          "data": {
            "text/plain": [
              "<Figure size 640x480 with 15 Axes>"
            ],
            "image/png": "[encoded data removed]"
          },
          "metadata": {}
        }
      ],
      "source": [
        "fig, ax = plt.subplots(3, 5)\n",
        "for i, axi in enumerate(ax.flat):\n",
        "    img, lbl = get_img_by_row(df.iloc[i])\n",
        "    axi.imshow(img, cmap='gray')\n",
        "    axi.set(xticks=[], yticks=[],\n",
        "            xlabel=lbl.split()[-1])\n",
        "plt.savefig('persons_pics_img_for_description.png', dpi = 300, bbox_inches='tight')"
      ]
    },
    {
      "cell_type": "markdown",
      "metadata": {
        "id": "_qkenfcm4-dH"
      },
      "source": [
        "Крупнее"
      ]
    },
    {
      "cell_type": "code",
      "execution_count": 8,
      "metadata": {
        "colab": {
          "base_uri": "https://localhost:8080/",
          "height": 423
        },
        "id": "9XgGPo8h5y78",
        "outputId": "f68178f6-690f-4717-9608-2521b2dcd944"
      },
      "outputs": [
        {
          "output_type": "execute_result",
          "data": {
            "text/plain": [
              "(-0.5, 46.5, 61.5, -0.5)"
            ]
          },
          "metadata": {},
          "execution_count": 8
        },
        {
          "output_type": "display_data",
          "data": {
            "text/plain": [
              "<Figure size 640x480 with 1 Axes>"
            ],
            "image/png": "[encoded data removed]"
          },
          "metadata": {}
        }
      ],
      "source": [
        "plt.imshow(df.iloc[0].drop('label').astype(float).to_numpy().reshape(62,47), cmap='gray')\n",
        "plt.axis('off')"
      ]
    },
    {
      "cell_type": "markdown",
      "source": [
        "# Немного озорства"
      ],
      "metadata": {
        "id": "Q4D22CYlAtOh"
      }
    },
    {
      "cell_type": "markdown",
      "source": [
        "Определите число различных людей, фотографии которых содержатся в рассматриваемом наборе данных."
      ],
      "metadata": {
        "id": "LpubPEq-E3sQ"
      }
    },
    {
      "cell_type": "code",
      "source": [
        "df['label'].value_counts()"
      ],
      "metadata": {
        "colab": {
          "base_uri": "https://localhost:8080/"
        },
        "id": "bCiWT0FVFHLz",
        "outputId": "98be3634-03ce-4e87-f06d-60916f921e86"
      },
      "execution_count": 9,
      "outputs": [
        {
          "output_type": "execute_result",
          "data": {
            "text/plain": [
              "George W Bush        451\n",
              "Colin Powell         201\n",
              "Tony Blair           122\n",
              "Donald Rumsfeld      103\n",
              "Gerhard Schroeder     93\n",
              "Ariel Sharon          65\n",
              "Hugo Chavez           60\n",
              "Junichiro Koizumi     51\n",
              "Jean Chretien         47\n",
              "John Ashcroft         45\n",
              "Serena Williams       44\n",
              "Jacques Chirac        44\n",
              "Name: label, dtype: int64"
            ]
          },
          "metadata": {},
          "execution_count": 9
        }
      ]
    },
    {
      "cell_type": "markdown",
      "source": [
        "Постройте гистограмму распределения объектов по классам и вычислите долю объектов каждого класса."
      ],
      "metadata": {
        "id": "WbEIJ-_S7iqm"
      }
    },
    {
      "cell_type": "code",
      "source": [
        "x_value = df['label'].value_counts()\n",
        "\n",
        "plt.stem(x_value.values, x_value.index)\n",
        "plt.ylabel('label')\n",
        "plt.xlabel('количество')\n",
        "plt.show()"
      ],
      "metadata": {
        "id": "D78diqZW7vpk",
        "colab": {
          "base_uri": "https://localhost:8080/",
          "height": 449
        },
        "outputId": "9c802c68-193b-4c80-f8c4-aad69645dce0"
      },
      "execution_count": 10,
      "outputs": [
        {
          "output_type": "display_data",
          "data": {
            "text/plain": [
              "<Figure size 640x480 with 1 Axes>"
            ],
            "image/png": "[encoded data removed]"
          },
          "metadata": {}
        }
      ]
    },
    {
      "cell_type": "code",
      "source": [
        "44/df['label'].value_counts().sum()"
      ],
      "metadata": {
        "colab": {
          "base_uri": "https://localhost:8080/"
        },
        "id": "tq_7Zxwe5NGp",
        "outputId": "d75372e3-8a63-42bc-9de9-2365e0a38d9c"
      },
      "execution_count": null,
      "outputs": [
        {
          "output_type": "execute_result",
          "data": {
            "text/plain": [
              "0.033182503770739065"
            ]
          },
          "metadata": {},
          "execution_count": 22
        }
      ]
    },
    {
      "cell_type": "code",
      "source": [
        "df[df['label']=='Gerhard Schroeder'].mean()"
      ],
      "metadata": {
        "colab": {
          "base_uri": "https://localhost:8080/"
        },
        "id": "MtSaNTSyrkv_",
        "outputId": "69cd6ee9-356d-4adb-f9ed-b5818d790179"
      },
      "execution_count": 12,
      "outputs": [
        {
          "output_type": "stream",
          "name": "stderr",
          "text": [
            "<ipython-input-12-a0827217f5b7>:1: FutureWarning: The default value of numeric_only in DataFrame.mean is deprecated. In a future version, it will default to False. In addition, specifying 'numeric_only=None' is deprecated. Select only valid columns or specify the value of numeric_only to silence this warning.\n",
            "  df[df['label']=='Gerhard Schroeder'].mean()\n"
          ]
        },
        {
          "output_type": "execute_result",
          "data": {
            "text/plain": [
              "0       0.210162\n",
              "1       0.228210\n",
              "2       0.268255\n",
              "3       0.328344\n",
              "4       0.389332\n",
              "          ...   \n",
              "2909    0.482550\n",
              "2910    0.442252\n",
              "2911    0.428477\n",
              "2912    0.426875\n",
              "2913    0.411118\n",
              "Length: 2914, dtype: float64"
            ]
          },
          "metadata": {},
          "execution_count": 12
        }
      ]
    },
    {
      "cell_type": "markdown",
      "source": [
        "На основе имеющихся данных поставьте в соответствие каждому человеку один вектор, координаты которого являются средним соответствующих координат всех векторов, отождествленных с этим человеком."
      ],
      "metadata": {
        "id": "09bpGM5bFRmp"
      }
    },
    {
      "cell_type": "code",
      "source": [
        "def natasha(row):\n",
        "  return row.to_numpy().reshape(62,47)\n",
        "plt.imshow(natasha(df[df['label']=='Junichiro Koizumi'].mean()),cmap='gray' )"
      ],
      "metadata": {
        "id": "FVi6WmHcAsKI",
        "colab": {
          "base_uri": "https://localhost:8080/",
          "height": 504
        },
        "outputId": "b1546b10-99ae-4d2e-87d7-cc868fda39ba"
      },
      "execution_count": 15,
      "outputs": [
        {
          "output_type": "stream",
          "name": "stderr",
          "text": [
            "<ipython-input-15-8b2bce64fea5>:3: FutureWarning: The default value of numeric_only in DataFrame.mean is deprecated. In a future version, it will default to False. In addition, specifying 'numeric_only=None' is deprecated. Select only valid columns or specify the value of numeric_only to silence this warning.\n",
            "  plt.imshow(natasha(df[df['label']=='Junichiro Koizumi'].mean()),cmap='gray' )\n"
          ]
        },
        {
          "output_type": "execute_result",
          "data": {
            "text/plain": [
              "<matplotlib.image.AxesImage at 0x7cfcd1543dc0>"
            ]
          },
          "metadata": {},
          "execution_count": 15
        },
        {
          "output_type": "display_data",
          "data": {
            "text/plain": [
              "<Figure size 640x480 with 1 Axes>"
            ],
            "image/png": "[encoded data removed]"
          },
          "metadata": {}
        }
      ]
    },
    {
      "cell_type": "markdown",
      "source": [
        "Вычислите координату с индексом $0$ усредненного вектора, соответствующего человеку из вашего индивидуального задания."
      ],
      "metadata": {
        "id": "EsOZehSAF1ZE"
      }
    },
    {
      "cell_type": "code",
      "source": [
        "# < ENTER YOUR CODE HERE >"
      ],
      "metadata": {
        "id": "wdOk5XsKGK8s"
      },
      "execution_count": null,
      "outputs": []
    },
    {
      "cell_type": "markdown",
      "source": [
        "Используя усредненные векторы, постройте изображения всех людей из набора данных."
      ],
      "metadata": {
        "id": "ZFQy6dAcGuHV"
      }
    },
    {
      "cell_type": "code",
      "source": [
        "# < ENTER YOUR CODE HERE >"
      ],
      "metadata": {
        "id": "Douh7olbBTZC"
      },
      "execution_count": null,
      "outputs": []
    },
    {
      "cell_type": "markdown",
      "source": [
        "В качестве меры \"схожести\" двух объектов часто используют так называемое [косинусное сходство](https://en.wikipedia.org/wiki/Cosine_similarity). Не следует путать с косинусным расстоянием.\n",
        "\n",
        "Постройте матрицу \"схожести\" объектов на основе их усредненных векторов. Для визуализации рекомендуем использовать тепловую карту, например, [из библиотеки seaborn](https://seaborn.pydata.org/generated/seaborn.heatmap.html)."
      ],
      "metadata": {
        "id": "_45zmvOV-TE3"
      }
    },
    {
      "cell_type": "markdown",
      "source": [
        "Введите значение косинусного сходства между парой усредненных векторов Donald Rumsfeld и Serena Williams."
      ],
      "metadata": {
        "id": "aTTPrlUkv9di"
      }
    },
    {
      "cell_type": "markdown",
      "source": [
        "![image.png](data:image/png;base64,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)"
      ],
      "metadata": {
        "id": "nz8z2HnBwfQS"
      }
    },
    {
      "cell_type": "code",
      "source": [
        "meam_serena = df[df['label']=='Serena Williams'].mean()\n",
        "meam_donald = df[df['label']=='Donald Rumsfeld'].mean()"
      ],
      "metadata": {
        "id": "ORlwl8MSAsMu",
        "colab": {
          "base_uri": "https://localhost:8080/"
        },
        "outputId": "b5f32e63-79c8-49e8-daf1-2edbf13efc73"
      },
      "execution_count": 16,
      "outputs": [
        {
          "output_type": "stream",
          "name": "stderr",
          "text": [
            "<ipython-input-16-d4c0dce5c9c7>:1: FutureWarning: The default value of numeric_only in DataFrame.mean is deprecated. In a future version, it will default to False. In addition, specifying 'numeric_only=None' is deprecated. Select only valid columns or specify the value of numeric_only to silence this warning.\n",
            "  meam_serena = df[df['label']=='Serena Williams'].mean()\n",
            "<ipython-input-16-d4c0dce5c9c7>:2: FutureWarning: The default value of numeric_only in DataFrame.mean is deprecated. In a future version, it will default to False. In addition, specifying 'numeric_only=None' is deprecated. Select only valid columns or specify the value of numeric_only to silence this warning.\n",
            "  meam_donald = df[df['label']=='Donald Rumsfeld'].mean()\n"
          ]
        }
      ]
    },
    {
      "cell_type": "markdown",
      "source": [
        "Определите косинусное сходство для пары людей из вашего индивидуального задания на основе соответствующих им \"усредненных\" векторов."
      ],
      "metadata": {
        "id": "dGFwwz85TDPg"
      }
    },
    {
      "cell_type": "code",
      "source": [
        "import numpy as np"
      ],
      "metadata": {
        "id": "YEFnFAKAwv_M"
      },
      "execution_count": 18,
      "outputs": []
    },
    {
      "cell_type": "code",
      "source": [
        "np.linalg.norm()"
      ],
      "metadata": {
        "id": "7bpbMRIxxODS"
      },
      "execution_count": null,
      "outputs": []
    },
    {
      "cell_type": "code",
      "source": [
        "np.dot(meam_serena, meam_donald)/(np.linalg.norm(meam_serena) * np.linalg.norm(meam_donald))"
      ],
      "metadata": {
        "colab": {
          "base_uri": "https://localhost:8080/"
        },
        "id": "xmI-TnPdwn0S",
        "outputId": "c3042e91-d6e3-4973-9be6-bd301f31dac1"
      },
      "execution_count": 20,
      "outputs": [
        {
          "output_type": "execute_result",
          "data": {
            "text/plain": [
              "0.9866056618941133"
            ]
          },
          "metadata": {},
          "execution_count": 20
        }
      ]
    },
    {
      "cell_type": "code",
      "source": [
        "meam_serena"
      ],
      "metadata": {
        "colab": {
          "base_uri": "https://localhost:8080/"
        },
        "id": "qmZ2tLyuwU41",
        "outputId": "08d648f7-2c84-4f6a-c2cd-727cf2081959"
      },
      "execution_count": 17,
      "outputs": [
        {
          "output_type": "execute_result",
          "data": {
            "text/plain": [
              "0       0.412983\n",
              "1       0.390434\n",
              "2       0.359091\n",
              "3       0.333541\n",
              "4       0.337136\n",
              "          ...   \n",
              "2909    0.308200\n",
              "2910    0.322460\n",
              "2911    0.334492\n",
              "2912    0.348247\n",
              "2913    0.361854\n",
              "Length: 2914, dtype: float64"
            ]
          },
          "metadata": {},
          "execution_count": 17
        }
      ]
    },
    {
      "cell_type": "code",
      "source": [
        "# < ENTER YOUR CODE HERE >"
      ],
      "metadata": {
        "id": "fBzdsrkG84PE"
      },
      "execution_count": null,
      "outputs": []
    },
    {
      "cell_type": "markdown",
      "source": [
        "# Построение модели"
      ],
      "metadata": {
        "id": "fY7TotHYUJqE"
      }
    },
    {
      "cell_type": "markdown",
      "metadata": {
        "id": "SCQ0dGV66EUN"
      },
      "source": [
        "При помощи <code>train_test_split()</code> разделите набор данных на тренировочный и тестовый с параметрами, указанными в вашем индивидуальном задании. Используйте стратификацию по колонке <code>label</code>."
      ]
    },
    {
      "cell_type": "code",
      "source": [
        "from sklearn.model_selection import train_test_split\n",
        "from sklearn.metrics import f1_score"
      ],
      "metadata": {
        "id": "-IulF-MtyN1B"
      },
      "execution_count": 24,
      "outputs": []
    },
    {
      "cell_type": "code",
      "execution_count": 23,
      "metadata": {
        "id": "pa9Lzhho6KZd"
      },
      "outputs": [],
      "source": [
        "x_train,x_test,y_train,y_test = train_test_split(df.drop(columns = 'label'), df['label'], random_state=5, test_size=0.2, stratify=df['label'])"
      ]
    },
    {
      "cell_type": "code",
      "source": [
        "from sklearn.svm import SVC\n",
        "svc = SVC(kernel='linear', random_state=5).fit(x_train, y_train)\n",
        "round(f1_score(y_test, svc.predict(x_test), average='weighted'),3)\n"
      ],
      "metadata": {
        "colab": {
          "base_uri": "https://localhost:8080/"
        },
        "id": "cjTqGvjCy1Uj",
        "outputId": "bea8d2ac-5545-4a44-9581-83bb752f481f"
      },
      "execution_count": 27,
      "outputs": [
        {
          "output_type": "execute_result",
          "data": {
            "text/plain": [
              "0.741"
            ]
          },
          "metadata": {},
          "execution_count": 27
        }
      ]
    },
    {
      "cell_type": "code",
      "source": [
        "from sklearn.model_selection import GridSearchCV"
      ],
      "metadata": {
        "id": "NzvuIBRZ0GoY"
      },
      "execution_count": 28,
      "outputs": []
    },
    {
      "cell_type": "code",
      "source": [
        "tuned_parameters = [{'kernel': ['linear', 'poly', 'rbf', 'sigmoid'], 'gamma': [1e-3, 1e-4],\n",
        "                     'C': [1, 10, 100, 1000], 'class_weight': [None, 'balanced'], 'random_state':[5]}]\n",
        "\n",
        "\n",
        "svc = GridSearchCV(SVC(), tuned_parameters, refit=True, verbose=3)\n",
        "svc.fit(x_train, y_train)\n",
        "best_p = svc.best_params_\n",
        "best_p"
      ],
      "metadata": {
        "colab": {
          "base_uri": "https://localhost:8080/"
        },
        "id": "4qMN_edl0EH6",
        "outputId": "b4f18c23-24f7-4840-e5b6-b45f2f23b514"
      },
      "execution_count": 29,
      "outputs": [
        {
          "output_type": "stream",
          "name": "stdout",
          "text": [
            "Fitting 5 folds for each of 64 candidates, totalling 320 fits\n",
            "[CV 1/5] END C=1, class_weight=None, gamma=0.001, kernel=linear, random_state=5;, score=0.778 total time=   3.8s\n",
            "[CV 2/5] END C=1, class_weight=None, gamma=0.001, kernel=linear, random_state=5;, score=0.764 total time=   3.4s\n",
            "[CV 3/5] END C=1, class_weight=None, gamma=0.001, kernel=linear, random_state=5;, score=0.825 total time=   2.2s\n",
            "[CV 4/5] END C=1, class_weight=None, gamma=0.001, kernel=linear, random_state=5;, score=0.802 total time=   1.7s\n",
            "[CV 5/5] END C=1, class_weight=None, gamma=0.001, kernel=linear, random_state=5;, score=0.769 total time=   1.6s\n",
            "[CV 1/5] END C=1, class_weight=None, gamma=0.001, kernel=poly, random_state=5;, score=0.377 total time=   1.6s\n",
            "[CV 2/5] END C=1, class_weight=None, gamma=0.001, kernel=poly, random_state=5;, score=0.358 total time=   1.7s\n",
            "[CV 3/5] END C=1, class_weight=None, gamma=0.001, kernel=poly, random_state=5;, score=0.373 total time=   1.7s\n",
            "[CV 4/5] END C=1, class_weight=None, gamma=0.001, kernel=poly, random_state=5;, score=0.373 total time=   1.9s\n",
            "[CV 5/5] END C=1, class_weight=None, gamma=0.001, kernel=poly, random_state=5;, score=0.363 total time=   2.1s\n",
            "[CV 1/5] END C=1, class_weight=None, gamma=0.001, kernel=rbf, random_state=5;, score=0.425 total time=   2.3s\n",
            "[CV 2/5] END C=1, class_weight=None, gamma=0.001, kernel=rbf, random_state=5;, score=0.396 total time=   1.9s\n",
            "[CV 3/5] END C=1, class_weight=None, gamma=0.001, kernel=rbf, random_state=5;, score=0.415 total time=   1.9s\n",
            "[CV 4/5] END C=1, class_weight=None, gamma=0.001, kernel=rbf, random_state=5;, score=0.401 total time=   1.9s\n",
            "[CV 5/5] END C=1, class_weight=None, gamma=0.001, kernel=rbf, random_state=5;, score=0.382 total time=   1.9s\n",
            "[CV 1/5] END C=1, class_weight=None, gamma=0.001, kernel=sigmoid, random_state=5;, score=0.344 total time=   1.6s\n",
            "[CV 2/5] END C=1, class_weight=None, gamma=0.001, kernel=sigmoid, random_state=5;, score=0.340 total time=   1.9s\n",
            "[CV 3/5] END C=1, class_weight=None, gamma=0.001, kernel=sigmoid, random_state=5;, score=0.340 total time=   2.0s\n",
            "[CV 4/5] END C=1, class_weight=None, gamma=0.001, kernel=sigmoid, random_state=5;, score=0.340 total time=   1.9s\n",
            "[CV 5/5] END C=1, class_weight=None, gamma=0.001, kernel=sigmoid, random_state=5;, score=0.340 total time=   1.6s\n",
            "[CV 1/5] END C=1, class_weight=None, gamma=0.0001, kernel=linear, random_state=5;, score=0.778 total time=   1.2s\n",
            "[CV 2/5] END C=1, class_weight=None, gamma=0.0001, kernel=linear, random_state=5;, score=0.764 total time=   1.2s\n",
            "[CV 3/5] END C=1, class_weight=None, gamma=0.0001, kernel=linear, random_state=5;, score=0.825 total time=   1.2s\n",
            "[CV 4/5] END C=1, class_weight=None, gamma=0.0001, kernel=linear, random_state=5;, score=0.802 total time=   1.2s\n",
            "[CV 5/5] END C=1, class_weight=None, gamma=0.0001, kernel=linear, random_state=5;, score=0.769 total time=   1.2s\n",
            "[CV 1/5] END C=1, class_weight=None, gamma=0.0001, kernel=poly, random_state=5;, score=0.344 total time=   1.4s\n",
            "[CV 2/5] END C=1, class_weight=None, gamma=0.0001, kernel=poly, random_state=5;, score=0.340 total time=   1.5s\n",
            "[CV 3/5] END C=1, class_weight=None, gamma=0.0001, kernel=poly, random_state=5;, score=0.340 total time=   1.6s\n",
            "[CV 4/5] END C=1, class_weight=None, gamma=0.0001, kernel=poly, random_state=5;, score=0.340 total time=   1.7s\n",
            "[CV 5/5] END C=1, class_weight=None, gamma=0.0001, kernel=poly, random_state=5;, score=0.340 total time=   1.6s\n",
            "[CV 1/5] END C=1, class_weight=None, gamma=0.0001, kernel=rbf, random_state=5;, score=0.344 total time=   2.0s\n",
            "[CV 2/5] END C=1, class_weight=None, gamma=0.0001, kernel=rbf, random_state=5;, score=0.340 total time=   2.3s\n",
            "[CV 3/5] END C=1, class_weight=None, gamma=0.0001, kernel=rbf, random_state=5;, score=0.340 total time=   1.9s\n",
            "[CV 4/5] END C=1, class_weight=None, gamma=0.0001, kernel=rbf, random_state=5;, score=0.340 total time=   1.9s\n",
            "[CV 5/5] END C=1, class_weight=None, gamma=0.0001, kernel=rbf, random_state=5;, score=0.340 total time=   2.1s\n",
            "[CV 1/5] END C=1, class_weight=None, gamma=0.0001, kernel=sigmoid, random_state=5;, score=0.344 total time=   2.1s\n",
            "[CV 2/5] END C=1, class_weight=None, gamma=0.0001, kernel=sigmoid, random_state=5;, score=0.340 total time=   2.0s\n",
            "[CV 3/5] END C=1, class_weight=None, gamma=0.0001, kernel=sigmoid, random_state=5;, score=0.340 total time=   1.9s\n",
            "[CV 4/5] END C=1, class_weight=None, gamma=0.0001, kernel=sigmoid, random_state=5;, score=0.340 total time=   1.6s\n",
            "[CV 5/5] END C=1, class_weight=None, gamma=0.0001, kernel=sigmoid, random_state=5;, score=0.340 total time=   1.6s\n",
            "[CV 1/5] END C=1, class_weight=balanced, gamma=0.001, kernel=linear, random_state=5;, score=0.778 total time=   1.3s\n",
            "[CV 2/5] END C=1, class_weight=balanced, gamma=0.001, kernel=linear, random_state=5;, score=0.764 total time=   1.2s\n",
            "[CV 3/5] END C=1, class_weight=balanced, gamma=0.001, kernel=linear, random_state=5;, score=0.821 total time=   1.3s\n",
            "[CV 4/5] END C=1, class_weight=balanced, gamma=0.001, kernel=linear, random_state=5;, score=0.802 total time=   1.2s\n",
            "[CV 5/5] END C=1, class_weight=balanced, gamma=0.001, kernel=linear, random_state=5;, score=0.769 total time=   1.4s\n",
            "[CV 1/5] END C=1, class_weight=balanced, gamma=0.001, kernel=poly, random_state=5;, score=0.316 total time=   2.9s\n",
            "[CV 2/5] END C=1, class_weight=balanced, gamma=0.001, kernel=poly, random_state=5;, score=0.325 total time=   2.8s\n",
            "[CV 3/5] END C=1, class_weight=balanced, gamma=0.001, kernel=poly, random_state=5;, score=0.325 total time=   2.5s\n",
            "[CV 4/5] END C=1, class_weight=balanced, gamma=0.001, kernel=poly, random_state=5;, score=0.392 total time=   3.1s\n",
            "[CV 5/5] END C=1, class_weight=balanced, gamma=0.001, kernel=poly, random_state=5;, score=0.316 total time=   3.1s\n",
            "[CV 1/5] END C=1, class_weight=balanced, gamma=0.001, kernel=rbf, random_state=5;, score=0.325 total time=   3.6s\n",
            "[CV 2/5] END C=1, class_weight=balanced, gamma=0.001, kernel=rbf, random_state=5;, score=0.344 total time=   3.5s\n",
            "[CV 3/5] END C=1, class_weight=balanced, gamma=0.001, kernel=rbf, random_state=5;, score=0.354 total time=   2.9s\n",
            "[CV 4/5] END C=1, class_weight=balanced, gamma=0.001, kernel=rbf, random_state=5;, score=0.406 total time=   2.9s\n",
            "[CV 5/5] END C=1, class_weight=balanced, gamma=0.001, kernel=rbf, random_state=5;, score=0.311 total time=   2.9s\n",
            "[CV 1/5] END C=1, class_weight=balanced, gamma=0.001, kernel=sigmoid, random_state=5;, score=0.321 total time=   3.3s\n",
            "[CV 2/5] END C=1, class_weight=balanced, gamma=0.001, kernel=sigmoid, random_state=5;, score=0.104 total time=   3.3s\n",
            "[CV 3/5] END C=1, class_weight=balanced, gamma=0.001, kernel=sigmoid, random_state=5;, score=0.179 total time=   2.8s\n",
            "[CV 4/5] END C=1, class_weight=balanced, gamma=0.001, kernel=sigmoid, random_state=5;, score=0.104 total time=   2.8s\n",
            "[CV 5/5] END C=1, class_weight=balanced, gamma=0.001, kernel=sigmoid, random_state=5;, score=0.090 total time=   2.8s\n",
            "[CV 1/5] END C=1, class_weight=balanced, gamma=0.0001, kernel=linear, random_state=5;, score=0.778 total time=   1.4s\n",
            "[CV 2/5] END C=1, class_weight=balanced, gamma=0.0001, kernel=linear, random_state=5;, score=0.764 total time=   1.5s\n",
            "[CV 3/5] END C=1, class_weight=balanced, gamma=0.0001, kernel=linear, random_state=5;, score=0.821 total time=   1.6s\n",
            "[CV 4/5] END C=1, class_weight=balanced, gamma=0.0001, kernel=linear, random_state=5;, score=0.802 total time=   1.5s\n",
            "[CV 5/5] END C=1, class_weight=balanced, gamma=0.0001, kernel=linear, random_state=5;, score=0.769 total time=   1.4s\n",
            "[CV 1/5] END C=1, class_weight=balanced, gamma=0.0001, kernel=poly, random_state=5;, score=0.344 total time=   2.7s\n",
            "[CV 2/5] END C=1, class_weight=balanced, gamma=0.0001, kernel=poly, random_state=5;, score=0.047 total time=   2.7s\n",
            "[CV 3/5] END C=1, class_weight=balanced, gamma=0.0001, kernel=poly, random_state=5;, score=0.156 total time=   2.8s\n",
            "[CV 4/5] END C=1, class_weight=balanced, gamma=0.0001, kernel=poly, random_state=5;, score=0.033 total time=   3.1s\n",
            "[CV 5/5] END C=1, class_weight=balanced, gamma=0.0001, kernel=poly, random_state=5;, score=0.033 total time=   3.4s\n",
            "[CV 1/5] END C=1, class_weight=balanced, gamma=0.0001, kernel=rbf, random_state=5;, score=0.354 total time=   3.1s\n",
            "[CV 2/5] END C=1, class_weight=balanced, gamma=0.0001, kernel=rbf, random_state=5;, score=0.090 total time=   3.1s\n",
            "[CV 3/5] END C=1, class_weight=balanced, gamma=0.0001, kernel=rbf, random_state=5;, score=0.170 total time=   3.1s\n",
            "[CV 4/5] END C=1, class_weight=balanced, gamma=0.0001, kernel=rbf, random_state=5;, score=0.061 total time=   3.5s\n",
            "[CV 5/5] END C=1, class_weight=balanced, gamma=0.0001, kernel=rbf, random_state=5;, score=0.061 total time=   3.6s\n",
            "[CV 1/5] END C=1, class_weight=balanced, gamma=0.0001, kernel=sigmoid, random_state=5;, score=0.349 total time=   2.9s\n",
            "[CV 2/5] END C=1, class_weight=balanced, gamma=0.0001, kernel=sigmoid, random_state=5;, score=0.071 total time=   2.8s\n",
            "[CV 3/5] END C=1, class_weight=balanced, gamma=0.0001, kernel=sigmoid, random_state=5;, score=0.165 total time=   2.9s\n",
            "[CV 4/5] END C=1, class_weight=balanced, gamma=0.0001, kernel=sigmoid, random_state=5;, score=0.052 total time=   3.2s\n",
            "[CV 5/5] END C=1, class_weight=balanced, gamma=0.0001, kernel=sigmoid, random_state=5;, score=0.047 total time=   3.3s\n",
            "[CV 1/5] END C=10, class_weight=None, gamma=0.001, kernel=linear, random_state=5;, score=0.778 total time=   1.3s\n",
            "[CV 2/5] END C=10, class_weight=None, gamma=0.001, kernel=linear, random_state=5;, score=0.764 total time=   1.2s\n",
            "[CV 3/5] END C=10, class_weight=None, gamma=0.001, kernel=linear, random_state=5;, score=0.825 total time=   1.3s\n",
            "[CV 4/5] END C=10, class_weight=None, gamma=0.001, kernel=linear, random_state=5;, score=0.802 total time=   1.2s\n",
            "[CV 5/5] END C=10, class_weight=None, gamma=0.001, kernel=linear, random_state=5;, score=0.769 total time=   1.2s\n",
            "[CV 1/5] END C=10, class_weight=None, gamma=0.001, kernel=poly, random_state=5;, score=0.684 total time=   1.4s\n",
            "[CV 2/5] END C=10, class_weight=None, gamma=0.001, kernel=poly, random_state=5;, score=0.646 total time=   1.4s\n",
            "[CV 3/5] END C=10, class_weight=None, gamma=0.001, kernel=poly, random_state=5;, score=0.717 total time=   1.6s\n",
            "[CV 4/5] END C=10, class_weight=None, gamma=0.001, kernel=poly, random_state=5;, score=0.689 total time=   1.7s\n",
            "[CV 5/5] END C=10, class_weight=None, gamma=0.001, kernel=poly, random_state=5;, score=0.670 total time=   1.7s\n",
            "[CV 1/5] END C=10, class_weight=None, gamma=0.001, kernel=rbf, random_state=5;, score=0.736 total time=   1.9s\n",
            "[CV 2/5] END C=10, class_weight=None, gamma=0.001, kernel=rbf, random_state=5;, score=0.684 total time=   1.7s\n",
            "[CV 3/5] END C=10, class_weight=None, gamma=0.001, kernel=rbf, random_state=5;, score=0.783 total time=   1.7s\n",
            "[CV 4/5] END C=10, class_weight=None, gamma=0.001, kernel=rbf, random_state=5;, score=0.731 total time=   1.7s\n",
            "[CV 5/5] END C=10, class_weight=None, gamma=0.001, kernel=rbf, random_state=5;, score=0.693 total time=   1.7s\n",
            "[CV 1/5] END C=10, class_weight=None, gamma=0.001, kernel=sigmoid, random_state=5;, score=0.425 total time=   1.4s\n",
            "[CV 2/5] END C=10, class_weight=None, gamma=0.001, kernel=sigmoid, random_state=5;, score=0.415 total time=   1.6s\n",
            "[CV 3/5] END C=10, class_weight=None, gamma=0.001, kernel=sigmoid, random_state=5;, score=0.406 total time=   1.7s\n",
            "[CV 4/5] END C=10, class_weight=None, gamma=0.001, kernel=sigmoid, random_state=5;, score=0.401 total time=   1.7s\n",
            "[CV 5/5] END C=10, class_weight=None, gamma=0.001, kernel=sigmoid, random_state=5;, score=0.425 total time=   1.8s\n",
            "[CV 1/5] END C=10, class_weight=None, gamma=0.0001, kernel=linear, random_state=5;, score=0.778 total time=   1.2s\n",
            "[CV 2/5] END C=10, class_weight=None, gamma=0.0001, kernel=linear, random_state=5;, score=0.764 total time=   1.2s\n",
            "[CV 3/5] END C=10, class_weight=None, gamma=0.0001, kernel=linear, random_state=5;, score=0.825 total time=   1.2s\n",
            "[CV 4/5] END C=10, class_weight=None, gamma=0.0001, kernel=linear, random_state=5;, score=0.802 total time=   1.2s\n",
            "[CV 5/5] END C=10, class_weight=None, gamma=0.0001, kernel=linear, random_state=5;, score=0.769 total time=   1.2s\n",
            "[CV 1/5] END C=10, class_weight=None, gamma=0.0001, kernel=poly, random_state=5;, score=0.344 total time=   1.6s\n",
            "[CV 2/5] END C=10, class_weight=None, gamma=0.0001, kernel=poly, random_state=5;, score=0.340 total time=   1.5s\n",
            "[CV 3/5] END C=10, class_weight=None, gamma=0.0001, kernel=poly, random_state=5;, score=0.340 total time=   1.8s\n",
            "[CV 4/5] END C=10, class_weight=None, gamma=0.0001, kernel=poly, random_state=5;, score=0.340 total time=   2.0s\n",
            "[CV 5/5] END C=10, class_weight=None, gamma=0.0001, kernel=poly, random_state=5;, score=0.340 total time=   2.0s\n",
            "[CV 1/5] END C=10, class_weight=None, gamma=0.0001, kernel=rbf, random_state=5;, score=0.429 total time=   2.1s\n",
            "[CV 2/5] END C=10, class_weight=None, gamma=0.0001, kernel=rbf, random_state=5;, score=0.410 total time=   1.9s\n",
            "[CV 3/5] END C=10, class_weight=None, gamma=0.0001, kernel=rbf, random_state=5;, score=0.425 total time=   1.9s\n",
            "[CV 4/5] END C=10, class_weight=None, gamma=0.0001, kernel=rbf, random_state=5;, score=0.406 total time=   1.9s\n",
            "[CV 5/5] END C=10, class_weight=None, gamma=0.0001, kernel=rbf, random_state=5;, score=0.396 total time=   1.9s\n",
            "[CV 1/5] END C=10, class_weight=None, gamma=0.0001, kernel=sigmoid, random_state=5;, score=0.349 total time=   1.9s\n",
            "[CV 2/5] END C=10, class_weight=None, gamma=0.0001, kernel=sigmoid, random_state=5;, score=0.340 total time=   2.1s\n",
            "[CV 3/5] END C=10, class_weight=None, gamma=0.0001, kernel=sigmoid, random_state=5;, score=0.349 total time=   2.0s\n",
            "[CV 4/5] END C=10, class_weight=None, gamma=0.0001, kernel=sigmoid, random_state=5;, score=0.344 total time=   1.7s\n",
            "[CV 5/5] END C=10, class_weight=None, gamma=0.0001, kernel=sigmoid, random_state=5;, score=0.340 total time=   1.7s\n",
            "[CV 1/5] END C=10, class_weight=balanced, gamma=0.001, kernel=linear, random_state=5;, score=0.778 total time=   1.3s\n",
            "[CV 2/5] END C=10, class_weight=balanced, gamma=0.001, kernel=linear, random_state=5;, score=0.764 total time=   1.2s\n",
            "[CV 3/5] END C=10, class_weight=balanced, gamma=0.001, kernel=linear, random_state=5;, score=0.825 total time=   1.3s\n",
            "[CV 4/5] END C=10, class_weight=balanced, gamma=0.001, kernel=linear, random_state=5;, score=0.802 total time=   1.3s\n",
            "[CV 5/5] END C=10, class_weight=balanced, gamma=0.001, kernel=linear, random_state=5;, score=0.769 total time=   1.3s\n",
            "[CV 1/5] END C=10, class_weight=balanced, gamma=0.001, kernel=poly, random_state=5;, score=0.679 total time=   2.1s\n",
            "[CV 2/5] END C=10, class_weight=balanced, gamma=0.001, kernel=poly, random_state=5;, score=0.693 total time=   2.0s\n",
            "[CV 3/5] END C=10, class_weight=balanced, gamma=0.001, kernel=poly, random_state=5;, score=0.712 total time=   2.0s\n",
            "[CV 4/5] END C=10, class_weight=balanced, gamma=0.001, kernel=poly, random_state=5;, score=0.679 total time=   1.7s\n",
            "[CV 5/5] END C=10, class_weight=balanced, gamma=0.001, kernel=poly, random_state=5;, score=0.712 total time=   1.7s\n",
            "[CV 1/5] END C=10, class_weight=balanced, gamma=0.001, kernel=rbf, random_state=5;, score=0.708 total time=   2.1s\n",
            "[CV 2/5] END C=10, class_weight=balanced, gamma=0.001, kernel=rbf, random_state=5;, score=0.731 total time=   2.1s\n",
            "[CV 3/5] END C=10, class_weight=balanced, gamma=0.001, kernel=rbf, random_state=5;, score=0.788 total time=   2.2s\n",
            "[CV 4/5] END C=10, class_weight=balanced, gamma=0.001, kernel=rbf, random_state=5;, score=0.736 total time=   2.5s\n",
            "[CV 5/5] END C=10, class_weight=balanced, gamma=0.001, kernel=rbf, random_state=5;, score=0.769 total time=   2.5s\n",
            "[CV 1/5] END C=10, class_weight=balanced, gamma=0.001, kernel=sigmoid, random_state=5;, score=0.458 total time=   2.3s\n",
            "[CV 2/5] END C=10, class_weight=balanced, gamma=0.001, kernel=sigmoid, random_state=5;, score=0.491 total time=   2.3s\n",
            "[CV 3/5] END C=10, class_weight=balanced, gamma=0.001, kernel=sigmoid, random_state=5;, score=0.538 total time=   2.3s\n",
            "[CV 4/5] END C=10, class_weight=balanced, gamma=0.001, kernel=sigmoid, random_state=5;, score=0.462 total time=   2.3s\n",
            "[CV 5/5] END C=10, class_weight=balanced, gamma=0.001, kernel=sigmoid, random_state=5;, score=0.500 total time=   2.6s\n",
            "[CV 1/5] END C=10, class_weight=balanced, gamma=0.0001, kernel=linear, random_state=5;, score=0.778 total time=   1.6s\n",
            "[CV 2/5] END C=10, class_weight=balanced, gamma=0.0001, kernel=linear, random_state=5;, score=0.764 total time=   1.6s\n",
            "[CV 3/5] END C=10, class_weight=balanced, gamma=0.0001, kernel=linear, random_state=5;, score=0.825 total time=   1.4s\n",
            "[CV 4/5] END C=10, class_weight=balanced, gamma=0.0001, kernel=linear, random_state=5;, score=0.802 total time=   1.3s\n",
            "[CV 5/5] END C=10, class_weight=balanced, gamma=0.0001, kernel=linear, random_state=5;, score=0.769 total time=   1.4s\n",
            "[CV 1/5] END C=10, class_weight=balanced, gamma=0.0001, kernel=poly, random_state=5;, score=0.033 total time=   2.9s\n",
            "[CV 2/5] END C=10, class_weight=balanced, gamma=0.0001, kernel=poly, random_state=5;, score=0.033 total time=   2.9s\n",
            "[CV 3/5] END C=10, class_weight=balanced, gamma=0.0001, kernel=poly, random_state=5;, score=0.156 total time=   3.3s\n",
            "[CV 4/5] END C=10, class_weight=balanced, gamma=0.0001, kernel=poly, random_state=5;, score=0.033 total time=   3.4s\n",
            "[CV 5/5] END C=10, class_weight=balanced, gamma=0.0001, kernel=poly, random_state=5;, score=0.075 total time=   2.9s\n",
            "[CV 1/5] END C=10, class_weight=balanced, gamma=0.0001, kernel=rbf, random_state=5;, score=0.335 total time=   2.9s\n",
            "[CV 2/5] END C=10, class_weight=balanced, gamma=0.0001, kernel=rbf, random_state=5;, score=0.392 total time=   2.8s\n",
            "[CV 3/5] END C=10, class_weight=balanced, gamma=0.0001, kernel=rbf, random_state=5;, score=0.368 total time=   3.2s\n",
            "[CV 4/5] END C=10, class_weight=balanced, gamma=0.0001, kernel=rbf, random_state=5;, score=0.396 total time=   3.4s\n",
            "[CV 5/5] END C=10, class_weight=balanced, gamma=0.0001, kernel=rbf, random_state=5;, score=0.354 total time=   2.8s\n",
            "[CV 1/5] END C=10, class_weight=balanced, gamma=0.0001, kernel=sigmoid, random_state=5;, score=0.189 total time=   2.5s\n",
            "[CV 2/5] END C=10, class_weight=balanced, gamma=0.0001, kernel=sigmoid, random_state=5;, score=0.189 total time=   2.7s\n",
            "[CV 3/5] END C=10, class_weight=balanced, gamma=0.0001, kernel=sigmoid, random_state=5;, score=0.259 total time=   3.1s\n",
            "[CV 4/5] END C=10, class_weight=balanced, gamma=0.0001, kernel=sigmoid, random_state=5;, score=0.231 total time=   3.3s\n",
            "[CV 5/5] END C=10, class_weight=balanced, gamma=0.0001, kernel=sigmoid, random_state=5;, score=0.203 total time=   2.9s\n",
            "[CV 1/5] END C=100, class_weight=None, gamma=0.001, kernel=linear, random_state=5;, score=0.778 total time=   1.3s\n",
            "[CV 2/5] END C=100, class_weight=None, gamma=0.001, kernel=linear, random_state=5;, score=0.764 total time=   1.3s\n",
            "[CV 3/5] END C=100, class_weight=None, gamma=0.001, kernel=linear, random_state=5;, score=0.825 total time=   1.3s\n",
            "[CV 4/5] END C=100, class_weight=None, gamma=0.001, kernel=linear, random_state=5;, score=0.802 total time=   1.3s\n",
            "[CV 5/5] END C=100, class_weight=None, gamma=0.001, kernel=linear, random_state=5;, score=0.769 total time=   1.2s\n",
            "[CV 1/5] END C=100, class_weight=None, gamma=0.001, kernel=poly, random_state=5;, score=0.778 total time=   1.2s\n",
            "[CV 2/5] END C=100, class_weight=None, gamma=0.001, kernel=poly, random_state=5;, score=0.741 total time=   1.4s\n",
            "[CV 3/5] END C=100, class_weight=None, gamma=0.001, kernel=poly, random_state=5;, score=0.774 total time=   1.6s\n",
            "[CV 4/5] END C=100, class_weight=None, gamma=0.001, kernel=poly, random_state=5;, score=0.783 total time=   1.5s\n",
            "[CV 5/5] END C=100, class_weight=None, gamma=0.001, kernel=poly, random_state=5;, score=0.783 total time=   1.5s\n",
            "[CV 1/5] END C=100, class_weight=None, gamma=0.001, kernel=rbf, random_state=5;, score=0.778 total time=   1.6s\n",
            "[CV 2/5] END C=100, class_weight=None, gamma=0.001, kernel=rbf, random_state=5;, score=0.759 total time=   1.6s\n",
            "[CV 3/5] END C=100, class_weight=None, gamma=0.001, kernel=rbf, random_state=5;, score=0.816 total time=   1.7s\n",
            "[CV 4/5] END C=100, class_weight=None, gamma=0.001, kernel=rbf, random_state=5;, score=0.792 total time=   1.6s\n",
            "[CV 5/5] END C=100, class_weight=None, gamma=0.001, kernel=rbf, random_state=5;, score=0.797 total time=   1.6s\n",
            "[CV 1/5] END C=100, class_weight=None, gamma=0.001, kernel=sigmoid, random_state=5;, score=0.382 total time=   1.0s\n",
            "[CV 2/5] END C=100, class_weight=None, gamma=0.001, kernel=sigmoid, random_state=5;, score=0.377 total time=   1.1s\n",
            "[CV 3/5] END C=100, class_weight=None, gamma=0.001, kernel=sigmoid, random_state=5;, score=0.472 total time=   1.3s\n",
            "[CV 4/5] END C=100, class_weight=None, gamma=0.001, kernel=sigmoid, random_state=5;, score=0.420 total time=   1.2s\n",
            "[CV 5/5] END C=100, class_weight=None, gamma=0.001, kernel=sigmoid, random_state=5;, score=0.453 total time=   1.3s\n",
            "[CV 1/5] END C=100, class_weight=None, gamma=0.0001, kernel=linear, random_state=5;, score=0.778 total time=   1.5s\n",
            "[CV 2/5] END C=100, class_weight=None, gamma=0.0001, kernel=linear, random_state=5;, score=0.764 total time=   1.2s\n",
            "[CV 3/5] END C=100, class_weight=None, gamma=0.0001, kernel=linear, random_state=5;, score=0.825 total time=   1.3s\n",
            "[CV 4/5] END C=100, class_weight=None, gamma=0.0001, kernel=linear, random_state=5;, score=0.802 total time=   1.3s\n",
            "[CV 5/5] END C=100, class_weight=None, gamma=0.0001, kernel=linear, random_state=5;, score=0.769 total time=   1.3s\n",
            "[CV 1/5] END C=100, class_weight=None, gamma=0.0001, kernel=poly, random_state=5;, score=0.344 total time=   1.9s\n",
            "[CV 2/5] END C=100, class_weight=None, gamma=0.0001, kernel=poly, random_state=5;, score=0.340 total time=   1.8s\n",
            "[CV 3/5] END C=100, class_weight=None, gamma=0.0001, kernel=poly, random_state=5;, score=0.340 total time=   1.8s\n",
            "[CV 4/5] END C=100, class_weight=None, gamma=0.0001, kernel=poly, random_state=5;, score=0.340 total time=   2.0s\n",
            "[CV 5/5] END C=100, class_weight=None, gamma=0.0001, kernel=poly, random_state=5;, score=0.340 total time=   2.0s\n",
            "[CV 1/5] END C=100, class_weight=None, gamma=0.0001, kernel=rbf, random_state=5;, score=0.736 total time=   1.8s\n",
            "[CV 2/5] END C=100, class_weight=None, gamma=0.0001, kernel=rbf, random_state=5;, score=0.684 total time=   1.6s\n",
            "[CV 3/5] END C=100, class_weight=None, gamma=0.0001, kernel=rbf, random_state=5;, score=0.778 total time=   1.6s\n",
            "[CV 4/5] END C=100, class_weight=None, gamma=0.0001, kernel=rbf, random_state=5;, score=0.755 total time=   1.6s\n",
            "[CV 5/5] END C=100, class_weight=None, gamma=0.0001, kernel=rbf, random_state=5;, score=0.689 total time=   1.6s\n",
            "[CV 1/5] END C=100, class_weight=None, gamma=0.0001, kernel=sigmoid, random_state=5;, score=0.632 total time=   1.5s\n",
            "[CV 2/5] END C=100, class_weight=None, gamma=0.0001, kernel=sigmoid, random_state=5;, score=0.604 total time=   1.6s\n",
            "[CV 3/5] END C=100, class_weight=None, gamma=0.0001, kernel=sigmoid, random_state=5;, score=0.670 total time=   1.8s\n",
            "[CV 4/5] END C=100, class_weight=None, gamma=0.0001, kernel=sigmoid, random_state=5;, score=0.651 total time=   1.8s\n",
            "[CV 5/5] END C=100, class_weight=None, gamma=0.0001, kernel=sigmoid, random_state=5;, score=0.618 total time=   1.7s\n",
            "[CV 1/5] END C=100, class_weight=balanced, gamma=0.001, kernel=linear, random_state=5;, score=0.778 total time=   1.3s\n",
            "[CV 2/5] END C=100, class_weight=balanced, gamma=0.001, kernel=linear, random_state=5;, score=0.764 total time=   1.2s\n",
            "[CV 3/5] END C=100, class_weight=balanced, gamma=0.001, kernel=linear, random_state=5;, score=0.825 total time=   1.3s\n",
            "[CV 4/5] END C=100, class_weight=balanced, gamma=0.001, kernel=linear, random_state=5;, score=0.802 total time=   1.2s\n",
            "[CV 5/5] END C=100, class_weight=balanced, gamma=0.001, kernel=linear, random_state=5;, score=0.769 total time=   1.2s\n",
            "[CV 1/5] END C=100, class_weight=balanced, gamma=0.001, kernel=poly, random_state=5;, score=0.778 total time=   1.2s\n",
            "[CV 2/5] END C=100, class_weight=balanced, gamma=0.001, kernel=poly, random_state=5;, score=0.745 total time=   1.2s\n",
            "[CV 3/5] END C=100, class_weight=balanced, gamma=0.001, kernel=poly, random_state=5;, score=0.769 total time=   1.4s\n",
            "[CV 4/5] END C=100, class_weight=balanced, gamma=0.001, kernel=poly, random_state=5;, score=0.797 total time=   1.5s\n",
            "[CV 5/5] END C=100, class_weight=balanced, gamma=0.001, kernel=poly, random_state=5;, score=0.783 total time=   1.5s\n",
            "[CV 1/5] END C=100, class_weight=balanced, gamma=0.001, kernel=rbf, random_state=5;, score=0.774 total time=   1.9s\n",
            "[CV 2/5] END C=100, class_weight=balanced, gamma=0.001, kernel=rbf, random_state=5;, score=0.745 total time=   1.6s\n",
            "[CV 3/5] END C=100, class_weight=balanced, gamma=0.001, kernel=rbf, random_state=5;, score=0.816 total time=   1.6s\n",
            "[CV 4/5] END C=100, class_weight=balanced, gamma=0.001, kernel=rbf, random_state=5;, score=0.783 total time=   1.6s\n",
            "[CV 5/5] END C=100, class_weight=balanced, gamma=0.001, kernel=rbf, random_state=5;, score=0.788 total time=   1.6s\n",
            "[CV 1/5] END C=100, class_weight=balanced, gamma=0.001, kernel=sigmoid, random_state=5;, score=0.302 total time=   1.2s\n",
            "[CV 2/5] END C=100, class_weight=balanced, gamma=0.001, kernel=sigmoid, random_state=5;, score=0.241 total time=   1.2s\n",
            "[CV 3/5] END C=100, class_weight=balanced, gamma=0.001, kernel=sigmoid, random_state=5;, score=0.439 total time=   1.4s\n",
            "[CV 4/5] END C=100, class_weight=balanced, gamma=0.001, kernel=sigmoid, random_state=5;, score=0.344 total time=   1.5s\n",
            "[CV 5/5] END C=100, class_weight=balanced, gamma=0.001, kernel=sigmoid, random_state=5;, score=0.349 total time=   1.6s\n",
            "[CV 1/5] END C=100, class_weight=balanced, gamma=0.0001, kernel=linear, random_state=5;, score=0.778 total time=   1.5s\n",
            "[CV 2/5] END C=100, class_weight=balanced, gamma=0.0001, kernel=linear, random_state=5;, score=0.764 total time=   1.3s\n",
            "[CV 3/5] END C=100, class_weight=balanced, gamma=0.0001, kernel=linear, random_state=5;, score=0.825 total time=   1.3s\n",
            "[CV 4/5] END C=100, class_weight=balanced, gamma=0.0001, kernel=linear, random_state=5;, score=0.802 total time=   1.2s\n",
            "[CV 5/5] END C=100, class_weight=balanced, gamma=0.0001, kernel=linear, random_state=5;, score=0.769 total time=   1.3s\n",
            "[CV 1/5] END C=100, class_weight=balanced, gamma=0.0001, kernel=poly, random_state=5;, score=0.080 total time=   2.8s\n",
            "[CV 2/5] END C=100, class_weight=balanced, gamma=0.0001, kernel=poly, random_state=5;, score=0.104 total time=   2.7s\n",
            "[CV 3/5] END C=100, class_weight=balanced, gamma=0.0001, kernel=poly, random_state=5;, score=0.066 total time=   3.2s\n",
            "[CV 4/5] END C=100, class_weight=balanced, gamma=0.0001, kernel=poly, random_state=5;, score=0.099 total time=   3.3s\n",
            "[CV 5/5] END C=100, class_weight=balanced, gamma=0.0001, kernel=poly, random_state=5;, score=0.090 total time=   2.8s\n",
            "[CV 1/5] END C=100, class_weight=balanced, gamma=0.0001, kernel=rbf, random_state=5;, score=0.712 total time=   2.1s\n",
            "[CV 2/5] END C=100, class_weight=balanced, gamma=0.0001, kernel=rbf, random_state=5;, score=0.741 total time=   2.0s\n",
            "[CV 3/5] END C=100, class_weight=balanced, gamma=0.0001, kernel=rbf, random_state=5;, score=0.778 total time=   2.1s\n",
            "[CV 4/5] END C=100, class_weight=balanced, gamma=0.0001, kernel=rbf, random_state=5;, score=0.731 total time=   2.5s\n",
            "[CV 5/5] END C=100, class_weight=balanced, gamma=0.0001, kernel=rbf, random_state=5;, score=0.778 total time=   2.6s\n",
            "[CV 1/5] END C=100, class_weight=balanced, gamma=0.0001, kernel=sigmoid, random_state=5;, score=0.646 total time=   2.0s\n",
            "[CV 2/5] END C=100, class_weight=balanced, gamma=0.0001, kernel=sigmoid, random_state=5;, score=0.665 total time=   1.9s\n",
            "[CV 3/5] END C=100, class_weight=balanced, gamma=0.0001, kernel=sigmoid, random_state=5;, score=0.703 total time=   1.9s\n",
            "[CV 4/5] END C=100, class_weight=balanced, gamma=0.0001, kernel=sigmoid, random_state=5;, score=0.722 total time=   1.9s\n",
            "[CV 5/5] END C=100, class_weight=balanced, gamma=0.0001, kernel=sigmoid, random_state=5;, score=0.708 total time=   1.9s\n",
            "[CV 1/5] END C=1000, class_weight=None, gamma=0.001, kernel=linear, random_state=5;, score=0.778 total time=   1.4s\n",
            "[CV 2/5] END C=1000, class_weight=None, gamma=0.001, kernel=linear, random_state=5;, score=0.764 total time=   1.4s\n",
            "[CV 3/5] END C=1000, class_weight=None, gamma=0.001, kernel=linear, random_state=5;, score=0.825 total time=   1.6s\n",
            "[CV 4/5] END C=1000, class_weight=None, gamma=0.001, kernel=linear, random_state=5;, score=0.802 total time=   1.5s\n",
            "[CV 5/5] END C=1000, class_weight=None, gamma=0.001, kernel=linear, random_state=5;, score=0.769 total time=   1.2s\n",
            "[CV 1/5] END C=1000, class_weight=None, gamma=0.001, kernel=poly, random_state=5;, score=0.778 total time=   1.2s\n",
            "[CV 2/5] END C=1000, class_weight=None, gamma=0.001, kernel=poly, random_state=5;, score=0.741 total time=   1.2s\n",
            "[CV 3/5] END C=1000, class_weight=None, gamma=0.001, kernel=poly, random_state=5;, score=0.764 total time=   1.2s\n",
            "[CV 4/5] END C=1000, class_weight=None, gamma=0.001, kernel=poly, random_state=5;, score=0.778 total time=   1.2s\n",
            "[CV 5/5] END C=1000, class_weight=None, gamma=0.001, kernel=poly, random_state=5;, score=0.778 total time=   1.2s\n",
            "[CV 1/5] END C=1000, class_weight=None, gamma=0.001, kernel=rbf, random_state=5;, score=0.774 total time=   1.6s\n",
            "[CV 2/5] END C=1000, class_weight=None, gamma=0.001, kernel=rbf, random_state=5;, score=0.759 total time=   1.6s\n",
            "[CV 3/5] END C=1000, class_weight=None, gamma=0.001, kernel=rbf, random_state=5;, score=0.811 total time=   2.0s\n",
            "[CV 4/5] END C=1000, class_weight=None, gamma=0.001, kernel=rbf, random_state=5;, score=0.797 total time=   2.0s\n",
            "[CV 5/5] END C=1000, class_weight=None, gamma=0.001, kernel=rbf, random_state=5;, score=0.797 total time=   1.8s\n",
            "[CV 1/5] END C=1000, class_weight=None, gamma=0.001, kernel=sigmoid, random_state=5;, score=0.330 total time=   0.9s\n",
            "[CV 2/5] END C=1000, class_weight=None, gamma=0.001, kernel=sigmoid, random_state=5;, score=0.311 total time=   0.9s\n",
            "[CV 3/5] END C=1000, class_weight=None, gamma=0.001, kernel=sigmoid, random_state=5;, score=0.453 total time=   0.9s\n",
            "[CV 4/5] END C=1000, class_weight=None, gamma=0.001, kernel=sigmoid, random_state=5;, score=0.396 total time=   0.9s\n",
            "[CV 5/5] END C=1000, class_weight=None, gamma=0.001, kernel=sigmoid, random_state=5;, score=0.392 total time=   1.0s\n",
            "[CV 1/5] END C=1000, class_weight=None, gamma=0.0001, kernel=linear, random_state=5;, score=0.778 total time=   1.2s\n",
            "[CV 2/5] END C=1000, class_weight=None, gamma=0.0001, kernel=linear, random_state=5;, score=0.764 total time=   1.2s\n",
            "[CV 3/5] END C=1000, class_weight=None, gamma=0.0001, kernel=linear, random_state=5;, score=0.825 total time=   1.3s\n",
            "[CV 4/5] END C=1000, class_weight=None, gamma=0.0001, kernel=linear, random_state=5;, score=0.802 total time=   1.3s\n",
            "[CV 5/5] END C=1000, class_weight=None, gamma=0.0001, kernel=linear, random_state=5;, score=0.769 total time=   1.5s\n",
            "[CV 1/5] END C=1000, class_weight=None, gamma=0.0001, kernel=poly, random_state=5;, score=0.377 total time=   2.0s\n",
            "[CV 2/5] END C=1000, class_weight=None, gamma=0.0001, kernel=poly, random_state=5;, score=0.358 total time=   2.0s\n",
            "[CV 3/5] END C=1000, class_weight=None, gamma=0.0001, kernel=poly, random_state=5;, score=0.373 total time=   1.6s\n",
            "[CV 4/5] END C=1000, class_weight=None, gamma=0.0001, kernel=poly, random_state=5;, score=0.373 total time=   1.6s\n",
            "[CV 5/5] END C=1000, class_weight=None, gamma=0.0001, kernel=poly, random_state=5;, score=0.363 total time=   1.6s\n",
            "[CV 1/5] END C=1000, class_weight=None, gamma=0.0001, kernel=rbf, random_state=5;, score=0.783 total time=   1.5s\n",
            "[CV 2/5] END C=1000, class_weight=None, gamma=0.0001, kernel=rbf, random_state=5;, score=0.774 total time=   1.5s\n",
            "[CV 3/5] END C=1000, class_weight=None, gamma=0.0001, kernel=rbf, random_state=5;, score=0.811 total time=   1.6s\n",
            "[CV 4/5] END C=1000, class_weight=None, gamma=0.0001, kernel=rbf, random_state=5;, score=0.792 total time=   1.8s\n",
            "[CV 5/5] END C=1000, class_weight=None, gamma=0.0001, kernel=rbf, random_state=5;, score=0.778 total time=   1.8s\n",
            "[CV 1/5] END C=1000, class_weight=None, gamma=0.0001, kernel=sigmoid, random_state=5;, score=0.764 total time=   1.7s\n",
            "[CV 2/5] END C=1000, class_weight=None, gamma=0.0001, kernel=sigmoid, random_state=5;, score=0.769 total time=   1.5s\n",
            "[CV 3/5] END C=1000, class_weight=None, gamma=0.0001, kernel=sigmoid, random_state=5;, score=0.802 total time=   1.3s\n",
            "[CV 4/5] END C=1000, class_weight=None, gamma=0.0001, kernel=sigmoid, random_state=5;, score=0.783 total time=   1.3s\n",
            "[CV 5/5] END C=1000, class_weight=None, gamma=0.0001, kernel=sigmoid, random_state=5;, score=0.783 total time=   1.2s\n",
            "[CV 1/5] END C=1000, class_weight=balanced, gamma=0.001, kernel=linear, random_state=5;, score=0.778 total time=   1.2s\n",
            "[CV 2/5] END C=1000, class_weight=balanced, gamma=0.001, kernel=linear, random_state=5;, score=0.764 total time=   1.2s\n",
            "[CV 3/5] END C=1000, class_weight=balanced, gamma=0.001, kernel=linear, random_state=5;, score=0.825 total time=   1.3s\n",
            "[CV 4/5] END C=1000, class_weight=balanced, gamma=0.001, kernel=linear, random_state=5;, score=0.802 total time=   1.3s\n",
            "[CV 5/5] END C=1000, class_weight=balanced, gamma=0.001, kernel=linear, random_state=5;, score=0.769 total time=   1.5s\n",
            "[CV 1/5] END C=1000, class_weight=balanced, gamma=0.001, kernel=poly, random_state=5;, score=0.778 total time=   1.6s\n",
            "[CV 2/5] END C=1000, class_weight=balanced, gamma=0.001, kernel=poly, random_state=5;, score=0.741 total time=   1.5s\n",
            "[CV 3/5] END C=1000, class_weight=balanced, gamma=0.001, kernel=poly, random_state=5;, score=0.764 total time=   1.6s\n",
            "[CV 4/5] END C=1000, class_weight=balanced, gamma=0.001, kernel=poly, random_state=5;, score=0.778 total time=   1.3s\n",
            "[CV 5/5] END C=1000, class_weight=balanced, gamma=0.001, kernel=poly, random_state=5;, score=0.778 total time=   1.2s\n",
            "[CV 1/5] END C=1000, class_weight=balanced, gamma=0.001, kernel=rbf, random_state=5;, score=0.774 total time=   1.6s\n",
            "[CV 2/5] END C=1000, class_weight=balanced, gamma=0.001, kernel=rbf, random_state=5;, score=0.759 total time=   1.6s\n",
            "[CV 3/5] END C=1000, class_weight=balanced, gamma=0.001, kernel=rbf, random_state=5;, score=0.811 total time=   1.7s\n",
            "[CV 4/5] END C=1000, class_weight=balanced, gamma=0.001, kernel=rbf, random_state=5;, score=0.797 total time=   1.6s\n",
            "[CV 5/5] END C=1000, class_weight=balanced, gamma=0.001, kernel=rbf, random_state=5;, score=0.797 total time=   1.9s\n",
            "[CV 1/5] END C=1000, class_weight=balanced, gamma=0.001, kernel=sigmoid, random_state=5;, score=0.283 total time=   1.5s\n",
            "[CV 2/5] END C=1000, class_weight=balanced, gamma=0.001, kernel=sigmoid, random_state=5;, score=0.193 total time=   1.5s\n",
            "[CV 3/5] END C=1000, class_weight=balanced, gamma=0.001, kernel=sigmoid, random_state=5;, score=0.406 total time=   1.5s\n",
            "[CV 4/5] END C=1000, class_weight=balanced, gamma=0.001, kernel=sigmoid, random_state=5;, score=0.316 total time=   1.1s\n",
            "[CV 5/5] END C=1000, class_weight=balanced, gamma=0.001, kernel=sigmoid, random_state=5;, score=0.321 total time=   1.1s\n",
            "[CV 1/5] END C=1000, class_weight=balanced, gamma=0.0001, kernel=linear, random_state=5;, score=0.778 total time=   1.2s\n",
            "[CV 2/5] END C=1000, class_weight=balanced, gamma=0.0001, kernel=linear, random_state=5;, score=0.764 total time=   1.2s\n",
            "[CV 3/5] END C=1000, class_weight=balanced, gamma=0.0001, kernel=linear, random_state=5;, score=0.825 total time=   1.3s\n",
            "[CV 4/5] END C=1000, class_weight=balanced, gamma=0.0001, kernel=linear, random_state=5;, score=0.802 total time=   1.2s\n",
            "[CV 5/5] END C=1000, class_weight=balanced, gamma=0.0001, kernel=linear, random_state=5;, score=0.769 total time=   1.3s\n",
            "[CV 1/5] END C=1000, class_weight=balanced, gamma=0.0001, kernel=poly, random_state=5;, score=0.316 total time=   2.8s\n",
            "[CV 2/5] END C=1000, class_weight=balanced, gamma=0.0001, kernel=poly, random_state=5;, score=0.325 total time=   3.0s\n",
            "[CV 3/5] END C=1000, class_weight=balanced, gamma=0.0001, kernel=poly, random_state=5;, score=0.325 total time=   2.7s\n",
            "[CV 4/5] END C=1000, class_weight=balanced, gamma=0.0001, kernel=poly, random_state=5;, score=0.392 total time=   2.5s\n",
            "[CV 5/5] END C=1000, class_weight=balanced, gamma=0.0001, kernel=poly, random_state=5;, score=0.316 total time=   2.5s\n",
            "[CV 1/5] END C=1000, class_weight=balanced, gamma=0.0001, kernel=rbf, random_state=5;, score=0.769 total time=   1.5s\n",
            "[CV 2/5] END C=1000, class_weight=balanced, gamma=0.0001, kernel=rbf, random_state=5;, score=0.774 total time=   1.6s\n",
            "[CV 3/5] END C=1000, class_weight=balanced, gamma=0.0001, kernel=rbf, random_state=5;, score=0.811 total time=   1.9s\n",
            "[CV 4/5] END C=1000, class_weight=balanced, gamma=0.0001, kernel=rbf, random_state=5;, score=0.792 total time=   1.9s\n",
            "[CV 5/5] END C=1000, class_weight=balanced, gamma=0.0001, kernel=rbf, random_state=5;, score=0.788 total time=   2.0s\n",
            "[CV 1/5] END C=1000, class_weight=balanced, gamma=0.0001, kernel=sigmoid, random_state=5;, score=0.774 total time=   1.8s\n",
            "[CV 2/5] END C=1000, class_weight=balanced, gamma=0.0001, kernel=sigmoid, random_state=5;, score=0.774 total time=   1.6s\n",
            "[CV 3/5] END C=1000, class_weight=balanced, gamma=0.0001, kernel=sigmoid, random_state=5;, score=0.825 total time=   1.4s\n",
            "[CV 4/5] END C=1000, class_weight=balanced, gamma=0.0001, kernel=sigmoid, random_state=5;, score=0.802 total time=   1.4s\n",
            "[CV 5/5] END C=1000, class_weight=balanced, gamma=0.0001, kernel=sigmoid, random_state=5;, score=0.783 total time=   1.3s\n"
          ]
        },
        {
          "output_type": "execute_result",
          "data": {
            "text/plain": [
              "{'C': 1000,\n",
              " 'class_weight': 'balanced',\n",
              " 'gamma': 0.0001,\n",
              " 'kernel': 'sigmoid',\n",
              " 'random_state': 5}"
            ]
          },
          "metadata": {},
          "execution_count": 29
        }
      ]
    },
    {
      "cell_type": "markdown",
      "metadata": {
        "id": "zCIM8lSj70Ov"
      },
      "source": [
        "## Первое приближение: базовый SVM классификатор с линейным ядром."
      ]
    },
    {
      "cell_type": "markdown",
      "source": [
        "Обучите модель <code>SVC()</code> на тренировочном наборе данных с параметрами, указанными в вашем индивидуальном задании."
      ],
      "metadata": {
        "id": "1MFp8jptUyyd"
      }
    },
    {
      "cell_type": "code",
      "execution_count": null,
      "metadata": {
        "id": "4EJTB6GJ76_f"
      },
      "outputs": [],
      "source": [
        "# < ENTER YOUR CODE HERE >"
      ]
    },
    {
      "cell_type": "markdown",
      "metadata": {
        "id": "ahRow63h-LBm"
      },
      "source": [
        "Оцените модель на тестовых данных. Вычислите <code>f1_score(average='weighted')</code>"
      ]
    },
    {
      "cell_type": "code",
      "execution_count": null,
      "metadata": {
        "id": "wxCTai-M8nwz"
      },
      "outputs": [],
      "source": [
        "# < ENTER YOUR CODE HERE >"
      ]
    },
    {
      "cell_type": "markdown",
      "source": [
        "В целом, достаточно неплохой результат, но имеет смысл попробовать подобрать параметры."
      ],
      "metadata": {
        "id": "GZlTrsLWWxV_"
      }
    },
    {
      "cell_type": "markdown",
      "metadata": {
        "id": "IYIiSBkk_Yrx"
      },
      "source": [
        "## Подбор гиперпараметров"
      ]
    },
    {
      "cell_type": "markdown",
      "source": [
        "Используя <code>GridSearchCV()</code>, осуществите подбор гиперпараметров, указанных в вашем задании. Отдельно обратите внимание на время обучения моделей"
      ],
      "metadata": {
        "id": "mrFWhMp8XKLD"
      }
    },
    {
      "cell_type": "code",
      "execution_count": null,
      "metadata": {
        "id": "AY8QwPhh_fMF"
      },
      "outputs": [],
      "source": [
        "# < ENTER YOUR CODE HERE >"
      ]
    },
    {
      "cell_type": "markdown",
      "source": [
        "Определите гиперпараметры лучшей полученной модели."
      ],
      "metadata": {
        "id": "YH-ufkYcYoiw"
      }
    },
    {
      "cell_type": "code",
      "execution_count": null,
      "metadata": {
        "id": "MTHT-HJiFrZz"
      },
      "outputs": [],
      "source": [
        "# < ENTER YOUR CODE HERE >"
      ]
    },
    {
      "cell_type": "markdown",
      "source": [
        "Выполните предсказание для тестовых данных при помощи лучшей полученной модели. Вычислите <code>f1_score(average='weighted')</code>."
      ],
      "metadata": {
        "id": "1owOotVmZi3C"
      }
    },
    {
      "cell_type": "code",
      "execution_count": 30,
      "metadata": {
        "id": "OHlPZdMjFxZU",
        "colab": {
          "base_uri": "https://localhost:8080/"
        },
        "outputId": "57e6373c-19d2-4d7d-e14d-7540399ee469"
      },
      "outputs": [
        {
          "output_type": "execute_result",
          "data": {
            "text/plain": [
              "0.771"
            ]
          },
          "metadata": {},
          "execution_count": 30
        }
      ],
      "source": [
        "\n",
        "round(f1_score(y_test, svc.best_estimator_.predict(x_test), average='weighted'),3)\n"
      ]
    },
    {
      "cell_type": "markdown",
      "source": [
        "## Уменьшение размерности"
      ],
      "metadata": {
        "id": "h4hQneoOa4G7"
      }
    },
    {
      "cell_type": "markdown",
      "metadata": {
        "id": "-PwauftDRKh-"
      },
      "source": [
        "Обучение было долгим. Имеет смысл проверить, что будет если уменьшить размерность входных данных, например, при помощи <code>PCA</code>. Обучите модель <code>PCA(svd_solver='full')</code> на тренировочных данных и определите минимальное количество компонент, необходимое для того, чтобы уровень объясненной дисперсии был больше <code>0.95</code>."
      ]
    },
    {
      "cell_type": "code",
      "execution_count": 31,
      "metadata": {
        "id": "VrnHwI3nN4tL"
      },
      "outputs": [],
      "source": [
        "from sklearn.decomposition import PCA"
      ]
    },
    {
      "cell_type": "code",
      "source": [
        "pca = PCA(svd_solver='full', n_components=0.95)\n",
        "pca.fit(x_train)\n"
      ],
      "metadata": {
        "colab": {
          "base_uri": "https://localhost:8080/",
          "height": 74
        },
        "id": "znd9-zml4TNU",
        "outputId": "de3d3e82-aea6-4618-a8d5-f33af69dd8af"
      },
      "execution_count": 33,
      "outputs": [
        {
          "output_type": "execute_result",
          "data": {
            "text/plain": [
              "PCA(n_components=0.95, svd_solver='full')"
            ],
            "text/html": [
              "<style>#sk-container-id-1 {color: black;background-color: white;}#sk-container-id-1 pre{padding: 0;}#sk-container-id-1 div.sk-toggleable {background-color: white;}#sk-container-id-1 label.sk-toggleable__label {cursor: pointer;display: block;width: 100%;margin-bottom: 0;padding: 0.3em;box-sizing: border-box;text-align: center;}#sk-container-id-1 label.sk-toggleable__label-arrow:before {content: \"▸\";float: left;margin-right: 0.25em;color: #696969;}#sk-container-id-1 label.sk-toggleable__label-arrow:hover:before {color: black;}#sk-container-id-1 div.sk-estimator:hover label.sk-toggleable__label-arrow:before {color: black;}#sk-container-id-1 div.sk-toggleable__content {max-height: 0;max-width: 0;overflow: hidden;text-align: left;background-color: #f0f8ff;}#sk-container-id-1 div.sk-toggleable__content pre {margin: 0.2em;color: black;border-radius: 0.25em;background-color: #f0f8ff;}#sk-container-id-1 input.sk-toggleable__control:checked~div.sk-toggleable__content {max-height: 200px;max-width: 100%;overflow: auto;}#sk-container-id-1 input.sk-toggleable__control:checked~label.sk-toggleable__label-arrow:before {content: \"▾\";}#sk-container-id-1 div.sk-estimator input.sk-toggleable__control:checked~label.sk-toggleable__label {background-color: #d4ebff;}#sk-container-id-1 div.sk-label input.sk-toggleable__control:checked~label.sk-toggleable__label {background-color: #d4ebff;}#sk-container-id-1 input.sk-hidden--visually {border: 0;clip: rect(1px 1px 1px 1px);clip: rect(1px, 1px, 1px, 1px);height: 1px;margin: -1px;overflow: hidden;padding: 0;position: absolute;width: 1px;}#sk-container-id-1 div.sk-estimator {font-family: monospace;background-color: #f0f8ff;border: 1px dotted black;border-radius: 0.25em;box-sizing: border-box;margin-bottom: 0.5em;}#sk-container-id-1 div.sk-estimator:hover {background-color: #d4ebff;}#sk-container-id-1 div.sk-parallel-item::after {content: \"\";width: 100%;border-bottom: 1px solid gray;flex-grow: 1;}#sk-container-id-1 div.sk-label:hover label.sk-toggleable__label {background-color: #d4ebff;}#sk-container-id-1 div.sk-serial::before {content: \"\";position: absolute;border-left: 1px solid gray;box-sizing: border-box;top: 0;bottom: 0;left: 50%;z-index: 0;}#sk-container-id-1 div.sk-serial {display: flex;flex-direction: column;align-items: center;background-color: white;padding-right: 0.2em;padding-left: 0.2em;position: relative;}#sk-container-id-1 div.sk-item {position: relative;z-index: 1;}#sk-container-id-1 div.sk-parallel {display: flex;align-items: stretch;justify-content: center;background-color: white;position: relative;}#sk-container-id-1 div.sk-item::before, #sk-container-id-1 div.sk-parallel-item::before {content: \"\";position: absolute;border-left: 1px solid gray;box-sizing: border-box;top: 0;bottom: 0;left: 50%;z-index: -1;}#sk-container-id-1 div.sk-parallel-item {display: flex;flex-direction: column;z-index: 1;position: relative;background-color: white;}#sk-container-id-1 div.sk-parallel-item:first-child::after {align-self: flex-end;width: 50%;}#sk-container-id-1 div.sk-parallel-item:last-child::after {align-self: flex-start;width: 50%;}#sk-container-id-1 div.sk-parallel-item:only-child::after {width: 0;}#sk-container-id-1 div.sk-dashed-wrapped {border: 1px dashed gray;margin: 0 0.4em 0.5em 0.4em;box-sizing: border-box;padding-bottom: 0.4em;background-color: white;}#sk-container-id-1 div.sk-label label {font-family: monospace;font-weight: bold;display: inline-block;line-height: 1.2em;}#sk-container-id-1 div.sk-label-container {text-align: center;}#sk-container-id-1 div.sk-container {/* jupyter's `normalize.less` sets `[hidden] { display: none; }` but bootstrap.min.css set `[hidden] { display: none !important; }` so we also need the `!important` here to be able to override the default hidden behavior on the sphinx rendered scikit-learn.org. See: https://github.com/scikit-learn/scikit-learn/issues/21755 */display: inline-block !important;position: relative;}#sk-container-id-1 div.sk-text-repr-fallback {display: none;}</style><div id=\"sk-container-id-1\" class=\"sk-top-container\"><div class=\"sk-text-repr-fallback\"><pre>PCA(n_components=0.95, svd_solver=&#x27;full&#x27;)</pre><b>In a Jupyter environment, please rerun this cell to show the HTML representation or trust the notebook. <br />On GitHub, the HTML representation is unable to render, please try loading this page with nbviewer.org.</b></div><div class=\"sk-container\" hidden><div class=\"sk-item\"><div class=\"sk-estimator sk-toggleable\"><input class=\"sk-toggleable__control sk-hidden--visually\" id=\"sk-estimator-id-1\" type=\"checkbox\" checked><label for=\"sk-estimator-id-1\" class=\"sk-toggleable__label sk-toggleable__label-arrow\">PCA</label><div class=\"sk-toggleable__content\"><pre>PCA(n_components=0.95, svd_solver=&#x27;full&#x27;)</pre></div></div></div></div></div>"
            ]
          },
          "metadata": {},
          "execution_count": 33
        }
      ]
    },
    {
      "cell_type": "code",
      "source": [
        "x_train_pca = pca.transform(x_train)\n",
        "x_test_pca = pca.transform(x_test)"
      ],
      "metadata": {
        "id": "IaD9ZfgP4qmH"
      },
      "execution_count": 37,
      "outputs": []
    },
    {
      "cell_type": "markdown",
      "source": [
        "Заново обучите модель <code>PCA(svd_solver='full')</code> на тренировочных данных с использованием полученного числа ГК. Примените полученное преобразование для тренировочных и тестовых данных."
      ],
      "metadata": {
        "id": "rg9Q0G4ic5HZ"
      }
    },
    {
      "cell_type": "markdown",
      "source": [
        "Для полученных после <code>PCA</code> данных аналогично проделанному ранее, то есть используя <code>GridSearchCV()</code>, осуществите подбор гиперпараметров, указанных в вашем задании. Отдельно обратите внимание на время обучения моделей."
      ],
      "metadata": {
        "id": "N2NJjCbFdXZW"
      }
    },
    {
      "cell_type": "code",
      "execution_count": 38,
      "metadata": {
        "id": "DrFbJeBwPs0B",
        "colab": {
          "base_uri": "https://localhost:8080/"
        },
        "outputId": "be4bbd0c-f341-42cc-f9f9-91079acb22f0"
      },
      "outputs": [
        {
          "output_type": "stream",
          "name": "stdout",
          "text": [
            "Fitting 5 folds for each of 64 candidates, totalling 320 fits\n",
            "[CV 1/5] END C=1, class_weight=None, gamma=0.001, kernel=linear, random_state=5;, score=0.745 total time=   0.1s\n",
            "[CV 2/5] END C=1, class_weight=None, gamma=0.001, kernel=linear, random_state=5;, score=0.750 total time=   0.1s\n",
            "[CV 3/5] END C=1, class_weight=None, gamma=0.001, kernel=linear, random_state=5;, score=0.811 total time=   0.1s\n",
            "[CV 4/5] END C=1, class_weight=None, gamma=0.001, kernel=linear, random_state=5;, score=0.764 total time=   0.1s\n",
            "[CV 5/5] END C=1, class_weight=None, gamma=0.001, kernel=linear, random_state=5;, score=0.745 total time=   0.1s\n",
            "[CV 1/5] END C=1, class_weight=None, gamma=0.001, kernel=poly, random_state=5;, score=0.344 total time=   0.1s\n",
            "[CV 2/5] END C=1, class_weight=None, gamma=0.001, kernel=poly, random_state=5;, score=0.340 total time=   0.1s\n",
            "[CV 3/5] END C=1, class_weight=None, gamma=0.001, kernel=poly, random_state=5;, score=0.340 total time=   0.1s\n",
            "[CV 4/5] END C=1, class_weight=None, gamma=0.001, kernel=poly, random_state=5;, score=0.340 total time=   0.1s\n",
            "[CV 5/5] END C=1, class_weight=None, gamma=0.001, kernel=poly, random_state=5;, score=0.340 total time=   0.1s\n",
            "[CV 1/5] END C=1, class_weight=None, gamma=0.001, kernel=rbf, random_state=5;, score=0.425 total time=   0.2s\n",
            "[CV 2/5] END C=1, class_weight=None, gamma=0.001, kernel=rbf, random_state=5;, score=0.396 total time=   0.2s\n",
            "[CV 3/5] END C=1, class_weight=None, gamma=0.001, kernel=rbf, random_state=5;, score=0.420 total time=   0.2s\n",
            "[CV 4/5] END C=1, class_weight=None, gamma=0.001, kernel=rbf, random_state=5;, score=0.401 total time=   0.2s\n",
            "[CV 5/5] END C=1, class_weight=None, gamma=0.001, kernel=rbf, random_state=5;, score=0.382 total time=   0.2s\n",
            "[CV 1/5] END C=1, class_weight=None, gamma=0.001, kernel=sigmoid, random_state=5;, score=0.354 total time=   0.2s\n",
            "[CV 2/5] END C=1, class_weight=None, gamma=0.001, kernel=sigmoid, random_state=5;, score=0.340 total time=   0.2s\n",
            "[CV 3/5] END C=1, class_weight=None, gamma=0.001, kernel=sigmoid, random_state=5;, score=0.349 total time=   0.2s\n",
            "[CV 4/5] END C=1, class_weight=None, gamma=0.001, kernel=sigmoid, random_state=5;, score=0.344 total time=   0.2s\n",
            "[CV 5/5] END C=1, class_weight=None, gamma=0.001, kernel=sigmoid, random_state=5;, score=0.340 total time=   0.2s\n",
            "[CV 1/5] END C=1, class_weight=None, gamma=0.0001, kernel=linear, random_state=5;, score=0.745 total time=   0.1s\n",
            "[CV 2/5] END C=1, class_weight=None, gamma=0.0001, kernel=linear, random_state=5;, score=0.750 total time=   0.1s\n",
            "[CV 3/5] END C=1, class_weight=None, gamma=0.0001, kernel=linear, random_state=5;, score=0.811 total time=   0.1s\n",
            "[CV 4/5] END C=1, class_weight=None, gamma=0.0001, kernel=linear, random_state=5;, score=0.764 total time=   0.1s\n",
            "[CV 5/5] END C=1, class_weight=None, gamma=0.0001, kernel=linear, random_state=5;, score=0.745 total time=   0.1s\n",
            "[CV 1/5] END C=1, class_weight=None, gamma=0.0001, kernel=poly, random_state=5;, score=0.344 total time=   0.1s\n",
            "[CV 2/5] END C=1, class_weight=None, gamma=0.0001, kernel=poly, random_state=5;, score=0.340 total time=   0.1s\n",
            "[CV 3/5] END C=1, class_weight=None, gamma=0.0001, kernel=poly, random_state=5;, score=0.340 total time=   0.1s\n",
            "[CV 4/5] END C=1, class_weight=None, gamma=0.0001, kernel=poly, random_state=5;, score=0.340 total time=   0.1s\n",
            "[CV 5/5] END C=1, class_weight=None, gamma=0.0001, kernel=poly, random_state=5;, score=0.340 total time=   0.1s\n",
            "[CV 1/5] END C=1, class_weight=None, gamma=0.0001, kernel=rbf, random_state=5;, score=0.344 total time=   0.2s\n",
            "[CV 2/5] END C=1, class_weight=None, gamma=0.0001, kernel=rbf, random_state=5;, score=0.340 total time=   0.2s\n",
            "[CV 3/5] END C=1, class_weight=None, gamma=0.0001, kernel=rbf, random_state=5;, score=0.340 total time=   0.2s\n",
            "[CV 4/5] END C=1, class_weight=None, gamma=0.0001, kernel=rbf, random_state=5;, score=0.340 total time=   0.2s\n",
            "[CV 5/5] END C=1, class_weight=None, gamma=0.0001, kernel=rbf, random_state=5;, score=0.340 total time=   0.2s\n",
            "[CV 1/5] END C=1, class_weight=None, gamma=0.0001, kernel=sigmoid, random_state=5;, score=0.344 total time=   0.2s\n",
            "[CV 2/5] END C=1, class_weight=None, gamma=0.0001, kernel=sigmoid, random_state=5;, score=0.340 total time=   0.2s\n",
            "[CV 3/5] END C=1, class_weight=None, gamma=0.0001, kernel=sigmoid, random_state=5;, score=0.340 total time=   0.2s\n",
            "[CV 4/5] END C=1, class_weight=None, gamma=0.0001, kernel=sigmoid, random_state=5;, score=0.340 total time=   0.2s\n",
            "[CV 5/5] END C=1, class_weight=None, gamma=0.0001, kernel=sigmoid, random_state=5;, score=0.340 total time=   0.2s\n",
            "[CV 1/5] END C=1, class_weight=balanced, gamma=0.001, kernel=linear, random_state=5;, score=0.755 total time=   0.2s\n",
            "[CV 2/5] END C=1, class_weight=balanced, gamma=0.001, kernel=linear, random_state=5;, score=0.750 total time=   0.2s\n",
            "[CV 3/5] END C=1, class_weight=balanced, gamma=0.001, kernel=linear, random_state=5;, score=0.816 total time=   0.2s\n",
            "[CV 4/5] END C=1, class_weight=balanced, gamma=0.001, kernel=linear, random_state=5;, score=0.764 total time=   0.2s\n",
            "[CV 5/5] END C=1, class_weight=balanced, gamma=0.001, kernel=linear, random_state=5;, score=0.741 total time=   0.2s\n",
            "[CV 1/5] END C=1, class_weight=balanced, gamma=0.001, kernel=poly, random_state=5;, score=0.344 total time=   0.3s\n",
            "[CV 2/5] END C=1, class_weight=balanced, gamma=0.001, kernel=poly, random_state=5;, score=0.033 total time=   0.3s\n",
            "[CV 3/5] END C=1, class_weight=balanced, gamma=0.001, kernel=poly, random_state=5;, score=0.156 total time=   0.3s\n",
            "[CV 4/5] END C=1, class_weight=balanced, gamma=0.001, kernel=poly, random_state=5;, score=0.033 total time=   0.3s\n",
            "[CV 5/5] END C=1, class_weight=balanced, gamma=0.001, kernel=poly, random_state=5;, score=0.033 total time=   0.3s\n",
            "[CV 1/5] END C=1, class_weight=balanced, gamma=0.001, kernel=rbf, random_state=5;, score=0.335 total time=   0.4s\n",
            "[CV 2/5] END C=1, class_weight=balanced, gamma=0.001, kernel=rbf, random_state=5;, score=0.344 total time=   0.4s\n",
            "[CV 3/5] END C=1, class_weight=balanced, gamma=0.001, kernel=rbf, random_state=5;, score=0.363 total time=   0.4s\n",
            "[CV 4/5] END C=1, class_weight=balanced, gamma=0.001, kernel=rbf, random_state=5;, score=0.415 total time=   0.4s\n",
            "[CV 5/5] END C=1, class_weight=balanced, gamma=0.001, kernel=rbf, random_state=5;, score=0.311 total time=   0.4s\n",
            "[CV 1/5] END C=1, class_weight=balanced, gamma=0.001, kernel=sigmoid, random_state=5;, score=0.292 total time=   0.4s\n",
            "[CV 2/5] END C=1, class_weight=balanced, gamma=0.001, kernel=sigmoid, random_state=5;, score=0.222 total time=   0.4s\n",
            "[CV 3/5] END C=1, class_weight=balanced, gamma=0.001, kernel=sigmoid, random_state=5;, score=0.250 total time=   0.3s\n",
            "[CV 4/5] END C=1, class_weight=balanced, gamma=0.001, kernel=sigmoid, random_state=5;, score=0.203 total time=   0.3s\n",
            "[CV 5/5] END C=1, class_weight=balanced, gamma=0.001, kernel=sigmoid, random_state=5;, score=0.160 total time=   0.3s\n",
            "[CV 1/5] END C=1, class_weight=balanced, gamma=0.0001, kernel=linear, random_state=5;, score=0.755 total time=   0.1s\n",
            "[CV 2/5] END C=1, class_weight=balanced, gamma=0.0001, kernel=linear, random_state=5;, score=0.750 total time=   0.1s\n",
            "[CV 3/5] END C=1, class_weight=balanced, gamma=0.0001, kernel=linear, random_state=5;, score=0.816 total time=   0.1s\n",
            "[CV 4/5] END C=1, class_weight=balanced, gamma=0.0001, kernel=linear, random_state=5;, score=0.764 total time=   0.1s\n",
            "[CV 5/5] END C=1, class_weight=balanced, gamma=0.0001, kernel=linear, random_state=5;, score=0.741 total time=   0.1s\n",
            "[CV 1/5] END C=1, class_weight=balanced, gamma=0.0001, kernel=poly, random_state=5;, score=0.344 total time=   0.2s\n",
            "[CV 2/5] END C=1, class_weight=balanced, gamma=0.0001, kernel=poly, random_state=5;, score=0.033 total time=   0.2s\n",
            "[CV 3/5] END C=1, class_weight=balanced, gamma=0.0001, kernel=poly, random_state=5;, score=0.156 total time=   0.2s\n",
            "[CV 4/5] END C=1, class_weight=balanced, gamma=0.0001, kernel=poly, random_state=5;, score=0.033 total time=   0.2s\n",
            "[CV 5/5] END C=1, class_weight=balanced, gamma=0.0001, kernel=poly, random_state=5;, score=0.033 total time=   0.2s\n",
            "[CV 1/5] END C=1, class_weight=balanced, gamma=0.0001, kernel=rbf, random_state=5;, score=0.354 total time=   0.3s\n",
            "[CV 2/5] END C=1, class_weight=balanced, gamma=0.0001, kernel=rbf, random_state=5;, score=0.090 total time=   0.3s\n",
            "[CV 3/5] END C=1, class_weight=balanced, gamma=0.0001, kernel=rbf, random_state=5;, score=0.170 total time=   0.3s\n",
            "[CV 4/5] END C=1, class_weight=balanced, gamma=0.0001, kernel=rbf, random_state=5;, score=0.061 total time=   0.3s\n",
            "[CV 5/5] END C=1, class_weight=balanced, gamma=0.0001, kernel=rbf, random_state=5;, score=0.061 total time=   0.3s\n",
            "[CV 1/5] END C=1, class_weight=balanced, gamma=0.0001, kernel=sigmoid, random_state=5;, score=0.349 total time=   0.3s\n",
            "[CV 2/5] END C=1, class_weight=balanced, gamma=0.0001, kernel=sigmoid, random_state=5;, score=0.071 total time=   0.3s\n",
            "[CV 3/5] END C=1, class_weight=balanced, gamma=0.0001, kernel=sigmoid, random_state=5;, score=0.165 total time=   0.3s\n",
            "[CV 4/5] END C=1, class_weight=balanced, gamma=0.0001, kernel=sigmoid, random_state=5;, score=0.052 total time=   0.3s\n",
            "[CV 5/5] END C=1, class_weight=balanced, gamma=0.0001, kernel=sigmoid, random_state=5;, score=0.047 total time=   0.3s\n",
            "[CV 1/5] END C=10, class_weight=None, gamma=0.001, kernel=linear, random_state=5;, score=0.745 total time=   0.1s\n",
            "[CV 2/5] END C=10, class_weight=None, gamma=0.001, kernel=linear, random_state=5;, score=0.750 total time=   0.1s\n",
            "[CV 3/5] END C=10, class_weight=None, gamma=0.001, kernel=linear, random_state=5;, score=0.811 total time=   0.1s\n",
            "[CV 4/5] END C=10, class_weight=None, gamma=0.001, kernel=linear, random_state=5;, score=0.764 total time=   0.1s\n",
            "[CV 5/5] END C=10, class_weight=None, gamma=0.001, kernel=linear, random_state=5;, score=0.745 total time=   0.1s\n",
            "[CV 1/5] END C=10, class_weight=None, gamma=0.001, kernel=poly, random_state=5;, score=0.344 total time=   0.1s\n",
            "[CV 2/5] END C=10, class_weight=None, gamma=0.001, kernel=poly, random_state=5;, score=0.340 total time=   0.1s\n",
            "[CV 3/5] END C=10, class_weight=None, gamma=0.001, kernel=poly, random_state=5;, score=0.340 total time=   0.1s\n",
            "[CV 4/5] END C=10, class_weight=None, gamma=0.001, kernel=poly, random_state=5;, score=0.340 total time=   0.1s\n",
            "[CV 5/5] END C=10, class_weight=None, gamma=0.001, kernel=poly, random_state=5;, score=0.340 total time=   0.1s\n",
            "[CV 1/5] END C=10, class_weight=None, gamma=0.001, kernel=rbf, random_state=5;, score=0.717 total time=   0.1s\n",
            "[CV 2/5] END C=10, class_weight=None, gamma=0.001, kernel=rbf, random_state=5;, score=0.689 total time=   0.2s\n",
            "[CV 3/5] END C=10, class_weight=None, gamma=0.001, kernel=rbf, random_state=5;, score=0.788 total time=   0.1s\n",
            "[CV 4/5] END C=10, class_weight=None, gamma=0.001, kernel=rbf, random_state=5;, score=0.726 total time=   0.2s\n",
            "[CV 5/5] END C=10, class_weight=None, gamma=0.001, kernel=rbf, random_state=5;, score=0.689 total time=   0.1s\n",
            "[CV 1/5] END C=10, class_weight=None, gamma=0.001, kernel=sigmoid, random_state=5;, score=0.627 total time=   0.2s\n",
            "[CV 2/5] END C=10, class_weight=None, gamma=0.001, kernel=sigmoid, random_state=5;, score=0.608 total time=   0.1s\n",
            "[CV 3/5] END C=10, class_weight=None, gamma=0.001, kernel=sigmoid, random_state=5;, score=0.670 total time=   0.2s\n",
            "[CV 4/5] END C=10, class_weight=None, gamma=0.001, kernel=sigmoid, random_state=5;, score=0.646 total time=   0.2s\n",
            "[CV 5/5] END C=10, class_weight=None, gamma=0.001, kernel=sigmoid, random_state=5;, score=0.618 total time=   0.2s\n",
            "[CV 1/5] END C=10, class_weight=None, gamma=0.0001, kernel=linear, random_state=5;, score=0.745 total time=   0.1s\n",
            "[CV 2/5] END C=10, class_weight=None, gamma=0.0001, kernel=linear, random_state=5;, score=0.750 total time=   0.1s\n",
            "[CV 3/5] END C=10, class_weight=None, gamma=0.0001, kernel=linear, random_state=5;, score=0.811 total time=   0.1s\n",
            "[CV 4/5] END C=10, class_weight=None, gamma=0.0001, kernel=linear, random_state=5;, score=0.764 total time=   0.2s\n",
            "[CV 5/5] END C=10, class_weight=None, gamma=0.0001, kernel=linear, random_state=5;, score=0.745 total time=   0.5s\n",
            "[CV 1/5] END C=10, class_weight=None, gamma=0.0001, kernel=poly, random_state=5;, score=0.344 total time=   0.2s\n",
            "[CV 2/5] END C=10, class_weight=None, gamma=0.0001, kernel=poly, random_state=5;, score=0.340 total time=   0.2s\n",
            "[CV 3/5] END C=10, class_weight=None, gamma=0.0001, kernel=poly, random_state=5;, score=0.340 total time=   0.1s\n",
            "[CV 4/5] END C=10, class_weight=None, gamma=0.0001, kernel=poly, random_state=5;, score=0.340 total time=   0.1s\n",
            "[CV 5/5] END C=10, class_weight=None, gamma=0.0001, kernel=poly, random_state=5;, score=0.340 total time=   0.1s\n",
            "[CV 1/5] END C=10, class_weight=None, gamma=0.0001, kernel=rbf, random_state=5;, score=0.429 total time=   0.2s\n",
            "[CV 2/5] END C=10, class_weight=None, gamma=0.0001, kernel=rbf, random_state=5;, score=0.410 total time=   0.2s\n",
            "[CV 3/5] END C=10, class_weight=None, gamma=0.0001, kernel=rbf, random_state=5;, score=0.425 total time=   0.3s\n",
            "[CV 4/5] END C=10, class_weight=None, gamma=0.0001, kernel=rbf, random_state=5;, score=0.406 total time=   0.2s\n",
            "[CV 5/5] END C=10, class_weight=None, gamma=0.0001, kernel=rbf, random_state=5;, score=0.392 total time=   0.2s\n",
            "[CV 1/5] END C=10, class_weight=None, gamma=0.0001, kernel=sigmoid, random_state=5;, score=0.354 total time=   0.2s\n",
            "[CV 2/5] END C=10, class_weight=None, gamma=0.0001, kernel=sigmoid, random_state=5;, score=0.340 total time=   0.2s\n",
            "[CV 3/5] END C=10, class_weight=None, gamma=0.0001, kernel=sigmoid, random_state=5;, score=0.349 total time=   0.2s\n",
            "[CV 4/5] END C=10, class_weight=None, gamma=0.0001, kernel=sigmoid, random_state=5;, score=0.344 total time=   0.2s\n",
            "[CV 5/5] END C=10, class_weight=None, gamma=0.0001, kernel=sigmoid, random_state=5;, score=0.340 total time=   0.2s\n",
            "[CV 1/5] END C=10, class_weight=balanced, gamma=0.001, kernel=linear, random_state=5;, score=0.745 total time=   0.2s\n",
            "[CV 2/5] END C=10, class_weight=balanced, gamma=0.001, kernel=linear, random_state=5;, score=0.750 total time=   0.2s\n",
            "[CV 3/5] END C=10, class_weight=balanced, gamma=0.001, kernel=linear, random_state=5;, score=0.811 total time=   0.2s\n",
            "[CV 4/5] END C=10, class_weight=balanced, gamma=0.001, kernel=linear, random_state=5;, score=0.764 total time=   0.2s\n",
            "[CV 5/5] END C=10, class_weight=balanced, gamma=0.001, kernel=linear, random_state=5;, score=0.745 total time=   0.2s\n",
            "[CV 1/5] END C=10, class_weight=balanced, gamma=0.001, kernel=poly, random_state=5;, score=0.042 total time=   0.3s\n",
            "[CV 2/5] END C=10, class_weight=balanced, gamma=0.001, kernel=poly, random_state=5;, score=0.038 total time=   0.3s\n",
            "[CV 3/5] END C=10, class_weight=balanced, gamma=0.001, kernel=poly, random_state=5;, score=0.175 total time=   0.3s\n",
            "[CV 4/5] END C=10, class_weight=balanced, gamma=0.001, kernel=poly, random_state=5;, score=0.047 total time=   0.3s\n",
            "[CV 5/5] END C=10, class_weight=balanced, gamma=0.001, kernel=poly, random_state=5;, score=0.085 total time=   0.3s\n",
            "[CV 1/5] END C=10, class_weight=balanced, gamma=0.001, kernel=rbf, random_state=5;, score=0.689 total time=   0.3s\n",
            "[CV 2/5] END C=10, class_weight=balanced, gamma=0.001, kernel=rbf, random_state=5;, score=0.722 total time=   0.3s\n",
            "[CV 3/5] END C=10, class_weight=balanced, gamma=0.001, kernel=rbf, random_state=5;, score=0.764 total time=   0.3s\n",
            "[CV 4/5] END C=10, class_weight=balanced, gamma=0.001, kernel=rbf, random_state=5;, score=0.736 total time=   0.3s\n",
            "[CV 5/5] END C=10, class_weight=balanced, gamma=0.001, kernel=rbf, random_state=5;, score=0.759 total time=   0.3s\n",
            "[CV 1/5] END C=10, class_weight=balanced, gamma=0.001, kernel=sigmoid, random_state=5;, score=0.637 total time=   0.3s\n",
            "[CV 2/5] END C=10, class_weight=balanced, gamma=0.001, kernel=sigmoid, random_state=5;, score=0.670 total time=   0.2s\n",
            "[CV 3/5] END C=10, class_weight=balanced, gamma=0.001, kernel=sigmoid, random_state=5;, score=0.693 total time=   0.2s\n",
            "[CV 4/5] END C=10, class_weight=balanced, gamma=0.001, kernel=sigmoid, random_state=5;, score=0.693 total time=   0.2s\n",
            "[CV 5/5] END C=10, class_weight=balanced, gamma=0.001, kernel=sigmoid, random_state=5;, score=0.703 total time=   0.2s\n",
            "[CV 1/5] END C=10, class_weight=balanced, gamma=0.0001, kernel=linear, random_state=5;, score=0.745 total time=   0.1s\n",
            "[CV 2/5] END C=10, class_weight=balanced, gamma=0.0001, kernel=linear, random_state=5;, score=0.750 total time=   0.1s\n",
            "[CV 3/5] END C=10, class_weight=balanced, gamma=0.0001, kernel=linear, random_state=5;, score=0.811 total time=   0.1s\n",
            "[CV 4/5] END C=10, class_weight=balanced, gamma=0.0001, kernel=linear, random_state=5;, score=0.764 total time=   0.1s\n",
            "[CV 5/5] END C=10, class_weight=balanced, gamma=0.0001, kernel=linear, random_state=5;, score=0.745 total time=   0.1s\n",
            "[CV 1/5] END C=10, class_weight=balanced, gamma=0.0001, kernel=poly, random_state=5;, score=0.033 total time=   0.2s\n",
            "[CV 2/5] END C=10, class_weight=balanced, gamma=0.0001, kernel=poly, random_state=5;, score=0.033 total time=   0.2s\n",
            "[CV 3/5] END C=10, class_weight=balanced, gamma=0.0001, kernel=poly, random_state=5;, score=0.156 total time=   0.2s\n",
            "[CV 4/5] END C=10, class_weight=balanced, gamma=0.0001, kernel=poly, random_state=5;, score=0.033 total time=   0.2s\n",
            "[CV 5/5] END C=10, class_weight=balanced, gamma=0.0001, kernel=poly, random_state=5;, score=0.071 total time=   0.2s\n",
            "[CV 1/5] END C=10, class_weight=balanced, gamma=0.0001, kernel=rbf, random_state=5;, score=0.325 total time=   0.2s\n",
            "[CV 2/5] END C=10, class_weight=balanced, gamma=0.0001, kernel=rbf, random_state=5;, score=0.382 total time=   0.2s\n",
            "[CV 3/5] END C=10, class_weight=balanced, gamma=0.0001, kernel=rbf, random_state=5;, score=0.368 total time=   0.3s\n",
            "[CV 4/5] END C=10, class_weight=balanced, gamma=0.0001, kernel=rbf, random_state=5;, score=0.401 total time=   0.3s\n",
            "[CV 5/5] END C=10, class_weight=balanced, gamma=0.0001, kernel=rbf, random_state=5;, score=0.344 total time=   0.3s\n",
            "[CV 1/5] END C=10, class_weight=balanced, gamma=0.0001, kernel=sigmoid, random_state=5;, score=0.189 total time=   0.3s\n",
            "[CV 2/5] END C=10, class_weight=balanced, gamma=0.0001, kernel=sigmoid, random_state=5;, score=0.189 total time=   0.3s\n",
            "[CV 3/5] END C=10, class_weight=balanced, gamma=0.0001, kernel=sigmoid, random_state=5;, score=0.259 total time=   0.3s\n",
            "[CV 4/5] END C=10, class_weight=balanced, gamma=0.0001, kernel=sigmoid, random_state=5;, score=0.236 total time=   0.3s\n",
            "[CV 5/5] END C=10, class_weight=balanced, gamma=0.0001, kernel=sigmoid, random_state=5;, score=0.203 total time=   0.3s\n",
            "[CV 1/5] END C=100, class_weight=None, gamma=0.001, kernel=linear, random_state=5;, score=0.745 total time=   0.1s\n",
            "[CV 2/5] END C=100, class_weight=None, gamma=0.001, kernel=linear, random_state=5;, score=0.750 total time=   0.1s\n",
            "[CV 3/5] END C=100, class_weight=None, gamma=0.001, kernel=linear, random_state=5;, score=0.811 total time=   0.1s\n",
            "[CV 4/5] END C=100, class_weight=None, gamma=0.001, kernel=linear, random_state=5;, score=0.764 total time=   0.1s\n",
            "[CV 5/5] END C=100, class_weight=None, gamma=0.001, kernel=linear, random_state=5;, score=0.745 total time=   0.1s\n",
            "[CV 1/5] END C=100, class_weight=None, gamma=0.001, kernel=poly, random_state=5;, score=0.358 total time=   0.2s\n",
            "[CV 2/5] END C=100, class_weight=None, gamma=0.001, kernel=poly, random_state=5;, score=0.344 total time=   0.1s\n",
            "[CV 3/5] END C=100, class_weight=None, gamma=0.001, kernel=poly, random_state=5;, score=0.368 total time=   0.2s\n",
            "[CV 4/5] END C=100, class_weight=None, gamma=0.001, kernel=poly, random_state=5;, score=0.358 total time=   0.1s\n",
            "[CV 5/5] END C=100, class_weight=None, gamma=0.001, kernel=poly, random_state=5;, score=0.354 total time=   0.1s\n",
            "[CV 1/5] END C=100, class_weight=None, gamma=0.001, kernel=rbf, random_state=5;, score=0.759 total time=   0.1s\n",
            "[CV 2/5] END C=100, class_weight=None, gamma=0.001, kernel=rbf, random_state=5;, score=0.745 total time=   0.2s\n",
            "[CV 3/5] END C=100, class_weight=None, gamma=0.001, kernel=rbf, random_state=5;, score=0.811 total time=   0.2s\n",
            "[CV 4/5] END C=100, class_weight=None, gamma=0.001, kernel=rbf, random_state=5;, score=0.788 total time=   0.2s\n",
            "[CV 5/5] END C=100, class_weight=None, gamma=0.001, kernel=rbf, random_state=5;, score=0.778 total time=   0.2s\n",
            "[CV 1/5] END C=100, class_weight=None, gamma=0.001, kernel=sigmoid, random_state=5;, score=0.750 total time=   0.1s\n",
            "[CV 2/5] END C=100, class_weight=None, gamma=0.001, kernel=sigmoid, random_state=5;, score=0.750 total time=   0.1s\n",
            "[CV 3/5] END C=100, class_weight=None, gamma=0.001, kernel=sigmoid, random_state=5;, score=0.802 total time=   0.1s\n",
            "[CV 4/5] END C=100, class_weight=None, gamma=0.001, kernel=sigmoid, random_state=5;, score=0.788 total time=   0.1s\n",
            "[CV 5/5] END C=100, class_weight=None, gamma=0.001, kernel=sigmoid, random_state=5;, score=0.792 total time=   0.2s\n",
            "[CV 1/5] END C=100, class_weight=None, gamma=0.0001, kernel=linear, random_state=5;, score=0.745 total time=   0.1s\n",
            "[CV 2/5] END C=100, class_weight=None, gamma=0.0001, kernel=linear, random_state=5;, score=0.750 total time=   0.1s\n",
            "[CV 3/5] END C=100, class_weight=None, gamma=0.0001, kernel=linear, random_state=5;, score=0.811 total time=   0.1s\n",
            "[CV 4/5] END C=100, class_weight=None, gamma=0.0001, kernel=linear, random_state=5;, score=0.764 total time=   0.1s\n",
            "[CV 5/5] END C=100, class_weight=None, gamma=0.0001, kernel=linear, random_state=5;, score=0.745 total time=   0.1s\n",
            "[CV 1/5] END C=100, class_weight=None, gamma=0.0001, kernel=poly, random_state=5;, score=0.344 total time=   0.1s\n",
            "[CV 2/5] END C=100, class_weight=None, gamma=0.0001, kernel=poly, random_state=5;, score=0.340 total time=   0.1s\n",
            "[CV 3/5] END C=100, class_weight=None, gamma=0.0001, kernel=poly, random_state=5;, score=0.340 total time=   0.1s\n",
            "[CV 4/5] END C=100, class_weight=None, gamma=0.0001, kernel=poly, random_state=5;, score=0.340 total time=   0.1s\n",
            "[CV 5/5] END C=100, class_weight=None, gamma=0.0001, kernel=poly, random_state=5;, score=0.340 total time=   0.1s\n",
            "[CV 1/5] END C=100, class_weight=None, gamma=0.0001, kernel=rbf, random_state=5;, score=0.745 total time=   0.2s\n",
            "[CV 2/5] END C=100, class_weight=None, gamma=0.0001, kernel=rbf, random_state=5;, score=0.684 total time=   0.1s\n",
            "[CV 3/5] END C=100, class_weight=None, gamma=0.0001, kernel=rbf, random_state=5;, score=0.774 total time=   0.2s\n",
            "[CV 4/5] END C=100, class_weight=None, gamma=0.0001, kernel=rbf, random_state=5;, score=0.726 total time=   0.2s\n",
            "[CV 5/5] END C=100, class_weight=None, gamma=0.0001, kernel=rbf, random_state=5;, score=0.675 total time=   0.2s\n",
            "[CV 1/5] END C=100, class_weight=None, gamma=0.0001, kernel=sigmoid, random_state=5;, score=0.627 total time=   0.2s\n",
            "[CV 2/5] END C=100, class_weight=None, gamma=0.0001, kernel=sigmoid, random_state=5;, score=0.608 total time=   0.2s\n",
            "[CV 3/5] END C=100, class_weight=None, gamma=0.0001, kernel=sigmoid, random_state=5;, score=0.670 total time=   0.2s\n",
            "[CV 4/5] END C=100, class_weight=None, gamma=0.0001, kernel=sigmoid, random_state=5;, score=0.651 total time=   0.2s\n",
            "[CV 5/5] END C=100, class_weight=None, gamma=0.0001, kernel=sigmoid, random_state=5;, score=0.618 total time=   0.2s\n",
            "[CV 1/5] END C=100, class_weight=balanced, gamma=0.001, kernel=linear, random_state=5;, score=0.745 total time=   0.2s\n",
            "[CV 2/5] END C=100, class_weight=balanced, gamma=0.001, kernel=linear, random_state=5;, score=0.750 total time=   0.2s\n",
            "[CV 3/5] END C=100, class_weight=balanced, gamma=0.001, kernel=linear, random_state=5;, score=0.811 total time=   0.2s\n",
            "[CV 4/5] END C=100, class_weight=balanced, gamma=0.001, kernel=linear, random_state=5;, score=0.764 total time=   0.2s\n",
            "[CV 5/5] END C=100, class_weight=balanced, gamma=0.001, kernel=linear, random_state=5;, score=0.745 total time=   0.2s\n",
            "[CV 1/5] END C=100, class_weight=balanced, gamma=0.001, kernel=poly, random_state=5;, score=0.127 total time=   0.3s\n",
            "[CV 2/5] END C=100, class_weight=balanced, gamma=0.001, kernel=poly, random_state=5;, score=0.156 total time=   0.3s\n",
            "[CV 3/5] END C=100, class_weight=balanced, gamma=0.001, kernel=poly, random_state=5;, score=0.066 total time=   0.3s\n",
            "[CV 4/5] END C=100, class_weight=balanced, gamma=0.001, kernel=poly, random_state=5;, score=0.108 total time=   0.3s\n",
            "[CV 5/5] END C=100, class_weight=balanced, gamma=0.001, kernel=poly, random_state=5;, score=0.104 total time=   0.3s\n",
            "[CV 1/5] END C=100, class_weight=balanced, gamma=0.001, kernel=rbf, random_state=5;, score=0.759 total time=   0.2s\n",
            "[CV 2/5] END C=100, class_weight=balanced, gamma=0.001, kernel=rbf, random_state=5;, score=0.745 total time=   0.2s\n",
            "[CV 3/5] END C=100, class_weight=balanced, gamma=0.001, kernel=rbf, random_state=5;, score=0.811 total time=   0.2s\n",
            "[CV 4/5] END C=100, class_weight=balanced, gamma=0.001, kernel=rbf, random_state=5;, score=0.792 total time=   0.2s\n",
            "[CV 5/5] END C=100, class_weight=balanced, gamma=0.001, kernel=rbf, random_state=5;, score=0.778 total time=   0.2s\n",
            "[CV 1/5] END C=100, class_weight=balanced, gamma=0.001, kernel=sigmoid, random_state=5;, score=0.745 total time=   0.2s\n",
            "[CV 2/5] END C=100, class_weight=balanced, gamma=0.001, kernel=sigmoid, random_state=5;, score=0.774 total time=   0.2s\n",
            "[CV 3/5] END C=100, class_weight=balanced, gamma=0.001, kernel=sigmoid, random_state=5;, score=0.807 total time=   0.2s\n",
            "[CV 4/5] END C=100, class_weight=balanced, gamma=0.001, kernel=sigmoid, random_state=5;, score=0.788 total time=   0.2s\n",
            "[CV 5/5] END C=100, class_weight=balanced, gamma=0.001, kernel=sigmoid, random_state=5;, score=0.783 total time=   0.2s\n",
            "[CV 1/5] END C=100, class_weight=balanced, gamma=0.0001, kernel=linear, random_state=5;, score=0.745 total time=   0.2s\n",
            "[CV 2/5] END C=100, class_weight=balanced, gamma=0.0001, kernel=linear, random_state=5;, score=0.750 total time=   0.2s\n",
            "[CV 3/5] END C=100, class_weight=balanced, gamma=0.0001, kernel=linear, random_state=5;, score=0.811 total time=   0.2s\n",
            "[CV 4/5] END C=100, class_weight=balanced, gamma=0.0001, kernel=linear, random_state=5;, score=0.764 total time=   0.1s\n",
            "[CV 5/5] END C=100, class_weight=balanced, gamma=0.0001, kernel=linear, random_state=5;, score=0.745 total time=   0.1s\n",
            "[CV 1/5] END C=100, class_weight=balanced, gamma=0.0001, kernel=poly, random_state=5;, score=0.066 total time=   0.2s\n",
            "[CV 2/5] END C=100, class_weight=balanced, gamma=0.0001, kernel=poly, random_state=5;, score=0.071 total time=   0.2s\n",
            "[CV 3/5] END C=100, class_weight=balanced, gamma=0.0001, kernel=poly, random_state=5;, score=0.047 total time=   0.2s\n",
            "[CV 4/5] END C=100, class_weight=balanced, gamma=0.0001, kernel=poly, random_state=5;, score=0.052 total time=   0.2s\n",
            "[CV 5/5] END C=100, class_weight=balanced, gamma=0.0001, kernel=poly, random_state=5;, score=0.052 total time=   0.2s\n",
            "[CV 1/5] END C=100, class_weight=balanced, gamma=0.0001, kernel=rbf, random_state=5;, score=0.698 total time=   0.2s\n",
            "[CV 2/5] END C=100, class_weight=balanced, gamma=0.0001, kernel=rbf, random_state=5;, score=0.726 total time=   0.2s\n",
            "[CV 3/5] END C=100, class_weight=balanced, gamma=0.0001, kernel=rbf, random_state=5;, score=0.759 total time=   0.2s\n",
            "[CV 4/5] END C=100, class_weight=balanced, gamma=0.0001, kernel=rbf, random_state=5;, score=0.726 total time=   0.2s\n",
            "[CV 5/5] END C=100, class_weight=balanced, gamma=0.0001, kernel=rbf, random_state=5;, score=0.764 total time=   0.2s\n",
            "[CV 1/5] END C=100, class_weight=balanced, gamma=0.0001, kernel=sigmoid, random_state=5;, score=0.637 total time=   0.2s\n",
            "[CV 2/5] END C=100, class_weight=balanced, gamma=0.0001, kernel=sigmoid, random_state=5;, score=0.670 total time=   0.2s\n",
            "[CV 3/5] END C=100, class_weight=balanced, gamma=0.0001, kernel=sigmoid, random_state=5;, score=0.689 total time=   0.2s\n",
            "[CV 4/5] END C=100, class_weight=balanced, gamma=0.0001, kernel=sigmoid, random_state=5;, score=0.693 total time=   0.2s\n",
            "[CV 5/5] END C=100, class_weight=balanced, gamma=0.0001, kernel=sigmoid, random_state=5;, score=0.703 total time=   0.2s\n",
            "[CV 1/5] END C=1000, class_weight=None, gamma=0.001, kernel=linear, random_state=5;, score=0.745 total time=   0.1s\n",
            "[CV 2/5] END C=1000, class_weight=None, gamma=0.001, kernel=linear, random_state=5;, score=0.750 total time=   0.1s\n",
            "[CV 3/5] END C=1000, class_weight=None, gamma=0.001, kernel=linear, random_state=5;, score=0.811 total time=   0.1s\n",
            "[CV 4/5] END C=1000, class_weight=None, gamma=0.001, kernel=linear, random_state=5;, score=0.764 total time=   0.1s\n",
            "[CV 5/5] END C=1000, class_weight=None, gamma=0.001, kernel=linear, random_state=5;, score=0.745 total time=   0.1s\n",
            "[CV 1/5] END C=1000, class_weight=None, gamma=0.001, kernel=poly, random_state=5;, score=0.396 total time=   0.2s\n",
            "[CV 2/5] END C=1000, class_weight=None, gamma=0.001, kernel=poly, random_state=5;, score=0.368 total time=   0.2s\n",
            "[CV 3/5] END C=1000, class_weight=None, gamma=0.001, kernel=poly, random_state=5;, score=0.392 total time=   0.2s\n",
            "[CV 4/5] END C=1000, class_weight=None, gamma=0.001, kernel=poly, random_state=5;, score=0.382 total time=   0.2s\n",
            "[CV 5/5] END C=1000, class_weight=None, gamma=0.001, kernel=poly, random_state=5;, score=0.382 total time=   0.2s\n",
            "[CV 1/5] END C=1000, class_weight=None, gamma=0.001, kernel=rbf, random_state=5;, score=0.764 total time=   0.1s\n",
            "[CV 2/5] END C=1000, class_weight=None, gamma=0.001, kernel=rbf, random_state=5;, score=0.741 total time=   0.1s\n",
            "[CV 3/5] END C=1000, class_weight=None, gamma=0.001, kernel=rbf, random_state=5;, score=0.807 total time=   0.2s\n",
            "[CV 4/5] END C=1000, class_weight=None, gamma=0.001, kernel=rbf, random_state=5;, score=0.783 total time=   0.1s\n",
            "[CV 5/5] END C=1000, class_weight=None, gamma=0.001, kernel=rbf, random_state=5;, score=0.755 total time=   0.1s\n",
            "[CV 1/5] END C=1000, class_weight=None, gamma=0.001, kernel=sigmoid, random_state=5;, score=0.745 total time=   0.1s\n",
            "[CV 2/5] END C=1000, class_weight=None, gamma=0.001, kernel=sigmoid, random_state=5;, score=0.759 total time=   0.2s\n",
            "[CV 3/5] END C=1000, class_weight=None, gamma=0.001, kernel=sigmoid, random_state=5;, score=0.811 total time=   0.2s\n",
            "[CV 4/5] END C=1000, class_weight=None, gamma=0.001, kernel=sigmoid, random_state=5;, score=0.764 total time=   0.1s\n",
            "[CV 5/5] END C=1000, class_weight=None, gamma=0.001, kernel=sigmoid, random_state=5;, score=0.741 total time=   0.1s\n",
            "[CV 1/5] END C=1000, class_weight=None, gamma=0.0001, kernel=linear, random_state=5;, score=0.745 total time=   0.1s\n",
            "[CV 2/5] END C=1000, class_weight=None, gamma=0.0001, kernel=linear, random_state=5;, score=0.750 total time=   0.1s\n",
            "[CV 3/5] END C=1000, class_weight=None, gamma=0.0001, kernel=linear, random_state=5;, score=0.811 total time=   0.1s\n",
            "[CV 4/5] END C=1000, class_weight=None, gamma=0.0001, kernel=linear, random_state=5;, score=0.764 total time=   0.1s\n",
            "[CV 5/5] END C=1000, class_weight=None, gamma=0.0001, kernel=linear, random_state=5;, score=0.745 total time=   0.1s\n",
            "[CV 1/5] END C=1000, class_weight=None, gamma=0.0001, kernel=poly, random_state=5;, score=0.344 total time=   0.1s\n",
            "[CV 2/5] END C=1000, class_weight=None, gamma=0.0001, kernel=poly, random_state=5;, score=0.340 total time=   0.1s\n",
            "[CV 3/5] END C=1000, class_weight=None, gamma=0.0001, kernel=poly, random_state=5;, score=0.340 total time=   0.1s\n",
            "[CV 4/5] END C=1000, class_weight=None, gamma=0.0001, kernel=poly, random_state=5;, score=0.340 total time=   0.1s\n",
            "[CV 5/5] END C=1000, class_weight=None, gamma=0.0001, kernel=poly, random_state=5;, score=0.340 total time=   0.1s\n",
            "[CV 1/5] END C=1000, class_weight=None, gamma=0.0001, kernel=rbf, random_state=5;, score=0.755 total time=   0.1s\n",
            "[CV 2/5] END C=1000, class_weight=None, gamma=0.0001, kernel=rbf, random_state=5;, score=0.745 total time=   0.1s\n",
            "[CV 3/5] END C=1000, class_weight=None, gamma=0.0001, kernel=rbf, random_state=5;, score=0.821 total time=   0.2s\n",
            "[CV 4/5] END C=1000, class_weight=None, gamma=0.0001, kernel=rbf, random_state=5;, score=0.778 total time=   0.1s\n",
            "[CV 5/5] END C=1000, class_weight=None, gamma=0.0001, kernel=rbf, random_state=5;, score=0.774 total time=   0.1s\n",
            "[CV 1/5] END C=1000, class_weight=None, gamma=0.0001, kernel=sigmoid, random_state=5;, score=0.750 total time=   0.1s\n",
            "[CV 2/5] END C=1000, class_weight=None, gamma=0.0001, kernel=sigmoid, random_state=5;, score=0.750 total time=   0.1s\n",
            "[CV 3/5] END C=1000, class_weight=None, gamma=0.0001, kernel=sigmoid, random_state=5;, score=0.807 total time=   0.1s\n",
            "[CV 4/5] END C=1000, class_weight=None, gamma=0.0001, kernel=sigmoid, random_state=5;, score=0.792 total time=   0.1s\n",
            "[CV 5/5] END C=1000, class_weight=None, gamma=0.0001, kernel=sigmoid, random_state=5;, score=0.792 total time=   0.2s\n",
            "[CV 1/5] END C=1000, class_weight=balanced, gamma=0.001, kernel=linear, random_state=5;, score=0.745 total time=   0.1s\n",
            "[CV 2/5] END C=1000, class_weight=balanced, gamma=0.001, kernel=linear, random_state=5;, score=0.750 total time=   0.1s\n",
            "[CV 3/5] END C=1000, class_weight=balanced, gamma=0.001, kernel=linear, random_state=5;, score=0.811 total time=   0.1s\n",
            "[CV 4/5] END C=1000, class_weight=balanced, gamma=0.001, kernel=linear, random_state=5;, score=0.764 total time=   0.1s\n",
            "[CV 5/5] END C=1000, class_weight=balanced, gamma=0.001, kernel=linear, random_state=5;, score=0.745 total time=   0.1s\n",
            "[CV 1/5] END C=1000, class_weight=balanced, gamma=0.001, kernel=poly, random_state=5;, score=0.434 total time=   0.2s\n",
            "[CV 2/5] END C=1000, class_weight=balanced, gamma=0.001, kernel=poly, random_state=5;, score=0.396 total time=   0.2s\n",
            "[CV 3/5] END C=1000, class_weight=balanced, gamma=0.001, kernel=poly, random_state=5;, score=0.420 total time=   0.3s\n",
            "[CV 4/5] END C=1000, class_weight=balanced, gamma=0.001, kernel=poly, random_state=5;, score=0.429 total time=   0.3s\n",
            "[CV 5/5] END C=1000, class_weight=balanced, gamma=0.001, kernel=poly, random_state=5;, score=0.434 total time=   0.3s\n",
            "[CV 1/5] END C=1000, class_weight=balanced, gamma=0.001, kernel=rbf, random_state=5;, score=0.764 total time=   0.2s\n",
            "[CV 2/5] END C=1000, class_weight=balanced, gamma=0.001, kernel=rbf, random_state=5;, score=0.741 total time=   0.2s\n",
            "[CV 3/5] END C=1000, class_weight=balanced, gamma=0.001, kernel=rbf, random_state=5;, score=0.807 total time=   0.2s\n",
            "[CV 4/5] END C=1000, class_weight=balanced, gamma=0.001, kernel=rbf, random_state=5;, score=0.783 total time=   0.2s\n",
            "[CV 5/5] END C=1000, class_weight=balanced, gamma=0.001, kernel=rbf, random_state=5;, score=0.755 total time=   0.2s\n",
            "[CV 1/5] END C=1000, class_weight=balanced, gamma=0.001, kernel=sigmoid, random_state=5;, score=0.755 total time=   0.2s\n",
            "[CV 2/5] END C=1000, class_weight=balanced, gamma=0.001, kernel=sigmoid, random_state=5;, score=0.759 total time=   0.2s\n",
            "[CV 3/5] END C=1000, class_weight=balanced, gamma=0.001, kernel=sigmoid, random_state=5;, score=0.816 total time=   0.2s\n",
            "[CV 4/5] END C=1000, class_weight=balanced, gamma=0.001, kernel=sigmoid, random_state=5;, score=0.764 total time=   0.2s\n",
            "[CV 5/5] END C=1000, class_weight=balanced, gamma=0.001, kernel=sigmoid, random_state=5;, score=0.736 total time=   0.2s\n",
            "[CV 1/5] END C=1000, class_weight=balanced, gamma=0.0001, kernel=linear, random_state=5;, score=0.745 total time=   0.2s\n",
            "[CV 2/5] END C=1000, class_weight=balanced, gamma=0.0001, kernel=linear, random_state=5;, score=0.750 total time=   0.2s\n",
            "[CV 3/5] END C=1000, class_weight=balanced, gamma=0.0001, kernel=linear, random_state=5;, score=0.811 total time=   0.2s\n",
            "[CV 4/5] END C=1000, class_weight=balanced, gamma=0.0001, kernel=linear, random_state=5;, score=0.764 total time=   0.2s\n",
            "[CV 5/5] END C=1000, class_weight=balanced, gamma=0.0001, kernel=linear, random_state=5;, score=0.745 total time=   0.2s\n",
            "[CV 1/5] END C=1000, class_weight=balanced, gamma=0.0001, kernel=poly, random_state=5;, score=0.151 total time=   0.3s\n",
            "[CV 2/5] END C=1000, class_weight=balanced, gamma=0.0001, kernel=poly, random_state=5;, score=0.151 total time=   0.3s\n",
            "[CV 3/5] END C=1000, class_weight=balanced, gamma=0.0001, kernel=poly, random_state=5;, score=0.047 total time=   0.3s\n",
            "[CV 4/5] END C=1000, class_weight=balanced, gamma=0.0001, kernel=poly, random_state=5;, score=0.033 total time=   0.3s\n",
            "[CV 5/5] END C=1000, class_weight=balanced, gamma=0.0001, kernel=poly, random_state=5;, score=0.033 total time=   0.3s\n",
            "[CV 1/5] END C=1000, class_weight=balanced, gamma=0.0001, kernel=rbf, random_state=5;, score=0.755 total time=   0.2s\n",
            "[CV 2/5] END C=1000, class_weight=balanced, gamma=0.0001, kernel=rbf, random_state=5;, score=0.774 total time=   0.2s\n",
            "[CV 3/5] END C=1000, class_weight=balanced, gamma=0.0001, kernel=rbf, random_state=5;, score=0.830 total time=   0.2s\n",
            "[CV 4/5] END C=1000, class_weight=balanced, gamma=0.0001, kernel=rbf, random_state=5;, score=0.783 total time=   0.2s\n",
            "[CV 5/5] END C=1000, class_weight=balanced, gamma=0.0001, kernel=rbf, random_state=5;, score=0.769 total time=   0.2s\n",
            "[CV 1/5] END C=1000, class_weight=balanced, gamma=0.0001, kernel=sigmoid, random_state=5;, score=0.750 total time=   0.1s\n",
            "[CV 2/5] END C=1000, class_weight=balanced, gamma=0.0001, kernel=sigmoid, random_state=5;, score=0.774 total time=   0.1s\n",
            "[CV 3/5] END C=1000, class_weight=balanced, gamma=0.0001, kernel=sigmoid, random_state=5;, score=0.811 total time=   0.2s\n",
            "[CV 4/5] END C=1000, class_weight=balanced, gamma=0.0001, kernel=sigmoid, random_state=5;, score=0.792 total time=   0.2s\n",
            "[CV 5/5] END C=1000, class_weight=balanced, gamma=0.0001, kernel=sigmoid, random_state=5;, score=0.783 total time=   0.2s\n"
          ]
        },
        {
          "output_type": "execute_result",
          "data": {
            "text/plain": [
              "{'C': 1000,\n",
              " 'class_weight': 'balanced',\n",
              " 'gamma': 0.0001,\n",
              " 'kernel': 'rbf',\n",
              " 'random_state': 5}"
            ]
          },
          "metadata": {},
          "execution_count": 38
        }
      ],
      "source": [
        "tuned_parameters = [{'kernel': ['linear', 'poly', 'rbf', 'sigmoid'], 'gamma': [1e-3, 1e-4],\n",
        "                     'C': [1, 10, 100, 1000], 'class_weight': [None, 'balanced'], 'random_state':[5]}]\n",
        "\n",
        "\n",
        "svc = GridSearchCV(SVC(), tuned_parameters, refit=True, verbose=3)\n",
        "svc.fit(x_train_pca, y_train)\n",
        "best_p = svc.best_params_\n",
        "best_p"
      ]
    },
    {
      "cell_type": "code",
      "execution_count": null,
      "metadata": {
        "id": "Osdm-hJQP50Q"
      },
      "outputs": [],
      "source": [
        "# < ENTER YOUR CODE HERE >"
      ]
    },
    {
      "cell_type": "markdown",
      "source": [
        "Определите гиперпараметры лучшей полученной модели."
      ],
      "metadata": {
        "id": "bC8S2mixeBsg"
      }
    },
    {
      "cell_type": "code",
      "execution_count": null,
      "metadata": {
        "id": "-0rlhTDgQboM"
      },
      "outputs": [],
      "source": [
        "# < ENTER YOUR CODE HERE >"
      ]
    },
    {
      "cell_type": "markdown",
      "source": [
        "Выполните предсказание для тестовых данных при помощи лучшей полученной модели. Вычислите <code>f1_score(average='weighted')</code>"
      ],
      "metadata": {
        "id": "tgC9qKkBeP7p"
      }
    },
    {
      "cell_type": "code",
      "execution_count": 39,
      "metadata": {
        "id": "JFpgqCfRQiir",
        "colab": {
          "base_uri": "https://localhost:8080/"
        },
        "outputId": "9668000c-33bc-4ef2-d4d3-b3055016d9c0"
      },
      "outputs": [
        {
          "output_type": "execute_result",
          "data": {
            "text/plain": [
              "0.755"
            ]
          },
          "metadata": {},
          "execution_count": 39
        }
      ],
      "source": [
        "round(f1_score(y_test, svc.best_estimator_.predict(x_test_pca),average='weighted'),3)"
      ]
    },
    {
      "cell_type": "markdown",
      "source": [
        "Видно, что качество модели изменилось незначительно, при этом время обучения существенно сократилось."
      ],
      "metadata": {
        "id": "Pn3w9DtNe6ii"
      }
    },
    {
      "cell_type": "markdown",
      "source": [
        "# Часть 2"
      ],
      "metadata": {
        "id": "yhluyZG27cEJ"
      }
    },
    {
      "cell_type": "code",
      "source": [
        "best_p['kernel']='sigmoid'\n",
        "best_p.pop('random_state')"
      ],
      "metadata": {
        "colab": {
          "base_uri": "https://localhost:8080/"
        },
        "id": "lZjK7neV7bpb",
        "outputId": "baaec468-ddad-4ea1-caf8-a4fbe93c4141"
      },
      "execution_count": 52,
      "outputs": [
        {
          "output_type": "execute_result",
          "data": {
            "text/plain": [
              "5"
            ]
          },
          "metadata": {},
          "execution_count": 52
        }
      ]
    },
    {
      "cell_type": "code",
      "source": [
        "best_p"
      ],
      "metadata": {
        "colab": {
          "base_uri": "https://localhost:8080/"
        },
        "id": "F0eo2Pqp9o3i",
        "outputId": "8aeff105-b22e-4b83-9898-ec4f9cbe8ad6"
      },
      "execution_count": 53,
      "outputs": [
        {
          "output_type": "execute_result",
          "data": {
            "text/plain": [
              "{'C': 1000, 'class_weight': 'balanced', 'gamma': 0.0001, 'kernel': 'sigmoid'}"
            ]
          },
          "metadata": {},
          "execution_count": 53
        }
      ]
    },
    {
      "cell_type": "code",
      "source": [
        "!cp '/content/drive/MyDrive/magamed/introduction ML/SVC/persons_pics_reserved.csv' /content/data_test.csv"
      ],
      "metadata": {
        "id": "T5ApyNOE8Pjf"
      },
      "execution_count": 43,
      "outputs": []
    },
    {
      "cell_type": "code",
      "source": [
        "data_test = pd.read_csv('data_test.csv')"
      ],
      "metadata": {
        "id": "iH1OaAZE8MFL"
      },
      "execution_count": 45,
      "outputs": []
    },
    {
      "cell_type": "code",
      "source": [
        "svc5 = SVC(**best_p).fit(df.drop(columns = 'label'),df['label'])"
      ],
      "metadata": {
        "id": "l2Sxl_J67irM"
      },
      "execution_count": 54,
      "outputs": []
    },
    {
      "cell_type": "code",
      "source": [
        "svc5.predict(data_test)"
      ],
      "metadata": {
        "id": "Bn1igJzy8pYz"
      },
      "execution_count": null,
      "outputs": []
    },
    {
      "cell_type": "code",
      "source": [
        "df"
      ],
      "metadata": {
        "colab": {
          "base_uri": "https://localhost:8080/",
          "height": 600
        },
        "id": "K8Td6pw986Bd",
        "outputId": "3397946c-9003-4631-c0fd-8a91d412182a"
      },
      "execution_count": 56,
      "outputs": [
        {
          "output_type": "execute_result",
          "data": {
            "text/plain": [
              "             0         1         2         3         4         5         6  \\\n",
              "0     0.379085  0.312418  0.352941  0.445752  0.466667  0.473203  0.484967   \n",
              "1     0.450980  0.466667  0.512418  0.509804  0.450980  0.458824  0.516340   \n",
              "2     0.589542  0.614379  0.688889  0.729412  0.738562  0.775163  0.789543   \n",
              "3     0.390850  0.432680  0.499346  0.562091  0.597386  0.644444  0.670588   \n",
              "4     0.645752  0.626144  0.605229  0.585621  0.602614  0.664052  0.701961   \n",
              "...        ...       ...       ...       ...       ...       ...       ...   \n",
              "1321  0.237908  0.273203  0.244444  0.332026  0.590850  0.675817  0.684967   \n",
              "1322  0.105882  0.087582  0.117647  0.260131  0.385621  0.466667  0.566013   \n",
              "1323  0.322876  0.345098  0.369935  0.375163  0.405229  0.464052  0.494118   \n",
              "1324  0.304575  0.290196  0.366013  0.444444  0.456209  0.465359  0.479739   \n",
              "1325  0.190850  0.190850  0.198693  0.184314  0.190850  0.218301  0.253595   \n",
              "\n",
              "             7         8         9  ...      2905      2906      2907  \\\n",
              "0     0.513725  0.545098  0.571242  ...  0.597386  0.620915  0.732026   \n",
              "1     0.571242  0.607843  0.618301  ...  0.430065  0.453595  0.679739   \n",
              "2     0.806536  0.820915  0.837908  ...  0.733333  0.854902  0.937255   \n",
              "3     0.650980  0.637908  0.639216  ...  0.713726  0.898039  0.968627   \n",
              "4     0.709804  0.733333  0.771242  ...  0.115033  0.129412  0.132026   \n",
              "...        ...       ...       ...  ...       ...       ...       ...   \n",
              "1321  0.733333  0.771242  0.771242  ...  0.686275  0.694118  0.720261   \n",
              "1322  0.657516  0.692810  0.691503  ...  0.722876  0.376471  0.188235   \n",
              "1323  0.511111  0.517647  0.495425  ...  0.465359  0.486274  0.505882   \n",
              "1324  0.532026  0.585621  0.603922  ...  0.513725  0.802614  0.942484   \n",
              "1325  0.321569  0.366013  0.414379  ...  0.154248  0.147712  0.162092   \n",
              "\n",
              "          2908      2909      2910      2911      2912      2913  \\\n",
              "0     0.852288  0.921569  0.937255  0.941176  0.950327  0.946405   \n",
              "1     0.934640  0.985621  0.981699  0.963399  0.938562  0.874510   \n",
              "2     0.624837  0.128105  0.082353  0.107190  0.095425  0.100654   \n",
              "3     0.959477  0.832680  0.443137  0.266667  0.303268  0.313725   \n",
              "4     0.129412  0.155556  0.171242  0.167320  0.176471  0.183007   \n",
              "...        ...       ...       ...       ...       ...       ...   \n",
              "1321  0.746405  0.756863  0.735948  0.715033  0.684967  0.657516   \n",
              "1322  0.139869  0.188235  0.226144  0.243137  0.248366  0.244444   \n",
              "1323  0.535948  0.550327  0.551634  0.552941  0.554248  0.563399   \n",
              "1324  0.933333  0.707190  0.223529  0.124183  0.133333  0.113725   \n",
              "1325  0.196078  0.224837  0.236601  0.247059  0.258824  0.269281   \n",
              "\n",
              "                  label  \n",
              "0         John Ashcroft  \n",
              "1          Ariel Sharon  \n",
              "2          Colin Powell  \n",
              "3         Jean Chretien  \n",
              "4          Colin Powell  \n",
              "...                 ...  \n",
              "1321         Tony Blair  \n",
              "1322  Gerhard Schroeder  \n",
              "1323      George W Bush  \n",
              "1324      George W Bush  \n",
              "1325    Serena Williams  \n",
              "\n",
              "[1326 rows x 2915 columns]"
            ],
            "text/html": [
              "\n",
              "  <div id=\"df-8baa2baf-495a-4c4a-9868-724b539dcdfe\" class=\"colab-df-container\">\n",
              "    <div>\n",
              "<style scoped>\n",
              "    .dataframe tbody tr th:only-of-type {\n",
              "        vertical-align: middle;\n",
              "    }\n",
              "\n",
              "    .dataframe tbody tr th {\n",
              "        vertical-align: top;\n",
              "    }\n",
              "\n",
              "    .dataframe thead th {\n",
              "        text-align: right;\n",
              "    }\n",
              "</style>\n",
              "<table border=\"1\" class=\"dataframe\">\n",
              "  <thead>\n",
              "    <tr style=\"text-align: right;\">\n",
              "      <th></th>\n",
              "      <th>0</th>\n",
              "      <th>1</th>\n",
              "      <th>2</th>\n",
              "      <th>3</th>\n",
              "      <th>4</th>\n",
              "      <th>5</th>\n",
              "      <th>6</th>\n",
              "      <th>7</th>\n",
              "      <th>8</th>\n",
              "      <th>9</th>\n",
              "      <th>...</th>\n",
              "      <th>2905</th>\n",
              "      <th>2906</th>\n",
              "      <th>2907</th>\n",
              "      <th>2908</th>\n",
              "      <th>2909</th>\n",
              "      <th>2910</th>\n",
              "      <th>2911</th>\n",
              "      <th>2912</th>\n",
              "      <th>2913</th>\n",
              "      <th>label</th>\n",
              "    </tr>\n",
              "  </thead>\n",
              "  <tbody>\n",
              "    <tr>\n",
              "      <th>0</th>\n",
              "      <td>0.379085</td>\n",
              "      <td>0.312418</td>\n",
              "      <td>0.352941</td>\n",
              "      <td>0.445752</td>\n",
              "      <td>0.466667</td>\n",
              "      <td>0.473203</td>\n",
              "      <td>0.484967</td>\n",
              "      <td>0.513725</td>\n",
              "      <td>0.545098</td>\n",
              "      <td>0.571242</td>\n",
              "      <td>...</td>\n",
              "      <td>0.597386</td>\n",
              "      <td>0.620915</td>\n",
              "      <td>0.732026</td>\n",
              "      <td>0.852288</td>\n",
              "      <td>0.921569</td>\n",
              "      <td>0.937255</td>\n",
              "      <td>0.941176</td>\n",
              "      <td>0.950327</td>\n",
              "      <td>0.946405</td>\n",
              "      <td>John Ashcroft</td>\n",
              "    </tr>\n",
              "    <tr>\n",
              "      <th>1</th>\n",
              "      <td>0.450980</td>\n",
              "      <td>0.466667</td>\n",
              "      <td>0.512418</td>\n",
              "      <td>0.509804</td>\n",
              "      <td>0.450980</td>\n",
              "      <td>0.458824</td>\n",
              "      <td>0.516340</td>\n",
              "      <td>0.571242</td>\n",
              "      <td>0.607843</td>\n",
              "      <td>0.618301</td>\n",
              "      <td>...</td>\n",
              "      <td>0.430065</td>\n",
              "      <td>0.453595</td>\n",
              "      <td>0.679739</td>\n",
              "      <td>0.934640</td>\n",
              "      <td>0.985621</td>\n",
              "      <td>0.981699</td>\n",
              "      <td>0.963399</td>\n",
              "      <td>0.938562</td>\n",
              "      <td>0.874510</td>\n",
              "      <td>Ariel Sharon</td>\n",
              "    </tr>\n",
              "    <tr>\n",
              "      <th>2</th>\n",
              "      <td>0.589542</td>\n",
              "      <td>0.614379</td>\n",
              "      <td>0.688889</td>\n",
              "      <td>0.729412</td>\n",
              "      <td>0.738562</td>\n",
              "      <td>0.775163</td>\n",
              "      <td>0.789543</td>\n",
              "      <td>0.806536</td>\n",
              "      <td>0.820915</td>\n",
              "      <td>0.837908</td>\n",
              "      <td>...</td>\n",
              "      <td>0.733333</td>\n",
              "      <td>0.854902</td>\n",
              "      <td>0.937255</td>\n",
              "      <td>0.624837</td>\n",
              "      <td>0.128105</td>\n",
              "      <td>0.082353</td>\n",
              "      <td>0.107190</td>\n",
              "      <td>0.095425</td>\n",
              "      <td>0.100654</td>\n",
              "      <td>Colin Powell</td>\n",
              "    </tr>\n",
              "    <tr>\n",
              "      <th>3</th>\n",
              "      <td>0.390850</td>\n",
              "      <td>0.432680</td>\n",
              "      <td>0.499346</td>\n",
              "      <td>0.562091</td>\n",
              "      <td>0.597386</td>\n",
              "      <td>0.644444</td>\n",
              "      <td>0.670588</td>\n",
              "      <td>0.650980</td>\n",
              "      <td>0.637908</td>\n",
              "      <td>0.639216</td>\n",
              "      <td>...</td>\n",
              "      <td>0.713726</td>\n",
              "      <td>0.898039</td>\n",
              "      <td>0.968627</td>\n",
              "      <td>0.959477</td>\n",
              "      <td>0.832680</td>\n",
              "      <td>0.443137</td>\n",
              "      <td>0.266667</td>\n",
              "      <td>0.303268</td>\n",
              "      <td>0.313725</td>\n",
              "      <td>Jean Chretien</td>\n",
              "    </tr>\n",
              "    <tr>\n",
              "      <th>4</th>\n",
              "      <td>0.645752</td>\n",
              "      <td>0.626144</td>\n",
              "      <td>0.605229</td>\n",
              "      <td>0.585621</td>\n",
              "      <td>0.602614</td>\n",
              "      <td>0.664052</td>\n",
              "      <td>0.701961</td>\n",
              "      <td>0.709804</td>\n",
              "      <td>0.733333</td>\n",
              "      <td>0.771242</td>\n",
              "      <td>...</td>\n",
              "      <td>0.115033</td>\n",
              "      <td>0.129412</td>\n",
              "      <td>0.132026</td>\n",
              "      <td>0.129412</td>\n",
              "      <td>0.155556</td>\n",
              "      <td>0.171242</td>\n",
              "      <td>0.167320</td>\n",
              "      <td>0.176471</td>\n",
              "      <td>0.183007</td>\n",
              "      <td>Colin Powell</td>\n",
              "    </tr>\n",
              "    <tr>\n",
              "      <th>...</th>\n",
              "      <td>...</td>\n",
              "      <td>...</td>\n",
              "      <td>...</td>\n",
              "      <td>...</td>\n",
              "      <td>...</td>\n",
              "      <td>...</td>\n",
              "      <td>...</td>\n",
              "      <td>...</td>\n",
              "      <td>...</td>\n",
              "      <td>...</td>\n",
              "      <td>...</td>\n",
              "      <td>...</td>\n",
              "      <td>...</td>\n",
              "      <td>...</td>\n",
              "      <td>...</td>\n",
              "      <td>...</td>\n",
              "      <td>...</td>\n",
              "      <td>...</td>\n",
              "      <td>...</td>\n",
              "      <td>...</td>\n",
              "      <td>...</td>\n",
              "    </tr>\n",
              "    <tr>\n",
              "      <th>1321</th>\n",
              "      <td>0.237908</td>\n",
              "      <td>0.273203</td>\n",
              "      <td>0.244444</td>\n",
              "      <td>0.332026</td>\n",
              "      <td>0.590850</td>\n",
              "      <td>0.675817</td>\n",
              "      <td>0.684967</td>\n",
              "      <td>0.733333</td>\n",
              "      <td>0.771242</td>\n",
              "      <td>0.771242</td>\n",
              "      <td>...</td>\n",
              "      <td>0.686275</td>\n",
              "      <td>0.694118</td>\n",
              "      <td>0.720261</td>\n",
              "      <td>0.746405</td>\n",
              "      <td>0.756863</td>\n",
              "      <td>0.735948</td>\n",
              "      <td>0.715033</td>\n",
              "      <td>0.684967</td>\n",
              "      <td>0.657516</td>\n",
              "      <td>Tony Blair</td>\n",
              "    </tr>\n",
              "    <tr>\n",
              "      <th>1322</th>\n",
              "      <td>0.105882</td>\n",
              "      <td>0.087582</td>\n",
              "      <td>0.117647</td>\n",
              "      <td>0.260131</td>\n",
              "      <td>0.385621</td>\n",
              "      <td>0.466667</td>\n",
              "      <td>0.566013</td>\n",
              "      <td>0.657516</td>\n",
              "      <td>0.692810</td>\n",
              "      <td>0.691503</td>\n",
              "      <td>...</td>\n",
              "      <td>0.722876</td>\n",
              "      <td>0.376471</td>\n",
              "      <td>0.188235</td>\n",
              "      <td>0.139869</td>\n",
              "      <td>0.188235</td>\n",
              "      <td>0.226144</td>\n",
              "      <td>0.243137</td>\n",
              "      <td>0.248366</td>\n",
              "      <td>0.244444</td>\n",
              "      <td>Gerhard Schroeder</td>\n",
              "    </tr>\n",
              "    <tr>\n",
              "      <th>1323</th>\n",
              "      <td>0.322876</td>\n",
              "      <td>0.345098</td>\n",
              "      <td>0.369935</td>\n",
              "      <td>0.375163</td>\n",
              "      <td>0.405229</td>\n",
              "      <td>0.464052</td>\n",
              "      <td>0.494118</td>\n",
              "      <td>0.511111</td>\n",
              "      <td>0.517647</td>\n",
              "      <td>0.495425</td>\n",
              "      <td>...</td>\n",
              "      <td>0.465359</td>\n",
              "      <td>0.486274</td>\n",
              "      <td>0.505882</td>\n",
              "      <td>0.535948</td>\n",
              "      <td>0.550327</td>\n",
              "      <td>0.551634</td>\n",
              "      <td>0.552941</td>\n",
              "      <td>0.554248</td>\n",
              "      <td>0.563399</td>\n",
              "      <td>George W Bush</td>\n",
              "    </tr>\n",
              "    <tr>\n",
              "      <th>1324</th>\n",
              "      <td>0.304575</td>\n",
              "      <td>0.290196</td>\n",
              "      <td>0.366013</td>\n",
              "      <td>0.444444</td>\n",
              "      <td>0.456209</td>\n",
              "      <td>0.465359</td>\n",
              "      <td>0.479739</td>\n",
              "      <td>0.532026</td>\n",
              "      <td>0.585621</td>\n",
              "      <td>0.603922</td>\n",
              "      <td>...</td>\n",
              "      <td>0.513725</td>\n",
              "      <td>0.802614</td>\n",
              "      <td>0.942484</td>\n",
              "      <td>0.933333</td>\n",
              "      <td>0.707190</td>\n",
              "      <td>0.223529</td>\n",
              "      <td>0.124183</td>\n",
              "      <td>0.133333</td>\n",
              "      <td>0.113725</td>\n",
              "      <td>George W Bush</td>\n",
              "    </tr>\n",
              "    <tr>\n",
              "      <th>1325</th>\n",
              "      <td>0.190850</td>\n",
              "      <td>0.190850</td>\n",
              "      <td>0.198693</td>\n",
              "      <td>0.184314</td>\n",
              "      <td>0.190850</td>\n",
              "      <td>0.218301</td>\n",
              "      <td>0.253595</td>\n",
              "      <td>0.321569</td>\n",
              "      <td>0.366013</td>\n",
              "      <td>0.414379</td>\n",
              "      <td>...</td>\n",
              "      <td>0.154248</td>\n",
              "      <td>0.147712</td>\n",
              "      <td>0.162092</td>\n",
              "      <td>0.196078</td>\n",
              "      <td>0.224837</td>\n",
              "      <td>0.236601</td>\n",
              "      <td>0.247059</td>\n",
              "      <td>0.258824</td>\n",
              "      <td>0.269281</td>\n",
              "      <td>Serena Williams</td>\n",
              "    </tr>\n",
              "  </tbody>\n",
              "</table>\n",
              "<p>1326 rows × 2915 columns</p>\n",
              "</div>\n",
              "    <div class=\"colab-df-buttons\">\n",
              "\n",
              "  <div class=\"colab-df-container\">\n",
              "    <button class=\"colab-df-convert\" onclick=\"convertToInteractive('df-8baa2baf-495a-4c4a-9868-724b539dcdfe')\"\n",
              "            title=\"Convert this dataframe to an interactive table.\"\n",
              "            style=\"display:none;\">\n",
              "\n",
              "  <svg xmlns=\"http://www.w3.org/2000/svg\" height=\"24px\" viewBox=\"0 -960 960 960\">\n",
              "    <path d=\"M120-120v-720h720v720H120Zm60-500h600v-160H180v160Zm220 220h160v-160H400v160Zm0 220h160v-160H400v160ZM180-400h160v-160H180v160Zm440 0h160v-160H620v160ZM180-180h160v-160H180v160Zm440 0h160v-160H620v160Z\"/>\n",
              "  </svg>\n",
              "    </button>\n",
              "\n",
              "  <style>\n",
              "    .colab-df-container {\n",
              "      display:flex;\n",
              "      gap: 12px;\n",
              "    }\n",
              "\n",
              "    .colab-df-convert {\n",
              "      background-color: #E8F0FE;\n",
              "      border: none;\n",
              "      border-radius: 50%;\n",
              "      cursor: pointer;\n",
              "      display: none;\n",
              "      fill: #1967D2;\n",
              "      height: 32px;\n",
              "      padding: 0 0 0 0;\n",
              "      width: 32px;\n",
              "    }\n",
              "\n",
              "    .colab-df-convert:hover {\n",
              "      background-color: #E2EBFA;\n",
              "      box-shadow: 0px 1px 2px rgba(60, 64, 67, 0.3), 0px 1px 3px 1px rgba(60, 64, 67, 0.15);\n",
              "      fill: #174EA6;\n",
              "    }\n",
              "\n",
              "    .colab-df-buttons div {\n",
              "      margin-bottom: 4px;\n",
              "    }\n",
              "\n",
              "    [theme=dark] .colab-df-convert {\n",
              "      background-color: #3B4455;\n",
              "      fill: #D2E3FC;\n",
              "    }\n",
              "\n",
              "    [theme=dark] .colab-df-convert:hover {\n",
              "      background-color: #434B5C;\n",
              "      box-shadow: 0px 1px 3px 1px rgba(0, 0, 0, 0.15);\n",
              "      filter: drop-shadow(0px 1px 2px rgba(0, 0, 0, 0.3));\n",
              "      fill: #FFFFFF;\n",
              "    }\n",
              "  </style>\n",
              "\n",
              "    <script>\n",
              "      const buttonEl =\n",
              "        document.querySelector('#df-8baa2baf-495a-4c4a-9868-724b539dcdfe button.colab-df-convert');\n",
              "      buttonEl.style.display =\n",
              "        google.colab.kernel.accessAllowed ? 'block' : 'none';\n",
              "\n",
              "      async function convertToInteractive(key) {\n",
              "        const element = document.querySelector('#df-8baa2baf-495a-4c4a-9868-724b539dcdfe');\n",
              "        const dataTable =\n",
              "          await google.colab.kernel.invokeFunction('convertToInteractive',\n",
              "                                                    [key], {});\n",
              "        if (!dataTable) return;\n",
              "\n",
              "        const docLinkHtml = 'Like what you see? Visit the ' +\n",
              "          '<a target=\"_blank\" href=https://colab.research.google.com/notebooks/data_table.ipynb>data table notebook</a>'\n",
              "          + ' to learn more about interactive tables.';\n",
              "        element.innerHTML = '';\n",
              "        dataTable['output_type'] = 'display_data';\n",
              "        await google.colab.output.renderOutput(dataTable, element);\n",
              "        const docLink = document.createElement('div');\n",
              "        docLink.innerHTML = docLinkHtml;\n",
              "        element.appendChild(docLink);\n",
              "      }\n",
              "    </script>\n",
              "  </div>\n",
              "\n",
              "\n",
              "<div id=\"df-f50eac22-d970-4bc2-928a-a8a6e24bbbb2\">\n",
              "  <button class=\"colab-df-quickchart\" onclick=\"quickchart('df-f50eac22-d970-4bc2-928a-a8a6e24bbbb2')\"\n",
              "            title=\"Suggest charts\"\n",
              "            style=\"display:none;\">\n",
              "\n",
              "<svg xmlns=\"http://www.w3.org/2000/svg\" height=\"24px\"viewBox=\"0 0 24 24\"\n",
              "     width=\"24px\">\n",
              "    <g>\n",
              "        <path d=\"M19 3H5c-1.1 0-2 .9-2 2v14c0 1.1.9 2 2 2h14c1.1 0 2-.9 2-2V5c0-1.1-.9-2-2-2zM9 17H7v-7h2v7zm4 0h-2V7h2v10zm4 0h-2v-4h2v4z\"/>\n",
              "    </g>\n",
              "</svg>\n",
              "  </button>\n",
              "\n",
              "<style>\n",
              "  .colab-df-quickchart {\n",
              "      --bg-color: #E8F0FE;\n",
              "      --fill-color: #1967D2;\n",
              "      --hover-bg-color: #E2EBFA;\n",
              "      --hover-fill-color: #174EA6;\n",
              "      --disabled-fill-color: #AAA;\n",
              "      --disabled-bg-color: #DDD;\n",
              "  }\n",
              "\n",
              "  [theme=dark] .colab-df-quickchart {\n",
              "      --bg-color: #3B4455;\n",
              "      --fill-color: #D2E3FC;\n",
              "      --hover-bg-color: #434B5C;\n",
              "      --hover-fill-color: #FFFFFF;\n",
              "      --disabled-bg-color: #3B4455;\n",
              "      --disabled-fill-color: #666;\n",
              "  }\n",
              "\n",
              "  .colab-df-quickchart {\n",
              "    background-color: var(--bg-color);\n",
              "    border: none;\n",
              "    border-radius: 50%;\n",
              "    cursor: pointer;\n",
              "    display: none;\n",
              "    fill: var(--fill-color);\n",
              "    height: 32px;\n",
              "    padding: 0;\n",
              "    width: 32px;\n",
              "  }\n",
              "\n",
              "  .colab-df-quickchart:hover {\n",
              "    background-color: var(--hover-bg-color);\n",
              "    box-shadow: 0 1px 2px rgba(60, 64, 67, 0.3), 0 1px 3px 1px rgba(60, 64, 67, 0.15);\n",
              "    fill: var(--button-hover-fill-color);\n",
              "  }\n",
              "\n",
              "  .colab-df-quickchart-complete:disabled,\n",
              "  .colab-df-quickchart-complete:disabled:hover {\n",
              "    background-color: var(--disabled-bg-color);\n",
              "    fill: var(--disabled-fill-color);\n",
              "    box-shadow: none;\n",
              "  }\n",
              "\n",
              "  .colab-df-spinner {\n",
              "    border: 2px solid var(--fill-color);\n",
              "    border-color: transparent;\n",
              "    border-bottom-color: var(--fill-color);\n",
              "    animation:\n",
              "      spin 1s steps(1) infinite;\n",
              "  }\n",
              "\n",
              "  @keyframes spin {\n",
              "    0% {\n",
              "      border-color: transparent;\n",
              "      border-bottom-color: var(--fill-color);\n",
              "      border-left-color: var(--fill-color);\n",
              "    }\n",
              "    20% {\n",
              "      border-color: transparent;\n",
              "      border-left-color: var(--fill-color);\n",
              "      border-top-color: var(--fill-color);\n",
              "    }\n",
              "    30% {\n",
              "      border-color: transparent;\n",
              "      border-left-color: var(--fill-color);\n",
              "      border-top-color: var(--fill-color);\n",
              "      border-right-color: var(--fill-color);\n",
              "    }\n",
              "    40% {\n",
              "      border-color: transparent;\n",
              "      border-right-color: var(--fill-color);\n",
              "      border-top-color: var(--fill-color);\n",
              "    }\n",
              "    60% {\n",
              "      border-color: transparent;\n",
              "      border-right-color: var(--fill-color);\n",
              "    }\n",
              "    80% {\n",
              "      border-color: transparent;\n",
              "      border-right-color: var(--fill-color);\n",
              "      border-bottom-color: var(--fill-color);\n",
              "    }\n",
              "    90% {\n",
              "      border-color: transparent;\n",
              "      border-bottom-color: var(--fill-color);\n",
              "    }\n",
              "  }\n",
              "</style>\n",
              "\n",
              "  <script>\n",
              "    async function quickchart(key) {\n",
              "      const quickchartButtonEl =\n",
              "        document.querySelector('#' + key + ' button');\n",
              "      quickchartButtonEl.disabled = true;  // To prevent multiple clicks.\n",
              "      quickchartButtonEl.classList.add('colab-df-spinner');\n",
              "      try {\n",
              "        const charts = await google.colab.kernel.invokeFunction(\n",
              "            'suggestCharts', [key], {});\n",
              "      } catch (error) {\n",
              "        console.error('Error during call to suggestCharts:', error);\n",
              "      }\n",
              "      quickchartButtonEl.classList.remove('colab-df-spinner');\n",
              "      quickchartButtonEl.classList.add('colab-df-quickchart-complete');\n",
              "    }\n",
              "    (() => {\n",
              "      let quickchartButtonEl =\n",
              "        document.querySelector('#df-f50eac22-d970-4bc2-928a-a8a6e24bbbb2 button');\n",
              "      quickchartButtonEl.style.display =\n",
              "        google.colab.kernel.accessAllowed ? 'block' : 'none';\n",
              "    })();\n",
              "  </script>\n",
              "</div>\n",
              "    </div>\n",
              "  </div>\n"
            ]
          },
          "metadata": {},
          "execution_count": 56
        }
      ]
    },
    {
      "cell_type": "code",
      "source": [
        "import tensorflow as tf\n",
        "from tensorflow import keras"
      ],
      "metadata": {
        "id": "Kqjq-a6mBBdY"
      },
      "execution_count": 57,
      "outputs": []
    },
    {
      "cell_type": "code",
      "source": [
        "cols = pd.get_dummies(df['label']).columns\n",
        "y = pd.get_dummies(df['label']).to_numpy()\n",
        "X = df.drop(columns='label').to_numpy().reshape(1326, 62, 47)\n",
        "X_train, X_test, y_train, y_test = train_test_split(X, y, train_size=0.9)\n",
        "X_train_tf = tf.data.Dataset.from_tensor_slices(X_train)\n",
        "y_train_tf = tf.data.Dataset.from_tensor_slices(y_train)\n",
        "\n",
        "X_test_tf = tf.data.Dataset.from_tensor_slices(X_test)\n",
        "y_test_tf = tf.data.Dataset.from_tensor_slices(y_test)\n",
        "\n",
        "train_ds = tf.data.Dataset.zip((X_train_tf, y_train_tf))\n",
        "test_ds = tf.data.Dataset.zip((X_test_tf, y_test_tf))\n",
        "\n",
        "train_ds = train_ds.shuffle(500).batch(32).prefetch(tf.data.experimental.AUTOTUNE)\n",
        "test_ds = test_ds.shuffle(500).batch(32).prefetch(tf.data.experimental.AUTOTUNE)\n",
        "inputs = keras.Input(shape=(62, 47, 1))\n",
        "x = keras.layers.Conv2D(32, (3, 3), padding='same', activation='relu')(inputs)\n",
        "x = keras.layers.MaxPooling2D((2, 2), strides=2)(x)\n",
        "x = keras.layers.Conv2D(64, (3, 3), padding='same', activation='relu')(x)\n",
        "x = keras.layers.MaxPooling2D((2, 2), strides=2)(x)\n",
        "x = keras.layers.Flatten()(x)\n",
        "x = keras.layers.Dense(128, activation='relu')(x)\n",
        "x = keras.layers.Dense(128, activation='relu')(x)\n",
        "x = keras.layers.Dense(32, activation='relu')(x)\n",
        "outputs = keras.layers.Dense(12, activation='softmax')(x)\n",
        "\n",
        "model = keras.models.Model(inputs, outputs)\n",
        "model.summary()\n",
        "\n",
        "model.compile(optimizer='adam', loss = 'categorical_crossentropy', metrics='acc')\n",
        "\n",
        "history = model.fit(train_ds, epochs=20, validation_data=test_ds)"
      ],
      "metadata": {
        "colab": {
          "base_uri": "https://localhost:8080/"
        },
        "id": "dMo7ufCZ-sXn",
        "outputId": "2054b6fa-7383-48a5-9f94-19ebb8f9bef0"
      },
      "execution_count": 58,
      "outputs": [
        {
          "output_type": "stream",
          "name": "stdout",
          "text": [
            "Model: \"model\"\n",
            "_________________________________________________________________\n",
            " Layer (type)                Output Shape              Param #   \n",
            "=================================================================\n",
            " input_1 (InputLayer)        [(None, 62, 47, 1)]       0         \n",
            "                                                                 \n",
            " conv2d (Conv2D)             (None, 62, 47, 32)        320       \n",
            "                                                                 \n",
            " max_pooling2d (MaxPooling2  (None, 31, 23, 32)        0         \n",
            " D)                                                              \n",
            "                                                                 \n",
            " conv2d_1 (Conv2D)           (None, 31, 23, 64)        18496     \n",
            "                                                                 \n",
            " max_pooling2d_1 (MaxPoolin  (None, 15, 11, 64)        0         \n",
            " g2D)                                                            \n",
            "                                                                 \n",
            " flatten (Flatten)           (None, 10560)             0         \n",
            "                                                                 \n",
            " dense (Dense)               (None, 128)               1351808   \n",
            "                                                                 \n",
            " dense_1 (Dense)             (None, 128)               16512     \n",
            "                                                                 \n",
            " dense_2 (Dense)             (None, 32)                4128      \n",
            "                                                                 \n",
            " dense_3 (Dense)             (None, 12)                396       \n",
            "                                                                 \n",
            "=================================================================\n",
            "Total params: 1391660 (5.31 MB)\n",
            "Trainable params: 1391660 (5.31 MB)\n",
            "Non-trainable params: 0 (0.00 Byte)\n",
            "_________________________________________________________________\n",
            "Epoch 1/20\n",
            "38/38 [==============================] - 10s 127ms/step - loss: 2.2474 - acc: 0.3286 - val_loss: 2.1114 - val_acc: 0.3684\n",
            "Epoch 2/20\n",
            "38/38 [==============================] - 6s 171ms/step - loss: 2.0581 - acc: 0.3470 - val_loss: 1.9889 - val_acc: 0.3684\n",
            "Epoch 3/20\n",
            "38/38 [==============================] - 5s 126ms/step - loss: 1.7610 - acc: 0.4350 - val_loss: 1.6552 - val_acc: 0.4361\n",
            "Epoch 4/20\n",
            "38/38 [==============================] - 6s 165ms/step - loss: 1.4431 - acc: 0.5281 - val_loss: 1.4061 - val_acc: 0.5338\n",
            "Epoch 5/20\n",
            "38/38 [==============================] - 6s 148ms/step - loss: 1.0289 - acc: 0.6714 - val_loss: 0.8799 - val_acc: 0.7444\n",
            "Epoch 6/20\n",
            "38/38 [==============================] - 5s 139ms/step - loss: 0.8077 - acc: 0.7435 - val_loss: 0.9098 - val_acc: 0.6466\n",
            "Epoch 7/20\n",
            "38/38 [==============================] - 7s 186ms/step - loss: 0.5505 - acc: 0.8282 - val_loss: 0.6741 - val_acc: 0.7895\n",
            "Epoch 8/20\n",
            "38/38 [==============================] - 5s 132ms/step - loss: 0.4199 - acc: 0.8776 - val_loss: 0.5662 - val_acc: 0.8271\n",
            "Epoch 9/20\n",
            "38/38 [==============================] - 5s 122ms/step - loss: 0.3395 - acc: 0.8952 - val_loss: 0.5192 - val_acc: 0.8571\n",
            "Epoch 10/20\n",
            "38/38 [==============================] - 7s 198ms/step - loss: 0.2250 - acc: 0.9338 - val_loss: 0.5890 - val_acc: 0.8571\n",
            "Epoch 11/20\n",
            "38/38 [==============================] - 5s 124ms/step - loss: 0.1697 - acc: 0.9522 - val_loss: 0.5573 - val_acc: 0.8722\n",
            "Epoch 12/20\n",
            "38/38 [==============================] - 7s 180ms/step - loss: 0.1215 - acc: 0.9623 - val_loss: 0.5600 - val_acc: 0.8722\n",
            "Epoch 13/20\n",
            "38/38 [==============================] - 5s 125ms/step - loss: 0.0971 - acc: 0.9732 - val_loss: 0.5982 - val_acc: 0.8647\n",
            "Epoch 14/20\n",
            "38/38 [==============================] - 6s 171ms/step - loss: 0.0954 - acc: 0.9707 - val_loss: 0.5829 - val_acc: 0.8647\n",
            "Epoch 15/20\n",
            "38/38 [==============================] - 5s 124ms/step - loss: 0.0433 - acc: 0.9916 - val_loss: 0.5070 - val_acc: 0.9098\n",
            "Epoch 16/20\n",
            "38/38 [==============================] - 6s 172ms/step - loss: 0.0368 - acc: 0.9933 - val_loss: 0.5986 - val_acc: 0.8571\n",
            "Epoch 17/20\n",
            "38/38 [==============================] - 5s 126ms/step - loss: 0.0200 - acc: 1.0000 - val_loss: 0.6578 - val_acc: 0.8797\n",
            "Epoch 18/20\n",
            "38/38 [==============================] - 8s 223ms/step - loss: 0.0103 - acc: 1.0000 - val_loss: 0.6188 - val_acc: 0.8797\n",
            "Epoch 19/20\n",
            "38/38 [==============================] - 5s 125ms/step - loss: 0.0071 - acc: 1.0000 - val_loss: 0.6285 - val_acc: 0.8797\n",
            "Epoch 20/20\n",
            "38/38 [==============================] - 6s 147ms/step - loss: 0.0049 - acc: 1.0000 - val_loss: 0.6751 - val_acc: 0.8872\n"
          ]
        }
      ]
    },
    {
      "cell_type": "code",
      "source": [
        "X_preds = data_test.to_numpy().reshape(len(data_test), 62, 47)\n",
        "preds = model.predict(X_preds)\n",
        "\n"
      ],
      "metadata": {
        "colab": {
          "base_uri": "https://localhost:8080/"
        },
        "id": "3VPWTJG_B4XU",
        "outputId": "e503991e-2cd2-458d-d1c3-1e404220aae3"
      },
      "execution_count": 60,
      "outputs": [
        {
          "output_type": "stream",
          "name": "stdout",
          "text": [
            "8/8 [==============================] - 1s 56ms/step\n"
          ]
        }
      ]
    },
    {
      "cell_type": "code",
      "source": [
        "res_preds = []\n",
        "for pred in preds:\n",
        "    res_preds.append(cols[np.argmax(pred)])"
      ],
      "metadata": {
        "id": "yPxzVw0cC8Vz"
      },
      "execution_count": 61,
      "outputs": []
    },
    {
      "cell_type": "code",
      "source": [
        "res_preds"
      ],
      "metadata": {
        "colab": {
          "base_uri": "https://localhost:8080/"
        },
        "id": "-EgQPv1RDFIi",
        "outputId": "347a2c98-0670-48b4-eca6-e7d8c928746d"
      },
      "execution_count": 62,
      "outputs": [
        {
          "output_type": "execute_result",
          "data": {
            "text/plain": [
              "['George W Bush',\n",
              " 'Ariel Sharon',\n",
              " 'Jacques Chirac',\n",
              " 'Jacques Chirac',\n",
              " 'Tony Blair',\n",
              " 'Colin Powell',\n",
              " 'Donald Rumsfeld',\n",
              " 'Colin Powell',\n",
              " 'Tony Blair',\n",
              " 'Tony Blair',\n",
              " 'John Ashcroft',\n",
              " 'Hugo Chavez',\n",
              " 'George W Bush',\n",
              " 'Hugo Chavez',\n",
              " 'Ariel Sharon',\n",
              " 'George W Bush',\n",
              " 'Ariel Sharon',\n",
              " 'Colin Powell',\n",
              " 'Colin Powell',\n",
              " 'Gerhard Schroeder',\n",
              " 'Ariel Sharon',\n",
              " 'George W Bush',\n",
              " 'Colin Powell',\n",
              " 'George W Bush',\n",
              " 'George W Bush',\n",
              " 'Donald Rumsfeld',\n",
              " 'Donald Rumsfeld',\n",
              " 'Tony Blair',\n",
              " 'Serena Williams',\n",
              " 'Jean Chretien',\n",
              " 'George W Bush',\n",
              " 'George W Bush',\n",
              " 'George W Bush',\n",
              " 'George W Bush',\n",
              " 'George W Bush',\n",
              " 'George W Bush',\n",
              " 'Donald Rumsfeld',\n",
              " 'Ariel Sharon',\n",
              " 'George W Bush',\n",
              " 'Gerhard Schroeder',\n",
              " 'Colin Powell',\n",
              " 'Donald Rumsfeld',\n",
              " 'Hugo Chavez',\n",
              " 'George W Bush',\n",
              " 'Tony Blair',\n",
              " 'George W Bush',\n",
              " 'George W Bush',\n",
              " 'Tony Blair',\n",
              " 'Colin Powell',\n",
              " 'Donald Rumsfeld',\n",
              " 'Serena Williams',\n",
              " 'Jean Chretien',\n",
              " 'Tony Blair',\n",
              " 'George W Bush',\n",
              " 'Colin Powell',\n",
              " 'George W Bush',\n",
              " 'George W Bush',\n",
              " 'George W Bush',\n",
              " 'George W Bush',\n",
              " 'George W Bush',\n",
              " 'Tony Blair',\n",
              " 'Gerhard Schroeder',\n",
              " 'Ariel Sharon',\n",
              " 'Jean Chretien',\n",
              " 'Tony Blair',\n",
              " 'Colin Powell',\n",
              " 'George W Bush',\n",
              " 'George W Bush',\n",
              " 'Gerhard Schroeder',\n",
              " 'George W Bush',\n",
              " 'John Ashcroft',\n",
              " 'George W Bush',\n",
              " 'George W Bush',\n",
              " 'George W Bush',\n",
              " 'Colin Powell',\n",
              " 'George W Bush',\n",
              " 'George W Bush',\n",
              " 'Colin Powell',\n",
              " 'Colin Powell',\n",
              " 'Donald Rumsfeld',\n",
              " 'Junichiro Koizumi',\n",
              " 'Donald Rumsfeld',\n",
              " 'George W Bush',\n",
              " 'Colin Powell',\n",
              " 'George W Bush',\n",
              " 'Serena Williams',\n",
              " 'Serena Williams',\n",
              " 'Jean Chretien',\n",
              " 'Tony Blair',\n",
              " 'Ariel Sharon',\n",
              " 'Colin Powell',\n",
              " 'George W Bush',\n",
              " 'Colin Powell',\n",
              " 'Donald Rumsfeld',\n",
              " 'Jacques Chirac',\n",
              " 'Serena Williams',\n",
              " 'George W Bush',\n",
              " 'George W Bush',\n",
              " 'Colin Powell',\n",
              " 'George W Bush',\n",
              " 'Ariel Sharon',\n",
              " 'George W Bush',\n",
              " 'George W Bush',\n",
              " 'George W Bush',\n",
              " 'George W Bush',\n",
              " 'Jean Chretien',\n",
              " 'George W Bush',\n",
              " 'George W Bush',\n",
              " 'George W Bush',\n",
              " 'John Ashcroft',\n",
              " 'George W Bush',\n",
              " 'John Ashcroft',\n",
              " 'Junichiro Koizumi',\n",
              " 'Jacques Chirac',\n",
              " 'George W Bush',\n",
              " 'Junichiro Koizumi',\n",
              " 'Donald Rumsfeld',\n",
              " 'Gerhard Schroeder',\n",
              " 'Tony Blair',\n",
              " 'Ariel Sharon',\n",
              " 'George W Bush',\n",
              " 'Donald Rumsfeld',\n",
              " 'Donald Rumsfeld',\n",
              " 'George W Bush',\n",
              " 'Ariel Sharon',\n",
              " 'Serena Williams',\n",
              " 'Colin Powell',\n",
              " 'Tony Blair',\n",
              " 'George W Bush',\n",
              " 'Junichiro Koizumi',\n",
              " 'Serena Williams',\n",
              " 'Colin Powell',\n",
              " 'George W Bush',\n",
              " 'Hugo Chavez',\n",
              " 'George W Bush',\n",
              " 'Tony Blair',\n",
              " 'George W Bush',\n",
              " 'Tony Blair',\n",
              " 'Colin Powell',\n",
              " 'George W Bush',\n",
              " 'Gerhard Schroeder',\n",
              " 'Jacques Chirac',\n",
              " 'Gerhard Schroeder',\n",
              " 'Gerhard Schroeder',\n",
              " 'Hugo Chavez',\n",
              " 'George W Bush',\n",
              " 'Colin Powell',\n",
              " 'George W Bush',\n",
              " 'Jacques Chirac',\n",
              " 'Jacques Chirac',\n",
              " 'Tony Blair',\n",
              " 'Colin Powell',\n",
              " 'Tony Blair',\n",
              " 'Donald Rumsfeld',\n",
              " 'Gerhard Schroeder',\n",
              " 'Hugo Chavez',\n",
              " 'Donald Rumsfeld',\n",
              " 'George W Bush',\n",
              " 'Jean Chretien',\n",
              " 'George W Bush',\n",
              " 'Hugo Chavez',\n",
              " 'Colin Powell',\n",
              " 'George W Bush',\n",
              " 'George W Bush',\n",
              " 'Colin Powell',\n",
              " 'George W Bush',\n",
              " 'George W Bush',\n",
              " 'Junichiro Koizumi',\n",
              " 'George W Bush',\n",
              " 'Ariel Sharon',\n",
              " 'George W Bush',\n",
              " 'John Ashcroft',\n",
              " 'Donald Rumsfeld',\n",
              " 'Junichiro Koizumi',\n",
              " 'George W Bush',\n",
              " 'Jacques Chirac',\n",
              " 'Tony Blair',\n",
              " 'Colin Powell',\n",
              " 'George W Bush',\n",
              " 'Donald Rumsfeld',\n",
              " 'George W Bush',\n",
              " 'George W Bush',\n",
              " 'George W Bush',\n",
              " 'Colin Powell',\n",
              " 'Gerhard Schroeder',\n",
              " 'Ariel Sharon',\n",
              " 'George W Bush',\n",
              " 'Ariel Sharon',\n",
              " 'Ariel Sharon',\n",
              " 'Donald Rumsfeld',\n",
              " 'Gerhard Schroeder',\n",
              " 'Junichiro Koizumi',\n",
              " 'Jacques Chirac',\n",
              " 'George W Bush',\n",
              " 'George W Bush',\n",
              " 'Donald Rumsfeld',\n",
              " 'Jean Chretien',\n",
              " 'Hugo Chavez',\n",
              " 'Ariel Sharon',\n",
              " 'Colin Powell',\n",
              " 'George W Bush',\n",
              " 'Colin Powell',\n",
              " 'Junichiro Koizumi',\n",
              " 'George W Bush',\n",
              " 'Gerhard Schroeder',\n",
              " 'George W Bush',\n",
              " 'John Ashcroft',\n",
              " 'George W Bush',\n",
              " 'Colin Powell',\n",
              " 'Colin Powell',\n",
              " 'Donald Rumsfeld',\n",
              " 'Hugo Chavez',\n",
              " 'George W Bush',\n",
              " 'Junichiro Koizumi',\n",
              " 'Colin Powell',\n",
              " 'George W Bush',\n",
              " 'Tony Blair',\n",
              " 'Tony Blair',\n",
              " 'George W Bush',\n",
              " 'Tony Blair',\n",
              " 'George W Bush',\n",
              " 'George W Bush',\n",
              " 'Tony Blair',\n",
              " 'George W Bush',\n",
              " 'George W Bush',\n",
              " 'George W Bush',\n",
              " 'George W Bush',\n",
              " 'Gerhard Schroeder',\n",
              " 'Colin Powell',\n",
              " 'Colin Powell',\n",
              " 'George W Bush',\n",
              " 'Colin Powell',\n",
              " 'Colin Powell',\n",
              " 'Donald Rumsfeld']"
            ]
          },
          "metadata": {},
          "execution_count": 62
        }
      ]
    },
    {
      "cell_type": "code",
      "source": [],
      "metadata": {
        "id": "C94c-BArDHYQ"
      },
      "execution_count": null,
      "outputs": []
    }
  ],
  "metadata": {
    "colab": {
      "provenance": [],
      "toc_visible": true,
      "include_colab_link": true
    },
    "kernelspec": {
      "display_name": "Python 3",
      "name": "python3"
    },
    "language_info": {
      "name": "python"
    }
  },
  "nbformat": 4,
  "nbformat_minor": 0
}