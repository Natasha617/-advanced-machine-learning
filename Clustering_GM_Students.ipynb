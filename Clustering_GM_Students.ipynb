{
  "nbformat": 4,
  "nbformat_minor": 0,
  "metadata": {
    "colab": {
      "provenance": [],
      "include_colab_link": true
    },
    "kernelspec": {
      "name": "python3",
      "display_name": "Python 3"
    },
    "language_info": {
      "name": "python"
    }
  },
  "cells": [
    {
      "cell_type": "markdown",
      "metadata": {
        "id": "view-in-github",
        "colab_type": "text"
      },
      "source": [
        "<a href=\"https://colab.research.google.com/github/Natasha617/-advanced-machine-learning/blob/main/Clustering_GM_Students.ipynb\" target=\"_parent\"><img src=\"https://colab.research.google.com/assets/colab-badge.svg\" alt=\"Open In Colab\"/></a>"
      ]
    },
    {
      "cell_type": "markdown",
      "source": [
        "# Генеративная модель на основе гауссовых смесей"
      ],
      "metadata": {
        "collapsed": false,
        "pycharm": {
          "name": "#%% md\n"
        },
        "id": "aqMY86T_7hsP"
      }
    },
    {
      "cell_type": "markdown",
      "source": [
        "Гауссовы смеси — естественное математическое обобщение алгоритма `K-means`. По сути, подход ищет не просто какие-то кучки вокруг формирующихся центроидов, а некоторую смесь многомерных нормальных распределений (по сути — тоже кучки вокруг средних со своими дисперсиями). Так как такой подход оценивает плотности распределений, то он часто используется в задачах KDE (kernel density estimation). В том числе, он может быть применен к задаче генерации: если есть плотность распределения, то можно семплировать и получать новые объекты. Давайте посмотрим на простейший пример решения такой задачи."
      ],
      "metadata": {
        "collapsed": false,
        "pycharm": {
          "name": "#%% md\n"
        },
        "id": "mRtfBj7s7hsP"
      }
    },
    {
      "cell_type": "markdown",
      "source": [
        "Работать будем опять-таки с `MNIST`. Так как модель оказывается крайне тяжеловесной, будем использовать «простой» набор данных. Визуализируем элементы этого набора данных (для наглядности)"
      ],
      "metadata": {
        "collapsed": false,
        "pycharm": {
          "name": "#%% md\n"
        },
        "id": "MY-avo2u7hsP"
      }
    },
    {
      "cell_type": "code",
      "execution_count": 1,
      "outputs": [
        {
          "output_type": "execute_result",
          "data": {
            "text/plain": [
              "(1797, 64)"
            ]
          },
          "metadata": {},
          "execution_count": 1
        }
      ],
      "source": [
        "from sklearn.datasets import load_digits\n",
        "import matplotlib.pyplot as plt\n",
        "\n",
        "digits = load_digits()\n",
        "digits.data.shape"
      ],
      "metadata": {
        "pycharm": {
          "name": "#%%\n"
        },
        "id": "dCNn7ks97hsP",
        "colab": {
          "base_uri": "https://localhost:8080/",
          "height": 0
        },
        "outputId": "b77903ba-e309-4733-a65a-40643e072efa"
      }
    },
    {
      "cell_type": "code",
      "execution_count": 2,
      "outputs": [
        {
          "output_type": "display_data",
          "data": {
            "text/plain": [
              "<Figure size 800x800 with 100 Axes>"
            ],
            "image/png": "[encoded data removed]"
          },
          "metadata": {}
        }
      ],
      "source": [
        "fig, ax = plt.subplots(10, 10, figsize=(8, 8), subplot_kw=dict(xticks=[], yticks=[]))\n",
        "fig.subplots_adjust(hspace=0.05, wspace=0.05)\n",
        "for i, axi in enumerate(ax.flat):\n",
        "    im = axi.imshow(digits.data[i].reshape(8,8), cmap='binary')\n",
        "    im.set_clim(0, 16)"
      ],
      "metadata": {
        "pycharm": {
          "name": "#%%\n"
        },
        "id": "ygsNMoYZ7hsQ",
        "colab": {
          "base_uri": "https://localhost:8080/",
          "height": 653
        },
        "outputId": "5d07b1a8-04fb-4d79-8c6f-5845cddad36b"
      }
    },
    {
      "cell_type": "markdown",
      "source": [
        "Для того, чтобы обучение проходило быстрее имеет смысл снизить размерность пространства признаков. Произведите преобразования для всего набора данных помощи <code>PCA(n_components=0.99, svd_solver=='full')</code>.\n"
      ],
      "metadata": {
        "collapsed": false,
        "pycharm": {
          "name": "#%% md\n"
        },
        "id": "wXcooMSH7hsQ"
      }
    },
    {
      "cell_type": "code",
      "execution_count": 3,
      "outputs": [],
      "source": [
        "from sklearn.decomposition import PCA"
      ],
      "metadata": {
        "pycharm": {
          "name": "#%%\n"
        },
        "id": "p76FXvva7hsQ"
      }
    },
    {
      "cell_type": "code",
      "source": [
        "pca = PCA(n_components=0.99, svd_solver='full' )"
      ],
      "metadata": {
        "id": "qG4TVkWni6QC"
      },
      "execution_count": 5,
      "outputs": []
    },
    {
      "cell_type": "code",
      "source": [
        "digits.data"
      ],
      "metadata": {
        "colab": {
          "base_uri": "https://localhost:8080/",
          "height": 0
        },
        "id": "J8AObk5PjatD",
        "outputId": "2453ed4a-e00a-465a-aef3-b6052acf591a"
      },
      "execution_count": 6,
      "outputs": [
        {
          "output_type": "execute_result",
          "data": {
            "text/plain": [
              "array([[ 0.,  0.,  5., ...,  0.,  0.,  0.],\n",
              "       [ 0.,  0.,  0., ..., 10.,  0.,  0.],\n",
              "       [ 0.,  0.,  0., ..., 16.,  9.,  0.],\n",
              "       ...,\n",
              "       [ 0.,  0.,  1., ...,  6.,  0.,  0.],\n",
              "       [ 0.,  0.,  2., ..., 12.,  0.,  0.],\n",
              "       [ 0.,  0., 10., ..., 12.,  1.,  0.]])"
            ]
          },
          "metadata": {},
          "execution_count": 6
        }
      ]
    },
    {
      "cell_type": "code",
      "source": [
        "data = pca.fit_transform(digits.data)"
      ],
      "metadata": {
        "id": "pnOKMizujLJE"
      },
      "execution_count": 7,
      "outputs": []
    },
    {
      "cell_type": "code",
      "source": [
        "data.shape"
      ],
      "metadata": {
        "colab": {
          "base_uri": "https://localhost:8080/",
          "height": 0
        },
        "id": "nPl19Xl8jevN",
        "outputId": "7ca62ad1-a276-4b5e-daed-fef1b30fd748"
      },
      "execution_count": 9,
      "outputs": [
        {
          "output_type": "execute_result",
          "data": {
            "text/plain": [
              "(1797, 41)"
            ]
          },
          "metadata": {},
          "execution_count": 9
        }
      ]
    },
    {
      "cell_type": "markdown",
      "source": [
        "Введите число полученных ГК"
      ],
      "metadata": {
        "id": "Ma5b_5mlpjCM"
      }
    },
    {
      "cell_type": "markdown",
      "source": [
        "Обучим интересующую нас модель, подобрав гиперпараметр, отвечающий за число используемых компонент, минимизируя <a href=\"https://ru.wikipedia.org/wiki/Информационный_критерий_Акаике\">информационный критерий Акаике</a>.\n",
        "\n",
        "Для значений параметра <code>n_components</code> в диапазоне $[50,250)$ с шагом $10$ обучите модели <a href=\"https://scikit-learn.org/stable/modules/generated/sklearn.mixture.GaussianMixture.html\"><code>GaussianMixture</code></a> с параметрами, указанными в вашем задании. При помоши метода <code>.aic()</code> вычислите значение критерия каждой модели.\n",
        "\n",
        "Введите значение <code>n_components</code> модели с наименьшим значением критерия Акаике.\n",
        "\n",
        "\n"
      ],
      "metadata": {
        "id": "gwArf-clzg2m"
      }
    },
    {
      "cell_type": "code",
      "execution_count": 11,
      "outputs": [],
      "source": [
        "from sklearn.mixture import GaussianMixture"
      ],
      "metadata": {
        "pycharm": {
          "name": "#%%\n"
        },
        "id": "kh26_izK7hsQ"
      }
    },
    {
      "cell_type": "code",
      "source": [
        "for n in range(50,250,10):\n",
        "  mix = GaussianMixture(n_components=n, covariance_type='full', random_state=11).fit(data)\n",
        "  print(n,mix.aic(data) )"
      ],
      "metadata": {
        "colab": {
          "base_uri": "https://localhost:8080/",
          "height": 0
        },
        "id": "wo_MDvz3lI_6",
        "outputId": "bee87b19-92fc-4e3b-bef0-a4afea924c1c"
      },
      "execution_count": 14,
      "outputs": [
        {
          "output_type": "stream",
          "name": "stdout",
          "text": [
            "50 182557.33904829112\n",
            "60 108399.29409495469\n",
            "70 34585.30193041342\n",
            "80 -15163.839854595077\n",
            "90 -66676.19809977687\n",
            "100 -105613.3518447153\n",
            "110 -125937.67523147014\n",
            "120 -152595.02108471259\n",
            "130 -169840.87410280004\n",
            "140 -172432.53436961246\n",
            "150 -186414.49306565657\n",
            "160 -186722.0997565391\n",
            "170 -194791.12305576645\n",
            "180 -195138.90799833392\n",
            "190 -193894.09669711394\n",
            "200 -185726.49901365873\n",
            "210 -180329.04147098027\n",
            "220 -174659.3984823383\n",
            "230 -173674.8741362875\n",
            "240 -165242.10267550265\n"
          ]
        }
      ]
    },
    {
      "cell_type": "code",
      "source": [
        "mix = GaussianMixture(n_components=180, covariance_type='full', random_state=11).fit(data)"
      ],
      "metadata": {
        "id": "QytQtxXNkvIl"
      },
      "execution_count": 15,
      "outputs": []
    },
    {
      "cell_type": "code",
      "source": [
        "mix.converged_"
      ],
      "metadata": {
        "colab": {
          "base_uri": "https://localhost:8080/",
          "height": 0
        },
        "id": "OdprVKmemrdv",
        "outputId": "54e75ccf-ef46-4695-b2a9-42dff8b5a264"
      },
      "execution_count": 16,
      "outputs": [
        {
          "output_type": "execute_result",
          "data": {
            "text/plain": [
              "True"
            ]
          },
          "metadata": {},
          "execution_count": 16
        }
      ]
    },
    {
      "cell_type": "code",
      "source": [
        "sample = mix.sample(100)\n"
      ],
      "metadata": {
        "id": "CYMYBYbpnB_i"
      },
      "execution_count": 18,
      "outputs": []
    },
    {
      "cell_type": "code",
      "source": [
        "import numpy as np"
      ],
      "metadata": {
        "id": "57jDGUGNpGGT"
      },
      "execution_count": 30,
      "outputs": []
    },
    {
      "cell_type": "code",
      "source": [
        "np.mean(sample[0])"
      ],
      "metadata": {
        "colab": {
          "base_uri": "https://localhost:8080/"
        },
        "id": "oQVWd-ghnoGm",
        "outputId": "41bfa971-f994-4046-9f78-27561f55293c"
      },
      "execution_count": 32,
      "outputs": [
        {
          "output_type": "execute_result",
          "data": {
            "text/plain": [
              "-0.053363933948727814"
            ]
          },
          "metadata": {},
          "execution_count": 32
        }
      ]
    },
    {
      "cell_type": "code",
      "source": [
        "round(np.mean(sample[0][:,0]),3)\n"
      ],
      "metadata": {
        "colab": {
          "base_uri": "https://localhost:8080/"
        },
        "id": "W6GB5WeXpu0n",
        "outputId": "e107267c-bc1b-4382-af68-3f584b9c8fb3"
      },
      "execution_count": 41,
      "outputs": [
        {
          "output_type": "execute_result",
          "data": {
            "text/plain": [
              "-1.106"
            ]
          },
          "metadata": {},
          "execution_count": 41
        }
      ]
    },
    {
      "cell_type": "code",
      "source": [
        "sample[0][:,0]"
      ],
      "metadata": {
        "colab": {
          "base_uri": "https://localhost:8080/"
        },
        "id": "ZhKMzlpKqTOo",
        "outputId": "b23065e8-8faa-44e6-c88e-dc6a57298d2b"
      },
      "execution_count": 44,
      "outputs": [
        {
          "output_type": "execute_result",
          "data": {
            "text/plain": [
              "array([  7.20270419,  -4.34218323,  14.6535454 , -10.86200364,\n",
              "       -13.47312676,  -4.39905816,  -6.3060942 ,  -8.85990151,\n",
              "        -6.12816681, -14.09660633,  10.07480693,  -1.20711241,\n",
              "         1.95560831,  -3.37203004, -20.09318001, -20.4032929 ,\n",
              "        22.88362753,  24.72711399,   5.94418688,   9.8190448 ,\n",
              "         8.74497517,  19.98026332,   8.5842652 ,   6.81692273,\n",
              "         3.31033601, -21.79676006,  -4.70921174,  21.96224631,\n",
              "         2.20221538,   6.55042977,   7.13467709,   6.96420208,\n",
              "        -1.46187955,   8.97762256,   8.37924332,  10.1516103 ,\n",
              "       -16.26298776, -19.20205531,  -2.2202837 ,  11.57842321,\n",
              "       -17.95718029, -10.50107618, -20.44239588, -15.87561388,\n",
              "       -25.39027718, -27.06581421,  -1.4760903 ,  23.10754224,\n",
              "       -22.12263489, -12.19772808,  13.17277016,  14.06573932,\n",
              "        -1.07643843,   5.15536255,   0.1062132 , -20.49174603,\n",
              "        16.21942766,  11.46537488, -23.30005002,  -0.84017115,\n",
              "        -1.50631428, -10.87099689,   8.25438384,   9.05778661,\n",
              "         5.23570968,   6.60207003,  -9.28330025, -16.45741792,\n",
              "         3.70609029,   5.56418962,   2.66161615,  -2.96654347,\n",
              "        16.6453057 ,  24.09334508,  -9.14401761,  -8.56247759,\n",
              "        11.84170762,   3.27616481,   2.3673161 ,   3.46458526,\n",
              "        -5.64428056,  10.70000929,  -7.3697769 ,  -6.05018657,\n",
              "        27.63616492, -10.88946022, -14.3512558 , -21.95041472,\n",
              "       -20.15024725, -13.75363313,  -9.99261359,  -0.43547061,\n",
              "         3.46916575,  -5.39380365,  -1.28825586, -13.51824024,\n",
              "       -17.97773156,  19.88743278,  16.10120446, -17.55655951])"
            ]
          },
          "metadata": {},
          "execution_count": 44
        }
      ]
    },
    {
      "cell_type": "code",
      "source": [
        " img = pca.inverse_transform(sample[0][17])"
      ],
      "metadata": {
        "id": "vtTOnw-moaK9"
      },
      "execution_count": 26,
      "outputs": []
    },
    {
      "cell_type": "code",
      "source": [
        "plt.imshow(img.reshape(8,8))"
      ],
      "metadata": {
        "colab": {
          "base_uri": "https://localhost:8080/",
          "height": 447
        },
        "id": "CxYyqnzTovVs",
        "outputId": "2a80449a-edba-4fc8-c684-b33a5391d745"
      },
      "execution_count": 28,
      "outputs": [
        {
          "output_type": "execute_result",
          "data": {
            "text/plain": [
              "<matplotlib.image.AxesImage at 0x7b1e6387ac50>"
            ]
          },
          "metadata": {},
          "execution_count": 28
        },
        {
          "output_type": "display_data",
          "data": {
            "text/plain": [
              "<Figure size 640x480 with 1 Axes>"
            ],
            "image/png": "[encoded data removed]"
          },
          "metadata": {}
        }
      ]
    },
    {
      "cell_type": "code",
      "source": [
        "len(sample[0][0])"
      ],
      "metadata": {
        "colab": {
          "base_uri": "https://localhost:8080/",
          "height": 0
        },
        "id": "S8GBjGc2nUjT",
        "outputId": "369370ce-a724-4397-e720-443e9d1662f8"
      },
      "execution_count": 22,
      "outputs": [
        {
          "output_type": "execute_result",
          "data": {
            "text/plain": [
              "41"
            ]
          },
          "metadata": {},
          "execution_count": 22
        }
      ]
    },
    {
      "cell_type": "markdown",
      "source": [
        "Обучите финальную модель на подобранном гиперпараметре. Проверьте, что обучение сошлось (поле <code>.converged_</code> модели)."
      ],
      "metadata": {
        "collapsed": false,
        "pycharm": {
          "name": "#%% md\n"
        },
        "id": "LIoODHeP7hsR"
      }
    },
    {
      "cell_type": "code",
      "execution_count": null,
      "outputs": [],
      "source": [
        "# < ENTER YOUR CODE HERE >"
      ],
      "metadata": {
        "pycharm": {
          "name": "#%%\n"
        },
        "id": "c7oq5tkZ7hsR"
      }
    },
    {
      "cell_type": "markdown",
      "source": [
        "При помощи метода <code>.sample()</code> сгенерируйте $100$ новых объектов.\n",
        "\n",
        "Введите выборочное среднее коориднаты с индексом $0$ сгенерированных объектов."
      ],
      "metadata": {
        "collapsed": false,
        "pycharm": {
          "name": "#%% md\n"
        },
        "id": "p1vjovgA7hsR"
      }
    },
    {
      "cell_type": "code",
      "execution_count": null,
      "outputs": [],
      "source": [
        "# < ENTER YOUR CODE HERE >"
      ],
      "metadata": {
        "pycharm": {
          "name": "#%%\n"
        },
        "id": "VHMKmOSq7hsS"
      }
    },
    {
      "cell_type": "markdown",
      "source": [
        "При помоши метода <code>.inverse_transform()</code> класса <code>PCA</code> верните сгенерированные объекты в пространство исходных признаков."
      ],
      "metadata": {
        "collapsed": false,
        "pycharm": {
          "name": "#%% md\n"
        },
        "id": "l_PI0NTc7hsS"
      }
    },
    {
      "cell_type": "code",
      "execution_count": null,
      "outputs": [],
      "source": [
        "# < ENTER YOUR CODE HERE >"
      ],
      "metadata": {
        "pycharm": {
          "name": "#%%\n"
        },
        "id": "_KLbxq297hsS"
      }
    },
    {
      "cell_type": "markdown",
      "source": [
        "Визуализируйте полученные результаты. Введите номер изображения, соответствующего сгенерированному объекту с индексом $5$ (индексация начинается с нуля)"
      ],
      "metadata": {
        "id": "cgRK_l2G8I6p"
      }
    },
    {
      "cell_type": "code",
      "source": [
        "# < ENTER YOUR CODE HERE >"
      ],
      "metadata": {
        "id": "xj__POKA8zpH"
      },
      "execution_count": null,
      "outputs": []
    }
  ]
}